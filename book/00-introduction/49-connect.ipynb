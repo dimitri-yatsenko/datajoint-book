{
 "cells": [
  {
   "cell_type": "markdown",
   "metadata": {},
   "source": [
    "---\n",
    "title: Database Connection\n",
    "date: 2024-08-13\n",
    "authors:\n",
    "  - name: Dimitri Yatsenko\n",
    "---"
   ]
  },
  {
   "cell_type": "markdown",
   "metadata": {},
   "source": [
    "\n",
    "This textbook comes with a Devcontainer that runs a MySQL database server with the following credentials:\n",
    "- database server address: `db`\n",
    "- username: `dev`\n",
    "- password: `devpass`\n",
    "\n",
    "\n",
    "These credentials are not secret since this database is not exposed to the external world.\n",
    "\n",
    "In this container environment, the user credentials are set in as the environment variables `DJ_HOST`, `DJ_USER`, and `DJ_PASS` and that's what the DataJoint client library will use to connect to the database.\n"
   ]
  },
  {
   "cell_type": "markdown",
   "metadata": {},
   "source": [
    "# Connect with SQL \"Magic\" for Jupyter Notebooks\n",
    "\n",
    "You can execute SQL statements directly from Jupyter with the help of SQL \"Jupyter magic\" implemented by the [`sqljupy`](https://ploomber.io/blog/jupysql/) library.\n",
    "\n",
    "\n",
    "The following cell sets up the connection to the database for the Jupyter SQL Magic."
   ]
  },
  {
   "cell_type": "code",
   "execution_count": null,
   "metadata": {},
   "outputs": [
    {
     "name": "stdout",
     "output_type": "stream",
     "text": [
      "The sql extension is already loaded. To reload it, use:\n",
      "  %reload_ext sql\n"
     ]
    },
    {
     "data": {
      "text/html": [
       "<span style=\"None\">Connecting to &#x27;mysql+pymysql://dev:***@db&#x27;</span>"
      ],
      "text/plain": [
       "Connecting to 'mysql+pymysql://dev:***@db'"
      ]
     },
     "metadata": {},
     "output_type": "display_data"
    }
   ],
   "source": [
    "%load_ext sql\n",
    "%sql mysql+pymysql://dev:devpass@db"
   ]
  },
  {
   "cell_type": "markdown",
   "metadata": {},
   "source": [
    "Then you can issue SQL commands from a Jupyter cell by starting it with `%%sql`.\n",
    "Change the cell type to `SQL` for appropriate syntax highlighting."
   ]
  },
  {
   "cell_type": "code",
   "execution_count": 3,
   "metadata": {
    "vscode": {
     "languageId": "sql"
    }
   },
   "outputs": [
    {
     "data": {
      "text/html": [
       "<span style=\"None\">Running query in &#x27;mysql+pymysql://dev:***@db&#x27;</span>"
      ],
      "text/plain": [
       "Running query in 'mysql+pymysql://dev:***@db'"
      ]
     },
     "metadata": {},
     "output_type": "display_data"
    },
    {
     "data": {
      "text/html": [
       "<span style=\"color: green\">6 rows affected.</span>"
      ],
      "text/plain": [
       "6 rows affected."
      ]
     },
     "metadata": {},
     "output_type": "display_data"
    },
    {
     "data": {
      "text/html": [
       "<table>\n",
       "    <thead>\n",
       "        <tr>\n",
       "            <th>User</th>\n",
       "        </tr>\n",
       "    </thead>\n",
       "    <tbody>\n",
       "        <tr>\n",
       "            <td>dev</td>\n",
       "        </tr>\n",
       "        <tr>\n",
       "            <td>root</td>\n",
       "        </tr>\n",
       "        <tr>\n",
       "            <td>mysql.infoschema</td>\n",
       "        </tr>\n",
       "        <tr>\n",
       "            <td>mysql.session</td>\n",
       "        </tr>\n",
       "        <tr>\n",
       "            <td>mysql.sys</td>\n",
       "        </tr>\n",
       "        <tr>\n",
       "            <td>root</td>\n",
       "        </tr>\n",
       "    </tbody>\n",
       "</table>"
      ],
      "text/plain": [
       "+------------------+\n",
       "|       User       |\n",
       "+------------------+\n",
       "|       dev        |\n",
       "|       root       |\n",
       "| mysql.infoschema |\n",
       "|  mysql.session   |\n",
       "|    mysql.sys     |\n",
       "|       root       |\n",
       "+------------------+"
      ]
     },
     "execution_count": 3,
     "metadata": {},
     "output_type": "execute_result"
    }
   ],
   "source": [
    "%%sql\n",
    "-- show all users\n",
    "SELECT User FROM mysql.user"
   ]
  },
  {
   "cell_type": "markdown",
   "metadata": {},
   "source": [
    "# Connect with DataJoint \n",
    "\n",
    "\n",
    "\n",
    "The DataJoint client library uses these environment variables to connect to the database.\n",
    "It sufficient to simply import the datajoint client library.\n",
    "It will connect to the database automatically as soon as necessary.\n",
    "However, you can explicity verify the connection by calling `dj.conn()`:"
   ]
  },
  {
   "cell_type": "code",
   "execution_count": 1,
   "metadata": {},
   "outputs": [
    {
     "name": "stderr",
     "output_type": "stream",
     "text": [
      "[2025-09-16 01:37:46,977][INFO]: DataJoint 0.14.6 connected to dev@db:3306\n"
     ]
    },
    {
     "data": {
      "text/plain": [
       "DataJoint connection (connected) dev@db:3306"
      ]
     },
     "execution_count": 1,
     "metadata": {},
     "output_type": "execute_result"
    }
   ],
   "source": [
    "import datajoint as dj\n",
    "dj.conn()  # test the connection (optionally)"
   ]
  },
  {
   "cell_type": "markdown",
   "metadata": {},
   "source": [
    "We will use SQL magic only for fast interactive SQL queries.  We will not use SQL magic as part of Python code."
   ]
  },
  {
   "cell_type": "markdown",
   "metadata": {},
   "source": [
    "# Connect with Python client\n",
    "\n",
    "To issue SQL queries from Python code, we will use a conventional SQL client, in this case `pymysql`."
   ]
  },
  {
   "cell_type": "code",
   "execution_count": 4,
   "metadata": {},
   "outputs": [],
   "source": [
    "# create a database connection\n",
    "conn = pymysql.connect(\n",
    "    host=os.environ['DJ_HOST'], \n",
    "    user=os.environ['DJ_USER'], \n",
    "    password=os.environ['DJ_PASS']\n",
    "    )"
   ]
  },
  {
   "cell_type": "code",
   "execution_count": 5,
   "metadata": {},
   "outputs": [
    {
     "data": {
      "text/plain": [
       "(('debian-sys-maint',),\n",
       " ('mysql.infoschema',),\n",
       " ('mysql.session',),\n",
       " ('mysql.sys',),\n",
       " ('root',))"
      ]
     },
     "execution_count": 5,
     "metadata": {},
     "output_type": "execute_result"
    }
   ],
   "source": [
    "# crewate a query cursor and issue an SQL query\n",
    "cur = conn.cursor()\n",
    "cur.execute('SELECT User FROM mysql.user')\n",
    "cur.fetchall()"
   ]
  },
  {
   "cell_type": "markdown",
   "metadata": {},
   "source": [
    "We are all set for executing all the database queries in this book!"
   ]
  }
 ],
 "metadata": {
  "kernelspec": {
   "display_name": "base",
   "language": "python",
   "name": "python3"
  },
  "language_info": {
   "codemirror_mode": {
    "name": "ipython",
    "version": 3
   },
   "file_extension": ".py",
   "mimetype": "text/x-python",
   "name": "python",
   "nbconvert_exporter": "python",
   "pygments_lexer": "ipython3",
   "version": "3.13.2"
  }
 },
 "nbformat": 4,
 "nbformat_minor": 2
}
