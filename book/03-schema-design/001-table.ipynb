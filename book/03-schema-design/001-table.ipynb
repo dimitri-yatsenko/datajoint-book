{
 "cells": [
  {
   "cell_type": "markdown",
   "metadata": {},
   "source": [
    "# Creating a table\n",
    "\n",
    "In DataJoint, declaring individual tables is the foundational step in building your data pipeline. Each table corresponds to a specific entity or data structure that you want to model within your database. This tutorial will guide you through the basics of declaring individual tables, covering essential components like primary keys, attributes, and basic definitions."
   ]
  },
  {
   "cell_type": "markdown",
   "metadata": {},
   "source": [
    "# Setting Up the Schema\n",
    "Before declaring tables, you need to define a schema, which is a namespace for your tables. The schema groups related tables together and avoids naming conflicts."
   ]
  },
  {
   "cell_type": "code",
   "execution_count": 1,
   "metadata": {},
   "outputs": [
    {
     "name": "stderr",
     "output_type": "stream",
     "text": [
      "[2024-08-27 04:01:45,026][INFO]: Connecting root@localhost:3306\n",
      "[2024-08-27 04:01:45,043][INFO]: Connected root@localhost:3306\n"
     ]
    }
   ],
   "source": [
    "import datajoint as dj\n",
    "\n",
    "# Define the schema\n",
    "schema = dj.Schema('my_schema')"
   ]
  },
  {
   "cell_type": "markdown",
   "metadata": {},
   "source": [
    "The resulting `schema` object refers to the schema and is then used as a decorator on classes to associate tables with your schema.\n",
    "\n",
    "# Table Declaration\n",
    "To declare a table in DataJoint, you need to define a class that inherits from one of the base classes provided by DataJoint, such as `dj.Manual`, `dj.Lookup`, `dj.Imported`, or `dj.Computed`. \n",
    "Each class type serves a different purpose, but for now, let's start with the `dj.Manual` class, which is used for tables where data is manually inserted.\n",
    "\n",
    "Here's a basic example of a table declaration:"
   ]
  },
  {
   "cell_type": "code",
   "execution_count": 2,
   "metadata": {},
   "outputs": [],
   "source": [
    "@schema\n",
    "class Experiment(dj.Manual):\n",
    "    definition = \"\"\"\n",
    "    experiment_id: int      # Unique identifier for each experiment\n",
    "    ---\n",
    "    experiment_name: varchar(64)   # Name of the experiment\n",
    "    experiment_date: date          # Date when the experiment was conducted\n",
    "    \"\"\""
   ]
  },
  {
   "cell_type": "markdown",
   "metadata": {},
   "source": [
    "You have just declared a table in your database schema.\n",
    "\n",
    "## Explanation:\n",
    "* **Table Name:** The class name `Experiment` becomes the table name in the database. By convention, table names should be singular and capitalized. For compound names, use the CamelCase notation, do not use underscores.\n",
    "* **Table definition:** the `definition` member of the class provide a multiline string that defines the table.\n",
    "* **Attributes**: Each line in the defintion is a named attribute (table column), in the format `<name> : <datatype>  [# comment]`.  \n",
    "* **Primary Key:** The attributes above the separator `---`, together, constitute the primary key. These attributes jointly uniquely identify and discriminate entities in the table. In this example, the primary key comprises a single attribute, `experiment_id` of type `int`."
   ]
  },
  {
   "cell_type": "markdown",
   "metadata": {},
   "source": [
    "# Attribute Data Types\n",
    "\n",
    "DataJoint uses data types provided by its underlying database management system, MySQL. \n",
    "DataJoint also provides its own data types, which we will introduce later.\n",
    "\n",
    "MySQL, one of the most popular relational database management systems, supports a variety of data types that are used to define the kind of data that can be stored in a table's columns. Choosing the correct data type is crucial for optimizing performance, storage, and ensuring the accuracy of the data. This section provides an overview of the main MySQL data types, categorized into numeric types, date and time types, string (or character) types, and other types.\n",
    "\n",
    "You can learn about the full set of MySQL datatypes in the [MySQL Documentation](https://dev.mysql.com/doc/refman/8.4/en/data-types.html).\n",
    "\n",
    "Here we only list the datatypes commonly used in DataJoint. We will only use these datatypes in this book.\n",
    "\n",
    "\n",
    "## Numeric Data Types\n",
    "\n",
    "Numeric data types are used to store numbers. They are divided into integer types, floating-point types, and fixed-point types.\n",
    "\n",
    "- **Integer Types**:\n",
    "  - `TINYINT`: A very small integer. Range: -128 to 127 or 0 to 255 (if `UNSIGNED`).\n",
    "  - `SMALLINT`: A small integer. Range: -32,768 to 32,767 or 0 to 65,535 (if `UNSIGNED`).\n",
    "  - `INT`: A standard integer. Range: -2,147,483,648 to 2,147,483,647 or 0 to 4,294,967,295 (if `UNSIGNED`).\n",
    "  - `BIGINT`: A large integer. Range: -9,223,372,036,854,775,808 to 9,223,372,036,854,775,807 or 0 to 18,446,744,073,709,551,615 (if `UNSIGNED`).\n",
    "  \n",
    "  Each of these types can be specified as `UNSIGNED` to allow only non-negative values, effectively doubling the upper limit of the range.\n",
    "\n",
    "- **Floating-Point Types**:\n",
    "  - `FLOAT`: A floating-point number with M digits in total and D digits after the decimal point. Approximate range is -3.402823466E+38 to 3.402823466E+38.\n",
    "  - `DOUBLE`: A double-precision floating-point number. Approximate range is -1.7976931348623157E+308 to 1.7976931348623157E+308.\n",
    "\n",
    "- **Fixed-Point Types**:\n",
    "  - `DECIMAL(M,D)`: A fixed-point number where M is the total number of digits and D is the number of digits after the decimal point. This type is used for exact numeric data (e.g., for monetary values). It can be marked `UNSIGNED` as well.\n",
    "\n",
    "## Date and Time Data Types\n",
    "\n",
    "Date and time data types are used to store temporal data. These types are essential for tracking dates, times, and intervals.\n",
    "\n",
    "- `DATE`: A date in the format `YYYY-MM-DD`. The range is from '1000-01-01' to '9999-12-31'.\n",
    "- `DATETIME`: A combination of date and time in the format `YYYY-MM-DD HH:MM:SS`. The range is from '1000-01-01 00:00:00' to '9999-12-31 23:59:59'.\n",
    "- `TIMESTAMP`: A timestamp in the format `YYYY-MM-DD HH:MM:SS`, representing the number of seconds since the Unix epoch (1970-01-01 00:00:00 UTC). The range is from '1970-01-01 00:00:01' UTC to '2038-01-19 03:14:07' UTC.\n",
    "- `TIME`: A time value in the format `HH:MM:SS`. The range is from '-838:59:59' to '838:59:59'.\n",
    "- `YEAR`: A year in 2-digit or 4-digit format. The range is from '1901' to '2155' for 4-digit format.\n",
    "\n",
    "## String (Character) Data Types\n",
    "\n",
    "String data types are used to store text and binary data. These types are flexible and can store anything from a single character to large text blocks.\n",
    "\n",
    "- `CHAR(M)`: A fixed-length string that is always padded with spaces to the specified length M. The maximum length is 255 characters.\n",
    "- `VARCHAR(M)`: A variable-length string where M specifies the maximum length. The maximum length is 65,535 characters.\n",
    "- `ENUM`: An enumeration. You can specify a list of permitted values, and the column can store only one of these values.\n",
    "\n",
    "\n",
    "## Choosing the Right Data Type\n",
    "\n",
    "Selecting the correct data type for each column in your table is crucial:\n",
    "\n",
    "- **Efficiency**: Choose data types that use the least amount of storage while accommodating all possible values. For instance, if you only need to store small numbers, use `TINYINT` instead of `INT`.\n",
    "- **Precision**: Use `DECIMAL` for precise calculations, especially for financial data, instead of `FLOAT` or `DOUBLE`, which are subject to rounding errors.\n",
    "- **Appropriateness**: Match the data type to the nature of the data. For example, use `DATE` for date values, `CHAR` for fixed-length fields like postal codes, and `TEXT` for large text blocks.\n",
    "\n",
    "Understanding MySQL data types is essential for designing efficient, reliable, and maintainable databases. By choosing the appropriate data types for your columns, you ensure that your database performs well and stores data accurately. This overview provides a solid foundation for selecting the right data types when defining your tables in MySQL.\n"
   ]
  },
  {
   "cell_type": "markdown",
   "metadata": {},
   "source": [
    "# Inserting Data \n",
    "\n",
    "Once a table is defined, you can start inserting data into it manually. \n",
    "\n",
    "You can do this using one of two methods:\n",
    "* `insert1`: Used to insert a single record into the table.\n",
    "* `insert`: Used to insert multiple records at once. The data is provided as a list of dictionaries, where each dictionary represents one record."
   ]
  },
  {
   "cell_type": "code",
   "execution_count": 3,
   "metadata": {},
   "outputs": [],
   "source": [
    "# Insert a new record into the Experiment table\n",
    "Experiment.insert1({\n",
    "    'experiment_id': 1,\n",
    "    'experiment_name': 'Experiment 1',\n",
    "    'experiment_date': '2024-08-26'\n",
    "})\n",
    "\n",
    "# Insert multiple records at once\n",
    "Experiment.insert([\n",
    "    {'experiment_id': 2, 'experiment_name': 'Experiment 2', 'experiment_date': '2024-08-27'},\n",
    "    {'experiment_id': 3, 'experiment_name': 'Experiment 3', 'experiment_date': '2024-08-28'}\n",
    "])"
   ]
  },
  {
   "cell_type": "markdown",
   "metadata": {},
   "source": [
    "# Previewing Table Contents\n",
    "To view the structure of your table (its attributes and types), you can simply breference the table object:"
   ]
  },
  {
   "cell_type": "code",
   "execution_count": 4,
   "metadata": {},
   "outputs": [
    {
     "data": {
      "text/html": [
       "\n",
       "    \n",
       "    <style type=\"text/css\">\n",
       "        .Table{\n",
       "            border-collapse:collapse;\n",
       "        }\n",
       "        .Table th{\n",
       "            background: #A0A0A0; color: #ffffff; padding:4px; border:#f0e0e0 1px solid;\n",
       "            font-weight: normal; font-family: monospace; font-size: 100%;\n",
       "        }\n",
       "        .Table td{\n",
       "            padding:4px; border:#f0e0e0 1px solid; font-size:100%;\n",
       "        }\n",
       "        .Table tr:nth-child(odd){\n",
       "            background: #ffffff;\n",
       "            color: #000000;\n",
       "        }\n",
       "        .Table tr:nth-child(even){\n",
       "            background: #f3f1ff;\n",
       "            color: #000000;\n",
       "        }\n",
       "        /* Tooltip container */\n",
       "        .djtooltip {\n",
       "        }\n",
       "        /* Tooltip text */\n",
       "        .djtooltip .djtooltiptext {\n",
       "            visibility: hidden;\n",
       "            width: 120px;\n",
       "            background-color: black;\n",
       "            color: #fff;\n",
       "            text-align: center;\n",
       "            padding: 5px 0;\n",
       "            border-radius: 6px;\n",
       "            /* Position the tooltip text - see examples below! */\n",
       "            position: absolute;\n",
       "            z-index: 1;\n",
       "        }\n",
       "        #primary {\n",
       "            font-weight: bold;\n",
       "            color: black;\n",
       "        }\n",
       "        #nonprimary {\n",
       "            font-weight: normal;\n",
       "            color: white;\n",
       "        }\n",
       "\n",
       "        /* Show the tooltip text when you mouse over the tooltip container */\n",
       "        .djtooltip:hover .djtooltiptext {\n",
       "            visibility: visible;\n",
       "        }\n",
       "    </style>\n",
       "    \n",
       "    <b></b>\n",
       "        <div style=\"max-height:1000px;max-width:1500px;overflow:auto;\">\n",
       "        <table border=\"1\" class=\"Table\">\n",
       "            <thead> <tr style=\"text-align: right;\"> <th> <div class=\"djtooltip\">\n",
       "                            <p id=\"primary\">experiment_id</p>\n",
       "                            <span class=\"djtooltiptext\">Unique identifier for each experiment</span>\n",
       "                        </div></th><th><div class=\"djtooltip\">\n",
       "                            <p id=\"nonprimary\">experiment_name</p>\n",
       "                            <span class=\"djtooltiptext\">Name of the experiment</span>\n",
       "                        </div></th><th><div class=\"djtooltip\">\n",
       "                            <p id=\"nonprimary\">experiment_date</p>\n",
       "                            <span class=\"djtooltiptext\">Date when the experiment was conducted</span>\n",
       "                        </div> </th> </tr> </thead>\n",
       "            <tbody> <tr> <td>1</td>\n",
       "<td>Experiment 1</td>\n",
       "<td>2024-08-26</td></tr><tr><td>2</td>\n",
       "<td>Experiment 2</td>\n",
       "<td>2024-08-27</td></tr><tr><td>3</td>\n",
       "<td>Experiment 3</td>\n",
       "<td>2024-08-28</td> </tr> </tbody>\n",
       "        </table>\n",
       "        \n",
       "        <p>Total: 3</p></div>\n",
       "        "
      ],
      "text/plain": [
       "*experiment_id experiment_nam experiment_dat\n",
       "+------------+ +------------+ +------------+\n",
       "1              Experiment 1   2024-08-26    \n",
       "2              Experiment 2   2024-08-27    \n",
       "3              Experiment 3   2024-08-28    \n",
       " (Total: 3)"
      ]
     },
     "execution_count": 4,
     "metadata": {},
     "output_type": "execute_result"
    }
   ],
   "source": [
    "Experiment()"
   ]
  },
  {
   "cell_type": "markdown",
   "metadata": {},
   "source": [
    "# Deleting records\n",
    "\n",
    "If you want to delete a specific record, use the `table.delete()` method after *restricting* the table to a specific row by the primary key value using the `&` operator. \n",
    "You will be given a chance to confirm before the delete is commited."
   ]
  },
  {
   "cell_type": "code",
   "execution_count": 5,
   "metadata": {},
   "outputs": [
    {
     "name": "stderr",
     "output_type": "stream",
     "text": [
      "[2024-08-27 04:01:45,226][INFO]: Deleting 1 rows from `my_schema`.`experiment`\n",
      "[2024-08-27 04:01:47,909][INFO]: Deletes committed.\n"
     ]
    },
    {
     "data": {
      "text/plain": [
       "1"
      ]
     },
     "execution_count": 5,
     "metadata": {},
     "output_type": "execute_result"
    }
   ],
   "source": [
    "(Experiment & {'experiment_id': 1}).delete()"
   ]
  },
  {
   "cell_type": "markdown",
   "metadata": {},
   "source": [
    "To delete all records from the table, use the `.delete()` method. You will have a chance to confirm before finalizing the delete."
   ]
  },
  {
   "cell_type": "code",
   "execution_count": 6,
   "metadata": {},
   "outputs": [
    {
     "name": "stderr",
     "output_type": "stream",
     "text": [
      "[2024-08-27 04:01:47,936][INFO]: Deleting 2 rows from `my_schema`.`experiment`\n",
      "[2024-08-27 04:01:49,279][INFO]: Deletes committed.\n"
     ]
    },
    {
     "data": {
      "text/plain": [
       "2"
      ]
     },
     "execution_count": 6,
     "metadata": {},
     "output_type": "execute_result"
    }
   ],
   "source": [
    "Experiment.delete()"
   ]
  },
  {
   "cell_type": "markdown",
   "metadata": {},
   "source": [
    "# Dropping a table \n",
    "\n",
    "Dropping tables in DataJoint is a process that involves permanently removing a table and all of its associated data from the database. This action is irreversible, so it should be performed with caution. \n",
    "\n",
    "To drop a table in DataJoint, you use the `drop()` method on the table class. When you drop a table, DataJoint not only deletes the table itself but also all entries and relationships tied to it. If the table is part of a hierarchy with dependent tables (such as tables that reference it via foreign keys), DataJoint will prompt you to confirm the action, ensuring you are aware of the cascading effect this drop will have on related tables. This mechanism helps maintain the integrity of the database by preventing accidental data loss that could disrupt the data pipeline. It’s essential to ensure that any critical data has been backed up or is no longer needed before proceeding with a table drop in DataJoint."
   ]
  },
  {
   "cell_type": "code",
   "execution_count": 7,
   "metadata": {},
   "outputs": [
    {
     "name": "stderr",
     "output_type": "stream",
     "text": [
      "[2024-08-27 04:01:49,308][INFO]: `my_schema`.`experiment` (0 tuples)\n",
      "[2024-08-27 04:01:51,062][INFO]: Dropped table `my_schema`.`experiment`\n",
      "[2024-08-27 04:01:51,074][INFO]: Tables dropped. Restart kernel.\n"
     ]
    }
   ],
   "source": [
    "Experiment.drop()"
   ]
  },
  {
   "cell_type": "markdown",
   "metadata": {},
   "source": [
    "# Dropping a schema\n",
    "\n",
    "Dropping a schema in DataJoint involves permanently deleting all the tables within that schema and the schema itself from the database. This is a significant action because it removes not only the tables but also all the data stored within those tables. To drop a schema, you typically use the `schema.drop()` method, where schema is the schema object you defined earlier in your code. \n",
    "\n",
    "When you execute this command, DataJoint will prompt you to confirm the action, as it is irreversible and will result in the loss of all data associated with the schema. This operation is especially powerful because it cascades through all tables within the schema, removing each one. \n",
    "\n",
    "It's crucial to ensure that any data within the schema is either no longer needed or has been adequately backed up before dropping the schema, as this action will permanently remove all traces of the data and the schema’s structure from the database."
   ]
  },
  {
   "cell_type": "code",
   "execution_count": 8,
   "metadata": {},
   "outputs": [],
   "source": [
    "schema.drop()"
   ]
  }
 ],
 "metadata": {
  "kernelspec": {
   "display_name": "base",
   "language": "python",
   "name": "python3"
  },
  "language_info": {
   "codemirror_mode": {
    "name": "ipython",
    "version": 3
   },
   "file_extension": ".py",
   "mimetype": "text/x-python",
   "name": "python",
   "nbconvert_exporter": "python",
   "pygments_lexer": "ipython3",
   "version": "3.10.14"
  }
 },
 "nbformat": 4,
 "nbformat_minor": 2
}
