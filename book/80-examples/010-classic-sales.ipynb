{
 "cells": [
  {
   "cell_type": "markdown",
   "metadata": {},
   "source": [
    "# Example: Classic Sales\n",
    "\n",
    "This is the classic sales database provided as part of the MySQL tutorial. http://www.mysqltutorial.org/mysql-sample-database.aspx\n",
    "\n",
    "This example is adapated here without change under fair use for the purposes of instruction."
   ]
  },
  {
   "cell_type": "code",
   "execution_count": 6,
   "metadata": {},
   "outputs": [
    {
     "name": "stdout",
     "output_type": "stream",
     "text": [
      "The sql extension is already loaded. To reload it, use:\n",
      "  %reload_ext sql\n"
     ]
    },
    {
     "data": {
      "text/html": [
       "<span style=\"None\">Connecting and switching to connection &#x27;mysql+pymysql://dev:***@db&#x27;</span>"
      ],
      "text/plain": [
       "Connecting and switching to connection 'mysql+pymysql://dev:***@db'"
      ]
     },
     "metadata": {},
     "output_type": "display_data"
    }
   ],
   "source": [
    "%load_ext sql\n",
    "%sql mysql+pymysql://dev:devpass@db"
   ]
  },
  {
   "cell_type": "code",
   "execution_count": 7,
   "metadata": {},
   "outputs": [
    {
     "data": {
      "text/html": [
       "<span style=\"None\">Running query in &#x27;mysql+pymysql://dev:***@db&#x27;</span>"
      ],
      "text/plain": [
       "Running query in 'mysql+pymysql://dev:***@db'"
      ]
     },
     "metadata": {},
     "output_type": "display_data"
    },
    {
     "data": {
      "text/html": [
       "<span style=\"color: green\">1 rows affected.</span>"
      ],
      "text/plain": [
       "1 rows affected."
      ]
     },
     "metadata": {},
     "output_type": "display_data"
    },
    {
     "data": {
      "text/html": [
       "<span style=\"color: green\">7 rows affected.</span>"
      ],
      "text/plain": [
       "7 rows affected."
      ]
     },
     "metadata": {},
     "output_type": "display_data"
    },
    {
     "data": {
      "text/html": [
       "<span style=\"color: green\">110 rows affected.</span>"
      ],
      "text/plain": [
       "110 rows affected."
      ]
     },
     "metadata": {},
     "output_type": "display_data"
    },
    {
     "data": {
      "text/html": [
       "<span style=\"color: green\">7 rows affected.</span>"
      ],
      "text/plain": [
       "7 rows affected."
      ]
     },
     "metadata": {},
     "output_type": "display_data"
    },
    {
     "data": {
      "text/html": [
       "<span style=\"color: green\">23 rows affected.</span>"
      ],
      "text/plain": [
       "23 rows affected."
      ]
     },
     "metadata": {},
     "output_type": "display_data"
    },
    {
     "data": {
      "text/html": [
       "<span style=\"color: green\">23 rows affected.</span>"
      ],
      "text/plain": [
       "23 rows affected."
      ]
     },
     "metadata": {},
     "output_type": "display_data"
    },
    {
     "data": {
      "text/html": [
       "<span style=\"color: green\">122 rows affected.</span>"
      ],
      "text/plain": [
       "122 rows affected."
      ]
     },
     "metadata": {},
     "output_type": "display_data"
    },
    {
     "data": {
      "text/html": [
       "<span style=\"color: green\">326 rows affected.</span>"
      ],
      "text/plain": [
       "326 rows affected."
      ]
     },
     "metadata": {},
     "output_type": "display_data"
    },
    {
     "data": {
      "text/html": [
       "<span style=\"color: green\">273 rows affected.</span>"
      ],
      "text/plain": [
       "273 rows affected."
      ]
     },
     "metadata": {},
     "output_type": "display_data"
    },
    {
     "data": {
      "text/html": [
       "<span style=\"color: green\">2996 rows affected.</span>"
      ],
      "text/plain": [
       "2996 rows affected."
      ]
     },
     "metadata": {},
     "output_type": "display_data"
    },
    {
     "data": {
      "text/html": [
       "<table>\n",
       "    <thead>\n",
       "        <tr>\n",
       "        </tr>\n",
       "    </thead>\n",
       "    <tbody>\n",
       "    </tbody>\n",
       "</table>"
      ],
      "text/plain": [
       "++\n",
       "||\n",
       "++\n",
       "++"
      ]
     },
     "execution_count": 7,
     "metadata": {},
     "output_type": "execute_result"
    }
   ],
   "source": [
    "%sql --file classicsales.sql"
   ]
  },
  {
   "cell_type": "code",
   "execution_count": 8,
   "metadata": {},
   "outputs": [],
   "source": [
    "import datajoint as dj\n",
    "schema = dj.Schema('classic_sales')\n",
    "schema.spawn_missing_classes()"
   ]
  },
  {
   "cell_type": "code",
   "execution_count": 9,
   "metadata": {},
   "outputs": [
    {
     "data": {
      "image/svg+xml": [
       "<svg xmlns=\"http://www.w3.org/2000/svg\" xmlns:xlink=\"http://www.w3.org/1999/xlink\" width=\"362pt\" height=\"311pt\" viewBox=\"0.00 0.00 362.00 311.00\">\n",
       "<g id=\"graph0\" class=\"graph\" transform=\"scale(1 1) rotate(0) translate(4 307)\">\n",
       "<polygon fill=\"white\" stroke=\"transparent\" points=\"-4,4 -4,-307 358,-307 358,4 -4,4\"/>\n",
       "<!-- 2 -->\n",
       "<g id=\"node1\" class=\"node\">\n",
       "<title>2</title>\n",
       "<ellipse fill=\"#ff8800\" fill-opacity=\"0.501961\" stroke=\"#ff8800\" stroke-opacity=\"0.501961\" cx=\"79\" cy=\"-214.5\" rx=\"2\" ry=\"2\"/>\n",
       "<text text-anchor=\"middle\" x=\"79\" y=\"-214.2\" font-family=\"arial\" font-size=\"1.00\" fill=\"#ff8800\" fill-opacity=\"0.501961\">2</text>\n",
       "</g>\n",
       "<!-- EmployeePosition -->\n",
       "<g id=\"node9\" class=\"node\">\n",
       "<title>EmployeePosition</title>\n",
       "<g id=\"a_node9\"><a xlink:title=\"→ Employee&#13;------------------------------&#13;→ Office&#13;→ [nullable] Employee.proj(reportsTo=&quot;employeeNumber&quot;)&#13;jobTitle             &#13;\">\n",
       "<polygon fill=\"#00ff00\" fill-opacity=\"0.188235\" stroke=\"#00ff00\" stroke-opacity=\"0.188235\" points=\"129,-161 7,-161 7,-126 129,-126 129,-161\"/>\n",
       "<text text-anchor=\"middle\" x=\"68\" y=\"-140.4\" font-family=\"arial\" font-size=\"12.00\" fill=\"darkgreen\">EmployeePosition</text>\n",
       "</a>\n",
       "</g>\n",
       "</g>\n",
       "<!-- 2&#45;&gt;EmployeePosition -->\n",
       "<g id=\"edge1\" class=\"edge\">\n",
       "<title>2-&gt;EmployeePosition</title>\n",
       "<path fill=\"none\" stroke=\"#000000\" stroke-width=\"0.75\" stroke-dasharray=\"5,2\" stroke-opacity=\"0.250980\" d=\"M78.81,-212.3C77.86,-206.33 73.55,-179.29 70.67,-161.22\"/>\n",
       "</g>\n",
       "<!-- 3 -->\n",
       "<g id=\"node2\" class=\"node\">\n",
       "<title>3</title>\n",
       "<ellipse fill=\"#ff8800\" fill-opacity=\"0.501961\" stroke=\"#ff8800\" stroke-opacity=\"0.501961\" cx=\"174\" cy=\"-214.5\" rx=\"2\" ry=\"2\"/>\n",
       "<text text-anchor=\"middle\" x=\"174\" y=\"-214.2\" font-family=\"arial\" font-size=\"1.00\" fill=\"#ff8800\" fill-opacity=\"0.501961\">3</text>\n",
       "</g>\n",
       "<!-- Customer -->\n",
       "<g id=\"node11\" class=\"node\">\n",
       "<title>Customer</title>\n",
       "<g id=\"a_node11\"><a xlink:title=\"customerNumber       &#13;------------------------------&#13;customerName         &#13;contactLastName      &#13;contactFirstName     &#13;phone                &#13;addressLine1         &#13;addressLine2=null    &#13;city                 &#13;state=null           &#13;postalCode=null      &#13;country              &#13;→ [nullable] Employee.proj(salesRepEmployeeNumber=&quot;employeeNumber&quot;)&#13;creditLimit=null     &#13;\">\n",
       "<polygon fill=\"#00ff00\" fill-opacity=\"0.188235\" stroke=\"#00ff00\" stroke-opacity=\"0.188235\" points=\"222.5,-161 147.5,-161 147.5,-126 222.5,-126 222.5,-161\"/>\n",
       "<text text-anchor=\"start\" x=\"155.5\" y=\"-141.4\" font-family=\"arial\" text-decoration=\"underline\" font-size=\"12.00\" fill=\"darkgreen\">Customer</text>\n",
       "</a>\n",
       "</g>\n",
       "</g>\n",
       "<!-- 3&#45;&gt;Customer -->\n",
       "<g id=\"edge2\" class=\"edge\">\n",
       "<title>3-&gt;Customer</title>\n",
       "<path fill=\"none\" stroke=\"#000000\" stroke-width=\"0.75\" stroke-dasharray=\"5,2\" stroke-opacity=\"0.250980\" d=\"M174.19,-212.3C175.14,-206.33 179.45,-179.29 182.33,-161.22\"/>\n",
       "</g>\n",
       "<!-- ProductLine -->\n",
       "<g id=\"node3\" class=\"node\">\n",
       "<title>ProductLine</title>\n",
       "<g id=\"a_node3\"><a xlink:title=\"productLine          &#13;------------------------------&#13;textDescription=null &#13;htmlDescription=null &#13;image=null           &#13;\">\n",
       "<polygon fill=\"#00ff00\" fill-opacity=\"0.188235\" stroke=\"#00ff00\" stroke-opacity=\"0.188235\" points=\"354,-161 268,-161 268,-126 354,-126 354,-161\"/>\n",
       "<text text-anchor=\"start\" x=\"276\" y=\"-141.4\" font-family=\"arial\" text-decoration=\"underline\" font-size=\"12.00\" fill=\"darkgreen\">ProductLine</text>\n",
       "</a>\n",
       "</g>\n",
       "</g>\n",
       "<!-- Product -->\n",
       "<g id=\"node4\" class=\"node\">\n",
       "<title>Product</title>\n",
       "<g id=\"a_node4\"><a xlink:title=\"productCode          &#13;------------------------------&#13;productName          &#13;→ ProductLine&#13;productScale         &#13;productVendor        &#13;productDescription   &#13;quantityInStock      &#13;buyPrice             &#13;MSRP                 &#13;\">\n",
       "<polygon fill=\"#00ff00\" fill-opacity=\"0.188235\" stroke=\"#00ff00\" stroke-opacity=\"0.188235\" points=\"342,-90 280,-90 280,-55 342,-55 342,-90\"/>\n",
       "<text text-anchor=\"start\" x=\"288\" y=\"-70.4\" font-family=\"arial\" text-decoration=\"underline\" font-size=\"12.00\" fill=\"darkgreen\">Product</text>\n",
       "</a>\n",
       "</g>\n",
       "</g>\n",
       "<!-- ProductLine&#45;&gt;Product -->\n",
       "<g id=\"edge3\" class=\"edge\">\n",
       "<title>ProductLine-&gt;Product</title>\n",
       "<path fill=\"none\" stroke=\"#000000\" stroke-width=\"0.75\" stroke-dasharray=\"5,2\" stroke-opacity=\"0.250980\" d=\"M311,-125.8C311,-114.95 311,-100.87 311,-90.05\"/>\n",
       "</g>\n",
       "<!-- Order.Details -->\n",
       "<g id=\"node6\" class=\"node\">\n",
       "<title>Order.Details</title>\n",
       "<g id=\"a_node6\"><a xlink:title=\"→ Order&#13;→ Product&#13;------------------------------&#13;quantityOrdered      &#13;priceEach            &#13;orderLineNumber      &#13;\">\n",
       "<polygon fill=\"transparent\" stroke=\"transparent\" points=\"313,-19 233,-19 233,0 313,0 313,-19\"/>\n",
       "<text text-anchor=\"middle\" x=\"273\" y=\"-7\" font-family=\"arial\" font-size=\"10.00\">Order.Details</text>\n",
       "</a>\n",
       "</g>\n",
       "</g>\n",
       "<!-- Product&#45;&gt;Order.Details -->\n",
       "<g id=\"edge4\" class=\"edge\">\n",
       "<title>Product-&gt;Order.Details</title>\n",
       "<path fill=\"none\" stroke=\"#000000\" stroke-width=\"0.75\" stroke-opacity=\"0.250980\" d=\"M300.62,-54.83C293.41,-43.26 284.1,-28.32 278.34,-19.08\"/>\n",
       "</g>\n",
       "<!-- Payment -->\n",
       "<g id=\"node5\" class=\"node\">\n",
       "<title>Payment</title>\n",
       "<g id=\"a_node5\"><a xlink:title=\"→ Customer&#13;checkNumber          &#13;------------------------------&#13;paymentDate          &#13;amount               &#13;\">\n",
       "<polygon fill=\"#00ff00\" fill-opacity=\"0.188235\" stroke=\"#00ff00\" stroke-opacity=\"0.188235\" points=\"192.5,-90 123.5,-90 123.5,-55 192.5,-55 192.5,-90\"/>\n",
       "<text text-anchor=\"start\" x=\"131.5\" y=\"-70.4\" font-family=\"arial\" text-decoration=\"underline\" font-size=\"12.00\" fill=\"darkgreen\">Payment</text>\n",
       "</a>\n",
       "</g>\n",
       "</g>\n",
       "<!-- Order -->\n",
       "<g id=\"node7\" class=\"node\">\n",
       "<title>Order</title>\n",
       "<g id=\"a_node7\"><a xlink:title=\"orderNumber          &#13;------------------------------&#13;orderDate            &#13;requiredDate         &#13;shippedDate=null     &#13;status               &#13;comments=null        &#13;→ Customer&#13;\">\n",
       "<polygon fill=\"#00ff00\" fill-opacity=\"0.188235\" stroke=\"#00ff00\" stroke-opacity=\"0.188235\" points=\"261.5,-90 210.5,-90 210.5,-55 261.5,-55 261.5,-90\"/>\n",
       "<text text-anchor=\"start\" x=\"218.5\" y=\"-70.4\" font-family=\"arial\" text-decoration=\"underline\" font-size=\"12.00\" fill=\"darkgreen\">Order</text>\n",
       "</a>\n",
       "</g>\n",
       "</g>\n",
       "<!-- Order&#45;&gt;Order.Details -->\n",
       "<g id=\"edge5\" class=\"edge\">\n",
       "<title>Order-&gt;Order.Details</title>\n",
       "<path fill=\"none\" stroke=\"#000000\" stroke-width=\"0.75\" stroke-opacity=\"0.250980\" d=\"M246.11,-54.83C253.13,-43.26 262.19,-28.32 267.8,-19.08\"/>\n",
       "</g>\n",
       "<!-- Office -->\n",
       "<g id=\"node8\" class=\"node\">\n",
       "<title>Office</title>\n",
       "<g id=\"a_node8\"><a xlink:title=\"officeCode           &#13;------------------------------&#13;city                 &#13;phone                &#13;addressLine1         &#13;addressLine2=null    &#13;state=null           &#13;country              &#13;postalCode           &#13;territory            &#13;\">\n",
       "<polygon fill=\"#00ff00\" fill-opacity=\"0.188235\" stroke=\"#00ff00\" stroke-opacity=\"0.188235\" points=\"52,-232 0,-232 0,-197 52,-197 52,-232\"/>\n",
       "<text text-anchor=\"start\" x=\"8\" y=\"-212.4\" font-family=\"arial\" text-decoration=\"underline\" font-size=\"12.00\" fill=\"darkgreen\">Office</text>\n",
       "</a>\n",
       "</g>\n",
       "</g>\n",
       "<!-- Office&#45;&gt;EmployeePosition -->\n",
       "<g id=\"edge6\" class=\"edge\">\n",
       "<title>Office-&gt;EmployeePosition</title>\n",
       "<path fill=\"none\" stroke=\"#000000\" stroke-width=\"0.75\" stroke-dasharray=\"5,2\" stroke-opacity=\"0.250980\" d=\"M36.17,-196.8C42.77,-185.95 51.34,-171.87 57.93,-161.05\"/>\n",
       "</g>\n",
       "<!-- Employee -->\n",
       "<g id=\"node10\" class=\"node\">\n",
       "<title>Employee</title>\n",
       "<g id=\"a_node10\"><a xlink:title=\"employeeNumber       &#13;------------------------------&#13;lastName             &#13;firstName            &#13;extension            &#13;email                &#13;\">\n",
       "<polygon fill=\"#00ff00\" fill-opacity=\"0.188235\" stroke=\"#00ff00\" stroke-opacity=\"0.188235\" points=\"154,-303 78,-303 78,-268 154,-268 154,-303\"/>\n",
       "<text text-anchor=\"start\" x=\"86\" y=\"-283.4\" font-family=\"arial\" text-decoration=\"underline\" font-size=\"12.00\" fill=\"darkgreen\">Employee</text>\n",
       "</a>\n",
       "</g>\n",
       "</g>\n",
       "<!-- Employee&#45;&gt;2 -->\n",
       "<g id=\"edge7\" class=\"edge\">\n",
       "<title>Employee-&gt;2</title>\n",
       "<path fill=\"none\" stroke=\"#000000\" stroke-width=\"0.75\" stroke-dasharray=\"5,2\" stroke-opacity=\"0.250980\" d=\"M107.04,-267.8C97.46,-249.93 83.18,-223.29 79.76,-216.91\"/>\n",
       "</g>\n",
       "<!-- Employee&#45;&gt;3 -->\n",
       "<g id=\"edge8\" class=\"edge\">\n",
       "<title>Employee-&gt;3</title>\n",
       "<path fill=\"none\" stroke=\"#000000\" stroke-width=\"0.75\" stroke-dasharray=\"5,2\" stroke-opacity=\"0.250980\" d=\"M130.04,-267.8C145.06,-249.93 167.45,-223.29 172.82,-216.91\"/>\n",
       "</g>\n",
       "<!-- Employee&#45;&gt;EmployeePosition -->\n",
       "<g id=\"edge9\" class=\"edge\">\n",
       "<title>Employee-&gt;EmployeePosition</title>\n",
       "<path fill=\"none\" stroke=\"#000000\" stroke-width=\"2\" stroke-opacity=\"0.250980\" d=\"M113.57,-268C110.63,-250.12 104.94,-220.94 96,-197 91.38,-184.61 84.38,-171.49 78.53,-161.46\"/>\n",
       "</g>\n",
       "<!-- Customer&#45;&gt;Payment -->\n",
       "<g id=\"edge10\" class=\"edge\">\n",
       "<title>Customer-&gt;Payment</title>\n",
       "<path fill=\"none\" stroke=\"#000000\" stroke-width=\"0.75\" stroke-opacity=\"0.250980\" d=\"M178.46,-125.8C174.22,-114.95 168.71,-100.87 164.48,-90.05\"/>\n",
       "</g>\n",
       "<!-- Customer&#45;&gt;Order -->\n",
       "<g id=\"edge11\" class=\"edge\">\n",
       "<title>Customer-&gt;Order</title>\n",
       "<path fill=\"none\" stroke=\"#000000\" stroke-width=\"0.75\" stroke-dasharray=\"5,2\" stroke-opacity=\"0.250980\" d=\"M197.35,-125.8C205.36,-114.95 215.77,-100.87 223.77,-90.05\"/>\n",
       "</g>\n",
       "</g>\n",
       "</svg>"
      ],
      "text/plain": [
       "<datajoint.diagram.Diagram at 0xffff6738d950>"
      ]
     },
     "execution_count": 9,
     "metadata": {},
     "output_type": "execute_result"
    }
   ],
   "source": [
    "dj.Diagram(schema)"
   ]
  },
  {
   "cell_type": "code",
   "execution_count": 5,
   "metadata": {},
   "outputs": [
    {
     "data": {
      "text/html": [
       "\n",
       "    \n",
       "    <style type=\"text/css\">\n",
       "        .Table{\n",
       "            border-collapse:collapse;\n",
       "        }\n",
       "        .Table th{\n",
       "            background: #A0A0A0; color: #ffffff; padding:4px; border:#f0e0e0 1px solid;\n",
       "            font-weight: normal; font-family: monospace; font-size: 100%;\n",
       "        }\n",
       "        .Table td{\n",
       "            padding:4px; border:#f0e0e0 1px solid; font-size:100%;\n",
       "        }\n",
       "        .Table tr:nth-child(odd){\n",
       "            background: #ffffff;\n",
       "            color: #000000;\n",
       "        }\n",
       "        .Table tr:nth-child(even){\n",
       "            background: #f3f1ff;\n",
       "            color: #000000;\n",
       "        }\n",
       "        /* Tooltip container */\n",
       "        .djtooltip {\n",
       "        }\n",
       "        /* Tooltip text */\n",
       "        .djtooltip .djtooltiptext {\n",
       "            visibility: hidden;\n",
       "            width: 120px;\n",
       "            background-color: black;\n",
       "            color: #fff;\n",
       "            text-align: center;\n",
       "            padding: 5px 0;\n",
       "            border-radius: 6px;\n",
       "            /* Position the tooltip text - see examples below! */\n",
       "            position: absolute;\n",
       "            z-index: 1;\n",
       "        }\n",
       "        #primary {\n",
       "            font-weight: bold;\n",
       "            color: black;\n",
       "        }\n",
       "        #nonprimary {\n",
       "            font-weight: normal;\n",
       "            color: white;\n",
       "        }\n",
       "\n",
       "        /* Show the tooltip text when you mouse over the tooltip container */\n",
       "        .djtooltip:hover .djtooltiptext {\n",
       "            visibility: visible;\n",
       "        }\n",
       "    </style>\n",
       "    \n",
       "    <b></b>\n",
       "        <div style=\"max-height:1000px;max-width:1500px;overflow:auto;\">\n",
       "        <table border=\"1\" class=\"Table\">\n",
       "            <thead> <tr style=\"text-align: right;\"> <th> <div class=\"djtooltip\">\n",
       "                            <p id=\"primary\">customerNumber</p>\n",
       "                            <span class=\"djtooltiptext\"></span>\n",
       "                        </div></th><th><div class=\"djtooltip\">\n",
       "                            <p id=\"primary\">checkNumber</p>\n",
       "                            <span class=\"djtooltiptext\"></span>\n",
       "                        </div></th><th><div class=\"djtooltip\">\n",
       "                            <p id=\"nonprimary\">paymentDate</p>\n",
       "                            <span class=\"djtooltiptext\"></span>\n",
       "                        </div></th><th><div class=\"djtooltip\">\n",
       "                            <p id=\"nonprimary\">amount</p>\n",
       "                            <span class=\"djtooltiptext\"></span>\n",
       "                        </div> </th> </tr> </thead>\n",
       "            <tbody> <tr> <td>103</td>\n",
       "<td>HQ336336</td>\n",
       "<td>2004-10-19</td>\n",
       "<td>6066.78</td></tr><tr><td>103</td>\n",
       "<td>JM555205</td>\n",
       "<td>2003-06-05</td>\n",
       "<td>14571.44</td></tr><tr><td>103</td>\n",
       "<td>OM314933</td>\n",
       "<td>2004-12-18</td>\n",
       "<td>1676.14</td></tr><tr><td>112</td>\n",
       "<td>BO864823</td>\n",
       "<td>2004-12-17</td>\n",
       "<td>14191.12</td></tr><tr><td>112</td>\n",
       "<td>HQ55022</td>\n",
       "<td>2003-06-06</td>\n",
       "<td>32641.98</td></tr><tr><td>112</td>\n",
       "<td>ND748579</td>\n",
       "<td>2004-08-20</td>\n",
       "<td>33347.88</td></tr><tr><td>114</td>\n",
       "<td>GG31455</td>\n",
       "<td>2003-05-20</td>\n",
       "<td>45864.03</td></tr><tr><td>114</td>\n",
       "<td>MA765515</td>\n",
       "<td>2004-12-15</td>\n",
       "<td>82261.22</td></tr><tr><td>114</td>\n",
       "<td>NP603840</td>\n",
       "<td>2003-05-31</td>\n",
       "<td>7565.08</td></tr><tr><td>114</td>\n",
       "<td>NR27552</td>\n",
       "<td>2004-03-10</td>\n",
       "<td>44894.74</td></tr><tr><td>119</td>\n",
       "<td>DB933704</td>\n",
       "<td>2004-11-14</td>\n",
       "<td>19501.82</td></tr><tr><td>119</td>\n",
       "<td>LN373447</td>\n",
       "<td>2004-08-08</td>\n",
       "<td>47924.19</td> </tr> </tbody>\n",
       "        </table>\n",
       "        <p>...</p>\n",
       "        <p>Total: 273</p></div>\n",
       "        "
      ],
      "text/plain": [
       "*customerNumbe *checkNumber   paymentDate    amount      \n",
       "+------------+ +------------+ +------------+ +----------+\n",
       "103            HQ336336       2004-10-19     6066.78     \n",
       "103            JM555205       2003-06-05     14571.44    \n",
       "103            OM314933       2004-12-18     1676.14     \n",
       "112            BO864823       2004-12-17     14191.12    \n",
       "112            HQ55022        2003-06-06     32641.98    \n",
       "112            ND748579       2004-08-20     33347.88    \n",
       "114            GG31455        2003-05-20     45864.03    \n",
       "114            MA765515       2004-12-15     82261.22    \n",
       "114            NP603840       2003-05-31     7565.08     \n",
       "114            NR27552        2004-03-10     44894.74    \n",
       "119            DB933704       2004-11-14     19501.82    \n",
       "119            LN373447       2004-08-08     47924.19    \n",
       "   ...\n",
       " (Total: 273)"
      ]
     },
     "execution_count": 5,
     "metadata": {},
     "output_type": "execute_result"
    }
   ],
   "source": [
    "Payment()"
   ]
  }
 ],
 "metadata": {
  "kernelspec": {
   "display_name": "base",
   "language": "python",
   "name": "python3"
  },
  "language_info": {
   "codemirror_mode": {
    "name": "ipython",
    "version": 3
   },
   "file_extension": ".py",
   "mimetype": "text/x-python",
   "name": "python",
   "nbconvert_exporter": "python",
   "pygments_lexer": "ipython3",
   "version": "3.13.2"
  }
 },
 "nbformat": 4,
 "nbformat_minor": 2
}
