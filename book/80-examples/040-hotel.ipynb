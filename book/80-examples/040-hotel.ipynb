{
 "cells": [
  {
   "cell_type": "markdown",
   "id": "6e26075b",
   "metadata": {},
   "source": [
    "# Hotel\n",
    "\n",
    "## Assignment\n",
    "\n",
    "Design, populate, and query a database for a hotel reservation system with the following business rules:\n",
    "\n",
    "1. The hotel has a number of rooms of two types: Deluxe and Suite\n",
    "2. For every night, some rooms are made available for reservation for a specific price.\n",
    "3. A guest can make a reservation for an avavilable room for one night. The reservation must include credit card payment info. At most one reservation can be made per night per room.\n",
    "4. A guest can check into a room that has been reserved. An attempt to check in without a reservation will generate an error.\n",
    "5. A guest can check out only after checking in. An attempt to check out multiple times or check out without checking in will generate an error.\n",
    "\n",
    "Your Python code should provide the following:\n",
    "\n",
    "1. A section to create the tables. The design must be in 3rd normal form following the conventions discussed in class and enforcing the business rules above.\n",
    "\n",
    "2. Provide code to populate rooms and room availability with prices.\n",
    "\n",
    "3. The function `reserve_room(room, date, guest_name, credit_card)` to make a reservation. A script that populates at least 300 reservations (e.g. use `faker`)\n",
    "\n",
    "4. The functions `checkin(room, date)` and `checkout(room, date)` to check guests in and out. Write a script that invokes `checkin` and `checkout` for a buncha guests.  Demonstrate that that the functions enforces the rules of the business.\n",
    "\n",
    "5. Write a query to list all guests who have stayed in a given room in 2021.\n",
    "\n",
    "6. Write a query to list all dates on which a specific guest stayed at the hotel.\n",
    "\n"
   ]
  },
  {
   "cell_type": "markdown",
   "id": "33e46762",
   "metadata": {},
   "source": [
    "# Define the database"
   ]
  },
  {
   "cell_type": "code",
   "execution_count": 1,
   "id": "fc703fb8",
   "metadata": {},
   "outputs": [
    {
     "name": "stdout",
     "output_type": "stream",
     "text": [
      "Exception reporting mode: Minimal\n"
     ]
    },
    {
     "name": "stderr",
     "output_type": "stream",
     "text": [
      "[2025-10-11 03:07:53,440][INFO]: DataJoint 0.14.6 connected to dev@db:3306\n"
     ]
    }
   ],
   "source": [
    "%xmode minimal\n",
    "import datajoint as dj\n",
    "schema = dj.Schema('hotel')"
   ]
  },
  {
   "cell_type": "code",
   "execution_count": 3,
   "id": "62d97e04",
   "metadata": {},
   "outputs": [],
   "source": [
    "@schema\n",
    "class Room(dj.Manual):\n",
    "    definition = \"\"\"\n",
    "    room : int\n",
    "    --- \n",
    "    room_type : enum('Deluxe', 'Suite')\n",
    "    \"\"\""
   ]
  },
  {
   "cell_type": "code",
   "execution_count": 4,
   "id": "280e7440",
   "metadata": {},
   "outputs": [],
   "source": [
    "@schema\n",
    "class RoomAvailable(dj.Manual):\n",
    "    definition = \"\"\"\n",
    "    -> Room\n",
    "    date : date \n",
    "    ---\n",
    "    price : decimal(6, 2)\n",
    "    \"\"\""
   ]
  },
  {
   "cell_type": "code",
   "execution_count": 5,
   "id": "dc952e39",
   "metadata": {},
   "outputs": [],
   "source": [
    "@schema\n",
    "class Guest(dj.Manual):\n",
    "    definition = \"\"\"\n",
    "    guest_id : int unsigned\n",
    "    --- \n",
    "    guest_name : varchar(60)\n",
    "    index(guest_name)\n",
    "    \"\"\""
   ]
  },
  {
   "cell_type": "code",
   "execution_count": 6,
   "id": "14929f5b",
   "metadata": {},
   "outputs": [],
   "source": [
    "@schema\n",
    "class Reservation(dj.Manual):\n",
    "    definition = \"\"\"\n",
    "    -> RoomAvailable\n",
    "    ---\n",
    "    -> Guest\n",
    "    credit_card : varchar(80)\n",
    "    \"\"\""
   ]
  },
  {
   "cell_type": "code",
   "execution_count": 7,
   "id": "61f03f74",
   "metadata": {},
   "outputs": [],
   "source": [
    "@schema\n",
    "class CheckIn(dj.Manual):\n",
    "    definition = \"\"\"\n",
    "    -> Reservation\n",
    "    \"\"\""
   ]
  },
  {
   "cell_type": "code",
   "execution_count": 8,
   "id": "c163c97c",
   "metadata": {},
   "outputs": [],
   "source": [
    "@schema\n",
    "class CheckOut(dj.Manual):\n",
    "    definition = \"\"\"\n",
    "    -> CheckIn\n",
    "    \"\"\""
   ]
  },
  {
   "cell_type": "code",
   "execution_count": 9,
   "id": "0584b014",
   "metadata": {},
   "outputs": [
    {
     "data": {
      "image/svg+xml": [
       "<svg xmlns=\"http://www.w3.org/2000/svg\" xmlns:xlink=\"http://www.w3.org/1999/xlink\" width=\"182pt\" height=\"327pt\" viewBox=\"0.00 0.00 181.50 327.00\">\n",
       "<g id=\"graph0\" class=\"graph\" transform=\"scale(1 1) rotate(0) translate(4 323)\">\n",
       "<polygon fill=\"white\" stroke=\"transparent\" points=\"-4,4 -4,-323 177.5,-323 177.5,4 -4,4\"/>\n",
       "<!-- CheckIn -->\n",
       "<g id=\"node1\" class=\"node\">\n",
       "<title>CheckIn</title>\n",
       "<g id=\"a_node1\"><a xlink:title=\"→ Reservation&#13;\">\n",
       "<polygon fill=\"#00ff00\" fill-opacity=\"0.188235\" stroke=\"#00ff00\" stroke-opacity=\"0.188235\" points=\"106,-106 41,-106 41,-71 106,-71 106,-106\"/>\n",
       "<text text-anchor=\"middle\" x=\"73.5\" y=\"-85.4\" font-family=\"arial\" font-size=\"12.00\" fill=\"darkgreen\">CheckIn</text>\n",
       "</a>\n",
       "</g>\n",
       "</g>\n",
       "<!-- CheckOut -->\n",
       "<g id=\"node2\" class=\"node\">\n",
       "<title>CheckOut</title>\n",
       "<g id=\"a_node2\"><a xlink:title=\"→ CheckIn&#13;\">\n",
       "<polygon fill=\"#00ff00\" fill-opacity=\"0.188235\" stroke=\"#00ff00\" stroke-opacity=\"0.188235\" points=\"111,-35 36,-35 36,0 111,0 111,-35\"/>\n",
       "<text text-anchor=\"middle\" x=\"73.5\" y=\"-14.4\" font-family=\"arial\" font-size=\"12.00\" fill=\"darkgreen\">CheckOut</text>\n",
       "</a>\n",
       "</g>\n",
       "</g>\n",
       "<!-- CheckIn&#45;&gt;CheckOut -->\n",
       "<g id=\"edge1\" class=\"edge\">\n",
       "<title>CheckIn-&gt;CheckOut</title>\n",
       "<path fill=\"none\" stroke=\"#000000\" stroke-width=\"2\" stroke-opacity=\"0.250980\" d=\"M73.5,-70.8C73.5,-59.95 73.5,-45.87 73.5,-35.05\"/>\n",
       "</g>\n",
       "<!-- Guest -->\n",
       "<g id=\"node3\" class=\"node\">\n",
       "<title>Guest</title>\n",
       "<g id=\"a_node3\"><a xlink:title=\"guest_id             &#13;------------------------------&#13;guest_name           &#13;INDEX (guest_name)&#13;\">\n",
       "<polygon fill=\"#00ff00\" fill-opacity=\"0.188235\" stroke=\"#00ff00\" stroke-opacity=\"0.188235\" points=\"51,-248 0,-248 0,-213 51,-213 51,-248\"/>\n",
       "<text text-anchor=\"start\" x=\"8\" y=\"-228.4\" font-family=\"arial\" text-decoration=\"underline\" font-size=\"12.00\" fill=\"darkgreen\">Guest</text>\n",
       "</a>\n",
       "</g>\n",
       "</g>\n",
       "<!-- Reservation -->\n",
       "<g id=\"node4\" class=\"node\">\n",
       "<title>Reservation</title>\n",
       "<g id=\"a_node4\"><a xlink:title=\"→ RoomAvailable&#13;------------------------------&#13;→ Guest&#13;credit_card          &#13;\">\n",
       "<polygon fill=\"#00ff00\" fill-opacity=\"0.188235\" stroke=\"#00ff00\" stroke-opacity=\"0.188235\" points=\"117,-177 30,-177 30,-142 117,-142 117,-177\"/>\n",
       "<text text-anchor=\"middle\" x=\"73.5\" y=\"-156.4\" font-family=\"arial\" font-size=\"12.00\" fill=\"darkgreen\">Reservation</text>\n",
       "</a>\n",
       "</g>\n",
       "</g>\n",
       "<!-- Guest&#45;&gt;Reservation -->\n",
       "<g id=\"edge2\" class=\"edge\">\n",
       "<title>Guest-&gt;Reservation</title>\n",
       "<path fill=\"none\" stroke=\"#000000\" stroke-width=\"0.75\" stroke-dasharray=\"5,2\" stroke-opacity=\"0.250980\" d=\"M37.12,-212.8C44.67,-201.95 54.46,-187.87 61.99,-177.05\"/>\n",
       "</g>\n",
       "<!-- Reservation&#45;&gt;CheckIn -->\n",
       "<g id=\"edge3\" class=\"edge\">\n",
       "<title>Reservation-&gt;CheckIn</title>\n",
       "<path fill=\"none\" stroke=\"#000000\" stroke-width=\"2\" stroke-opacity=\"0.250980\" d=\"M73.5,-141.8C73.5,-130.95 73.5,-116.87 73.5,-106.05\"/>\n",
       "</g>\n",
       "<!-- Room -->\n",
       "<g id=\"node5\" class=\"node\">\n",
       "<title>Room</title>\n",
       "<g id=\"a_node5\"><a xlink:title=\"room                 &#13;------------------------------&#13;room_type            &#13;\">\n",
       "<polygon fill=\"#00ff00\" fill-opacity=\"0.188235\" stroke=\"#00ff00\" stroke-opacity=\"0.188235\" points=\"147,-319 96,-319 96,-284 147,-284 147,-319\"/>\n",
       "<text text-anchor=\"start\" x=\"104\" y=\"-299.4\" font-family=\"arial\" text-decoration=\"underline\" font-size=\"12.00\" fill=\"darkgreen\">Room</text>\n",
       "</a>\n",
       "</g>\n",
       "</g>\n",
       "<!-- RoomAvailable -->\n",
       "<g id=\"node6\" class=\"node\">\n",
       "<title>RoomAvailable</title>\n",
       "<g id=\"a_node6\"><a xlink:title=\"→ Room&#13;date                 &#13;------------------------------&#13;price                &#13;\">\n",
       "<polygon fill=\"#00ff00\" fill-opacity=\"0.188235\" stroke=\"#00ff00\" stroke-opacity=\"0.188235\" points=\"173.5,-248 69.5,-248 69.5,-213 173.5,-213 173.5,-248\"/>\n",
       "<text text-anchor=\"start\" x=\"77.5\" y=\"-228.4\" font-family=\"arial\" text-decoration=\"underline\" font-size=\"12.00\" fill=\"darkgreen\">RoomAvailable</text>\n",
       "</a>\n",
       "</g>\n",
       "</g>\n",
       "<!-- Room&#45;&gt;RoomAvailable -->\n",
       "<g id=\"edge4\" class=\"edge\">\n",
       "<title>Room-&gt;RoomAvailable</title>\n",
       "<path fill=\"none\" stroke=\"#000000\" stroke-width=\"0.75\" stroke-opacity=\"0.250980\" d=\"M121.5,-283.8C121.5,-272.95 121.5,-258.87 121.5,-248.05\"/>\n",
       "</g>\n",
       "<!-- RoomAvailable&#45;&gt;Reservation -->\n",
       "<g id=\"edge5\" class=\"edge\">\n",
       "<title>RoomAvailable-&gt;Reservation</title>\n",
       "<path fill=\"none\" stroke=\"#000000\" stroke-width=\"2\" stroke-opacity=\"0.250980\" d=\"M109.88,-212.8C102.33,-201.95 92.54,-187.87 85.01,-177.05\"/>\n",
       "</g>\n",
       "</g>\n",
       "</svg>"
      ],
      "text/plain": [
       "<datajoint.diagram.Diagram at 0xffff54d55be0>"
      ]
     },
     "execution_count": 9,
     "metadata": {},
     "output_type": "execute_result"
    }
   ],
   "source": [
    "dj.Diagram(schema)"
   ]
  },
  {
   "cell_type": "markdown",
   "id": "3bab6ec9",
   "metadata": {},
   "source": [
    "# Populate Room Availability"
   ]
  },
  {
   "cell_type": "code",
   "execution_count": 10,
   "id": "64060872",
   "metadata": {},
   "outputs": [],
   "source": [
    "import faker\n",
    "import random\n",
    "import datetime\n",
    "import tqdm\n",
    "fake = faker.Faker()"
   ]
  },
  {
   "cell_type": "code",
   "execution_count": 11,
   "id": "281c8ca7",
   "metadata": {},
   "outputs": [],
   "source": [
    "# populate rooms\n",
    "Room.insert((i, \"Deluxe\" if i%2 else \"Suite\") for i in range(80))"
   ]
  },
  {
   "cell_type": "code",
   "execution_count": 12,
   "id": "86bc4436",
   "metadata": {},
   "outputs": [
    {
     "name": "stderr",
     "output_type": "stream",
     "text": [
      "100%|██████████| 45/45 [00:00<00:00, 410.39it/s]\n"
     ]
    }
   ],
   "source": [
    "# Populate Room availability: 45 days starting on start_date\n",
    "start_date = datetime.date(2023, 11, 1)\n",
    "days = 45\n",
    "\n",
    "for day in tqdm.tqdm(range(days)):\n",
    "    price = random.randint(40, 350) \n",
    "    RoomAvailable.insert(\n",
    "        dict(key, \n",
    "             date=start_date + datetime.timedelta(days=day), \n",
    "             price=price) for key in Room.fetch('KEY'))\n",
    "    "
   ]
  },
  {
   "cell_type": "markdown",
   "id": "4deda107",
   "metadata": {},
   "source": [
    "# Functions "
   ]
  },
  {
   "cell_type": "code",
   "execution_count": 13,
   "id": "48470620",
   "metadata": {},
   "outputs": [],
   "source": [
    "class HotelException(Exception): pass\n",
    "class RoomUnavailable(HotelException): pass\n",
    "class RoomAlreadyReserved(HotelException): pass\n",
    "class AlreadyChecked(HotelException): pass\n",
    "class NoReservation(HotelException): pass\n",
    "class NotCheckedIn(HotelException): pass"
   ]
  },
  {
   "cell_type": "code",
   "execution_count": 14,
   "id": "5603309c",
   "metadata": {},
   "outputs": [],
   "source": [
    "def reserve_room(room, date, guest_name, credit_card):\n",
    "    # lookup guest by name\n",
    "    keys = (Guest & {'guest_name': guest_name}).fetch('KEY')\n",
    "    \n",
    "    if keys:\n",
    "        # if multiple found, use the first, for example\n",
    "        key = keys[0]  \n",
    "    else:\n",
    "        # if not registered before, create a new guest id\n",
    "        key = dict(guest_id=random.randint(0, 2**32-1))\n",
    "        Guest.insert1(dict(key, guest_name=guest_name))\n",
    "    \n",
    "    try:\n",
    "        Reservation.insert1(\n",
    "            dict(key, room=room, date=date, credit_card=credit_card))\n",
    "    except dj.errors.DuplicateError:\n",
    "        raise RoomAlreadyReserved(room, date.isoformat()) from None\n",
    "    except dj.errors.IntegrityError:\n",
    "        raise RoomUnavailable(room, date.isoformat()) from None"
   ]
  },
  {
   "cell_type": "code",
   "execution_count": 15,
   "id": "fd3b9e30",
   "metadata": {},
   "outputs": [],
   "source": [
    "def check_in(room, date):\n",
    "    try:\n",
    "        CheckIn.insert1(dict(room=room, date=date))\n",
    "    except dj.errors.DuplicateError:\n",
    "        raise AlreadyChecked(room, date.isoformat()) from None\n",
    "    except dj.errors.IntegrityError:\n",
    "        raise NoReservation(room, date.isoformat()) from None"
   ]
  },
  {
   "cell_type": "code",
   "execution_count": 16,
   "id": "09e340e2",
   "metadata": {},
   "outputs": [],
   "source": [
    "def check_out(room, date):\n",
    "    try:\n",
    "        CheckOut.insert1(dict(room=room, date=date))\n",
    "    except dj.errors.DuplicateError:\n",
    "        raise AlreadyChecked(room, date.isoformat()) from None\n",
    "    except dj.errors.IntegrityError:\n",
    "        raise NotCheckedIn(room, date.isoformat()) from None"
   ]
  },
  {
   "cell_type": "markdown",
   "id": "60740817",
   "metadata": {},
   "source": [
    "# Operations"
   ]
  },
  {
   "cell_type": "code",
   "execution_count": 17,
   "id": "8dbad565",
   "metadata": {
    "scrolled": false
   },
   "outputs": [
    {
     "name": "stderr",
     "output_type": "stream",
     "text": [
      " 18%|█▊        | 18/100 [00:00<00:01, 79.05it/s]"
     ]
    },
    {
     "name": "stdout",
     "output_type": "stream",
     "text": [
      "RoomUnavailable(80, '2023-11-04')\n",
      "RoomAlreadyReserved(2, '2023-11-19')\n",
      "RoomUnavailable(80, '2023-12-14')\n",
      "RoomAlreadyReserved(57, '2023-12-03')\n",
      "RoomAlreadyReserved(42, '2023-12-10')\n",
      "RoomAlreadyReserved(19, '2023-11-13')\n",
      "RoomUnavailable(80, '2023-11-04')\n"
     ]
    },
    {
     "name": "stderr",
     "output_type": "stream",
     "text": [
      " 36%|███▌      | 36/100 [00:00<00:00, 78.84it/s]"
     ]
    },
    {
     "name": "stdout",
     "output_type": "stream",
     "text": [
      "RoomAlreadyReserved(78, '2023-11-23')\n",
      "RoomAlreadyReserved(4, '2023-11-29')\n",
      "RoomAlreadyReserved(21, '2023-11-01')\n",
      "RoomAlreadyReserved(76, '2023-11-17')\n",
      "RoomAlreadyReserved(40, '2023-11-13')\n",
      "RoomAlreadyReserved(5, '2023-11-03')\n",
      "RoomAlreadyReserved(23, '2023-11-21')\n",
      "RoomAlreadyReserved(60, '2023-11-29')\n",
      "RoomAlreadyReserved(64, '2023-11-07')\n",
      "RoomAlreadyReserved(46, '2023-11-27')\n",
      "RoomAlreadyReserved(32, '2023-12-14')\n",
      "RoomAlreadyReserved(59, '2023-11-26')\n",
      "RoomAlreadyReserved(55, '2023-11-30')\n",
      "RoomAlreadyReserved(42, '2023-11-10')\n",
      "RoomAlreadyReserved(66, '2023-12-02')\n",
      "RoomAlreadyReserved(42, '2023-12-10')\n",
      "RoomAlreadyReserved(60, '2023-12-13')\n",
      "RoomAlreadyReserved(15, '2023-11-25')\n",
      "RoomAlreadyReserved(11, '2023-12-10')\n",
      "RoomAlreadyReserved(33, '2023-11-25')\n",
      "RoomAlreadyReserved(68, '2023-11-01')\n",
      "RoomAlreadyReserved(30, '2023-11-18')\n",
      "RoomAlreadyReserved(4, '2023-11-29')\n",
      "RoomUnavailable(80, '2023-11-30')\n",
      "RoomAlreadyReserved(13, '2023-12-01')\n",
      "RoomAlreadyReserved(36, '2023-11-17')\n",
      "RoomAlreadyReserved(5, '2023-11-30')\n",
      "RoomAlreadyReserved(45, '2023-11-23')\n",
      "RoomAlreadyReserved(17, '2023-11-15')\n",
      "RoomAlreadyReserved(42, '2023-11-07')\n"
     ]
    },
    {
     "name": "stderr",
     "output_type": "stream",
     "text": [
      " 47%|████▋     | 47/100 [00:00<00:00, 86.52it/s]"
     ]
    },
    {
     "name": "stdout",
     "output_type": "stream",
     "text": [
      "RoomAlreadyReserved(7, '2023-12-12')\n",
      "RoomAlreadyReserved(65, '2023-11-09')\n",
      "RoomAlreadyReserved(78, '2023-11-14')\n",
      "RoomAlreadyReserved(3, '2023-11-21')\n",
      "RoomAlreadyReserved(59, '2023-11-03')\n",
      "RoomAlreadyReserved(55, '2023-12-10')\n",
      "RoomAlreadyReserved(1, '2023-11-08')\n",
      "RoomAlreadyReserved(28, '2023-11-03')\n",
      "RoomAlreadyReserved(62, '2023-12-10')\n",
      "RoomAlreadyReserved(13, '2023-12-03')\n",
      "RoomAlreadyReserved(69, '2023-11-27')\n",
      "RoomAlreadyReserved(24, '2023-12-03')\n",
      "RoomAlreadyReserved(9, '2023-12-06')\n",
      "RoomAlreadyReserved(24, '2023-11-13')\n",
      "RoomAlreadyReserved(34, '2023-11-02')\n",
      "RoomAlreadyReserved(59, '2023-11-26')\n",
      "RoomAlreadyReserved(25, '2023-12-12')\n",
      "RoomAlreadyReserved(38, '2023-12-05')\n",
      "RoomAlreadyReserved(21, '2023-11-01')\n",
      "RoomAlreadyReserved(46, '2023-11-09')\n",
      "RoomAlreadyReserved(53, '2023-11-22')\n",
      "RoomAlreadyReserved(11, '2023-12-06')\n",
      "RoomAlreadyReserved(39, '2023-12-15')\n",
      "RoomAlreadyReserved(8, '2023-11-26')\n",
      "RoomAlreadyReserved(3, '2023-11-04')\n",
      "RoomAlreadyReserved(9, '2023-11-02')\n",
      "RoomAlreadyReserved(8, '2023-11-12')\n",
      "RoomAlreadyReserved(45, '2023-11-30')\n",
      "RoomAlreadyReserved(53, '2023-11-26')\n",
      "RoomAlreadyReserved(73, '2023-11-08')\n"
     ]
    },
    {
     "name": "stderr",
     "output_type": "stream",
     "text": [
      " 65%|██████▌   | 65/100 [00:00<00:00, 82.17it/s]"
     ]
    },
    {
     "name": "stdout",
     "output_type": "stream",
     "text": [
      "RoomAlreadyReserved(42, '2023-11-03')\n",
      "RoomAlreadyReserved(65, '2023-11-11')\n",
      "RoomAlreadyReserved(71, '2023-12-04')\n",
      "RoomAlreadyReserved(57, '2023-12-03')\n",
      "RoomAlreadyReserved(10, '2023-11-18')\n",
      "RoomAlreadyReserved(66, '2023-12-02')\n",
      "RoomAlreadyReserved(20, '2023-11-06')\n",
      "RoomAlreadyReserved(69, '2023-11-14')\n",
      "RoomUnavailable(80, '2023-11-05')\n",
      "RoomAlreadyReserved(6, '2023-12-13')\n",
      "RoomAlreadyReserved(19, '2023-11-23')\n",
      "RoomAlreadyReserved(30, '2023-11-08')\n",
      "RoomAlreadyReserved(57, '2023-12-09')\n",
      "RoomAlreadyReserved(75, '2023-12-13')\n",
      "RoomAlreadyReserved(15, '2023-11-08')\n",
      "RoomAlreadyReserved(74, '2023-11-15')\n",
      "RoomAlreadyReserved(51, '2023-12-05')\n",
      "RoomAlreadyReserved(6, '2023-11-19')\n",
      "RoomAlreadyReserved(76, '2023-11-17')\n",
      "RoomAlreadyReserved(18, '2023-11-09')\n",
      "RoomAlreadyReserved(4, '2023-11-08')\n",
      "RoomAlreadyReserved(48, '2023-11-01')\n",
      "RoomAlreadyReserved(9, '2023-12-14')\n",
      "RoomAlreadyReserved(27, '2023-11-13')\n",
      "RoomAlreadyReserved(57, '2023-12-01')\n",
      "RoomAlreadyReserved(55, '2023-11-02')\n",
      "RoomAlreadyReserved(57, '2023-11-25')\n",
      "RoomAlreadyReserved(1, '2023-11-02')\n",
      "RoomAlreadyReserved(46, '2023-11-13')\n",
      "RoomAlreadyReserved(51, '2023-11-03')\n",
      "RoomAlreadyReserved(6, '2023-12-04')\n",
      "RoomAlreadyReserved(43, '2023-12-08')\n",
      "RoomAlreadyReserved(55, '2023-11-02')\n",
      "RoomAlreadyReserved(21, '2023-11-13')\n",
      "RoomAlreadyReserved(42, '2023-11-17')\n",
      "RoomAlreadyReserved(51, '2023-12-05')\n",
      "RoomAlreadyReserved(43, '2023-12-05')\n",
      "RoomAlreadyReserved(6, '2023-11-27')\n",
      "RoomAlreadyReserved(46, '2023-11-27')\n",
      "RoomUnavailable(80, '2023-11-16')\n",
      "RoomAlreadyReserved(31, '2023-11-27')\n",
      "RoomAlreadyReserved(20, '2023-11-23')\n",
      "RoomAlreadyReserved(70, '2023-12-10')\n"
     ]
    },
    {
     "name": "stderr",
     "output_type": "stream",
     "text": [
      " 85%|████████▌ | 85/100 [00:01<00:00, 86.31it/s]"
     ]
    },
    {
     "name": "stdout",
     "output_type": "stream",
     "text": [
      "RoomAlreadyReserved(68, '2023-11-01')\n",
      "RoomAlreadyReserved(55, '2023-11-22')\n",
      "RoomAlreadyReserved(38, '2023-11-01')\n",
      "RoomAlreadyReserved(53, '2023-12-13')\n",
      "RoomAlreadyReserved(68, '2023-12-02')\n",
      "RoomAlreadyReserved(70, '2023-11-04')\n",
      "RoomAlreadyReserved(64, '2023-11-01')\n",
      "RoomAlreadyReserved(16, '2023-12-05')\n",
      "RoomAlreadyReserved(75, '2023-12-06')\n",
      "RoomAlreadyReserved(77, '2023-11-10')\n",
      "RoomAlreadyReserved(29, '2023-12-04')\n",
      "RoomAlreadyReserved(19, '2023-11-23')\n",
      "RoomAlreadyReserved(23, '2023-11-30')\n",
      "RoomAlreadyReserved(26, '2023-12-08')\n",
      "RoomAlreadyReserved(64, '2023-11-13')\n",
      "RoomAlreadyReserved(6, '2023-11-04')\n",
      "RoomAlreadyReserved(0, '2023-12-11')\n",
      "RoomAlreadyReserved(49, '2023-12-02')\n",
      "RoomAlreadyReserved(12, '2023-12-04')\n",
      "RoomAlreadyReserved(39, '2023-11-24')\n",
      "RoomAlreadyReserved(72, '2023-12-01')\n",
      "RoomAlreadyReserved(74, '2023-12-10')\n",
      "RoomAlreadyReserved(20, '2023-11-24')\n",
      "RoomAlreadyReserved(13, '2023-11-22')\n",
      "RoomAlreadyReserved(78, '2023-11-14')\n",
      "RoomAlreadyReserved(55, '2023-12-07')\n",
      "RoomAlreadyReserved(39, '2023-12-15')\n",
      "RoomAlreadyReserved(14, '2023-11-04')\n",
      "RoomAlreadyReserved(3, '2023-11-12')\n",
      "RoomAlreadyReserved(73, '2023-11-19')\n",
      "RoomAlreadyReserved(40, '2023-11-27')\n",
      "RoomAlreadyReserved(54, '2023-11-18')\n",
      "RoomAlreadyReserved(14, '2023-11-23')\n",
      "RoomAlreadyReserved(40, '2023-12-07')\n",
      "RoomAlreadyReserved(53, '2023-11-14')\n",
      "RoomAlreadyReserved(34, '2023-11-08')\n",
      "RoomAlreadyReserved(79, '2023-11-05')\n",
      "RoomAlreadyReserved(19, '2023-11-23')\n",
      "RoomAlreadyReserved(19, '2023-11-01')\n",
      "RoomAlreadyReserved(47, '2023-11-27')\n",
      "RoomAlreadyReserved(41, '2023-11-10')\n",
      "RoomAlreadyReserved(4, '2023-11-05')\n",
      "RoomAlreadyReserved(21, '2023-11-23')\n",
      "RoomAlreadyReserved(39, '2023-12-02')\n",
      "RoomAlreadyReserved(57, '2023-12-05')\n",
      "RoomAlreadyReserved(21, '2023-11-17')\n",
      "RoomAlreadyReserved(53, '2023-11-21')\n",
      "RoomUnavailable(80, '2023-12-09')\n",
      "RoomAlreadyReserved(16, '2023-12-15')\n",
      "RoomAlreadyReserved(54, '2023-11-11')\n",
      "RoomAlreadyReserved(71, '2023-11-14')\n",
      "RoomAlreadyReserved(17, '2023-12-04')\n",
      "RoomAlreadyReserved(38, '2023-11-04')\n",
      "RoomAlreadyReserved(76, '2023-11-09')\n",
      "RoomAlreadyReserved(73, '2023-11-05')\n",
      "RoomAlreadyReserved(43, '2023-11-27')\n",
      "RoomAlreadyReserved(78, '2023-11-04')\n",
      "RoomUnavailable(80, '2023-11-28')\n",
      "RoomAlreadyReserved(27, '2023-11-05')\n",
      "RoomAlreadyReserved(1, '2023-11-28')\n",
      "RoomAlreadyReserved(48, '2023-11-01')\n",
      "RoomAlreadyReserved(9, '2023-12-15')\n",
      "RoomAlreadyReserved(11, '2023-12-10')\n",
      "RoomUnavailable(80, '2023-11-15')\n",
      "RoomAlreadyReserved(27, '2023-12-11')\n"
     ]
    },
    {
     "name": "stderr",
     "output_type": "stream",
     "text": [
      "100%|██████████| 100/100 [00:01<00:00, 88.06it/s]"
     ]
    },
    {
     "name": "stdout",
     "output_type": "stream",
     "text": [
      "RoomAlreadyReserved(1, '2023-11-08')\n",
      "RoomAlreadyReserved(31, '2023-11-28')\n",
      "RoomAlreadyReserved(2, '2023-12-12')\n",
      "RoomAlreadyReserved(51, '2023-12-07')\n",
      "RoomAlreadyReserved(27, '2023-11-27')\n",
      "RoomAlreadyReserved(58, '2023-11-21')\n"
     ]
    },
    {
     "name": "stderr",
     "output_type": "stream",
     "text": [
      "\n"
     ]
    },
    {
     "data": {
      "text/html": [
       "\n",
       "    \n",
       "    <style type=\"text/css\">\n",
       "        .Table{\n",
       "            border-collapse:collapse;\n",
       "        }\n",
       "        .Table th{\n",
       "            background: #A0A0A0; color: #ffffff; padding:4px; border:#f0e0e0 1px solid;\n",
       "            font-weight: normal; font-family: monospace; font-size: 100%;\n",
       "        }\n",
       "        .Table td{\n",
       "            padding:4px; border:#f0e0e0 1px solid; font-size:100%;\n",
       "        }\n",
       "        .Table tr:nth-child(odd){\n",
       "            background: #ffffff;\n",
       "            color: #000000;\n",
       "        }\n",
       "        .Table tr:nth-child(even){\n",
       "            background: #f3f1ff;\n",
       "            color: #000000;\n",
       "        }\n",
       "        /* Tooltip container */\n",
       "        .djtooltip {\n",
       "        }\n",
       "        /* Tooltip text */\n",
       "        .djtooltip .djtooltiptext {\n",
       "            visibility: hidden;\n",
       "            width: 120px;\n",
       "            background-color: black;\n",
       "            color: #fff;\n",
       "            text-align: center;\n",
       "            padding: 5px 0;\n",
       "            border-radius: 6px;\n",
       "            /* Position the tooltip text - see examples below! */\n",
       "            position: absolute;\n",
       "            z-index: 1;\n",
       "        }\n",
       "        #primary {\n",
       "            font-weight: bold;\n",
       "            color: black;\n",
       "        }\n",
       "        #nonprimary {\n",
       "            font-weight: normal;\n",
       "            color: white;\n",
       "        }\n",
       "\n",
       "        /* Show the tooltip text when you mouse over the tooltip container */\n",
       "        .djtooltip:hover .djtooltiptext {\n",
       "            visibility: visible;\n",
       "        }\n",
       "    </style>\n",
       "    \n",
       "    <b></b>\n",
       "        <div style=\"max-height:1000px;max-width:1500px;overflow:auto;\">\n",
       "        <table border=\"1\" class=\"Table\">\n",
       "            <thead> <tr style=\"text-align: right;\"> <th> <div class=\"djtooltip\">\n",
       "                            <p id=\"primary\">room</p>\n",
       "                            <span class=\"djtooltiptext\"></span>\n",
       "                        </div></th><th><div class=\"djtooltip\">\n",
       "                            <p id=\"primary\">date</p>\n",
       "                            <span class=\"djtooltiptext\"></span>\n",
       "                        </div></th><th><div class=\"djtooltip\">\n",
       "                            <p id=\"nonprimary\">guest_id</p>\n",
       "                            <span class=\"djtooltiptext\"></span>\n",
       "                        </div></th><th><div class=\"djtooltip\">\n",
       "                            <p id=\"nonprimary\">credit_card</p>\n",
       "                            <span class=\"djtooltiptext\"></span>\n",
       "                        </div> </th> </tr> </thead>\n",
       "            <tbody> <tr> <td>0</td>\n",
       "<td>2023-11-01</td>\n",
       "<td>3104143429</td>\n",
       "<td>2642637928716231 10/34 702</td></tr><tr><td>0</td>\n",
       "<td>2023-11-06</td>\n",
       "<td>2696488379</td>\n",
       "<td>4572684634933072 07/34 191</td></tr><tr><td>0</td>\n",
       "<td>2023-11-16</td>\n",
       "<td>33919512</td>\n",
       "<td>345035054510383 12/33 865</td></tr><tr><td>0</td>\n",
       "<td>2023-11-26</td>\n",
       "<td>571117567</td>\n",
       "<td>4678256528885 08/33 045</td></tr><tr><td>0</td>\n",
       "<td>2023-11-29</td>\n",
       "<td>3623638936</td>\n",
       "<td>30344765583543 03/34 275</td></tr><tr><td>0</td>\n",
       "<td>2023-12-03</td>\n",
       "<td>3101809360</td>\n",
       "<td>4283886065281 04/32 795</td></tr><tr><td>0</td>\n",
       "<td>2023-12-05</td>\n",
       "<td>3326458447</td>\n",
       "<td>342616059206417 05/26 799</td></tr><tr><td>0</td>\n",
       "<td>2023-12-11</td>\n",
       "<td>2662883247</td>\n",
       "<td>3555795215649128 09/34 904</td></tr><tr><td>0</td>\n",
       "<td>2023-12-12</td>\n",
       "<td>2518460474</td>\n",
       "<td>2232784398629670 09/29 896</td></tr><tr><td>0</td>\n",
       "<td>2023-12-13</td>\n",
       "<td>3445343710</td>\n",
       "<td>502081307774 09/26 030</td></tr><tr><td>1</td>\n",
       "<td>2023-11-02</td>\n",
       "<td>3731226164</td>\n",
       "<td>3535225521333428 08/31 757</td></tr><tr><td>1</td>\n",
       "<td>2023-11-05</td>\n",
       "<td>1644513253</td>\n",
       "<td>3591737434444564 06/27 887</td> </tr> </tbody>\n",
       "        </table>\n",
       "        <p>...</p>\n",
       "        <p>Total: 910</p></div>\n",
       "        "
      ],
      "text/plain": [
       "*room    *date          guest_id       credit_card   \n",
       "+------+ +------------+ +------------+ +------------+\n",
       "0        2023-11-01     3104143429     26426379287162\n",
       "0        2023-11-06     2696488379     45726846349330\n",
       "0        2023-11-16     33919512       34503505451038\n",
       "0        2023-11-26     571117567      4678256528885 \n",
       "0        2023-11-29     3623638936     30344765583543\n",
       "0        2023-12-03     3101809360     4283886065281 \n",
       "0        2023-12-05     3326458447     34261605920641\n",
       "0        2023-12-11     2662883247     35557952156491\n",
       "0        2023-12-12     2518460474     22327843986296\n",
       "0        2023-12-13     3445343710     502081307774 0\n",
       "1        2023-11-02     3731226164     35352255213334\n",
       "1        2023-11-05     1644513253     35917374344445\n",
       "   ...\n",
       " (Total: 910)"
      ]
     },
     "execution_count": 17,
     "metadata": {},
     "output_type": "execute_result"
    }
   ],
   "source": [
    "# make a bunch of random reservations\n",
    "\n",
    "number_of_guests = 100\n",
    "max_nights = 20\n",
    "\n",
    "for i in tqdm.tqdm(range(number_of_guests)):\n",
    "    guest = fake.name()\n",
    "    credit_card=' '.join((fake.credit_card_number(), \n",
    "                          fake.credit_card_expire(), \n",
    "                          fake.credit_card_security_code()))\n",
    "    \n",
    "    for j in range(random.randint(1, max_nights)):\n",
    "        date =  fake.date_between_dates(start_date, start_date+datetime.timedelta(days=45))\n",
    "        room = random.randint(0, 80)\n",
    "        try:\n",
    "            reserve_room(room, date, guest, credit_card)\n",
    "        except HotelException as e:\n",
    "            print(repr(e))\n",
    "            \n",
    "# show successful reservations\n",
    "Reservation()"
   ]
  },
  {
   "cell_type": "code",
   "execution_count": 18,
   "id": "dbc10353",
   "metadata": {},
   "outputs": [
    {
     "data": {
      "text/html": [
       "\n",
       "    \n",
       "    <style type=\"text/css\">\n",
       "        .Table{\n",
       "            border-collapse:collapse;\n",
       "        }\n",
       "        .Table th{\n",
       "            background: #A0A0A0; color: #ffffff; padding:4px; border:#f0e0e0 1px solid;\n",
       "            font-weight: normal; font-family: monospace; font-size: 100%;\n",
       "        }\n",
       "        .Table td{\n",
       "            padding:4px; border:#f0e0e0 1px solid; font-size:100%;\n",
       "        }\n",
       "        .Table tr:nth-child(odd){\n",
       "            background: #ffffff;\n",
       "            color: #000000;\n",
       "        }\n",
       "        .Table tr:nth-child(even){\n",
       "            background: #f3f1ff;\n",
       "            color: #000000;\n",
       "        }\n",
       "        /* Tooltip container */\n",
       "        .djtooltip {\n",
       "        }\n",
       "        /* Tooltip text */\n",
       "        .djtooltip .djtooltiptext {\n",
       "            visibility: hidden;\n",
       "            width: 120px;\n",
       "            background-color: black;\n",
       "            color: #fff;\n",
       "            text-align: center;\n",
       "            padding: 5px 0;\n",
       "            border-radius: 6px;\n",
       "            /* Position the tooltip text - see examples below! */\n",
       "            position: absolute;\n",
       "            z-index: 1;\n",
       "        }\n",
       "        #primary {\n",
       "            font-weight: bold;\n",
       "            color: black;\n",
       "        }\n",
       "        #nonprimary {\n",
       "            font-weight: normal;\n",
       "            color: white;\n",
       "        }\n",
       "\n",
       "        /* Show the tooltip text when you mouse over the tooltip container */\n",
       "        .djtooltip:hover .djtooltiptext {\n",
       "            visibility: visible;\n",
       "        }\n",
       "    </style>\n",
       "    \n",
       "    <b></b>\n",
       "        <div style=\"max-height:1000px;max-width:1500px;overflow:auto;\">\n",
       "        <table border=\"1\" class=\"Table\">\n",
       "            <thead> <tr style=\"text-align: right;\"> <th> <div class=\"djtooltip\">\n",
       "                            <p id=\"primary\">guest_id</p>\n",
       "                            <span class=\"djtooltiptext\"></span>\n",
       "                        </div></th><th><div class=\"djtooltip\">\n",
       "                            <p id=\"nonprimary\">guest_name</p>\n",
       "                            <span class=\"djtooltiptext\"></span>\n",
       "                        </div> </th> </tr> </thead>\n",
       "            <tbody> <tr> <td>16344118</td>\n",
       "<td>Robert Sherman</td></tr><tr><td>26738894</td>\n",
       "<td>Tiffany Walsh</td></tr><tr><td>33919512</td>\n",
       "<td>Karen Thompson</td></tr><tr><td>52913269</td>\n",
       "<td>Mary Davila</td></tr><tr><td>65223945</td>\n",
       "<td>Jon Holden</td></tr><tr><td>152260186</td>\n",
       "<td>Crystal Fisher</td></tr><tr><td>169922840</td>\n",
       "<td>Kara Gomez</td></tr><tr><td>246058227</td>\n",
       "<td>Charles Howe</td></tr><tr><td>320236266</td>\n",
       "<td>Zachary Cruz</td></tr><tr><td>331329575</td>\n",
       "<td>Bethany Raymond</td></tr><tr><td>456889099</td>\n",
       "<td>Jordan Wall</td></tr><tr><td>461752275</td>\n",
       "<td>Jennifer Phillips</td> </tr> </tbody>\n",
       "        </table>\n",
       "        <p>...</p>\n",
       "        <p>Total: 100</p></div>\n",
       "        "
      ],
      "text/plain": [
       "*guest_id     guest_name    \n",
       "+-----------+ +------------+\n",
       "16344118      Robert Sherman\n",
       "26738894      Tiffany Walsh \n",
       "33919512      Karen Thompson\n",
       "52913269      Mary Davila   \n",
       "65223945      Jon Holden    \n",
       "152260186     Crystal Fisher\n",
       "169922840     Kara Gomez    \n",
       "246058227     Charles Howe  \n",
       "320236266     Zachary Cruz  \n",
       "331329575     Bethany Raymon\n",
       "456889099     Jordan Wall   \n",
       "461752275     Jennifer Phill\n",
       "   ...\n",
       " (Total: 100)"
      ]
     },
     "execution_count": 18,
     "metadata": {},
     "output_type": "execute_result"
    }
   ],
   "source": [
    "Guest()"
   ]
  },
  {
   "cell_type": "code",
   "execution_count": 19,
   "id": "81a75c55",
   "metadata": {},
   "outputs": [],
   "source": [
    "# Try check in\n",
    "check_in(2, datetime.date(2023, 11, 2))"
   ]
  },
  {
   "cell_type": "code",
   "execution_count": 20,
   "id": "8efc7fac",
   "metadata": {},
   "outputs": [
    {
     "name": "stderr",
     "output_type": "stream",
     "text": [
      " 40%|███▉      | 327/819 [00:00<00:00, 1104.34it/s]"
     ]
    },
    {
     "name": "stdout",
     "output_type": "stream",
     "text": [
      "AlreadyChecked(2, '2023-11-02')\n"
     ]
    },
    {
     "name": "stderr",
     "output_type": "stream",
     "text": [
      "100%|██████████| 819/819 [00:00<00:00, 1203.70it/s]\n"
     ]
    }
   ],
   "source": [
    "# checkin a bunch of people\n",
    "checkins = random.sample(Reservation().fetch('KEY'), k=int(0.9*len(Reservation())))\n",
    "for r in tqdm.tqdm(checkins):\n",
    "    try: \n",
    "        check_in(**r)\n",
    "    except AlreadyChecked as e:\n",
    "        print(repr(e))\n"
   ]
  },
  {
   "cell_type": "code",
   "execution_count": 21,
   "id": "ec862447",
   "metadata": {},
   "outputs": [
    {
     "data": {
      "text/html": [
       "\n",
       "    \n",
       "    <style type=\"text/css\">\n",
       "        .Table{\n",
       "            border-collapse:collapse;\n",
       "        }\n",
       "        .Table th{\n",
       "            background: #A0A0A0; color: #ffffff; padding:4px; border:#f0e0e0 1px solid;\n",
       "            font-weight: normal; font-family: monospace; font-size: 100%;\n",
       "        }\n",
       "        .Table td{\n",
       "            padding:4px; border:#f0e0e0 1px solid; font-size:100%;\n",
       "        }\n",
       "        .Table tr:nth-child(odd){\n",
       "            background: #ffffff;\n",
       "            color: #000000;\n",
       "        }\n",
       "        .Table tr:nth-child(even){\n",
       "            background: #f3f1ff;\n",
       "            color: #000000;\n",
       "        }\n",
       "        /* Tooltip container */\n",
       "        .djtooltip {\n",
       "        }\n",
       "        /* Tooltip text */\n",
       "        .djtooltip .djtooltiptext {\n",
       "            visibility: hidden;\n",
       "            width: 120px;\n",
       "            background-color: black;\n",
       "            color: #fff;\n",
       "            text-align: center;\n",
       "            padding: 5px 0;\n",
       "            border-radius: 6px;\n",
       "            /* Position the tooltip text - see examples below! */\n",
       "            position: absolute;\n",
       "            z-index: 1;\n",
       "        }\n",
       "        #primary {\n",
       "            font-weight: bold;\n",
       "            color: black;\n",
       "        }\n",
       "        #nonprimary {\n",
       "            font-weight: normal;\n",
       "            color: white;\n",
       "        }\n",
       "\n",
       "        /* Show the tooltip text when you mouse over the tooltip container */\n",
       "        .djtooltip:hover .djtooltiptext {\n",
       "            visibility: visible;\n",
       "        }\n",
       "    </style>\n",
       "    \n",
       "    <b></b>\n",
       "        <div style=\"max-height:1000px;max-width:1500px;overflow:auto;\">\n",
       "        <table border=\"1\" class=\"Table\">\n",
       "            <thead> <tr style=\"text-align: right;\"> <th> <div class=\"djtooltip\">\n",
       "                            <p id=\"primary\">room</p>\n",
       "                            <span class=\"djtooltiptext\"></span>\n",
       "                        </div></th><th><div class=\"djtooltip\">\n",
       "                            <p id=\"primary\">date</p>\n",
       "                            <span class=\"djtooltiptext\"></span>\n",
       "                        </div> </th> </tr> </thead>\n",
       "            <tbody> <tr> <td>0</td>\n",
       "<td>2023-11-01</td></tr><tr><td>0</td>\n",
       "<td>2023-11-06</td></tr><tr><td>0</td>\n",
       "<td>2023-11-16</td></tr><tr><td>0</td>\n",
       "<td>2023-11-26</td></tr><tr><td>0</td>\n",
       "<td>2023-11-29</td></tr><tr><td>0</td>\n",
       "<td>2023-12-03</td></tr><tr><td>0</td>\n",
       "<td>2023-12-11</td></tr><tr><td>0</td>\n",
       "<td>2023-12-12</td></tr><tr><td>0</td>\n",
       "<td>2023-12-13</td></tr><tr><td>1</td>\n",
       "<td>2023-11-05</td></tr><tr><td>1</td>\n",
       "<td>2023-11-08</td></tr><tr><td>1</td>\n",
       "<td>2023-11-09</td> </tr> </tbody>\n",
       "        </table>\n",
       "        <p>...</p>\n",
       "        <p>Total: 819</p></div>\n",
       "        "
      ],
      "text/plain": [
       "*room    *date         \n",
       "+------+ +------------+\n",
       "0        2023-11-01    \n",
       "0        2023-11-06    \n",
       "0        2023-11-16    \n",
       "0        2023-11-26    \n",
       "0        2023-11-29    \n",
       "0        2023-12-03    \n",
       "0        2023-12-11    \n",
       "0        2023-12-12    \n",
       "0        2023-12-13    \n",
       "1        2023-11-05    \n",
       "1        2023-11-08    \n",
       "1        2023-11-09    \n",
       "   ...\n",
       " (Total: 819)"
      ]
     },
     "execution_count": 21,
     "metadata": {},
     "output_type": "execute_result"
    }
   ],
   "source": [
    "CheckIn()"
   ]
  },
  {
   "cell_type": "code",
   "execution_count": 22,
   "id": "2faabb54",
   "metadata": {},
   "outputs": [
    {
     "ename": "AlreadyChecked",
     "evalue": "(7, '2023-12-12')",
     "output_type": "error",
     "traceback": [
      "\u001b[31mAlreadyChecked\u001b[39m\u001b[31m:\u001b[39m (7, '2023-12-12')\n"
     ]
    }
   ],
   "source": [
    "# Try duplicate checkin -- should fail \n",
    "check_in(**checkins[0])"
   ]
  },
  {
   "cell_type": "code",
   "execution_count": 23,
   "id": "5236b125",
   "metadata": {},
   "outputs": [
    {
     "ename": "NotCheckedIn",
     "evalue": "(2, '2023-10-02')",
     "output_type": "error",
     "traceback": [
      "\u001b[31mNotCheckedIn\u001b[39m\u001b[31m:\u001b[39m (2, '2023-10-02')\n"
     ]
    }
   ],
   "source": [
    "# Try checkout\n",
    "\n",
    "check_out(2, datetime.date(2023, 10, 2))"
   ]
  },
  {
   "cell_type": "code",
   "execution_count": 24,
   "id": "85a3a740",
   "metadata": {},
   "outputs": [
    {
     "name": "stderr",
     "output_type": "stream",
     "text": [
      "100%|██████████| 737/737 [00:00<00:00, 1450.70it/s]\n"
     ]
    }
   ],
   "source": [
    "# checkout a bunch of people\n",
    "checkouts = random.sample(CheckIn().fetch('KEY'), k=int(0.9*len(CheckIn())))\n",
    "for r in tqdm.tqdm(checkouts):\n",
    "    try:\n",
    "        check_out(**r)\n",
    "    except AlreadyChecked as e:\n",
    "        print(repr(e))"
   ]
  },
  {
   "cell_type": "code",
   "execution_count": 26,
   "id": "5151ae4b",
   "metadata": {},
   "outputs": [
    {
     "ename": "AlreadyChecked",
     "evalue": "(28, '2023-11-29')",
     "output_type": "error",
     "traceback": [
      "\u001b[31mAlreadyChecked\u001b[39m\u001b[31m:\u001b[39m (28, '2023-11-29')\n"
     ]
    }
   ],
   "source": [
    "# try duplicate checkout -- should fail\n",
    "\n",
    "check_out(**checkouts[0])"
   ]
  }
 ],
 "metadata": {
  "kernelspec": {
   "display_name": "base",
   "language": "python",
   "name": "python3"
  },
  "language_info": {
   "codemirror_mode": {
    "name": "ipython",
    "version": 3
   },
   "file_extension": ".py",
   "mimetype": "text/x-python",
   "name": "python",
   "nbconvert_exporter": "python",
   "pygments_lexer": "ipython3",
   "version": "3.13.2"
  }
 },
 "nbformat": 4,
 "nbformat_minor": 5
}
