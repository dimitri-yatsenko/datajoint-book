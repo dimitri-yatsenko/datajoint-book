{
 "cells": [
  {
   "cell_type": "markdown",
   "metadata": {},
   "source": [
    "# UUIDs\n",
    "## Background\n",
    "Universally Unique Identifiers (UUIDs) provide convenient mechanisms for identifying pieces of information (objects) inside an information system. Various conventions exist. However, general patterns have been established and formalized as RFC 4122.\n",
    "\n",
    "Comprised of hex digits, UUIDs have the pattern `8-4-4-4-12`, e.g. `e45ba2cc-39db-11e9-8e62-7470fdf23ef1`.\n",
    "\n",
    "It adds up to 36 characters (32 hex + 4 hyphens), or 16 bytes of information (128 bits).\n",
    "\n",
    "Python provides a [UUID module](https://docs.python.org/3/library/uuid.html) in its standard library."
   ]
  },
  {
   "cell_type": "code",
   "execution_count": 2,
   "metadata": {},
   "outputs": [],
   "source": [
    "import uuid"
   ]
  },
  {
   "cell_type": "code",
   "execution_count": 3,
   "metadata": {},
   "outputs": [
    {
     "name": "stdout",
     "output_type": "stream",
     "text": [
      "Help on function uuid1 in module uuid:\n",
      "\n",
      "uuid1(node=None, clock_seq=None)\n",
      "    Generate a UUID from a host ID, sequence number, and the current time.\n",
      "    If 'node' is not given, getnode() is used to obtain the hardware\n",
      "    address.  If 'clock_seq' is given, it is used as the sequence number;\n",
      "    otherwise a random 14-bit sequence number is chosen.\n",
      "\n"
     ]
    }
   ],
   "source": [
    "help(uuid.uuid1)"
   ]
  },
  {
   "cell_type": "code",
   "execution_count": 4,
   "metadata": {},
   "outputs": [
    {
     "data": {
      "text/plain": [
       "UUID('f9a46b8c-6d43-11ee-8c98-0242ac120002')"
      ]
     },
     "execution_count": 4,
     "metadata": {},
     "output_type": "execute_result"
    }
   ],
   "source": [
    "uuid.uuid1()"
   ]
  },
  {
   "cell_type": "code",
   "execution_count": 5,
   "metadata": {},
   "outputs": [
    {
     "data": {
      "text/plain": [
       "[UUID('fa69277e-6d43-11ee-8c98-0242ac120002'),\n",
       " UUID('fa6928e6-6d43-11ee-8c98-0242ac120002'),\n",
       " UUID('fa6929d6-6d43-11ee-8c98-0242ac120002'),\n",
       " UUID('fa692ac6-6d43-11ee-8c98-0242ac120002'),\n",
       " UUID('fa692b8e-6d43-11ee-8c98-0242ac120002'),\n",
       " UUID('fa692c56-6d43-11ee-8c98-0242ac120002'),\n",
       " UUID('fa692d1e-6d43-11ee-8c98-0242ac120002'),\n",
       " UUID('fa692de6-6d43-11ee-8c98-0242ac120002')]"
      ]
     },
     "execution_count": 5,
     "metadata": {},
     "output_type": "execute_result"
    }
   ],
   "source": [
    "# use the current hardware address and time\n",
    "[uuid.uuid1() for _ in range(8)]"
   ]
  },
  {
   "cell_type": "code",
   "execution_count": 6,
   "metadata": {},
   "outputs": [
    {
     "data": {
      "text/plain": [
       "[UUID('faf96eb0-6d43-11ee-8c98-0242ac120002'),\n",
       " UUID('faf96fb4-6d43-11ee-8c98-0242ac120002'),\n",
       " UUID('faf97054-6d43-11ee-8c98-0242ac120002'),\n",
       " UUID('faf970e0-6d43-11ee-8c98-0242ac120002'),\n",
       " UUID('faf97162-6d43-11ee-8c98-0242ac120002')]"
      ]
     },
     "execution_count": 6,
     "metadata": {},
     "output_type": "execute_result"
    }
   ],
   "source": [
    "# use the current hardware address and time\n",
    "[uuid.uuid1() for _ in range(5)]"
   ]
  },
  {
   "cell_type": "code",
   "execution_count": 7,
   "metadata": {},
   "outputs": [
    {
     "data": {
      "text/plain": [
       "[UUID('fc601494-6d43-11ee-8001-000000000003'),\n",
       " UUID('fc60155a-6d43-11ee-8001-000000000003'),\n",
       " UUID('fc6015b2-6d43-11ee-8001-000000000003'),\n",
       " UUID('fc6015e3-6d43-11ee-8001-000000000003'),\n",
       " UUID('fc60160a-6d43-11ee-8001-000000000003')]"
      ]
     },
     "execution_count": 7,
     "metadata": {},
     "output_type": "execute_result"
    }
   ],
   "source": [
    "# use fixed values\n",
    "[uuid.uuid1(3, 1) for _ in range(5)]"
   ]
  },
  {
   "cell_type": "code",
   "execution_count": 8,
   "metadata": {},
   "outputs": [
    {
     "name": "stdout",
     "output_type": "stream",
     "text": [
      "Help on function uuid1 in module uuid:\n",
      "\n",
      "uuid1(node=None, clock_seq=None)\n",
      "    Generate a UUID from a host ID, sequence number, and the current time.\n",
      "    If 'node' is not given, getnode() is used to obtain the hardware\n",
      "    address.  If 'clock_seq' is given, it is used as the sequence number;\n",
      "    otherwise a random 14-bit sequence number is chosen.\n",
      "\n"
     ]
    }
   ],
   "source": [
    "help(uuid.uuid1)"
   ]
  },
  {
   "cell_type": "code",
   "execution_count": 9,
   "metadata": {},
   "outputs": [
    {
     "name": "stdout",
     "output_type": "stream",
     "text": [
      "Help on function uuid3 in module uuid:\n",
      "\n",
      "uuid3(namespace, name)\n",
      "    Generate a UUID from the MD5 hash of a namespace UUID and a name.\n",
      "\n"
     ]
    }
   ],
   "source": [
    "help(uuid.uuid3)"
   ]
  },
  {
   "cell_type": "code",
   "execution_count": 10,
   "metadata": {},
   "outputs": [
    {
     "name": "stdout",
     "output_type": "stream",
     "text": [
      "Help on function uuid5 in module uuid:\n",
      "\n",
      "uuid5(namespace, name)\n",
      "    Generate a UUID from the SHA-1 hash of a namespace UUID and a name.\n",
      "\n"
     ]
    }
   ],
   "source": [
    "help(uuid.uuid5)"
   ]
  },
  {
   "cell_type": "code",
   "execution_count": 11,
   "metadata": {},
   "outputs": [],
   "source": [
    "top = uuid.UUID('00000000-0000-0000-0000-000000000000')\n"
   ]
  },
  {
   "cell_type": "code",
   "execution_count": 12,
   "metadata": {},
   "outputs": [
    {
     "data": {
      "text/plain": [
       "UUID('00000000-0000-0000-0000-000000000000')"
      ]
     },
     "execution_count": 12,
     "metadata": {},
     "output_type": "execute_result"
    }
   ],
   "source": [
    "top"
   ]
  },
  {
   "cell_type": "code",
   "execution_count": 13,
   "metadata": {},
   "outputs": [
    {
     "data": {
      "text/plain": [
       "UUID('913e0174-a390-5c08-b50a-623690546dd5')"
      ]
     },
     "execution_count": 13,
     "metadata": {},
     "output_type": "execute_result"
    }
   ],
   "source": [
    "topic = uuid.uuid5(top, 'Neuroscience')\n",
    "topic"
   ]
  },
  {
   "cell_type": "code",
   "execution_count": 14,
   "metadata": {},
   "outputs": [
    {
     "data": {
      "text/plain": [
       "UUID('b5804c3f-57b1-54e3-8176-3b45aa443a97')"
      ]
     },
     "execution_count": 14,
     "metadata": {},
     "output_type": "execute_result"
    }
   ],
   "source": [
    "subject1 = uuid.uuid5(topic, 'Habenula')\n",
    "subject1"
   ]
  },
  {
   "cell_type": "code",
   "execution_count": 15,
   "metadata": {},
   "outputs": [
    {
     "data": {
      "text/plain": [
       "(UUID('345b4a08-7955-5b86-8646-f0826799afe9'),\n",
       " UUID('b5804c3f-57b1-54e3-8176-3b45aa443a97'),\n",
       " UUID('58571fff-c6bd-583f-88ac-ef0b8ff2981f'),\n",
       " UUID('b5804c3f-57b1-54e3-8176-3b45aa443a97'),\n",
       " UUID('6340129b-3a59-5354-aec6-5df769ae2ce7'))"
      ]
     },
     "execution_count": 15,
     "metadata": {},
     "output_type": "execute_result"
    }
   ],
   "source": [
    "top = uuid.UUID('00000000-0000-0000-0000-000000000000')\n",
    "topic = uuid.uuid5(top, 'Neuroscience')\n",
    "subject1 = uuid.uuid5(topic, 'Habenula')\n",
    "subject2 = uuid.uuid5(topic, 'Entorhinal cortex')\n",
    "subject3 = uuid.uuid5(topic, 'Habenula')\n",
    "\n",
    "topic = uuid.uuid5(top, 'Philosophy')\n",
    "subject4 = uuid.uuid5(topic, 'Habenula')\n",
    "\n",
    "topic, subject1, subject2, subject3, subject4"
   ]
  },
  {
   "cell_type": "code",
   "execution_count": 16,
   "metadata": {},
   "outputs": [
    {
     "data": {
      "text/plain": [
       "UUID('3d9d9035-dec3-5fc8-b66c-38cd8537acbe')"
      ]
     },
     "execution_count": 16,
     "metadata": {},
     "output_type": "execute_result"
    }
   ],
   "source": [
    "uuid.uuid5(subject4, 'study'*1000000)"
   ]
  },
  {
   "cell_type": "code",
   "execution_count": 17,
   "metadata": {},
   "outputs": [
    {
     "name": "stdout",
     "output_type": "stream",
     "text": [
      "Help on function uuid4 in module uuid:\n",
      "\n",
      "uuid4()\n",
      "    Generate a random UUID.\n",
      "\n"
     ]
    }
   ],
   "source": [
    "help(uuid.uuid4)"
   ]
  },
  {
   "cell_type": "code",
   "execution_count": 18,
   "metadata": {},
   "outputs": [
    {
     "data": {
      "text/plain": [
       "[UUID('e97fb242-f513-491b-b628-cdc10745bed7'),\n",
       " UUID('6240cec4-bf4d-434e-b284-53722fd2c9b7'),\n",
       " UUID('789fcb88-ea0f-4a1e-a670-914a82ba7e07'),\n",
       " UUID('efb07c22-1a94-4b5f-bc6e-7653321176c0'),\n",
       " UUID('706203b8-de8b-4802-b83b-d6cf1c8e671f'),\n",
       " UUID('660d7e08-2e03-49b8-a4c1-5dd124750c69'),\n",
       " UUID('3dd8e385-0c68-4ae5-b5f5-c075b2b3aa5a'),\n",
       " UUID('d1cc073e-d1d1-449b-82f9-f57b509dfe7d'),\n",
       " UUID('8356b5b5-90d0-489c-8fa9-7e6352a3cca6'),\n",
       " UUID('32d015c0-c3b1-4f65-a9c7-57ac1b1e6ca1'),\n",
       " UUID('a108f427-5ce6-456e-84f8-e4620ed489db'),\n",
       " UUID('b4e58cd8-e0c2-47be-ab5b-d839f27bda1b')]"
      ]
     },
     "execution_count": 18,
     "metadata": {},
     "output_type": "execute_result"
    }
   ],
   "source": [
    "[uuid.uuid4() for _ in range(12)]"
   ]
  },
  {
   "cell_type": "markdown",
   "metadata": {},
   "source": [
    "## UUIDs in DataJoint"
   ]
  },
  {
   "cell_type": "code",
   "execution_count": 19,
   "metadata": {},
   "outputs": [
    {
     "data": {
      "text/plain": [
       "'0.14.1'"
      ]
     },
     "execution_count": 19,
     "metadata": {},
     "output_type": "execute_result"
    }
   ],
   "source": [
    "import datajoint as dj\n",
    "dj.__version__"
   ]
  },
  {
   "cell_type": "code",
   "execution_count": 20,
   "metadata": {},
   "outputs": [
    {
     "name": "stderr",
     "output_type": "stream",
     "text": [
      "[2023-10-17 23:22:36,428][INFO]: Connecting root@fakeservices.datajoint.io:3306\n",
      "[2023-10-17 23:22:36,446][INFO]: Connected root@fakeservices.datajoint.io:3306\n"
     ]
    }
   ],
   "source": [
    "schema = dj.Schema('uuid')"
   ]
  },
  {
   "cell_type": "code",
   "execution_count": 21,
   "metadata": {},
   "outputs": [],
   "source": [
    "@schema\n",
    "class Message(dj.Manual):\n",
    "    definition = \"\"\"\n",
    "    message_id : uuid  # internal message id\n",
    "    ---\n",
    "    message_body : varchar(1000) \n",
    "    \"\"\""
   ]
  },
  {
   "cell_type": "code",
   "execution_count": 24,
   "metadata": {},
   "outputs": [
    {
     "name": "stdout",
     "output_type": "stream",
     "text": [
      "message_id           : uuid                         # internal message id\n",
      "---\n",
      "message_body         : varchar(1000)                \n",
      "\n"
     ]
    }
   ],
   "source": [
    "print(Message.describe())"
   ]
  },
  {
   "cell_type": "code",
   "execution_count": 25,
   "metadata": {},
   "outputs": [
    {
     "data": {
      "text/plain": [
       "'`message_id` binary(16) NOT NULL COMMENT \":uuid:internal message id\"'"
      ]
     },
     "execution_count": 25,
     "metadata": {},
     "output_type": "execute_result"
    }
   ],
   "source": [
    "# For the curious: Internally, DataJoint represents uuids as BINARY(16) \n",
    "Message.heading['message_id'].sql"
   ]
  },
  {
   "cell_type": "code",
   "execution_count": 26,
   "metadata": {},
   "outputs": [],
   "source": [
    "Message.insert1((uuid.uuid1(), 'Hello, world!'))\n",
    "Message.insert1((uuid.uuid1(), 'Cogito ergo sum'))"
   ]
  },
  {
   "cell_type": "code",
   "execution_count": 32,
   "metadata": {},
   "outputs": [
    {
     "data": {
      "text/html": [
       "\n",
       "    \n",
       "    <style type=\"text/css\">\n",
       "        .Table{\n",
       "            border-collapse:collapse;\n",
       "        }\n",
       "        .Table th{\n",
       "            background: #A0A0A0; color: #ffffff; padding:4px; border:#f0e0e0 1px solid;\n",
       "            font-weight: normal; font-family: monospace; font-size: 100%;\n",
       "        }\n",
       "        .Table td{\n",
       "            padding:4px; border:#f0e0e0 1px solid; font-size:100%;\n",
       "        }\n",
       "        .Table tr:nth-child(odd){\n",
       "            background: #ffffff;\n",
       "            color: #000000;\n",
       "        }\n",
       "        .Table tr:nth-child(even){\n",
       "            background: #f3f1ff;\n",
       "            color: #000000;\n",
       "        }\n",
       "        /* Tooltip container */\n",
       "        .djtooltip {\n",
       "        }\n",
       "        /* Tooltip text */\n",
       "        .djtooltip .djtooltiptext {\n",
       "            visibility: hidden;\n",
       "            width: 120px;\n",
       "            background-color: black;\n",
       "            color: #fff;\n",
       "            text-align: center;\n",
       "            padding: 5px 0;\n",
       "            border-radius: 6px;\n",
       "            /* Position the tooltip text - see examples below! */\n",
       "            position: absolute;\n",
       "            z-index: 1;\n",
       "        }\n",
       "        #primary {\n",
       "            font-weight: bold;\n",
       "            color: black;\n",
       "        }\n",
       "        #nonprimary {\n",
       "            font-weight: normal;\n",
       "            color: white;\n",
       "        }\n",
       "\n",
       "        /* Show the tooltip text when you mouse over the tooltip container */\n",
       "        .djtooltip:hover .djtooltiptext {\n",
       "            visibility: visible;\n",
       "        }\n",
       "    </style>\n",
       "    \n",
       "    <b></b>\n",
       "        <div style=\"max-height:1000px;max-width:1500px;overflow:auto;\">\n",
       "        <table border=\"1\" class=\"Table\">\n",
       "            <thead> <tr style=\"text-align: right;\"> <th> <div class=\"djtooltip\">\n",
       "                            <p id=\"primary\">message_id</p>\n",
       "                            <span class=\"djtooltiptext\">internal message id</span>\n",
       "                        </div></th><th><div class=\"djtooltip\">\n",
       "                            <p id=\"nonprimary\">message_body</p>\n",
       "                            <span class=\"djtooltiptext\"></span>\n",
       "                        </div> </th> </tr> </thead>\n",
       "            <tbody> <tr> <td>681a997e-6d44-11ee-8c98-0242ac120002</td>\n",
       "<td>Hello, world!</td></tr><tr><td>68214b2a-6d44-11ee-8c98-0242ac120002</td>\n",
       "<td>Cogito ergo sum</td></tr><tr><td>71a3e82e-6d44-11ee-8c98-0242ac120002</td>\n",
       "<td>I will be back</td></tr><tr><td>71aa3580-6d44-11ee-8c98-0242ac120002</td>\n",
       "<td>Must destroy humans.</td></tr><tr><td>82f8a010-6d44-11ee-8c98-0242ac120002</td>\n",
       "<td>I will be back</td></tr><tr><td>82ffbb84-6d44-11ee-8c98-0242ac120002</td>\n",
       "<td>Must destroy humans.</td></tr><tr><td>83f36c84-6d44-11ee-8c98-0242ac120002</td>\n",
       "<td>I will be back</td></tr><tr><td>83f890ba-6d44-11ee-8c98-0242ac120002</td>\n",
       "<td>Must destroy humans.</td></tr><tr><td>84dd3aa8-6d44-11ee-8c98-0242ac120002</td>\n",
       "<td>I will be back</td></tr><tr><td>84e27202-6d44-11ee-8c98-0242ac120002</td>\n",
       "<td>Must destroy humans.</td> </tr> </tbody>\n",
       "        </table>\n",
       "        \n",
       "        <p>Total: 10</p></div>\n",
       "        "
      ],
      "text/plain": [
       "*message_id    message_body  \n",
       "+------------+ +------------+\n",
       "681a997e-6d44- Hello, world! \n",
       "68214b2a-6d44- Cogito ergo su\n",
       "71a3e82e-6d44- I will be back\n",
       "71aa3580-6d44- Must destroy h\n",
       "82f8a010-6d44- I will be back\n",
       "82ffbb84-6d44- Must destroy h\n",
       "83f36c84-6d44- I will be back\n",
       "83f890ba-6d44- Must destroy h\n",
       "84dd3aa8-6d44- I will be back\n",
       "84e27202-6d44- Must destroy h\n",
       " (Total: 10)"
      ]
     },
     "execution_count": 32,
     "metadata": {},
     "output_type": "execute_result"
    }
   ],
   "source": [
    "Message()"
   ]
  },
  {
   "cell_type": "code",
   "execution_count": 31,
   "metadata": {},
   "outputs": [],
   "source": [
    "Message.insert1((uuid.uuid1(), 'I will be back'))\n",
    "Message.insert1((uuid.uuid1(), 'Must destroy humans.'))"
   ]
  },
  {
   "cell_type": "code",
   "execution_count": 33,
   "metadata": {},
   "outputs": [
    {
     "data": {
      "text/plain": [
       "b\"\\xa4\\xfd\\xe8\\x94\\x0f@@\\x95\\xa7 '5$\\xf8\\x06\\x97\""
      ]
     },
     "execution_count": 33,
     "metadata": {},
     "output_type": "execute_result"
    }
   ],
   "source": [
    "b = uuid.uuid4().bytes\n",
    "b"
   ]
  },
  {
   "cell_type": "code",
   "execution_count": 34,
   "metadata": {},
   "outputs": [
    {
     "data": {
      "text/plain": [
       "UUID('a4fde894-0f40-4095-a720-273524f80697')"
      ]
     },
     "execution_count": 34,
     "metadata": {},
     "output_type": "execute_result"
    }
   ],
   "source": [
    "uuid.UUID(bytes=b)"
   ]
  },
  {
   "cell_type": "code",
   "execution_count": 35,
   "metadata": {},
   "outputs": [
    {
     "data": {
      "text/html": [
       "\n",
       "    \n",
       "    <style type=\"text/css\">\n",
       "        .Table{\n",
       "            border-collapse:collapse;\n",
       "        }\n",
       "        .Table th{\n",
       "            background: #A0A0A0; color: #ffffff; padding:4px; border:#f0e0e0 1px solid;\n",
       "            font-weight: normal; font-family: monospace; font-size: 100%;\n",
       "        }\n",
       "        .Table td{\n",
       "            padding:4px; border:#f0e0e0 1px solid; font-size:100%;\n",
       "        }\n",
       "        .Table tr:nth-child(odd){\n",
       "            background: #ffffff;\n",
       "            color: #000000;\n",
       "        }\n",
       "        .Table tr:nth-child(even){\n",
       "            background: #f3f1ff;\n",
       "            color: #000000;\n",
       "        }\n",
       "        /* Tooltip container */\n",
       "        .djtooltip {\n",
       "        }\n",
       "        /* Tooltip text */\n",
       "        .djtooltip .djtooltiptext {\n",
       "            visibility: hidden;\n",
       "            width: 120px;\n",
       "            background-color: black;\n",
       "            color: #fff;\n",
       "            text-align: center;\n",
       "            padding: 5px 0;\n",
       "            border-radius: 6px;\n",
       "            /* Position the tooltip text - see examples below! */\n",
       "            position: absolute;\n",
       "            z-index: 1;\n",
       "        }\n",
       "        #primary {\n",
       "            font-weight: bold;\n",
       "            color: black;\n",
       "        }\n",
       "        #nonprimary {\n",
       "            font-weight: normal;\n",
       "            color: white;\n",
       "        }\n",
       "\n",
       "        /* Show the tooltip text when you mouse over the tooltip container */\n",
       "        .djtooltip:hover .djtooltiptext {\n",
       "            visibility: visible;\n",
       "        }\n",
       "    </style>\n",
       "    \n",
       "    <b></b>\n",
       "        <div style=\"max-height:1000px;max-width:1500px;overflow:auto;\">\n",
       "        <table border=\"1\" class=\"Table\">\n",
       "            <thead> <tr style=\"text-align: right;\"> <th> <div class=\"djtooltip\">\n",
       "                            <p id=\"primary\">message_id</p>\n",
       "                            <span class=\"djtooltiptext\">internal message id</span>\n",
       "                        </div></th><th><div class=\"djtooltip\">\n",
       "                            <p id=\"nonprimary\">message_body</p>\n",
       "                            <span class=\"djtooltiptext\"></span>\n",
       "                        </div> </th> </tr> </thead>\n",
       "            <tbody> <tr> <td>681a997e-6d44-11ee-8c98-0242ac120002</td>\n",
       "<td>Hello, world!</td></tr><tr><td>68214b2a-6d44-11ee-8c98-0242ac120002</td>\n",
       "<td>Cogito ergo sum</td></tr><tr><td>71a3e82e-6d44-11ee-8c98-0242ac120002</td>\n",
       "<td>I will be back</td></tr><tr><td>71aa3580-6d44-11ee-8c98-0242ac120002</td>\n",
       "<td>Must destroy humans.</td></tr><tr><td>82f8a010-6d44-11ee-8c98-0242ac120002</td>\n",
       "<td>I will be back</td></tr><tr><td>82ffbb84-6d44-11ee-8c98-0242ac120002</td>\n",
       "<td>Must destroy humans.</td></tr><tr><td>83f36c84-6d44-11ee-8c98-0242ac120002</td>\n",
       "<td>I will be back</td></tr><tr><td>83f890ba-6d44-11ee-8c98-0242ac120002</td>\n",
       "<td>Must destroy humans.</td></tr><tr><td>84dd3aa8-6d44-11ee-8c98-0242ac120002</td>\n",
       "<td>I will be back</td></tr><tr><td>84e27202-6d44-11ee-8c98-0242ac120002</td>\n",
       "<td>Must destroy humans.</td> </tr> </tbody>\n",
       "        </table>\n",
       "        \n",
       "        <p>Total: 10</p></div>\n",
       "        "
      ],
      "text/plain": [
       "*message_id    message_body  \n",
       "+------------+ +------------+\n",
       "681a997e-6d44- Hello, world! \n",
       "68214b2a-6d44- Cogito ergo su\n",
       "71a3e82e-6d44- I will be back\n",
       "71aa3580-6d44- Must destroy h\n",
       "82f8a010-6d44- I will be back\n",
       "82ffbb84-6d44- Must destroy h\n",
       "83f36c84-6d44- I will be back\n",
       "83f890ba-6d44- Must destroy h\n",
       "84dd3aa8-6d44- I will be back\n",
       "84e27202-6d44- Must destroy h\n",
       " (Total: 10)"
      ]
     },
     "execution_count": 35,
     "metadata": {},
     "output_type": "execute_result"
    }
   ],
   "source": [
    "Message()"
   ]
  },
  {
   "cell_type": "code",
   "execution_count": 36,
   "metadata": {},
   "outputs": [],
   "source": [
    "Message.insert1((uuid.uuid4(), 'Hasta la vista baby'))"
   ]
  },
  {
   "cell_type": "code",
   "execution_count": 37,
   "metadata": {},
   "outputs": [
    {
     "data": {
      "text/html": [
       "\n",
       "    \n",
       "    <style type=\"text/css\">\n",
       "        .Table{\n",
       "            border-collapse:collapse;\n",
       "        }\n",
       "        .Table th{\n",
       "            background: #A0A0A0; color: #ffffff; padding:4px; border:#f0e0e0 1px solid;\n",
       "            font-weight: normal; font-family: monospace; font-size: 100%;\n",
       "        }\n",
       "        .Table td{\n",
       "            padding:4px; border:#f0e0e0 1px solid; font-size:100%;\n",
       "        }\n",
       "        .Table tr:nth-child(odd){\n",
       "            background: #ffffff;\n",
       "            color: #000000;\n",
       "        }\n",
       "        .Table tr:nth-child(even){\n",
       "            background: #f3f1ff;\n",
       "            color: #000000;\n",
       "        }\n",
       "        /* Tooltip container */\n",
       "        .djtooltip {\n",
       "        }\n",
       "        /* Tooltip text */\n",
       "        .djtooltip .djtooltiptext {\n",
       "            visibility: hidden;\n",
       "            width: 120px;\n",
       "            background-color: black;\n",
       "            color: #fff;\n",
       "            text-align: center;\n",
       "            padding: 5px 0;\n",
       "            border-radius: 6px;\n",
       "            /* Position the tooltip text - see examples below! */\n",
       "            position: absolute;\n",
       "            z-index: 1;\n",
       "        }\n",
       "        #primary {\n",
       "            font-weight: bold;\n",
       "            color: black;\n",
       "        }\n",
       "        #nonprimary {\n",
       "            font-weight: normal;\n",
       "            color: white;\n",
       "        }\n",
       "\n",
       "        /* Show the tooltip text when you mouse over the tooltip container */\n",
       "        .djtooltip:hover .djtooltiptext {\n",
       "            visibility: visible;\n",
       "        }\n",
       "    </style>\n",
       "    \n",
       "    <b></b>\n",
       "        <div style=\"max-height:1000px;max-width:1500px;overflow:auto;\">\n",
       "        <table border=\"1\" class=\"Table\">\n",
       "            <thead> <tr style=\"text-align: right;\"> <th> <div class=\"djtooltip\">\n",
       "                            <p id=\"primary\">message_id</p>\n",
       "                            <span class=\"djtooltiptext\">internal message id</span>\n",
       "                        </div></th><th><div class=\"djtooltip\">\n",
       "                            <p id=\"nonprimary\">message_body</p>\n",
       "                            <span class=\"djtooltiptext\"></span>\n",
       "                        </div> </th> </tr> </thead>\n",
       "            <tbody> <tr> <td>553e2582-bc00-4c3e-a316-47c754f0677f</td>\n",
       "<td>Hasta la vista baby</td></tr><tr><td>681a997e-6d44-11ee-8c98-0242ac120002</td>\n",
       "<td>Hello, world!</td></tr><tr><td>68214b2a-6d44-11ee-8c98-0242ac120002</td>\n",
       "<td>Cogito ergo sum</td></tr><tr><td>71a3e82e-6d44-11ee-8c98-0242ac120002</td>\n",
       "<td>I will be back</td></tr><tr><td>71aa3580-6d44-11ee-8c98-0242ac120002</td>\n",
       "<td>Must destroy humans.</td></tr><tr><td>82f8a010-6d44-11ee-8c98-0242ac120002</td>\n",
       "<td>I will be back</td></tr><tr><td>82ffbb84-6d44-11ee-8c98-0242ac120002</td>\n",
       "<td>Must destroy humans.</td></tr><tr><td>83f36c84-6d44-11ee-8c98-0242ac120002</td>\n",
       "<td>I will be back</td></tr><tr><td>83f890ba-6d44-11ee-8c98-0242ac120002</td>\n",
       "<td>Must destroy humans.</td></tr><tr><td>84dd3aa8-6d44-11ee-8c98-0242ac120002</td>\n",
       "<td>I will be back</td></tr><tr><td>84e27202-6d44-11ee-8c98-0242ac120002</td>\n",
       "<td>Must destroy humans.</td> </tr> </tbody>\n",
       "        </table>\n",
       "        \n",
       "        <p>Total: 11</p></div>\n",
       "        "
      ],
      "text/plain": [
       "*message_id    message_body  \n",
       "+------------+ +------------+\n",
       "553e2582-bc00- Hasta la vista\n",
       "681a997e-6d44- Hello, world! \n",
       "68214b2a-6d44- Cogito ergo su\n",
       "71a3e82e-6d44- I will be back\n",
       "71aa3580-6d44- Must destroy h\n",
       "82f8a010-6d44- I will be back\n",
       "82ffbb84-6d44- Must destroy h\n",
       "83f36c84-6d44- I will be back\n",
       "83f890ba-6d44- Must destroy h\n",
       "84dd3aa8-6d44- I will be back\n",
       "84e27202-6d44- Must destroy h\n",
       " (Total: 11)"
      ]
     },
     "execution_count": 37,
     "metadata": {},
     "output_type": "execute_result"
    }
   ],
   "source": [
    "Message()"
   ]
  },
  {
   "cell_type": "code",
   "execution_count": 38,
   "metadata": {},
   "outputs": [],
   "source": [
    "@schema\n",
    "class Comment(dj.Manual):\n",
    "    definition = \"\"\"\n",
    "    comment_id : uuid\n",
    "    --- \n",
    "    -> Message\n",
    "    comment_body : varchar(1000)\n",
    "    \"\"\""
   ]
  },
  {
   "cell_type": "code",
   "execution_count": 39,
   "metadata": {},
   "outputs": [
    {
     "name": "stdout",
     "output_type": "stream",
     "text": [
      "CREATE TABLE `comment` (\n",
      "  `comment_id` binary(16) NOT NULL COMMENT ':uuid:',\n",
      "  `message_id` binary(16) NOT NULL COMMENT ':uuid:internal message id',\n",
      "  `comment_body` varchar(1000) NOT NULL,\n",
      "  PRIMARY KEY (`comment_id`),\n",
      "  KEY `message_id` (`message_id`),\n",
      "  CONSTRAINT `comment_ibfk_1` FOREIGN KEY (`message_id`) REFERENCES `message` (`message_id`) ON DELETE RESTRICT ON UPDATE CASCADE\n",
      ") ENGINE=InnoDB DEFAULT CHARSET=utf8mb4 COLLATE=utf8mb4_0900_ai_ci\n"
     ]
    }
   ],
   "source": [
    "# For the curious: This is how the table was declared in SQL\n",
    "print(schema.connection.query('show create table `uuid`.`comment`').fetchall()[0][1])"
   ]
  },
  {
   "cell_type": "code",
   "execution_count": 40,
   "metadata": {},
   "outputs": [
    {
     "data": {
      "image/svg+xml": [
       "<svg xmlns=\"http://www.w3.org/2000/svg\" xmlns:xlink=\"http://www.w3.org/1999/xlink\" width=\"76pt\" height=\"114pt\" viewBox=\"0.00 0.00 76.00 114.00\">\n",
       "<g id=\"graph0\" class=\"graph\" transform=\"scale(1 1) rotate(0) translate(4 110)\">\n",
       "<title>%3</title>\n",
       "<polygon fill=\"white\" stroke=\"transparent\" points=\"-4,4 -4,-110 72,-110 72,4 -4,4\"/>\n",
       "<!-- Message -->\n",
       "<g id=\"node1\" class=\"node\">\n",
       "<title>Message</title>\n",
       "<g id=\"a_node1\"><a xlink:title=\"message_id           \r------------------------------\rmessage_body         \r\">\n",
       "<polygon fill=\"#00ff00\" fill-opacity=\"0.188235\" stroke=\"#00ff00\" stroke-opacity=\"0.188235\" points=\"66.5,-106 1.5,-106 1.5,-71 66.5,-71 66.5,-106\"/>\n",
       "<text text-anchor=\"start\" x=\"9.5\" y=\"-86.4\" font-family=\"arial\" text-decoration=\"underline\" font-size=\"12.00\" fill=\"darkgreen\">Message</text>\n",
       "</a>\n",
       "</g>\n",
       "</g>\n",
       "<!-- Comment -->\n",
       "<g id=\"node2\" class=\"node\">\n",
       "<title>Comment</title>\n",
       "<g id=\"a_node2\"><a xlink:title=\"comment_id           \r------------------------------\r→ Message\rcomment_body         \r\">\n",
       "<polygon fill=\"#00ff00\" fill-opacity=\"0.188235\" stroke=\"#00ff00\" stroke-opacity=\"0.188235\" points=\"68,-35 0,-35 0,0 68,0 68,-35\"/>\n",
       "<text text-anchor=\"start\" x=\"8\" y=\"-15.4\" font-family=\"arial\" text-decoration=\"underline\" font-size=\"12.00\" fill=\"darkgreen\">Comment</text>\n",
       "</a>\n",
       "</g>\n",
       "</g>\n",
       "<!-- Message&#45;&gt;Comment -->\n",
       "<g id=\"edge1\" class=\"edge\">\n",
       "<title>Message-&gt;Comment</title>\n",
       "<path fill=\"none\" stroke=\"#000000\" stroke-width=\"0.75\" stroke-dasharray=\"5,2\" stroke-opacity=\"0.250980\" d=\"M34,-70.8C34,-59.95 34,-45.87 34,-35.05\"/>\n",
       "</g>\n",
       "</g>\n",
       "</svg>"
      ],
      "text/plain": [
       "<datajoint.diagram.Diagram at 0x7f8b18e81610>"
      ]
     },
     "execution_count": 40,
     "metadata": {},
     "output_type": "execute_result"
    }
   ],
   "source": [
    "dj.Diagram(schema)"
   ]
  },
  {
   "cell_type": "code",
   "execution_count": 41,
   "metadata": {},
   "outputs": [],
   "source": [
    "keys = Message.fetch('KEY')"
   ]
  },
  {
   "cell_type": "code",
   "execution_count": 42,
   "metadata": {},
   "outputs": [
    {
     "data": {
      "text/plain": [
       "[{'message_id': UUID('553e2582-bc00-4c3e-a316-47c754f0677f')},\n",
       " {'message_id': UUID('681a997e-6d44-11ee-8c98-0242ac120002')},\n",
       " {'message_id': UUID('68214b2a-6d44-11ee-8c98-0242ac120002')},\n",
       " {'message_id': UUID('71a3e82e-6d44-11ee-8c98-0242ac120002')},\n",
       " {'message_id': UUID('71aa3580-6d44-11ee-8c98-0242ac120002')},\n",
       " {'message_id': UUID('82f8a010-6d44-11ee-8c98-0242ac120002')},\n",
       " {'message_id': UUID('82ffbb84-6d44-11ee-8c98-0242ac120002')},\n",
       " {'message_id': UUID('83f36c84-6d44-11ee-8c98-0242ac120002')},\n",
       " {'message_id': UUID('83f890ba-6d44-11ee-8c98-0242ac120002')},\n",
       " {'message_id': UUID('84dd3aa8-6d44-11ee-8c98-0242ac120002')},\n",
       " {'message_id': UUID('84e27202-6d44-11ee-8c98-0242ac120002')}]"
      ]
     },
     "execution_count": 42,
     "metadata": {},
     "output_type": "execute_result"
    }
   ],
   "source": [
    "keys"
   ]
  },
  {
   "cell_type": "code",
   "execution_count": 43,
   "metadata": {},
   "outputs": [],
   "source": [
    "Comment.insert1(dict(keys[0], comment_id=uuid.uuid1(), comment_body=\"thank you\"))"
   ]
  },
  {
   "cell_type": "code",
   "execution_count": 44,
   "metadata": {},
   "outputs": [
    {
     "data": {
      "text/html": [
       "\n",
       "    \n",
       "    <style type=\"text/css\">\n",
       "        .Table{\n",
       "            border-collapse:collapse;\n",
       "        }\n",
       "        .Table th{\n",
       "            background: #A0A0A0; color: #ffffff; padding:4px; border:#f0e0e0 1px solid;\n",
       "            font-weight: normal; font-family: monospace; font-size: 100%;\n",
       "        }\n",
       "        .Table td{\n",
       "            padding:4px; border:#f0e0e0 1px solid; font-size:100%;\n",
       "        }\n",
       "        .Table tr:nth-child(odd){\n",
       "            background: #ffffff;\n",
       "            color: #000000;\n",
       "        }\n",
       "        .Table tr:nth-child(even){\n",
       "            background: #f3f1ff;\n",
       "            color: #000000;\n",
       "        }\n",
       "        /* Tooltip container */\n",
       "        .djtooltip {\n",
       "        }\n",
       "        /* Tooltip text */\n",
       "        .djtooltip .djtooltiptext {\n",
       "            visibility: hidden;\n",
       "            width: 120px;\n",
       "            background-color: black;\n",
       "            color: #fff;\n",
       "            text-align: center;\n",
       "            padding: 5px 0;\n",
       "            border-radius: 6px;\n",
       "            /* Position the tooltip text - see examples below! */\n",
       "            position: absolute;\n",
       "            z-index: 1;\n",
       "        }\n",
       "        #primary {\n",
       "            font-weight: bold;\n",
       "            color: black;\n",
       "        }\n",
       "        #nonprimary {\n",
       "            font-weight: normal;\n",
       "            color: white;\n",
       "        }\n",
       "\n",
       "        /* Show the tooltip text when you mouse over the tooltip container */\n",
       "        .djtooltip:hover .djtooltiptext {\n",
       "            visibility: visible;\n",
       "        }\n",
       "    </style>\n",
       "    \n",
       "    \n",
       "        <div style=\"max-height:1000px;max-width:1500px;overflow:auto;\">\n",
       "        <table border=\"1\" class=\"Table\">\n",
       "            <thead> <tr style=\"text-align: right;\"> <th> <div class=\"djtooltip\">\n",
       "                            <p id=\"primary\">message_id</p>\n",
       "                            <span class=\"djtooltiptext\">internal message id</span>\n",
       "                        </div></th><th><div class=\"djtooltip\">\n",
       "                            <p id=\"primary\">comment_id</p>\n",
       "                            <span class=\"djtooltiptext\"></span>\n",
       "                        </div></th><th><div class=\"djtooltip\">\n",
       "                            <p id=\"nonprimary\">message_body</p>\n",
       "                            <span class=\"djtooltiptext\"></span>\n",
       "                        </div></th><th><div class=\"djtooltip\">\n",
       "                            <p id=\"nonprimary\">comment_body</p>\n",
       "                            <span class=\"djtooltiptext\"></span>\n",
       "                        </div> </th> </tr> </thead>\n",
       "            <tbody> <tr> <td>553e2582-bc00-4c3e-a316-47c754f0677f</td>\n",
       "<td>f768fb02-6d44-11ee-8c98-0242ac120002</td>\n",
       "<td>Hasta la vista baby</td>\n",
       "<td>thank you</td> </tr> </tbody>\n",
       "        </table>\n",
       "        \n",
       "        <p>Total: 1</p></div>\n",
       "        "
      ],
      "text/plain": [
       "*message_id    *comment_id    message_body   comment_body  \n",
       "+------------+ +------------+ +------------+ +------------+\n",
       "553e2582-bc00- f768fb02-6d44- Hasta la vista thank you     \n",
       " (Total: 1)"
      ]
     },
     "execution_count": 44,
     "metadata": {},
     "output_type": "execute_result"
    }
   ],
   "source": [
    "Message * Comment"
   ]
  },
  {
   "cell_type": "code",
   "execution_count": 45,
   "metadata": {
    "scrolled": true
   },
   "outputs": [
    {
     "data": {
      "text/html": [
       "\n",
       "    \n",
       "    <style type=\"text/css\">\n",
       "        .Table{\n",
       "            border-collapse:collapse;\n",
       "        }\n",
       "        .Table th{\n",
       "            background: #A0A0A0; color: #ffffff; padding:4px; border:#f0e0e0 1px solid;\n",
       "            font-weight: normal; font-family: monospace; font-size: 100%;\n",
       "        }\n",
       "        .Table td{\n",
       "            padding:4px; border:#f0e0e0 1px solid; font-size:100%;\n",
       "        }\n",
       "        .Table tr:nth-child(odd){\n",
       "            background: #ffffff;\n",
       "            color: #000000;\n",
       "        }\n",
       "        .Table tr:nth-child(even){\n",
       "            background: #f3f1ff;\n",
       "            color: #000000;\n",
       "        }\n",
       "        /* Tooltip container */\n",
       "        .djtooltip {\n",
       "        }\n",
       "        /* Tooltip text */\n",
       "        .djtooltip .djtooltiptext {\n",
       "            visibility: hidden;\n",
       "            width: 120px;\n",
       "            background-color: black;\n",
       "            color: #fff;\n",
       "            text-align: center;\n",
       "            padding: 5px 0;\n",
       "            border-radius: 6px;\n",
       "            /* Position the tooltip text - see examples below! */\n",
       "            position: absolute;\n",
       "            z-index: 1;\n",
       "        }\n",
       "        #primary {\n",
       "            font-weight: bold;\n",
       "            color: black;\n",
       "        }\n",
       "        #nonprimary {\n",
       "            font-weight: normal;\n",
       "            color: white;\n",
       "        }\n",
       "\n",
       "        /* Show the tooltip text when you mouse over the tooltip container */\n",
       "        .djtooltip:hover .djtooltiptext {\n",
       "            visibility: visible;\n",
       "        }\n",
       "    </style>\n",
       "    \n",
       "    \n",
       "        <div style=\"max-height:1000px;max-width:1500px;overflow:auto;\">\n",
       "        <table border=\"1\" class=\"Table\">\n",
       "            <thead> <tr style=\"text-align: right;\"> <th> <div class=\"djtooltip\">\n",
       "                            <p id=\"primary\">message_id</p>\n",
       "                            <span class=\"djtooltiptext\">internal message id</span>\n",
       "                        </div></th><th><div class=\"djtooltip\">\n",
       "                            <p id=\"primary\">comment_id</p>\n",
       "                            <span class=\"djtooltiptext\"></span>\n",
       "                        </div></th><th><div class=\"djtooltip\">\n",
       "                            <p id=\"nonprimary\">message_body</p>\n",
       "                            <span class=\"djtooltiptext\"></span>\n",
       "                        </div></th><th><div class=\"djtooltip\">\n",
       "                            <p id=\"nonprimary\">comment_body</p>\n",
       "                            <span class=\"djtooltiptext\"></span>\n",
       "                        </div> </th> </tr> </thead>\n",
       "            <tbody> <tr> <td>553e2582-bc00-4c3e-a316-47c754f0677f</td>\n",
       "<td>f768fb02-6d44-11ee-8c98-0242ac120002</td>\n",
       "<td>Hasta la vista baby</td>\n",
       "<td>thank you</td> </tr> </tbody>\n",
       "        </table>\n",
       "        \n",
       "        <p>Total: 1</p></div>\n",
       "        "
      ],
      "text/plain": [
       "*message_id    *comment_id    message_body   comment_body  \n",
       "+------------+ +------------+ +------------+ +------------+\n",
       "553e2582-bc00- f768fb02-6d44- Hasta la vista thank you     \n",
       " (Total: 1)"
      ]
     },
     "execution_count": 45,
     "metadata": {},
     "output_type": "execute_result"
    }
   ],
   "source": [
    "Message * Comment & keys[0]"
   ]
  },
  {
   "cell_type": "code",
   "execution_count": 46,
   "metadata": {},
   "outputs": [
    {
     "data": {
      "text/html": [
       "\n",
       "    \n",
       "    <style type=\"text/css\">\n",
       "        .Table{\n",
       "            border-collapse:collapse;\n",
       "        }\n",
       "        .Table th{\n",
       "            background: #A0A0A0; color: #ffffff; padding:4px; border:#f0e0e0 1px solid;\n",
       "            font-weight: normal; font-family: monospace; font-size: 100%;\n",
       "        }\n",
       "        .Table td{\n",
       "            padding:4px; border:#f0e0e0 1px solid; font-size:100%;\n",
       "        }\n",
       "        .Table tr:nth-child(odd){\n",
       "            background: #ffffff;\n",
       "            color: #000000;\n",
       "        }\n",
       "        .Table tr:nth-child(even){\n",
       "            background: #f3f1ff;\n",
       "            color: #000000;\n",
       "        }\n",
       "        /* Tooltip container */\n",
       "        .djtooltip {\n",
       "        }\n",
       "        /* Tooltip text */\n",
       "        .djtooltip .djtooltiptext {\n",
       "            visibility: hidden;\n",
       "            width: 120px;\n",
       "            background-color: black;\n",
       "            color: #fff;\n",
       "            text-align: center;\n",
       "            padding: 5px 0;\n",
       "            border-radius: 6px;\n",
       "            /* Position the tooltip text - see examples below! */\n",
       "            position: absolute;\n",
       "            z-index: 1;\n",
       "        }\n",
       "        #primary {\n",
       "            font-weight: bold;\n",
       "            color: black;\n",
       "        }\n",
       "        #nonprimary {\n",
       "            font-weight: normal;\n",
       "            color: white;\n",
       "        }\n",
       "\n",
       "        /* Show the tooltip text when you mouse over the tooltip container */\n",
       "        .djtooltip:hover .djtooltiptext {\n",
       "            visibility: visible;\n",
       "        }\n",
       "    </style>\n",
       "    \n",
       "    <b></b>\n",
       "        <div style=\"max-height:1000px;max-width:1500px;overflow:auto;\">\n",
       "        <table border=\"1\" class=\"Table\">\n",
       "            <thead> <tr style=\"text-align: right;\"> <th> <div class=\"djtooltip\">\n",
       "                            <p id=\"primary\">message_id</p>\n",
       "                            <span class=\"djtooltiptext\">internal message id</span>\n",
       "                        </div></th><th><div class=\"djtooltip\">\n",
       "                            <p id=\"nonprimary\">message_body</p>\n",
       "                            <span class=\"djtooltiptext\"></span>\n",
       "                        </div> </th> </tr> </thead>\n",
       "            <tbody> <tr> <td>681a997e-6d44-11ee-8c98-0242ac120002</td>\n",
       "<td>Hello, world!</td></tr><tr><td>68214b2a-6d44-11ee-8c98-0242ac120002</td>\n",
       "<td>Cogito ergo sum</td></tr><tr><td>71a3e82e-6d44-11ee-8c98-0242ac120002</td>\n",
       "<td>I will be back</td> </tr> </tbody>\n",
       "        </table>\n",
       "        \n",
       "        <p>Total: 3</p></div>\n",
       "        "
      ],
      "text/plain": [
       "*message_id    message_body  \n",
       "+------------+ +------------+\n",
       "681a997e-6d44- Hello, world! \n",
       "68214b2a-6d44- Cogito ergo su\n",
       "71a3e82e-6d44- I will be back\n",
       " (Total: 3)"
      ]
     },
     "execution_count": 46,
     "metadata": {},
     "output_type": "execute_result"
    }
   ],
   "source": [
    "Message & keys[1:4]"
   ]
  },
  {
   "cell_type": "code",
   "execution_count": 47,
   "metadata": {},
   "outputs": [],
   "source": [
    "Comment.insert1(dict(keys[1], comment_id=uuid.uuid1(), comment_body=\"thank you\"))"
   ]
  },
  {
   "cell_type": "code",
   "execution_count": 48,
   "metadata": {},
   "outputs": [
    {
     "data": {
      "text/html": [
       "\n",
       "    \n",
       "    <style type=\"text/css\">\n",
       "        .Table{\n",
       "            border-collapse:collapse;\n",
       "        }\n",
       "        .Table th{\n",
       "            background: #A0A0A0; color: #ffffff; padding:4px; border:#f0e0e0 1px solid;\n",
       "            font-weight: normal; font-family: monospace; font-size: 100%;\n",
       "        }\n",
       "        .Table td{\n",
       "            padding:4px; border:#f0e0e0 1px solid; font-size:100%;\n",
       "        }\n",
       "        .Table tr:nth-child(odd){\n",
       "            background: #ffffff;\n",
       "            color: #000000;\n",
       "        }\n",
       "        .Table tr:nth-child(even){\n",
       "            background: #f3f1ff;\n",
       "            color: #000000;\n",
       "        }\n",
       "        /* Tooltip container */\n",
       "        .djtooltip {\n",
       "        }\n",
       "        /* Tooltip text */\n",
       "        .djtooltip .djtooltiptext {\n",
       "            visibility: hidden;\n",
       "            width: 120px;\n",
       "            background-color: black;\n",
       "            color: #fff;\n",
       "            text-align: center;\n",
       "            padding: 5px 0;\n",
       "            border-radius: 6px;\n",
       "            /* Position the tooltip text - see examples below! */\n",
       "            position: absolute;\n",
       "            z-index: 1;\n",
       "        }\n",
       "        #primary {\n",
       "            font-weight: bold;\n",
       "            color: black;\n",
       "        }\n",
       "        #nonprimary {\n",
       "            font-weight: normal;\n",
       "            color: white;\n",
       "        }\n",
       "\n",
       "        /* Show the tooltip text when you mouse over the tooltip container */\n",
       "        .djtooltip:hover .djtooltiptext {\n",
       "            visibility: visible;\n",
       "        }\n",
       "    </style>\n",
       "    \n",
       "    <b></b>\n",
       "        <div style=\"max-height:1000px;max-width:1500px;overflow:auto;\">\n",
       "        <table border=\"1\" class=\"Table\">\n",
       "            <thead> <tr style=\"text-align: right;\"> <th> <div class=\"djtooltip\">\n",
       "                            <p id=\"primary\">comment_id</p>\n",
       "                            <span class=\"djtooltiptext\"></span>\n",
       "                        </div></th><th><div class=\"djtooltip\">\n",
       "                            <p id=\"nonprimary\">message_id</p>\n",
       "                            <span class=\"djtooltiptext\">internal message id</span>\n",
       "                        </div></th><th><div class=\"djtooltip\">\n",
       "                            <p id=\"nonprimary\">comment_body</p>\n",
       "                            <span class=\"djtooltiptext\"></span>\n",
       "                        </div> </th> </tr> </thead>\n",
       "            <tbody> <tr> <td>18d4c99c-6d45-11ee-8c98-0242ac120002</td>\n",
       "<td>681a997e-6d44-11ee-8c98-0242ac120002</td>\n",
       "<td>thank you</td></tr><tr><td>f768fb02-6d44-11ee-8c98-0242ac120002</td>\n",
       "<td>553e2582-bc00-4c3e-a316-47c754f0677f</td>\n",
       "<td>thank you</td> </tr> </tbody>\n",
       "        </table>\n",
       "        \n",
       "        <p>Total: 2</p></div>\n",
       "        "
      ],
      "text/plain": [
       "*comment_id    message_id     comment_body  \n",
       "+------------+ +------------+ +------------+\n",
       "18d4c99c-6d45- 681a997e-6d44- thank you     \n",
       "f768fb02-6d44- 553e2582-bc00- thank you     \n",
       " (Total: 2)"
      ]
     },
     "execution_count": 48,
     "metadata": {},
     "output_type": "execute_result"
    }
   ],
   "source": [
    "Comment()"
   ]
  },
  {
   "cell_type": "code",
   "execution_count": 49,
   "metadata": {},
   "outputs": [
    {
     "data": {
      "text/html": [
       "\n",
       "    \n",
       "    <style type=\"text/css\">\n",
       "        .Table{\n",
       "            border-collapse:collapse;\n",
       "        }\n",
       "        .Table th{\n",
       "            background: #A0A0A0; color: #ffffff; padding:4px; border:#f0e0e0 1px solid;\n",
       "            font-weight: normal; font-family: monospace; font-size: 100%;\n",
       "        }\n",
       "        .Table td{\n",
       "            padding:4px; border:#f0e0e0 1px solid; font-size:100%;\n",
       "        }\n",
       "        .Table tr:nth-child(odd){\n",
       "            background: #ffffff;\n",
       "            color: #000000;\n",
       "        }\n",
       "        .Table tr:nth-child(even){\n",
       "            background: #f3f1ff;\n",
       "            color: #000000;\n",
       "        }\n",
       "        /* Tooltip container */\n",
       "        .djtooltip {\n",
       "        }\n",
       "        /* Tooltip text */\n",
       "        .djtooltip .djtooltiptext {\n",
       "            visibility: hidden;\n",
       "            width: 120px;\n",
       "            background-color: black;\n",
       "            color: #fff;\n",
       "            text-align: center;\n",
       "            padding: 5px 0;\n",
       "            border-radius: 6px;\n",
       "            /* Position the tooltip text - see examples below! */\n",
       "            position: absolute;\n",
       "            z-index: 1;\n",
       "        }\n",
       "        #primary {\n",
       "            font-weight: bold;\n",
       "            color: black;\n",
       "        }\n",
       "        #nonprimary {\n",
       "            font-weight: normal;\n",
       "            color: white;\n",
       "        }\n",
       "\n",
       "        /* Show the tooltip text when you mouse over the tooltip container */\n",
       "        .djtooltip:hover .djtooltiptext {\n",
       "            visibility: visible;\n",
       "        }\n",
       "    </style>\n",
       "    \n",
       "    <b></b>\n",
       "        <div style=\"max-height:1000px;max-width:1500px;overflow:auto;\">\n",
       "        <table border=\"1\" class=\"Table\">\n",
       "            <thead> <tr style=\"text-align: right;\"> <th> <div class=\"djtooltip\">\n",
       "                            <p id=\"primary\">message_id</p>\n",
       "                            <span class=\"djtooltiptext\">internal message id</span>\n",
       "                        </div></th><th><div class=\"djtooltip\">\n",
       "                            <p id=\"nonprimary\">message_body</p>\n",
       "                            <span class=\"djtooltiptext\"></span>\n",
       "                        </div> </th> </tr> </thead>\n",
       "            <tbody> <tr> <td>553e2582-bc00-4c3e-a316-47c754f0677f</td>\n",
       "<td>Hasta la vista baby</td></tr><tr><td>681a997e-6d44-11ee-8c98-0242ac120002</td>\n",
       "<td>Hello, world!</td> </tr> </tbody>\n",
       "        </table>\n",
       "        \n",
       "        <p>Total: 2</p></div>\n",
       "        "
      ],
      "text/plain": [
       "*message_id    message_body  \n",
       "+------------+ +------------+\n",
       "553e2582-bc00- Hasta la vista\n",
       "681a997e-6d44- Hello, world! \n",
       " (Total: 2)"
      ]
     },
     "execution_count": 49,
     "metadata": {},
     "output_type": "execute_result"
    }
   ],
   "source": [
    "Message & Comment"
   ]
  },
  {
   "cell_type": "code",
   "execution_count": 50,
   "metadata": {},
   "outputs": [
    {
     "data": {
      "text/html": [
       "\n",
       "    \n",
       "    <style type=\"text/css\">\n",
       "        .Table{\n",
       "            border-collapse:collapse;\n",
       "        }\n",
       "        .Table th{\n",
       "            background: #A0A0A0; color: #ffffff; padding:4px; border:#f0e0e0 1px solid;\n",
       "            font-weight: normal; font-family: monospace; font-size: 100%;\n",
       "        }\n",
       "        .Table td{\n",
       "            padding:4px; border:#f0e0e0 1px solid; font-size:100%;\n",
       "        }\n",
       "        .Table tr:nth-child(odd){\n",
       "            background: #ffffff;\n",
       "            color: #000000;\n",
       "        }\n",
       "        .Table tr:nth-child(even){\n",
       "            background: #f3f1ff;\n",
       "            color: #000000;\n",
       "        }\n",
       "        /* Tooltip container */\n",
       "        .djtooltip {\n",
       "        }\n",
       "        /* Tooltip text */\n",
       "        .djtooltip .djtooltiptext {\n",
       "            visibility: hidden;\n",
       "            width: 120px;\n",
       "            background-color: black;\n",
       "            color: #fff;\n",
       "            text-align: center;\n",
       "            padding: 5px 0;\n",
       "            border-radius: 6px;\n",
       "            /* Position the tooltip text - see examples below! */\n",
       "            position: absolute;\n",
       "            z-index: 1;\n",
       "        }\n",
       "        #primary {\n",
       "            font-weight: bold;\n",
       "            color: black;\n",
       "        }\n",
       "        #nonprimary {\n",
       "            font-weight: normal;\n",
       "            color: white;\n",
       "        }\n",
       "\n",
       "        /* Show the tooltip text when you mouse over the tooltip container */\n",
       "        .djtooltip:hover .djtooltiptext {\n",
       "            visibility: visible;\n",
       "        }\n",
       "    </style>\n",
       "    \n",
       "    <b></b>\n",
       "        <div style=\"max-height:1000px;max-width:1500px;overflow:auto;\">\n",
       "        <table border=\"1\" class=\"Table\">\n",
       "            <thead> <tr style=\"text-align: right;\"> <th> <div class=\"djtooltip\">\n",
       "                            <p id=\"primary\">message_id</p>\n",
       "                            <span class=\"djtooltiptext\">internal message id</span>\n",
       "                        </div></th><th><div class=\"djtooltip\">\n",
       "                            <p id=\"nonprimary\">message_body</p>\n",
       "                            <span class=\"djtooltiptext\"></span>\n",
       "                        </div> </th> </tr> </thead>\n",
       "            <tbody> <tr> <td>68214b2a-6d44-11ee-8c98-0242ac120002</td>\n",
       "<td>Cogito ergo sum</td></tr><tr><td>71a3e82e-6d44-11ee-8c98-0242ac120002</td>\n",
       "<td>I will be back</td></tr><tr><td>71aa3580-6d44-11ee-8c98-0242ac120002</td>\n",
       "<td>Must destroy humans.</td></tr><tr><td>82f8a010-6d44-11ee-8c98-0242ac120002</td>\n",
       "<td>I will be back</td></tr><tr><td>82ffbb84-6d44-11ee-8c98-0242ac120002</td>\n",
       "<td>Must destroy humans.</td></tr><tr><td>83f36c84-6d44-11ee-8c98-0242ac120002</td>\n",
       "<td>I will be back</td></tr><tr><td>83f890ba-6d44-11ee-8c98-0242ac120002</td>\n",
       "<td>Must destroy humans.</td></tr><tr><td>84dd3aa8-6d44-11ee-8c98-0242ac120002</td>\n",
       "<td>I will be back</td></tr><tr><td>84e27202-6d44-11ee-8c98-0242ac120002</td>\n",
       "<td>Must destroy humans.</td> </tr> </tbody>\n",
       "        </table>\n",
       "        \n",
       "        <p>Total: 9</p></div>\n",
       "        "
      ],
      "text/plain": [
       "*message_id    message_body  \n",
       "+------------+ +------------+\n",
       "68214b2a-6d44- Cogito ergo su\n",
       "71a3e82e-6d44- I will be back\n",
       "71aa3580-6d44- Must destroy h\n",
       "82f8a010-6d44- I will be back\n",
       "82ffbb84-6d44- Must destroy h\n",
       "83f36c84-6d44- I will be back\n",
       "83f890ba-6d44- Must destroy h\n",
       "84dd3aa8-6d44- I will be back\n",
       "84e27202-6d44- Must destroy h\n",
       " (Total: 9)"
      ]
     },
     "execution_count": 50,
     "metadata": {},
     "output_type": "execute_result"
    }
   ],
   "source": [
    "Message - Comment"
   ]
  },
  {
   "cell_type": "code",
   "execution_count": 51,
   "metadata": {},
   "outputs": [
    {
     "data": {
      "text/html": [
       "\n",
       "    \n",
       "    <style type=\"text/css\">\n",
       "        .Table{\n",
       "            border-collapse:collapse;\n",
       "        }\n",
       "        .Table th{\n",
       "            background: #A0A0A0; color: #ffffff; padding:4px; border:#f0e0e0 1px solid;\n",
       "            font-weight: normal; font-family: monospace; font-size: 100%;\n",
       "        }\n",
       "        .Table td{\n",
       "            padding:4px; border:#f0e0e0 1px solid; font-size:100%;\n",
       "        }\n",
       "        .Table tr:nth-child(odd){\n",
       "            background: #ffffff;\n",
       "            color: #000000;\n",
       "        }\n",
       "        .Table tr:nth-child(even){\n",
       "            background: #f3f1ff;\n",
       "            color: #000000;\n",
       "        }\n",
       "        /* Tooltip container */\n",
       "        .djtooltip {\n",
       "        }\n",
       "        /* Tooltip text */\n",
       "        .djtooltip .djtooltiptext {\n",
       "            visibility: hidden;\n",
       "            width: 120px;\n",
       "            background-color: black;\n",
       "            color: #fff;\n",
       "            text-align: center;\n",
       "            padding: 5px 0;\n",
       "            border-radius: 6px;\n",
       "            /* Position the tooltip text - see examples below! */\n",
       "            position: absolute;\n",
       "            z-index: 1;\n",
       "        }\n",
       "        #primary {\n",
       "            font-weight: bold;\n",
       "            color: black;\n",
       "        }\n",
       "        #nonprimary {\n",
       "            font-weight: normal;\n",
       "            color: white;\n",
       "        }\n",
       "\n",
       "        /* Show the tooltip text when you mouse over the tooltip container */\n",
       "        .djtooltip:hover .djtooltiptext {\n",
       "            visibility: visible;\n",
       "        }\n",
       "    </style>\n",
       "    \n",
       "    \n",
       "        <div style=\"max-height:1000px;max-width:1500px;overflow:auto;\">\n",
       "        <table border=\"1\" class=\"Table\">\n",
       "            <thead> <tr style=\"text-align: right;\"> <th> <div class=\"djtooltip\">\n",
       "                            <p id=\"primary\">message_id</p>\n",
       "                            <span class=\"djtooltiptext\">internal message id</span>\n",
       "                        </div></th><th><div class=\"djtooltip\">\n",
       "                            <p id=\"primary\">comment_id</p>\n",
       "                            <span class=\"djtooltiptext\"></span>\n",
       "                        </div></th><th><div class=\"djtooltip\">\n",
       "                            <p id=\"nonprimary\">message_body</p>\n",
       "                            <span class=\"djtooltiptext\"></span>\n",
       "                        </div></th><th><div class=\"djtooltip\">\n",
       "                            <p id=\"nonprimary\">comment_body</p>\n",
       "                            <span class=\"djtooltiptext\"></span>\n",
       "                        </div> </th> </tr> </thead>\n",
       "            <tbody> <tr> <td>681a997e-6d44-11ee-8c98-0242ac120002</td>\n",
       "<td>18d4c99c-6d45-11ee-8c98-0242ac120002</td>\n",
       "<td>Hello, world!</td>\n",
       "<td>thank you</td></tr><tr><td>553e2582-bc00-4c3e-a316-47c754f0677f</td>\n",
       "<td>f768fb02-6d44-11ee-8c98-0242ac120002</td>\n",
       "<td>Hasta la vista baby</td>\n",
       "<td>thank you</td> </tr> </tbody>\n",
       "        </table>\n",
       "        \n",
       "        <p>Total: 2</p></div>\n",
       "        "
      ],
      "text/plain": [
       "*message_id    *comment_id    message_body   comment_body  \n",
       "+------------+ +------------+ +------------+ +------------+\n",
       "681a997e-6d44- 18d4c99c-6d45- Hello, world!  thank you     \n",
       "553e2582-bc00- f768fb02-6d44- Hasta la vista thank you     \n",
       " (Total: 2)"
      ]
     },
     "execution_count": 51,
     "metadata": {},
     "output_type": "execute_result"
    }
   ],
   "source": [
    "Message * Comment"
   ]
  },
  {
   "cell_type": "code",
   "execution_count": null,
   "metadata": {},
   "outputs": [],
   "source": []
  }
 ],
 "metadata": {
  "kernelspec": {
   "display_name": "Python 3 (ipykernel)",
   "language": "python",
   "name": "python3"
  },
  "language_info": {
   "codemirror_mode": {
    "name": "ipython",
    "version": 3
   },
   "file_extension": ".py",
   "mimetype": "text/x-python",
   "name": "python",
   "nbconvert_exporter": "python",
   "pygments_lexer": "ipython3",
   "version": "3.9.17"
  }
 },
 "nbformat": 4,
 "nbformat_minor": 2
}
