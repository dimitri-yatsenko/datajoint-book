{
 "cells": [
  {
   "cell_type": "markdown",
   "metadata": {},
   "source": [
    "# Homework 3\n",
    "\n",
    "Design tables for the following types of entities.\n",
    "* Make sure that the tables have a proper primary key that correctly enforces *entity integrity*.\n",
    "* Make sure that the table has all the required columnts with appropriate data types  and null constraints\n",
    "* Include an insert statement to populate a few entries into each table but you do not need to completely fill the tables.\n",
    "* Execute the entire assignment in one notebook, print it and submit the PDF to the instructor by Slack.\n",
    "\n",
    "You can use DataJoint, SQL Jupypter Magic, or `pymysql` to interact with the database.\n",
    "\n",
    "1. Courses at the University of St Thomas, including the department name, and a course description.\n",
    "2. Birthdays and emails for the students in this class.\n",
    "3. Boston Marathon champions for each year for men's and  women's open divisions. Include the runner's nationality and their time.\n",
    "4. US State capitals, state birds and flowers\n",
    "5. HTML colors including their names, R, G, and B values.\n",
    "6. Students' grades for each homework assignment in this course. Do include the student's email, assignment number, and the grade, but you do not need to include any course information.\n",
    "\n",
    "Ensure that the tables are in First Normal Form."
   ]
  },
  {
   "cell_type": "markdown",
   "metadata": {},
   "source": []
  }
 ],
 "metadata": {
  "language_info": {
   "name": "python"
  },
  "orig_nbformat": 4
 },
 "nbformat": 4,
 "nbformat_minor": 2
}
