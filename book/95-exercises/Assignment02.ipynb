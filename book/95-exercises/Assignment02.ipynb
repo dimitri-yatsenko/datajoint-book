{
 "cells": [
  {
   "cell_type": "markdown",
   "metadata": {},
   "source": [
    "# Assignment 02\n",
    "Due Sep 12, 2024\n",
    "\n",
    "Design database tables to represent the followig entities. Make sure that each table has a proper primary key. Populate each table with several entries.\n",
    "\n",
    "1. You manage a pet clinic. Design a table for the pets treated in your clinic. For identifying animals, use the [US National Animal Identification System](https://en.wikipedia.org/wiki/National_Animal_Identification_System). Include name, species, date of birth, and sex.\n",
    "\n",
    "2. Now represent the veterinarians in your clinic, including name, highest degree attained, date-of-birth, and hire date.\n",
    "\n",
    "3. US States and Territories, including their capitals, and the year of acceptance into the USA.\n",
    "\n",
    "4. Current members of the [US House of Representatives](https://www.house.gov/representatives). Include state, district, name, party, and phone number.\n",
    "\n",
    "5. Current [US governors](https://www.nga.org/governors/).\n",
    "\n",
    "6. Your homework assignments for this semester, including the course and the due date.\n",
    "\n",
    "7. Students in this class, including names, github accounts, and emails.\n",
    "\n",
    "8. [Boston Marathon champions](https://www.baa.org/races/boston-marathon/results/champions) for each year for both men's and women's open division. Include name, nationality, and finish time.\n",
    "\n",
    "Your assignment will be evaluated on proper design. Choose correct and sufficient attributes, data types, primary key, NOT NULL constraints. Answer the question of how entity integrity will be enforced. Avoid unnecessary attributes. Sample data must be propery inserted, at least 2-3 entries in each table."
   ]
  },
  {
   "cell_type": "markdown",
   "metadata": {},
   "source": [
    "# Connect with DataJoint \n"
   ]
  },
  {
   "cell_type": "code",
   "execution_count": null,
   "metadata": {},
   "outputs": [],
   "source": [
    "import datajoint as dj\n",
    "dj.conn()  # test the connection (optionally)"
   ]
  },
  {
   "cell_type": "markdown",
   "metadata": {},
   "source": [
    "If you are only learning DataJoint, you are done.\n",
    "If you are reading this text to also learn SQL, you can use two ways to issue queries: with IPython magic commands or a client library."
   ]
  },
  {
   "cell_type": "markdown",
   "metadata": {},
   "source": [
    "# Connect with IPython \"Magic\"\n",
    "\n",
    "You can execute SQL statements directly from Jupyter with the help of [\"magic commdands\"](https://towardsdatascience.com/jupyter-magics-with-sql-921370099589). \n",
    "\n",
    "The following cell sets up the connection to the database for the Jupyter SQL Magic."
   ]
  },
  {
   "cell_type": "code",
   "execution_count": null,
   "metadata": {},
   "outputs": [],
   "source": [
    "import pymysql\n",
    "import os\n",
    "pymysql.install_as_MySQLdb()\n",
    "\n",
    "connection_string = \"mysql://{user}:{password}@{host}\".format(\n",
    "    user=os.environ['DJ_USER'],\n",
    "    host=os.environ['DJ_HOST'],\n",
    "    password=os.environ['DJ_PASS']\n",
    ")\n",
    "\n",
    "%load_ext sql\n",
    "%sql $connection_string"
   ]
  },
  {
   "cell_type": "markdown",
   "metadata": {},
   "source": [
    "Then you can issue SQL commands from a Jupyter cell by starting it with `%%sql`.\n",
    "Change the cell type to `SQL` for appropriate syntax highlighting."
   ]
  },
  {
   "cell_type": "code",
   "execution_count": null,
   "metadata": {
    "vscode": {
     "languageId": "sql"
    }
   },
   "outputs": [],
   "source": [
    "%%sql\n",
    "-- show all users\n",
    "SELECT User FROM mysql.user"
   ]
  },
  {
   "cell_type": "markdown",
   "metadata": {},
   "source": [
    "We will use SQL magic only for fast interactive SQL queries.  We will not use SQL magic as part of Python code."
   ]
  },
  {
   "cell_type": "markdown",
   "metadata": {},
   "source": [
    "# Connect with Python client\n",
    "\n",
    "To issue SQL queries from Python code, we will use a conventional SQL client, in this case `pymysql`."
   ]
  },
  {
   "cell_type": "code",
   "execution_count": null,
   "metadata": {},
   "outputs": [],
   "source": [
    "# create a database connection\n",
    "conn = pymysql.connect(\n",
    "    host=os.environ['DJ_HOST'], \n",
    "    user=os.environ['DJ_USER'], \n",
    "    password=os.environ['DJ_PASS']\n",
    "    )"
   ]
  },
  {
   "cell_type": "code",
   "execution_count": null,
   "metadata": {},
   "outputs": [],
   "source": [
    "# crewate a query cursor and issue an SQL query\n",
    "cur = conn.cursor()\n",
    "cur.execute('SELECT User FROM mysql.user')\n",
    "cur.fetchall()"
   ]
  },
  {
   "cell_type": "markdown",
   "metadata": {},
   "source": [
    "We are all set for executing all the database queries in this book!"
   ]
  },
  {
   "cell_type": "markdown",
   "metadata": {},
   "source": [
    "# Completed Assignment:\n"
   ]
  },
  {
   "cell_type": "markdown",
   "metadata": {},
   "source": []
  }
 ],
 "metadata": {
  "kernelspec": {
   "display_name": "base",
   "language": "python",
   "name": "python3"
  },
  "language_info": {
   "codemirror_mode": {
    "name": "ipython",
    "version": 3
   },
   "file_extension": ".py",
   "mimetype": "text/x-python",
   "name": "python",
   "nbconvert_exporter": "python",
   "pygments_lexer": "ipython3",
   "version": "3.10.14"
  }
 },
 "nbformat": 4,
 "nbformat_minor": 2
}
