{
 "cells": [
  {
   "cell_type": "markdown",
   "metadata": {},
   "source": [
    "# Assignment 04\n",
    "Due Sep 26, 2024\n",
    "\n",
    "Similar to Assignment 03, we will make use of Example Databases.\n",
    "\n",
    "Populate the Example Databases by executing five scrips:\n",
    "* The [University Database](../examples/000-university-database.ipynb)\n",
    "* The [Sales Database](../examples/010-sales-database.ipynb)\n",
    "* The [Nation Database](../examples/030-nations-database.ipynb)\n",
    "\n"
   ]
  },
  {
   "cell_type": "markdown",
   "metadata": {},
   "source": [
    "If you populate everything right, the following code should produce the schema diagrams for the example databases. You can refer to them when writing queries."
   ]
  },
  {
   "cell_type": "code",
   "execution_count": null,
   "metadata": {},
   "outputs": [],
   "source": [
    "# Diagrams \n",
    "import datajoint as dj\n",
    "\n",
    "sales = dj.VirtualModule('sales', 'classicsales')\n",
    "university = dj.VirtualModule('university', 'university')\n",
    "nation = dj.VirtualModule('nation', 'nation')\n",
    "\n",
    "dj.Diagram(sales) + dj.Diagram(university) + dj.Diagram(nation)"
   ]
  },
  {
   "cell_type": "markdown",
   "metadata": {},
   "source": [
    "# Problems\n",
    "\n",
    "Write the following queries. Make sure that at least one query is written in DataJoint, one in SQL IPython Magic, and one using a mysql client cursor.\n",
    "\n",
    "All the queries in this assignment require only one table. No multi-table queries will be required here.\n",
    "\n",
    "To get the full credit, the query must be work correctly and should be minimal, without any extraneous information.\n",
    "\n",
    "\n",
    "### Problem 1 (Sales)\n",
    "Show all US customer names and zip codes. "
   ]
  },
  {
   "cell_type": "code",
   "execution_count": null,
   "metadata": {},
   "outputs": [],
   "source": []
  },
  {
   "cell_type": "markdown",
   "metadata": {},
   "source": [
    "### Problem 2 (Sales)\n",
    "\n",
    "Show all offices that are outside the US"
   ]
  },
  {
   "cell_type": "code",
   "execution_count": null,
   "metadata": {},
   "outputs": [],
   "source": []
  },
  {
   "cell_type": "markdown",
   "metadata": {},
   "source": [
    "### Problem 3 (Sales)\n",
    "Show the emails of all employees from Office 1."
   ]
  },
  {
   "cell_type": "code",
   "execution_count": null,
   "metadata": {},
   "outputs": [],
   "source": []
  },
  {
   "cell_type": "markdown",
   "metadata": {},
   "source": [
    "### Problem 4 (Sales)\n",
    "\n",
    "Show the comments from all unshipped orders"
   ]
  },
  {
   "cell_type": "code",
   "execution_count": null,
   "metadata": {},
   "outputs": [],
   "source": []
  },
  {
   "cell_type": "markdown",
   "metadata": {},
   "source": [
    "### Problem 5 (Sales) \n",
    "Show all products names where the scale is greater than 1:50  (e.g. 1:72)\n",
    "\n",
    "Hint: You will need to learn about \n",
    "* [MySQL string functions](https://dev.mysql.com/doc/refman/8.4/en/string-functions.html) \n",
    "* [MySQL cast functions](https://dev.mysql.com/doc/refman/8.4/en/cast-functions.html)\n",
    "\n",
    "Hint: You should get 14 rows"
   ]
  },
  {
   "cell_type": "code",
   "execution_count": null,
   "metadata": {},
   "outputs": [],
   "source": []
  },
  {
   "cell_type": "markdown",
   "metadata": {},
   "source": [
    "### Problem 6 (Sales)\n",
    "Show all order numbers that were shipped late, i.e. where the shipped date was after the required date.\n",
    "\n",
    "Hint: there is only one such order"
   ]
  },
  {
   "cell_type": "code",
   "execution_count": null,
   "metadata": {},
   "outputs": [],
   "source": []
  },
  {
   "cell_type": "markdown",
   "metadata": {},
   "source": [
    "### Problem 7 (Sales)\n",
    "Show all the order numbers for the orders that took a week or longer to ship, i.e. the difference between the order date and shipped date.\n",
    "\n",
    "Hint: This will require learning about [MySQL date functions](https://dev.mysql.com/doc/refman/8.4/en/date-and-time-functions.html)\n",
    "\n"
   ]
  },
  {
   "cell_type": "code",
   "execution_count": null,
   "metadata": {},
   "outputs": [],
   "source": []
  },
  {
   "cell_type": "markdown",
   "metadata": {},
   "source": [
    "### Problem 8 (Sales) \n",
    "\n",
    "Show the product names for all motorcycles along with their markup price (the difference between MSRP and buy_price)"
   ]
  },
  {
   "cell_type": "code",
   "execution_count": null,
   "metadata": {},
   "outputs": [],
   "source": []
  },
  {
   "cell_type": "markdown",
   "metadata": {},
   "source": [
    "### Problem 9 (University)\n",
    "\n",
    "Show all students names with the initials R. S.  (i.g. Rachel Shelton)"
   ]
  },
  {
   "cell_type": "code",
   "execution_count": null,
   "metadata": {},
   "outputs": [],
   "source": []
  },
  {
   "cell_type": "markdown",
   "metadata": {},
   "source": [
    "### Problem 10 (University)\n",
    "Show the student ids for all Math majors who declared their majors 2024."
   ]
  },
  {
   "cell_type": "code",
   "execution_count": null,
   "metadata": {},
   "outputs": [],
   "source": []
  },
  {
   "cell_type": "markdown",
   "metadata": {},
   "source": [
    "### Problem 11 (Nation) \n",
    "\n",
    "Show all countries greater than 1 mil sq km that don't have a national day."
   ]
  },
  {
   "cell_type": "code",
   "execution_count": null,
   "metadata": {},
   "outputs": [],
   "source": []
  },
  {
   "cell_type": "markdown",
   "metadata": {},
   "source": [
    "### Problem 12 (Nation)\n",
    "\n",
    "Show the names of countries whose national day is before the year 1800."
   ]
  },
  {
   "cell_type": "code",
   "execution_count": null,
   "metadata": {},
   "outputs": [],
   "source": []
  }
 ],
 "metadata": {
  "kernelspec": {
   "display_name": "base",
   "language": "python",
   "name": "python3"
  },
  "language_info": {
   "codemirror_mode": {
    "name": "ipython",
    "version": 3
   },
   "file_extension": ".py",
   "mimetype": "text/x-python",
   "name": "python",
   "nbconvert_exporter": "python",
   "pygments_lexer": "ipython3",
   "version": "3.10.14"
  }
 },
 "nbformat": 4,
 "nbformat_minor": 2
}
