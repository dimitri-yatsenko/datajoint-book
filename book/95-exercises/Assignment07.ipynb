{
 "cells": [
  {
   "cell_type": "markdown",
   "metadata": {},
   "source": [
    "# Assignment 07\n",
    "\n",
    "In this assignment, you will design schemas for simple databases, each with 2-4 tables. Your design must enforce all the constraints in the problem statement by using properly designed primary keys and foreign key constraints.\n",
    "\n",
    "For this assignment you cannot use SQL magic. You can use `datajoint` or `pymysql`."
   ]
  },
  {
   "cell_type": "code",
   "execution_count": 1,
   "metadata": {},
   "outputs": [],
   "source": [
    "import datajoint as dj\n",
    "import pymysql\n"
   ]
  },
  {
   "cell_type": "markdown",
   "metadata": {},
   "source": [
    "## Problem 1: Tennis Club\n",
    "\n",
    "###  Design \n",
    "Design a database schema for a reserving courts at a tennis club.\n",
    "\n",
    "1. The tennis club has members, who are identified by their cell-phone numbers\n",
    "2. The tennis club has four courts: A, B, C, and D.\n",
    "3. A member can reserve a court for a specific day for one of three slots: morning, afternoon, or evening. This means that no two members can reserve the same court for the same slot.\n",
    "4. (extra credit) Add a constraint that no member can reserve more than one court for the same slot on the same day.\n",
    "\n",
    "### Populate\n",
    "Populate each of the tables with several entries. You can use `faker` for this.\n",
    "\n",
    "### Queries\n",
    "Write the following queries\n",
    "\n",
    "1. Show all reservations made by a specific member (pick one) over the past month\n",
    "2. Show the names of all members who have reserved Court A over the past week\n",
    "3. Show the complete schedule for Court A for this week"
   ]
  },
  {
   "cell_type": "markdown",
   "metadata": {},
   "source": [
    "## Problem 2: Goal Tracking\n",
    "\n",
    "### Design\n",
    "Design the database schema for a simple goal tracking app.  This is a single user app, so there is not need to track users.\n",
    "\n",
    "1. The user can create goal categories (e.g. \"Fun\", \"Work\", \"Study\", \"Reading\", \"Exercise\")\n",
    "2. The user can create a goal with a name, category, description, a start date, target completion date, and a challenge level 1-5.\n",
    "3. The user can create goal achievement, one for each goal, with the achievement data, and the status \"Complete\", \"Partial\", or \"Failed\".\n",
    "\n",
    "### Populate \n",
    "Populate each of the tables with several entries.\n",
    "\n",
    "### Queries\n",
    "\n",
    "1. Show all the achievements over the past month\n",
    "2. Show all the goal categories along with the average rate of goal completion "
   ]
  },
  {
   "cell_type": "markdown",
   "metadata": {},
   "source": []
  }
 ],
 "metadata": {
  "kernelspec": {
   "display_name": "base",
   "language": "python",
   "name": "python3"
  },
  "language_info": {
   "codemirror_mode": {
    "name": "ipython",
    "version": 3
   },
   "file_extension": ".py",
   "mimetype": "text/x-python",
   "name": "python",
   "nbconvert_exporter": "python",
   "pygments_lexer": "ipython3",
   "version": "3.11.10"
  }
 },
 "nbformat": 4,
 "nbformat_minor": 2
}
