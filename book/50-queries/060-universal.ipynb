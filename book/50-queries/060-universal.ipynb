{
 "cells": [
  {
   "cell_type": "markdown",
   "metadata": {},
   "source": [
    "# Universal Sets\n",
    "\n",
    "Many queries require a special operand -- a *Universal Set* -- which is constructed using the `dj.U` class in DataJoint."
   ]
  },
  {
   "cell_type": "markdown",
   "metadata": {},
   "source": []
  }
 ],
 "metadata": {
  "language_info": {
   "name": "python"
  }
 },
 "nbformat": 4,
 "nbformat_minor": 2
}
