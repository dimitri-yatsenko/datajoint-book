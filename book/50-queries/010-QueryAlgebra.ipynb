{
 "cells": [
  {
   "cell_type": "markdown",
   "metadata": {},
   "source": [
    "# Relational Algebra\n",
    "\n",
    "## Defining Queries\n",
    "\n",
    "A query is a formal request to retrieve or manipulate data from a database. \n",
    "A query is formed as a *query expression* using a combination of relational operators to specify the desired results as a function on the stored data.\n",
    "Queries are declarative, meaning they define what data is needed rather than how to obtain it. The execution of a query transforms input relations into new relations that meet the specified criteria.\n",
    "\n",
    "\n",
    "## Query Operators\n",
    "\n",
    "**Relational Algebra** is a formal language for representing and manipulating relational data. \n",
    "It provides a set of query operations that work on relations (tables) to produce new relations, allowing complex data queries to be expressed mathematically. These operations are essential for defining, combining, and filtering data in a structured and precise manner.\n",
    "\n",
    "The core relational operators include:\n",
    "* **Restriction**: Filters a relation to include only those tuples that satisfy specific conditions. For example, selecting all students born after a particular year.\n",
    "* **Projection**: Manipulates the attributes (columns) of a relation by removing or renaming them, or calculating new attributes.\n",
    "* **Join**: Combines two relations based on matching attribute values, producing a relation that merges related tuples.\n",
    "* **Union**: Combines the tuples from two relations of the same schema, excluding duplicates.\n",
    "* **Aggregation**: Summarizes data by applying aggregation functions  (e.g. `COUNT`, `SUM`, or `AVG`) in sets of elements from one relation grouped by elements of another relation.\n",
    "\n",
    "## Algebraic Closure\n",
    "A critical property of relational algebra is algebraic closure. This means that the result of any operation in relational algebra is itself a relation. Because of this property, the output of one operation can be used as input for another, enabling the composition of complex queries from simpler ones. Algebraic closure ensures consistency and simplicity in relational query processing.\n",
    "\n",
    "Relational algebra serves as the foundation for DataJoint's query language and forms the basis for conceptual clarity and optimization in database design. It ensures that operations on data maintain integrity and produce well-defined outputs, supporting the construction of complex queries from simple building blocks."
   ]
  }
 ],
 "metadata": {
  "language_info": {
   "name": "python"
  }
 },
 "nbformat": 4,
 "nbformat_minor": 2
}
