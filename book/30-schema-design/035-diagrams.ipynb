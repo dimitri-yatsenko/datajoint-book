{
 "cells": [
  {
   "cell_type": "markdown",
   "metadata": {},
   "source": [
    "# Diagramming\n",
    "\n",
    "\n",
    "Several diagramming notations have been used for designing relational schema, as already introduced in the section on [Relational Theory](../20-concepts/01-relational.md).\n",
    "\n",
    "DataJoint comes with a powerful diagramming notation that becomes useful for both data modeling and for exploring an existing schema."
   ]
  },
  {
   "cell_type": "markdown",
   "metadata": {},
   "source": [
    "A DataJoint schema is depicted as a Directed Acyclic Graph (DAG), where nodes are tables and edges represent the foreign key constraints between them."
   ]
  },
  {
   "cell_type": "markdown",
   "metadata": {},
   "source": [
    "Let's start with a simple schema called \"projects\" depicting employees, projects, and assignments of projects to employees, a many-to-many relationship.\n",
    "\n",
    "\n"
   ]
  },
  {
   "cell_type": "code",
   "execution_count": 2,
   "metadata": {},
   "outputs": [
    {
     "name": "stderr",
     "output_type": "stream",
     "text": [
      "[2025-09-18 14:51:23,804][INFO]: DataJoint 0.14.6 connected to dev@db:3306\n"
     ]
    }
   ],
   "source": [
    "import datajoint as dj\n",
    "\n",
    "dj.conn()\n",
    "\n",
    "\n",
    "schema = dj.Schema(\"projects\")\n",
    "\n",
    "@schema\n",
    "class Employee(dj.Manual):\n",
    "    definition = \"\"\"\n",
    "    employee_id : int\n",
    "    ---\n",
    "    employee_name : varchar(60)\n",
    "    \"\"\"\n",
    "\n",
    "@schema\n",
    "class Project(dj.Manual):\n",
    "    definition = \"\"\"\n",
    "    project_code  : varchar(8)\n",
    "    ---\n",
    "    project_title : varchar(50)\n",
    "    start_date : date\n",
    "    end_date : date\n",
    "    \"\"\"\n",
    "    \n",
    "@schema\n",
    "class Assignment(dj.Manual):\n",
    "    definition = \"\"\"\n",
    "    -> Employee\n",
    "    -> Project\n",
    "    ---\n",
    "    percent_effort : decimal(4,1) unsigned\n",
    "    \"\"\""
   ]
  },
  {
   "cell_type": "code",
   "execution_count": 4,
   "metadata": {},
   "outputs": [
    {
     "data": {
      "image/svg+xml": [
       "<svg xmlns=\"http://www.w3.org/2000/svg\" xmlns:xlink=\"http://www.w3.org/1999/xlink\" width=\"160pt\" height=\"114pt\" viewBox=\"0.00 0.00 159.50 114.00\">\n",
       "<g id=\"graph0\" class=\"graph\" transform=\"scale(1 1) rotate(0) translate(4 110)\">\n",
       "<polygon fill=\"white\" stroke=\"transparent\" points=\"-4,4 -4,-110 155.5,-110 155.5,4 -4,4\"/>\n",
       "<!-- Assignment -->\n",
       "<g id=\"node1\" class=\"node\">\n",
       "<title>Assignment</title>\n",
       "<g id=\"a_node1\"><a xlink:title=\"→ Employee&#13;→ Project&#13;------------------------------&#13;percent_effort       &#13;\">\n",
       "<polygon fill=\"#00ff00\" fill-opacity=\"0.188235\" stroke=\"#00ff00\" stroke-opacity=\"0.188235\" points=\"123,-35 37,-35 37,0 123,0 123,-35\"/>\n",
       "<text text-anchor=\"middle\" x=\"80\" y=\"-14.4\" font-family=\"arial\" font-size=\"12.00\" fill=\"darkgreen\">Assignment</text>\n",
       "</a>\n",
       "</g>\n",
       "</g>\n",
       "<!-- Employee -->\n",
       "<g id=\"node2\" class=\"node\">\n",
       "<title>Employee</title>\n",
       "<g id=\"a_node2\"><a xlink:title=\"employee_id          &#13;------------------------------&#13;employee_name        &#13;\">\n",
       "<polygon fill=\"#00ff00\" fill-opacity=\"0.188235\" stroke=\"#00ff00\" stroke-opacity=\"0.188235\" points=\"76,-106 0,-106 0,-71 76,-71 76,-106\"/>\n",
       "<text text-anchor=\"start\" x=\"8\" y=\"-86.4\" font-family=\"arial\" text-decoration=\"underline\" font-size=\"12.00\" fill=\"darkgreen\">Employee</text>\n",
       "</a>\n",
       "</g>\n",
       "</g>\n",
       "<!-- Employee&#45;&gt;Assignment -->\n",
       "<g id=\"edge1\" class=\"edge\">\n",
       "<title>Employee-&gt;Assignment</title>\n",
       "<path fill=\"none\" stroke=\"#000000\" stroke-width=\"0.75\" stroke-opacity=\"0.250980\" d=\"M48.17,-70.8C54.77,-59.95 63.34,-45.87 69.93,-35.05\"/>\n",
       "</g>\n",
       "<!-- Project -->\n",
       "<g id=\"node3\" class=\"node\">\n",
       "<title>Project</title>\n",
       "<g id=\"a_node3\"><a xlink:title=\"project_code         &#13;------------------------------&#13;project_title        &#13;start_date           &#13;end_date             &#13;\">\n",
       "<polygon fill=\"#00ff00\" fill-opacity=\"0.188235\" stroke=\"#00ff00\" stroke-opacity=\"0.188235\" points=\"151.5,-106 94.5,-106 94.5,-71 151.5,-71 151.5,-106\"/>\n",
       "<text text-anchor=\"start\" x=\"102.5\" y=\"-86.4\" font-family=\"arial\" text-decoration=\"underline\" font-size=\"12.00\" fill=\"darkgreen\">Project</text>\n",
       "</a>\n",
       "</g>\n",
       "</g>\n",
       "<!-- Project&#45;&gt;Assignment -->\n",
       "<g id=\"edge2\" class=\"edge\">\n",
       "<title>Project-&gt;Assignment</title>\n",
       "<path fill=\"none\" stroke=\"#000000\" stroke-width=\"0.75\" stroke-opacity=\"0.250980\" d=\"M112.59,-70.8C105.83,-59.95 97.05,-45.87 90.31,-35.05\"/>\n",
       "</g>\n",
       "</g>\n",
       "</svg>"
      ],
      "text/plain": [
       "<datajoint.diagram.Diagram at 0xffff59eb5a90>"
      ]
     },
     "execution_count": 4,
     "metadata": {},
     "output_type": "execute_result"
    }
   ],
   "source": [
    "dj.Diagram(schema)"
   ]
  }
 ],
 "metadata": {
  "kernelspec": {
   "display_name": "base",
   "language": "python",
   "name": "python3"
  },
  "language_info": {
   "codemirror_mode": {
    "name": "ipython",
    "version": 3
   },
   "file_extension": ".py",
   "mimetype": "text/x-python",
   "name": "python",
   "nbconvert_exporter": "python",
   "pygments_lexer": "ipython3",
   "version": "3.13.2"
  },
  "orig_nbformat": 4
 },
 "nbformat": 4,
 "nbformat_minor": 2
}
