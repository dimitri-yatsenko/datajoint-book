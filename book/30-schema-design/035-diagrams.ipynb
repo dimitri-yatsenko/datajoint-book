{
 "cells": [
  {
   "cell_type": "markdown",
   "metadata": {},
   "source": [
    "# Diagramming\n",
    "\n",
    "Schema diagrams are essential tools for understanding and designing relational databases. They provide a visual representation of tables and their relationships, making complex schemas easier to comprehend at a glance.\n",
    "\n",
    "Several diagramming notations have been used for designing relational schemas, as already introduced in the section on [Relational Theory](../20-concepts/01-relational.md). Common notations include:\n",
    "\n",
    "* **Chen's Entity-Relationship (ER) Notation**: Uses rectangles for entities and diamonds for relationships\n",
    "* **Crow's Foot Notation**: Uses symbols at line endpoints to indicate cardinality (one, many, optional)\n",
    "* **UML Class Diagrams**: Adapted from object-oriented modeling\n",
    "\n",
    "DataJoint uses its own diagramming notation that is specifically designed for working with directed acyclic graphs (DAGs) and makes relationship types immediately visible through line styles."
   ]
  },
  {
   "cell_type": "markdown",
   "metadata": {},
   "source": [
    "## DataJoint Diagram Structure\n",
    "\n",
    "A DataJoint schema is depicted as a **Directed Acyclic Graph (DAG)**, where:\n",
    "\n",
    "* **Nodes** represent tables in the database\n",
    "* **Edges** represent foreign key constraints between tables\n",
    "* **Direction** always flows from parent (referenced) to child (referencing) tables\n",
    "\n",
    "The key constraint in DataJoint is that **foreign keys cannot form cycles** - you cannot have a chain of foreign keys that loops back to a starting table. This constraint ensures that:\n",
    "\n",
    "1. Schemas can always be visualized as top-to-bottom workflows\n",
    "2. Data dependencies are clear and unambiguous\n",
    "3. Queries can follow predictable patterns\n",
    "\n",
    "Tables at the top of the diagram are independent entities (no foreign keys to other tables), while tables lower in the diagram depend on tables above them."
   ]
  },
  {
   "cell_type": "markdown",
   "metadata": {},
   "source": "## Quick Reference: Line Styles\n\nBefore diving into details, here's a quick reference for interpreting DataJoint diagrams:\n\n| Line Style | Symbol | Meaning | Semantic Relationship | Example |\n|------------|--------|---------|----------------------|---------|\n| **Thick Solid** | \u2501\u2501\u2501 | One-to-one | **Extension**: Child extends parent | Customer \u2501\u2501\u2501 CustomerNotes |\n| **Thin Solid** | \u2500\u2500\u2500 | One-to-many | **Containment**: Child belongs to parent | Customer \u2500\u2500\u2500 Account |\n| **Dashed** | \u2504\u2504\u2504 | One-to-many | **Reference**: Child references parent | Account \u2504\u2504\u2504 Bank |\n\n**Key Principle**: Solid lines mean the parent's identity becomes part of the child's identity. Dashed lines mean the child maintains independent identity.\n\n**Critical Distinction**: \n- **Thin solid** \u2192 Many children can belong to one parent (containment)\n- **Thick solid** \u2192 Only one child can extend each parent (extension)"
  },
  {
   "cell_type": "markdown",
   "metadata": {},
   "source": [
    "## Example: Project Assignment Schema\n",
    "\n",
    "Let's start with a simple schema called \"projects\" depicting employees, projects, and assignments of projects to employees. This is a classic many-to-many relationship:\n",
    "\n",
    "* **Employee** and **Project** are independent entities (no foreign keys)\n",
    "* **Assignment** is an association table that links employees to projects\n",
    "* One employee can be assigned to multiple projects\n",
    "* One project can have multiple employees assigned to it\n"
   ]
  },
  {
   "cell_type": "code",
   "execution_count": 2,
   "metadata": {},
   "outputs": [
    {
     "name": "stderr",
     "output_type": "stream",
     "text": [
      "[2025-10-08 19:08:07,939][INFO]: DataJoint 0.14.6 connected to dev@db:3306\n"
     ]
    }
   ],
   "source": [
    "import datajoint as dj\n",
    "\n",
    "dj.conn()\n",
    "\n",
    "\n",
    "schema = dj.Schema(\"projects\")\n",
    "\n",
    "@schema\n",
    "class Employee(dj.Manual):\n",
    "    definition = \"\"\"\n",
    "    employee_id : int\n",
    "    ---\n",
    "    employee_name : varchar(60)\n",
    "    \"\"\"\n",
    "\n",
    "@schema\n",
    "class Project(dj.Manual):\n",
    "    definition = \"\"\"\n",
    "    project_code  : varchar(8)\n",
    "    ---\n",
    "    project_title : varchar(50)\n",
    "    start_date : date\n",
    "    end_date : date\n",
    "    \"\"\"\n",
    "    \n",
    "@schema\n",
    "class Assignment(dj.Manual):\n",
    "    definition = \"\"\"\n",
    "    -> Employee\n",
    "    -> Project\n",
    "    ---\n",
    "    percent_effort : decimal(4,1) unsigned\n",
    "    \"\"\""
   ]
  },
  {
   "cell_type": "code",
   "execution_count": 3,
   "metadata": {},
   "outputs": [
    {
     "data": {
      "image/svg+xml": [
       "<svg xmlns=\"http://www.w3.org/2000/svg\" xmlns:xlink=\"http://www.w3.org/1999/xlink\" width=\"160pt\" height=\"114pt\" viewBox=\"0.00 0.00 159.50 114.00\">\n",
       "<g id=\"graph0\" class=\"graph\" transform=\"scale(1 1) rotate(0) translate(4 110)\">\n",
       "<polygon fill=\"white\" stroke=\"transparent\" points=\"-4,4 -4,-110 155.5,-110 155.5,4 -4,4\"/>\n",
       "<!-- Assignment -->\n",
       "<g id=\"node1\" class=\"node\">\n",
       "<title>Assignment</title>\n",
       "<g id=\"a_node1\"><a xlink:title=\"\u2192 Employee&#13;\u2192 Project&#13;------------------------------&#13;percent_effort \u00a0\u00a0\u00a0\u00a0\u00a0\u00a0&#13;\">\n",
       "<polygon fill=\"#00ff00\" fill-opacity=\"0.188235\" stroke=\"#00ff00\" stroke-opacity=\"0.188235\" points=\"123,-35 37,-35 37,0 123,0 123,-35\"/>\n",
       "<text text-anchor=\"middle\" x=\"80\" y=\"-14.4\" font-family=\"arial\" font-size=\"12.00\" fill=\"darkgreen\">Assignment</text>\n",
       "</a>\n",
       "</g>\n",
       "</g>\n",
       "<!-- Employee -->\n",
       "<g id=\"node2\" class=\"node\">\n",
       "<title>Employee</title>\n",
       "<g id=\"a_node2\"><a xlink:title=\"employee_id \u00a0\u00a0\u00a0\u00a0\u00a0\u00a0\u00a0\u00a0\u00a0&#13;------------------------------&#13;employee_name \u00a0\u00a0\u00a0\u00a0\u00a0\u00a0\u00a0&#13;\">\n",
       "<polygon fill=\"#00ff00\" fill-opacity=\"0.188235\" stroke=\"#00ff00\" stroke-opacity=\"0.188235\" points=\"76,-106 0,-106 0,-71 76,-71 76,-106\"/>\n",
       "<text text-anchor=\"start\" x=\"8\" y=\"-86.4\" font-family=\"arial\" text-decoration=\"underline\" font-size=\"12.00\" fill=\"darkgreen\">Employee</text>\n",
       "</a>\n",
       "</g>\n",
       "</g>\n",
       "<!-- Employee&#45;&gt;Assignment -->\n",
       "<g id=\"edge1\" class=\"edge\">\n",
       "<title>Employee-&gt;Assignment</title>\n",
       "<path fill=\"none\" stroke=\"#000000\" stroke-width=\"0.75\" stroke-opacity=\"0.250980\" d=\"M48.17,-70.8C54.77,-59.95 63.34,-45.87 69.93,-35.05\"/>\n",
       "</g>\n",
       "<!-- Project -->\n",
       "<g id=\"node3\" class=\"node\">\n",
       "<title>Project</title>\n",
       "<g id=\"a_node3\"><a xlink:title=\"project_code \u00a0\u00a0\u00a0\u00a0\u00a0\u00a0\u00a0\u00a0&#13;------------------------------&#13;project_title \u00a0\u00a0\u00a0\u00a0\u00a0\u00a0\u00a0&#13;start_date \u00a0\u00a0\u00a0\u00a0\u00a0\u00a0\u00a0\u00a0\u00a0\u00a0&#13;end_date \u00a0\u00a0\u00a0\u00a0\u00a0\u00a0\u00a0\u00a0\u00a0\u00a0\u00a0\u00a0&#13;\">\n",
       "<polygon fill=\"#00ff00\" fill-opacity=\"0.188235\" stroke=\"#00ff00\" stroke-opacity=\"0.188235\" points=\"151.5,-106 94.5,-106 94.5,-71 151.5,-71 151.5,-106\"/>\n",
       "<text text-anchor=\"start\" x=\"102.5\" y=\"-86.4\" font-family=\"arial\" text-decoration=\"underline\" font-size=\"12.00\" fill=\"darkgreen\">Project</text>\n",
       "</a>\n",
       "</g>\n",
       "</g>\n",
       "<!-- Project&#45;&gt;Assignment -->\n",
       "<g id=\"edge2\" class=\"edge\">\n",
       "<title>Project-&gt;Assignment</title>\n",
       "<path fill=\"none\" stroke=\"#000000\" stroke-width=\"0.75\" stroke-opacity=\"0.250980\" d=\"M112.59,-70.8C105.83,-59.95 97.05,-45.87 90.31,-35.05\"/>\n",
       "</g>\n",
       "</g>\n",
       "</svg>"
      ],
      "text/plain": [
       "<datajoint.diagram.Diagram at 0xffff2cfe6270>"
      ]
     },
     "execution_count": 3,
     "metadata": {},
     "output_type": "execute_result"
    }
   ],
   "source": [
    "dj.Diagram(schema)"
   ]
  },
  {
   "cell_type": "markdown",
   "metadata": {},
   "source": [
    "### Interpreting the Diagram\n",
    "\n",
    "In this diagram, observe the following features:\n",
    "\n",
    "* **Green boxes with underlined names**: These are the tables. The underline indicates these are independent entities (dimensions) with their own primary keys.\n",
    "* **Thin solid lines**: Both edges use thin solid lines, indicating that the foreign keys from `Assignment` are part of its primary key.\n",
    "* **Converging pattern**: The `Assignment` table has two foreign keys converging into it, which is the visual signature of an association table creating a many-to-many relationship.\n",
    "* **Top-to-bottom layout**: Independent entities (`Employee` and `Project`) are at the top, and the dependent table (`Assignment`) is at the bottom.\n",
    "\n",
    "**Interactive Features**: In Jupyter notebooks, you can hover over any table in the diagram to see its complete definition, including all attributes and constraints.\n"
   ]
  },
  {
   "cell_type": "markdown",
   "metadata": {},
   "source": "# Understanding Line Styles\n\nThe most important feature of DataJoint diagrams is how **line styles indicate relationship types**. There are three types of lines, each conveying specific information about how tables are related.\n\n## The Three Line Styles\n\n### 1. Thick Solid Line (\u2501\u2501\u2501)\n\n**Meaning**: One-to-one relationship where the foreign key constitutes the **entire primary key** of the child table.\n\n**Conceptual Model**: The child entity is a **specialized extension or elaboration** of the parent entity. The child doesn't have its own independent identity\u2014it IS the parent, just with additional information attached.\n\n**Characteristics**:\n- Child table shares the exact same primary key as the parent\n- Creates the strongest form of dependency and unified identity\n- Child inherits the parent's complete identity\n- Perfect for adding optional or modular information to an entity\n- Enables direct joins across multiple levels of hierarchy\n\n**Example Use Cases**:\n- Workflow sequences: Order \u2192 Shipment \u2192 Delivery (each step extends the order)\n- Optional entity extensions: Customer \u2192 CustomerPreferences (preferences extend customer)\n- Modular data splits: Experiment \u2192 ExperimentNotes (notes extend experiment)\n- One-to-one specializations where child adds detail without changing identity\n\n**Think of it as**: \"Child extends parent\" or \"Child specializes parent\"\n\n### 2. Thin Solid Line (\u2500\u2500\u2500)\n\n**Meaning**: One-to-many relationship where the foreign key is **part of** (but not all of) the child's primary key.\n\n**Conceptual Model**: The child entity **belongs to or is contained within** the parent entity. The child has its own identity, but only within the context of its parent. Multiple children can exist for each parent, each identified by the parent's key plus additional distinguishing attributes.\n\n**Characteristics**:\n- Child table has a composite primary key: parent's PK + additional field(s)\n- Creates hierarchical ownership or containment structures\n- Child's identity is contextualized by parent (e.g., \"Account #3 of Customer #42\")\n- Parent's primary key \"cascades\" down, becoming part of child's identity\n- Enables direct joins to ancestors without intermediate tables\n\n**Example Use Cases**:\n- Hierarchies: Study \u2192 Subject \u2192 Session \u2192 Scan (sessions belong to subjects)\n- Ownership: Customer \u2192 Account (accounts belong to customers)\n- Containment: Folder \u2192 File (files are contained in folders)\n- Parts-of: Order \u2192 OrderItem (items are parts of orders)\n\n**Think of it as**: \"Child belongs to parent\" or \"Child is contained in parent\"\n\n### 3. Dashed Line (- - - -)\n\n**Meaning**: One-to-many relationship where the foreign key is a **secondary attribute** (not part of the primary key).\n\n**Conceptual Model**: The child entity **references or associates with** the parent but maintains complete independence. The child has its own identity that is unrelated to the parent, and the parent is just one of many attributes describing the child.\n\n**Characteristics**:\n- Child table has its own independent primary key\n- Foreign key appears below the line (in secondary attributes)\n- Relationship is \"looser\" - no identity cascade\n- Cannot skip intermediate tables in joins\n- Relationship can be more easily changed or made optional\n\n**Example Use Cases**:\n- Optional associations: Product \u2192 Manufacturer (product exists independently)\n- References that might change: Employee \u2192 Department (employee might transfer)\n- Loose couplings: Document \u2192 Author (document has independent identity)\n- When child entity has independent identity from parent\n\n**Think of it as**: \"Child references parent\" or \"Child is loosely associated with parent\"\n\n## Summary: The Conceptual Framework\n\nUnderstanding the semantic difference between line types:\n\n| Line Type | Semantic Relationship | Identity | Cardinality |\n|-----------|----------------------|----------|-------------|\n| **Thick Solid** | Extension/Specialization | Shared | One-to-one |\n| **Thin Solid** | Containment/Belonging | Contextualized | One-to-many |\n| **Dashed** | Reference/Association | Independent | One-to-many |\n\n**Key Insight**: Solid lines (thick or thin) indicate that the parent's identity becomes part of the child's identity, either completely (thick) or partially (thin). Dashed lines indicate the child maintains its own independent identity."
  },
  {
   "cell_type": "markdown",
   "metadata": {},
   "source": "## Key Conceptual Distinction: Containment vs. Extension\n\nThe choice between thin and thick solid lines reflects a fundamental design decision about the **semantic relationship** between entities:\n\n### Thin Lines \u2192 Containment/Belonging (One-to-Many)\n\nWhen you use a thin solid line, you're saying:\n- *\"The child belongs to the parent\"*\n- *\"Multiple children can exist within each parent\"*\n- *\"The child's identity includes the parent's identity\"*\n\n**Example**: A `Session` belongs to a `Subject`. You can have Session 1, Session 2, Session 3 all belonging to the same subject. The sessions are identified as \"Subject 42, Session 1\" and \"Subject 42, Session 2\".\n\n```\n-> Subject\nsession : int\n```\n\n**Result**: Composite primary key `(subject_id, session)` \u2192 Thin solid line\n\n### Thick Lines \u2192 Extension/Specialization (One-to-One)\n\nWhen you use a thick solid line, you're saying:\n- *\"The child extends the parent with additional information\"*\n- *\"There can be at most one child for each parent\"*\n- *\"The child and parent share the same identity\"*\n\n**Example**: A `Shipment` extends an `Order`. Once an order is placed, it may or may not be shipped. If it's shipped, there's exactly one shipment record that shares the order's identity.\n\n```\n-> Order\n```\n\n**Result**: Primary key is just `order_id` (inherited) \u2192 Thick solid line\n\n### Visual Summary\n\n```\nParent Table\n     \u2502\n     \u251c\u2500\u2500\u2500 (thin solid) \u2500\u2500\u2192  Child has: Parent PK + own fields \u2192 \"belongs to\"\n     \u2502\n     \u2514\u2550\u2550\u2550 (thick solid) \u2550\u2550\u2192  Child has: Parent PK only \u2192 \"extends\"\n```\n\n### When to Choose Which\n\nAsk yourself: \"Can there be multiple children for each parent?\"\n\n- **Yes** \u2192 Use thin solid line (child belongs to parent)\n- **No** \u2192 Use thick solid line (child extends parent)"
  },
  {
   "cell_type": "markdown",
   "metadata": {},
   "source": "## Concrete Examples: Containment vs. Extension\n\nLet's illustrate the distinction with two concrete scenarios:\n\n### Scenario 1: Experiment Sessions (Containment - Thin Line)\n\nIn a lab, an experiment has multiple sessions. Each session belongs to its experiment:\n\n```python\nclass Experiment(dj.Manual):\n    definition = \"\"\"\n    experiment_id : int\n    ---\n    experiment_name : varchar(100)\n    \"\"\"\n\nclass Session(dj.Manual):\n    definition = \"\"\"\n    -> Experiment         # Part of primary key\n    session : int         # Additional PK component\n    ---\n    session_date : date\n    \"\"\"\n```\n\n**Relationship**: Session **belongs to** Experiment\n- Can have Session 1, Session 2, Session 3... all for the same experiment\n- Session identity: \"Experiment 5, Session 2\"\n- **Thin solid line** in diagram\n- Think: \"sessions are contained within experiments\"\n\n### Scenario 2: Experiment Notes (Extension - Thick Line)\n\nSometimes you want to add optional notes to an experiment without cluttering the main table:\n\n```python\nclass Experiment(dj.Manual):\n    definition = \"\"\"\n    experiment_id : int\n    ---\n    experiment_name : varchar(100)\n    \"\"\"\n\nclass ExperimentNotes(dj.Manual):\n    definition = \"\"\"\n    -> Experiment         # This IS the primary key\n    ---\n    notes : varchar(4000)\n    added_date : timestamp\n    \"\"\"\n```\n\n**Relationship**: ExperimentNotes **extends** Experiment\n- Can have at most one notes entry per experiment\n- Notes identity: same as experiment (shares `experiment_id`)\n- **Thick solid line** in diagram\n- Think: \"notes are an optional extension of experiment\"\n\n### The Decision Tree\n\n```\nDo multiple children exist for each parent?\n\u2502\n\u251c\u2500 YES \u2500\u2500\u2192 Thin Solid Line (Containment/Belonging)\n\u2502          Child PK: parent_pk + own_field(s)\n\u2502          Example: One experiment has many sessions\n\u2502\n\u2514\u2500 NO \u2500\u2500\u2500\u2192 Thick Solid Line (Extension/Specialization)\n           Child PK: parent_pk only\n           Example: One experiment has zero or one notes entry\n```"
  },
  {
   "cell_type": "markdown",
   "metadata": {},
   "source": [
    "## Visual Examples of Each Line Style\n",
    "\n",
    "Let's create schemas that demonstrate each type of line. We'll use variations of a simple customer-account relationship.\n"
   ]
  },
  {
   "cell_type": "markdown",
   "metadata": {},
   "source": [
    "### Example 1: Dashed Line (Secondary Foreign Key)\n"
   ]
  },
  {
   "cell_type": "code",
   "execution_count": 4,
   "metadata": {},
   "outputs": [
    {
     "data": {
      "image/svg+xml": [
       "<svg xmlns=\"http://www.w3.org/2000/svg\" xmlns:xlink=\"http://www.w3.org/1999/xlink\" width=\"83pt\" height=\"114pt\" viewBox=\"0.00 0.00 83.00 114.00\">\n",
       "<g id=\"graph0\" class=\"graph\" transform=\"scale(1 1) rotate(0) translate(4 110)\">\n",
       "<polygon fill=\"white\" stroke=\"transparent\" points=\"-4,4 -4,-110 79,-110 79,4 -4,4\"/>\n",
       "<!-- Account -->\n",
       "<g id=\"node1\" class=\"node\">\n",
       "<title>Account</title>\n",
       "<g id=\"a_node1\"><a xlink:title=\"account_number \u00a0\u00a0\u00a0\u00a0\u00a0\u00a0&#13;------------------------------&#13;\u2192 Customer&#13;balance \u00a0\u00a0\u00a0\u00a0\u00a0\u00a0\u00a0\u00a0\u00a0\u00a0\u00a0\u00a0\u00a0&#13;\">\n",
       "<polygon fill=\"#00ff00\" fill-opacity=\"0.188235\" stroke=\"#00ff00\" stroke-opacity=\"0.188235\" points=\"70,-35 5,-35 5,0 70,0 70,-35\"/>\n",
       "<text text-anchor=\"start\" x=\"13\" y=\"-15.4\" font-family=\"arial\" text-decoration=\"underline\" font-size=\"12.00\" fill=\"darkgreen\">Account</text>\n",
       "</a>\n",
       "</g>\n",
       "</g>\n",
       "<!-- Customer -->\n",
       "<g id=\"node2\" class=\"node\">\n",
       "<title>Customer</title>\n",
       "<g id=\"a_node2\"><a xlink:title=\"customer_id \u00a0\u00a0\u00a0\u00a0\u00a0\u00a0\u00a0\u00a0\u00a0&#13;------------------------------&#13;name \u00a0\u00a0\u00a0\u00a0\u00a0\u00a0\u00a0\u00a0\u00a0\u00a0\u00a0\u00a0\u00a0\u00a0\u00a0\u00a0&#13;\">\n",
       "<polygon fill=\"#00ff00\" fill-opacity=\"0.188235\" stroke=\"#00ff00\" stroke-opacity=\"0.188235\" points=\"75,-106 0,-106 0,-71 75,-71 75,-106\"/>\n",
       "<text text-anchor=\"start\" x=\"8\" y=\"-86.4\" font-family=\"arial\" text-decoration=\"underline\" font-size=\"12.00\" fill=\"darkgreen\">Customer</text>\n",
       "</a>\n",
       "</g>\n",
       "</g>\n",
       "<!-- Customer&#45;&gt;Account -->\n",
       "<g id=\"edge1\" class=\"edge\">\n",
       "<title>Customer-&gt;Account</title>\n",
       "<path fill=\"none\" stroke=\"#000000\" stroke-width=\"0.75\" stroke-dasharray=\"5,2\" stroke-opacity=\"0.250980\" d=\"M37.5,-70.8C37.5,-59.95 37.5,-45.87 37.5,-35.05\"/>\n",
       "</g>\n",
       "</g>\n",
       "</svg>"
      ],
      "text/plain": [
       "<datajoint.diagram.Diagram at 0xffff2d07b110>"
      ]
     },
     "execution_count": 4,
     "metadata": {},
     "output_type": "execute_result"
    }
   ],
   "source": [
    "schema_dashed = dj.Schema('diagram_dashed')\n",
    "\n",
    "@schema_dashed\n",
    "class Customer(dj.Manual):\n",
    "    definition = \"\"\"\n",
    "    customer_id : int\n",
    "    ---\n",
    "    name : varchar(50)\n",
    "    \"\"\"\n",
    "\n",
    "@schema_dashed  \n",
    "class Account(dj.Manual):\n",
    "    definition = \"\"\"\n",
    "    account_number : int\n",
    "    ---\n",
    "    -> Customer\n",
    "    balance : decimal(10,2)\n",
    "    \"\"\"\n",
    "\n",
    "dj.Diagram(schema_dashed)\n"
   ]
  },
  {
   "cell_type": "markdown",
   "metadata": {},
   "source": "**Dashed line** from `Customer` to `Account`: The foreign key `customer_id` is in the secondary attributes of `Account` (below the `---` line). Each account has its own independent ID (`account_number`), and the relationship to customer is secondary. \n\nThis represents a **reference or loose association** - the account maintains its own identity independent of the customer. This is a one-to-many relationship (one customer can have many accounts), and accounts could theoretically be reassigned to different customers by updating the foreign key (though in practice, we prefer delete-and-insert over updates)."
  },
  {
   "cell_type": "markdown",
   "metadata": {},
   "source": [
    "### Example 2: Thin Solid Line (Composite Primary Key)\n"
   ]
  },
  {
   "cell_type": "code",
   "execution_count": 5,
   "metadata": {},
   "outputs": [
    {
     "data": {
      "image/svg+xml": [
       "<svg xmlns=\"http://www.w3.org/2000/svg\" xmlns:xlink=\"http://www.w3.org/1999/xlink\" width=\"83pt\" height=\"114pt\" viewBox=\"0.00 0.00 83.00 114.00\">\n",
       "<g id=\"graph0\" class=\"graph\" transform=\"scale(1 1) rotate(0) translate(4 110)\">\n",
       "<polygon fill=\"white\" stroke=\"transparent\" points=\"-4,4 -4,-110 79,-110 79,4 -4,4\"/>\n",
       "<!-- Account -->\n",
       "<g id=\"node1\" class=\"node\">\n",
       "<title>Account</title>\n",
       "<g id=\"a_node1\"><a xlink:title=\"\u2192 Customer&#13;account_number \u00a0\u00a0\u00a0\u00a0\u00a0\u00a0&#13;------------------------------&#13;balance \u00a0\u00a0\u00a0\u00a0\u00a0\u00a0\u00a0\u00a0\u00a0\u00a0\u00a0\u00a0\u00a0&#13;\">\n",
       "<polygon fill=\"#00ff00\" fill-opacity=\"0.188235\" stroke=\"#00ff00\" stroke-opacity=\"0.188235\" points=\"70,-35 5,-35 5,0 70,0 70,-35\"/>\n",
       "<text text-anchor=\"start\" x=\"13\" y=\"-15.4\" font-family=\"arial\" text-decoration=\"underline\" font-size=\"12.00\" fill=\"darkgreen\">Account</text>\n",
       "</a>\n",
       "</g>\n",
       "</g>\n",
       "<!-- Customer -->\n",
       "<g id=\"node2\" class=\"node\">\n",
       "<title>Customer</title>\n",
       "<g id=\"a_node2\"><a xlink:title=\"customer_id \u00a0\u00a0\u00a0\u00a0\u00a0\u00a0\u00a0\u00a0\u00a0&#13;------------------------------&#13;name \u00a0\u00a0\u00a0\u00a0\u00a0\u00a0\u00a0\u00a0\u00a0\u00a0\u00a0\u00a0\u00a0\u00a0\u00a0\u00a0&#13;\">\n",
       "<polygon fill=\"#00ff00\" fill-opacity=\"0.188235\" stroke=\"#00ff00\" stroke-opacity=\"0.188235\" points=\"75,-106 0,-106 0,-71 75,-71 75,-106\"/>\n",
       "<text text-anchor=\"start\" x=\"8\" y=\"-86.4\" font-family=\"arial\" text-decoration=\"underline\" font-size=\"12.00\" fill=\"darkgreen\">Customer</text>\n",
       "</a>\n",
       "</g>\n",
       "</g>\n",
       "<!-- Customer&#45;&gt;Account -->\n",
       "<g id=\"edge1\" class=\"edge\">\n",
       "<title>Customer-&gt;Account</title>\n",
       "<path fill=\"none\" stroke=\"#000000\" stroke-width=\"0.75\" stroke-opacity=\"0.250980\" d=\"M37.5,-70.8C37.5,-59.95 37.5,-45.87 37.5,-35.05\"/>\n",
       "</g>\n",
       "</g>\n",
       "</svg>"
      ],
      "text/plain": [
       "<datajoint.diagram.Diagram at 0xffff2d07bed0>"
      ]
     },
     "execution_count": 5,
     "metadata": {},
     "output_type": "execute_result"
    }
   ],
   "source": [
    "schema_thin = dj.Schema('diagram_thin')\n",
    "\n",
    "@schema_thin\n",
    "class Customer(dj.Manual):\n",
    "    definition = \"\"\"\n",
    "    customer_id : int\n",
    "    ---\n",
    "    name : varchar(50)\n",
    "    \"\"\"\n",
    "\n",
    "@schema_thin\n",
    "class Account(dj.Manual):\n",
    "    definition = \"\"\"\n",
    "    -> Customer\n",
    "    account_number : int\n",
    "    ---\n",
    "    balance : decimal(10,2)\n",
    "    \"\"\"\n",
    "\n",
    "dj.Diagram(schema_thin)\n"
   ]
  },
  {
   "cell_type": "markdown",
   "metadata": {},
   "source": "**Thin solid line** from `Customer` to `Account`: The foreign key `customer_id` is part of `Account`'s primary key (above the `---` line). The primary key of `Account` is the composite `(customer_id, account_number)`. \n\nThis represents **containment or belonging** - each account belongs to and is identified within the context of its customer. Account #3 means nothing on its own; it's \"Account #3 of Customer #42\". This is a one-to-many relationship with identity cascade, creating a hierarchical structure where accounts are owned by customers."
  },
  {
   "cell_type": "markdown",
   "metadata": {},
   "source": [
    "### Example 3: Thick Solid Line (Primary Key is Foreign Key)\n"
   ]
  },
  {
   "cell_type": "code",
   "execution_count": 6,
   "metadata": {},
   "outputs": [
    {
     "data": {
      "image/svg+xml": [
       "<svg xmlns=\"http://www.w3.org/2000/svg\" xmlns:xlink=\"http://www.w3.org/1999/xlink\" width=\"83pt\" height=\"114pt\" viewBox=\"0.00 0.00 83.00 114.00\">\n",
       "<g id=\"graph0\" class=\"graph\" transform=\"scale(1 1) rotate(0) translate(4 110)\">\n",
       "<polygon fill=\"white\" stroke=\"transparent\" points=\"-4,4 -4,-110 79,-110 79,4 -4,4\"/>\n",
       "<!-- Customer -->\n",
       "<g id=\"node1\" class=\"node\">\n",
       "<title>Customer</title>\n",
       "<g id=\"a_node1\"><a xlink:title=\"customer_id \u00a0\u00a0\u00a0\u00a0\u00a0\u00a0\u00a0\u00a0\u00a0&#13;------------------------------&#13;name \u00a0\u00a0\u00a0\u00a0\u00a0\u00a0\u00a0\u00a0\u00a0\u00a0\u00a0\u00a0\u00a0\u00a0\u00a0\u00a0&#13;\">\n",
       "<polygon fill=\"#00ff00\" fill-opacity=\"0.188235\" stroke=\"#00ff00\" stroke-opacity=\"0.188235\" points=\"75,-106 0,-106 0,-71 75,-71 75,-106\"/>\n",
       "<text text-anchor=\"start\" x=\"8\" y=\"-86.4\" font-family=\"arial\" text-decoration=\"underline\" font-size=\"12.00\" fill=\"darkgreen\">Customer</text>\n",
       "</a>\n",
       "</g>\n",
       "</g>\n",
       "<!-- Account -->\n",
       "<g id=\"node2\" class=\"node\">\n",
       "<title>Account</title>\n",
       "<g id=\"a_node2\"><a xlink:title=\"\u2192 Customer&#13;------------------------------&#13;balance \u00a0\u00a0\u00a0\u00a0\u00a0\u00a0\u00a0\u00a0\u00a0\u00a0\u00a0\u00a0\u00a0&#13;\">\n",
       "<polygon fill=\"#00ff00\" fill-opacity=\"0.188235\" stroke=\"#00ff00\" stroke-opacity=\"0.188235\" points=\"70,-35 5,-35 5,0 70,0 70,-35\"/>\n",
       "<text text-anchor=\"middle\" x=\"37.5\" y=\"-14.4\" font-family=\"arial\" font-size=\"12.00\" fill=\"darkgreen\">Account</text>\n",
       "</a>\n",
       "</g>\n",
       "</g>\n",
       "<!-- Customer&#45;&gt;Account -->\n",
       "<g id=\"edge1\" class=\"edge\">\n",
       "<title>Customer-&gt;Account</title>\n",
       "<path fill=\"none\" stroke=\"#000000\" stroke-width=\"2\" stroke-opacity=\"0.250980\" d=\"M37.5,-70.8C37.5,-59.95 37.5,-45.87 37.5,-35.05\"/>\n",
       "</g>\n",
       "</g>\n",
       "</svg>"
      ],
      "text/plain": [
       "<datajoint.diagram.Diagram at 0xffff2ce95ba0>"
      ]
     },
     "execution_count": 6,
     "metadata": {},
     "output_type": "execute_result"
    }
   ],
   "source": [
    "schema_thick = dj.Schema('diagram_thick')\n",
    "\n",
    "@schema_thick\n",
    "class Customer(dj.Manual):\n",
    "    definition = \"\"\"\n",
    "    customer_id : int\n",
    "    ---\n",
    "    name : varchar(50)\n",
    "    \"\"\"\n",
    "\n",
    "@schema_thick\n",
    "class Account(dj.Manual):\n",
    "    definition = \"\"\"\n",
    "    -> Customer\n",
    "    ---\n",
    "    balance : decimal(10,2)\n",
    "    \"\"\"\n",
    "\n",
    "dj.Diagram(schema_thick)\n"
   ]
  },
  {
   "cell_type": "markdown",
   "metadata": {},
   "source": "**Thick solid line** from `Customer` to `Account`: The foreign key IS the entire primary key of `Account`. The primary key of `Account` is just `customer_id` (inherited from `Customer`). \n\nThis represents an **extension or specialization** - the account extends the customer entity with additional financial information. Customer and account share the same identity; they are one-to-one. This is useful when you want to modularize data (separate customer info from account info) while maintaining that each customer can have at most one account. Note that `Account` is no longer underlined in the diagram, indicating it's not an independent dimension but rather an extension of `Customer`."
  },
  {
   "cell_type": "markdown",
   "metadata": {},
   "source": [
    "# What Diagrams Show and Don't Show\n",
    "\n",
    "Understanding the limitations of diagram notation is just as important as understanding what they do show.\n",
    "\n",
    "## What Diagrams Clearly Indicate\n",
    "\n",
    "\u2705 **Line Style (Thick/Thin/Dashed)**:\n",
    "- Whether foreign keys are in primary key or secondary attributes\n",
    "- Whether relationships are one-to-one (thick) or one-to-many (thin/dashed)\n",
    "- Whether primary keys cascade through relationships (solid lines)\n",
    "\n",
    "\u2705 **Direction of Dependencies**:\n",
    "- Which table depends on which (arrows point from parent to child)\n",
    "- Workflow order (top to bottom)\n",
    "- Which tables are independent vs. dependent\n",
    "\n",
    "\u2705 **Table Types**:\n",
    "- Underlined names = independent entities (dimensions)\n",
    "- Non-underlined names = dependent entities (no independent identity)\n",
    "- Color coding for table tiers (Manual, Lookup, Imported, Computed, etc.)\n",
    "\n",
    "\u2705 **Association Patterns**:\n",
    "- Converging lines indicate association tables\n",
    "- Many-to-many relationships (two foreign keys in primary key)\n",
    "\n",
    "## What Diagrams Don't Show\n",
    "\n",
    "\u274c **Nullable Foreign Keys**:\n",
    "- Whether a foreign key is nullable (allows NULL values)\n",
    "- Cannot distinguish between mandatory and optional relationships\n",
    "- Must examine table definition to see nullable modifiers\n",
    "\n",
    "\u274c **Secondary Unique Constraints**:\n",
    "- Unique indexes on secondary attributes\n",
    "- Could convert a one-to-many into a one-to-one relationship\n",
    "- Not visible in the diagram at all\n",
    "\n",
    "\u274c **Actual Attribute Names**:\n",
    "- Only table names are shown (hover to see attributes)\n",
    "- Foreign key field names might be renamed via projection\n",
    "- Must inspect definition to see exact field names\n",
    "\n",
    "\u274c **Data Types and Constraints**:\n",
    "- Cannot see CHECK constraints, default values, etc.\n",
    "- Must examine table definition for these details\n",
    "\n",
    "\u274c **Composite Unique Constraints**:\n",
    "- Complex uniqueness rules beyond the primary key\n",
    "- May fundamentally change relationship semantics\n",
    "\n",
    "## Best Practice\n",
    "\n",
    "**Design Principle**: DataJoint users generally avoid secondary unique constraints when the primary key structure can enforce uniqueness. Making foreign keys part of the primary key (creating solid lines) provides two major benefits:\n",
    "\n",
    "1. **Visual Clarity**: The relationship type is immediately obvious from the diagram\n",
    "2. **Query Simplicity**: Primary keys cascade through foreign keys, enabling direct joins between distant tables\n"
   ]
  },
  {
   "cell_type": "markdown",
   "metadata": {},
   "source": [
    "# Practical Tips for Working with Diagrams\n",
    "\n",
    "## How to Read a Schema Quickly\n",
    "\n",
    "When encountering a new schema diagram, follow this systematic approach:\n",
    "\n",
    "1. **Identify Independent Entities** (top of diagram, underlined)\n",
    "   - These are your starting points for data entry\n",
    "   - No dependencies on other tables\n",
    "   \n",
    "2. **Trace the Solid Lines** (thick or thin)\n",
    "   - Follow the cascading primary keys\n",
    "   - Understand which tables can be joined directly\n",
    "   \n",
    "3. **Spot Association Tables** (converging patterns)\n",
    "   - Look for tables with multiple foreign keys in their primary key\n",
    "   - These represent many-to-many relationships\n",
    "   \n",
    "4. **Check Line Thickness**\n",
    "   - Thick lines = one-to-one relationships (workflow steps, optional extensions)\n",
    "   - Thin lines = one-to-many hierarchies (ownership, containment)\n",
    "   - Dashed lines = one-to-many loose associations\n",
    "\n",
    "## Designing with Diagrams in Mind\n",
    "\n",
    "When designing a new schema, consider:\n",
    "\n",
    "**Use Solid Lines When**:\n",
    "- Building hierarchical structures (Study \u2192 Subject \u2192 Session)\n",
    "- Creating workflow sequences (Order \u2192 Ship \u2192 Deliver)\n",
    "- You want to enable direct joins across levels\n",
    "\n",
    "**Use Dashed Lines When**:\n",
    "- Child has independent identity from parent\n",
    "- Relationship might change frequently\n",
    "- You don't want primary key cascade\n",
    "\n",
    "**Use Thick Lines When**:\n",
    "- Creating one-to-one relationships\n",
    "- Extending entities with optional information\n",
    "- Modeling sequential workflows\n",
    "\n",
    "## Diagram-Driven Queries\n",
    "\n",
    "The diagram structure directly informs query patterns:\n",
    "\n",
    "**Solid Line Paths** (direct joins possible):\n",
    "```python\n",
    "# If Study \u2192 Subject \u2192 Session are connected by solid lines:\n",
    "Study * Session  # Valid join, no need to include Subject\n",
    "```\n",
    "\n",
    "**Dashed Line Paths** (must include intermediate tables):\n",
    "```python\n",
    "# If Study ---> Subject (dashed), Subject \u2192 Session (solid):\n",
    "Study * Subject * Session  # Must include Subject\n",
    "```\n",
    "\n",
    "## Common Patterns at a Glance\n",
    "\n",
    "| Pattern | Line Type | Primary Key Structure | Use Case |\n",
    "|---------|-----------|----------------------|----------|\n",
    "| Independent entities | None (top level) | Own PK | Starting points |\n",
    "| Hierarchy | Thin solid | Parent PK + own field(s) | Containment, ownership |\n",
    "| Sequence | Thick solid | Parent PK only | Workflows, one-to-one |\n",
    "| Secondary reference | Dashed | Own PK | Association |\n",
    "| Association table | Multiple thin solid | Multiple parent PKs | Many-to-many |\n",
    "\n",
    "## Interactive Exploration\n",
    "\n",
    "**In Jupyter Notebooks**:\n",
    "- **Hover** over tables to see complete definitions (also works if you save the diagram as a SVG file)\n",
    "\n",
    "**Filtering Diagrams**:\n",
    "```python\n",
    "# Show only specific tables\n",
    "dj.Diagram(Table1) + dj.Diagram(Table2)\n",
    "\n",
    "# Show table and its immediate dependencies\n",
    "dj.Diagram(Table1) - 1\n",
    "\n",
    "# Show table and its immediate up to seven layears up in the graph\n",
    "dj.Diagram(Table1) - 7\n",
    "\n",
    "# Show table and what depends on it  \n",
    "dj.Diagram(Table1) + 1\n",
    "\n",
    "# Show table and what depends on it up to seven layers down in the graph\n",
    "dj.Diagram(Table1) + 7\n",
    "\n",
    "# Show table and what depends on it up to seven layers down in the graph\n",
    "dj.Diagram(Table1) + 7\n",
    "\n",
    "```\n",
    "\n",
    "## Summary\n",
    "\n",
    "DataJoint diagrams are powerful tools for:\n",
    "- **Understanding** existing schemas quickly\n",
    "- **Communicating** design decisions visually\n",
    "- **Planning** query strategies\n",
    "- **Validating** relationship structures\n",
    "\n",
    "The key is understanding that **line style encodes relationship semantics**: thick solid lines for one-to-one, thin solid lines for cascading one-to-many, and dashed lines for non-cascading one-to-many relationships. This visual language makes complex schemas comprehensible at a glance.\n"
   ]
  },
  {
   "cell_type": "markdown",
   "metadata": {},
   "source": []
  }
 ],
 "metadata": {
  "kernelspec": {
   "display_name": "base",
   "language": "python",
   "name": "python3"
  },
  "language_info": {
   "codemirror_mode": {
    "name": "ipython",
    "version": 3
   },
   "file_extension": ".py",
   "mimetype": "text/x-python",
   "name": "python",
   "nbconvert_exporter": "python",
   "pygments_lexer": "ipython3",
   "version": "3.13.2"
  },
  "orig_nbformat": 4
 },
 "nbformat": 4,
 "nbformat_minor": 2
}