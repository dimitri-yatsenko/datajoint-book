{
 "cells": [
  {
   "cell_type": "markdown",
   "metadata": {},
   "source": [
    "# Diagramming\n",
    "\n",
    "\n",
    "Several diagramming notations have been used for designing relational schema, as already introduced in the section on [Relational Theory](../20-concepts/01-relational.md).\n",
    "\n",
    "DataJoint comes with a powerful diagramming notation that becomes useful for both data modeling in the design phase and for exploring an existing schema."
   ]
  },
  {
   "cell_type": "markdown",
   "metadata": {},
   "source": [
    "A DataJoint schema is depicted as a Directed Acyclic Graph (DAG), where nodes are tables and edges represent the foreign key constraints between them."
   ]
  },
  {
   "cell_type": "markdown",
   "metadata": {},
   "source": [
    "Let's start with a simple schema called \"projects\" depicting employees, projects, and assignments of projects to employees, a many-to-many relationship.\n",
    "\n",
    "\n"
   ]
  },
  {
   "cell_type": "code",
   "execution_count": 1,
   "metadata": {},
   "outputs": [
    {
     "name": "stderr",
     "output_type": "stream",
     "text": [
      "[2024-10-21 01:31:00,046][INFO]: Connecting root@localhost:3306\n",
      "[2024-10-21 01:31:00,065][INFO]: Connected root@localhost:3306\n"
     ]
    }
   ],
   "source": [
    "import datajoint as dj\n",
    "\n",
    "schema = dj.Schema(\"projects\")\n",
    "\n",
    "\n",
    "@schema\n",
    "class Employee(dj.Manual):\n",
    "    definition = \"\"\"\n",
    "    employee_id : int\n",
    "    ---\n",
    "    employee_name : varchar(60)\n",
    "    \"\"\"\n",
    "\n",
    "\n",
    "@schema\n",
    "class Project(dj.Manual):\n",
    "    definition = \"\"\"\n",
    "    project_code  : varchar(8)\n",
    "    ---\n",
    "    project_title : varchar(50)\n",
    "    start_date : date\n",
    "    end_date : date\n",
    "    \"\"\"\n",
    "\n",
    "@schema\n",
    "class Assignment(dj.Manual):\n",
    "    definition = \"\"\"\n",
    "    -> Employee\n",
    "    -> Project\n",
    "    ---\n",
    "    percent_effort : decimal(4,1) unsigned\n",
    "    \"\"\"\n",
    "\n"
   ]
  },
  {
   "cell_type": "code",
   "execution_count": null,
   "metadata": {},
   "outputs": [],
   "source": []
  }
 ],
 "metadata": {
  "kernelspec": {
   "display_name": "base",
   "language": "python",
   "name": "python3"
  },
  "language_info": {
   "codemirror_mode": {
    "name": "ipython",
    "version": 3
   },
   "file_extension": ".py",
   "mimetype": "text/x-python",
   "name": "python",
   "nbconvert_exporter": "python",
   "pygments_lexer": "ipython3",
   "version": "3.11.10"
  },
  "orig_nbformat": 4
 },
 "nbformat": 4,
 "nbformat_minor": 2
}
