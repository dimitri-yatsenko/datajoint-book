{
 "cells": [
  {
   "cell_type": "markdown",
   "metadata": {},
   "source": [
    "# Modeling Relationships\n",
    "\n",
    "In this section, we’ll explore how to build complex relationships between entities using a combination of uniqueness constraints and referential constraints.\n",
    "\n",
    "## Uniqueness Constraints\n",
    "\n",
    "Uniqueness constraints are typically set through primary keys, but tables can also have additional unique indexes beyond the primary key.\n",
    "\n",
    "## Referential Constraints\n",
    "\n",
    "Referential constraints establish relationships between tables and are enforced by [foreign keys](030-foreign-keys.ipynb).\n",
    "\n",
    "## Foreign Keys Establish 1:1 or 1:N Relationships\n",
    "\n",
    "When a child table defines a foreign key constraint to a parent table, it creates a relationship between the entities in the parent and child tables. The cardinality of this relationship is always **1 on the parent side**: each entry in the child table must refer to a single entity in the parent table.\n",
    "\n",
    "On the child side, the relationship can have different cardinalities:\n",
    "\n",
    "- **0–1**: if the foreign key field in the child table has a unique constraint.\n",
    "- **N**: if no uniqueness constraint is applied to the foreign key field.\n",
    "\n",
    "Let’s illustrate these possibilities with examples of bank customers and their accounts.\n"
   ]
  },
  {
   "cell_type": "code",
   "execution_count": 32,
   "metadata": {},
   "outputs": [],
   "source": [
    "import datajoint as dj"
   ]
  },
  {
   "cell_type": "markdown",
   "metadata": {},
   "source": [
    "## Example: 1:N Relationship\n",
    "\n",
    "In the first example, let the rule be that customers are independent entities and accounts have exactly one owner but customers can have any number of accounts.\n",
    "This is an example of an 1:N relationship between customers and their accounts.\n",
    "\n",
    "Then the foreign key is declared in the `Account` table."
   ]
  },
  {
   "cell_type": "code",
   "execution_count": 33,
   "metadata": {},
   "outputs": [
    {
     "data": {
      "image/svg+xml": [
       "<svg xmlns=\"http://www.w3.org/2000/svg\" xmlns:xlink=\"http://www.w3.org/1999/xlink\" width=\"90pt\" height=\"113pt\" viewBox=\"0.00 0.00 90.00 113.12\">\n",
       "<g id=\"graph0\" class=\"graph\" transform=\"scale(1 1) rotate(0) translate(4 109.12)\">\n",
       "<polygon fill=\"white\" stroke=\"none\" points=\"-4,4 -4,-109.12 86,-109.12 86,4 -4,4\"/>\n",
       "<!-- Customer1 -->\n",
       "<g id=\"node1\" class=\"node\">\n",
       "<title>Customer1</title>\n",
       "<g id=\"a_node1\"><a xlink:title=\"customer_id          \r------------------------------\rfull_name            \rssn=null             \rUNIQUE INDEX (ssn)\r\">\n",
       "<polygon fill=\"#00ff00\" fill-opacity=\"0.188235\" stroke=\"#00ff00\" stroke-opacity=\"0.188235\" points=\"82,-105.12 0,-105.12 0,-70.56 82,-70.56 82,-105.12\"/>\n",
       "<text text-anchor=\"start\" x=\"8\" y=\"-84.56\" font-family=\"arial\" text-decoration=\"underline\" font-size=\"12.00\" fill=\"darkgreen\">Customer1</text>\n",
       "</a>\n",
       "</g>\n",
       "</g>\n",
       "<!-- Account1 -->\n",
       "<g id=\"node2\" class=\"node\">\n",
       "<title>Account1</title>\n",
       "<g id=\"a_node2\"><a xlink:title=\"account              \r------------------------------\r→ Customer1\r\">\n",
       "<polygon fill=\"#00ff00\" fill-opacity=\"0.188235\" stroke=\"#00ff00\" stroke-opacity=\"0.188235\" points=\"77.12,-34.56 4.88,-34.56 4.88,0 77.12,0 77.12,-34.56\"/>\n",
       "<text text-anchor=\"start\" x=\"12.88\" y=\"-14.01\" font-family=\"arial\" text-decoration=\"underline\" font-size=\"12.00\" fill=\"darkgreen\">Account1</text>\n",
       "</a>\n",
       "</g>\n",
       "</g>\n",
       "<!-- Customer1&#45;&gt;Account1 -->\n",
       "<g id=\"edge1\" class=\"edge\">\n",
       "<title>Customer1-&gt;Account1</title>\n",
       "<path fill=\"none\" stroke=\"#000000\" stroke-width=\"0.75\" stroke-dasharray=\"5,2\" stroke-opacity=\"0.250980\" d=\"M41,-70.24C41,-59.46 41,-45.47 41,-34.72\"/>\n",
       "</g>\n",
       "</g>\n",
       "</svg>"
      ],
      "text/plain": [
       "<datajoint.diagram.Diagram at 0x7fc003d24b50>"
      ]
     },
     "execution_count": 33,
     "metadata": {},
     "output_type": "execute_result"
    }
   ],
   "source": [
    "schema1 = dj.Schema('bank1')\n",
    "@schema1\n",
    "class Customer1(dj.Manual):\n",
    "    definition = \"\"\"\n",
    "    customer_id : int unsigned\n",
    "    ---\n",
    "    full_name : varchar(30)\n",
    "    ssn = null : int unsigned\n",
    "    unique index(ssn)\n",
    "    \"\"\"\n",
    "\n",
    "@schema1\n",
    "class Account1(dj.Manual):\n",
    "    definition = \"\"\"\n",
    "    account : int unsigned\n",
    "    ---\n",
    "    -> Customer1\n",
    "    open_date : date\n",
    "    \"\"\"\n",
    "\n",
    "dj.Diagram(schema1)"
   ]
  },
  {
   "cell_type": "markdown",
   "metadata": {},
   "source": [
    "In this design:\n",
    "\n",
    "* Each account is linked to a single customer through a foreign key referencing the primary key in Customer1, ensuring that each account has one, and only one, owner.\n",
    "* This setup allows each customer to own multiple accounts, as there is no unique constraint on the foreign key in Account1.\n",
    "* Customers may have zero or more accounts, as there’s no requirement for every customer to have an associated account.\n",
    "* Every account must have an owner, since the foreign key reference to Customer1 is mandatory (non-nullable).\n",
    "\n",
    "This structure establishes a one-to-many relationship between customers and accounts: one customer can own multiple accounts, but each account belongs to only one customer.\n",
    "\n",
    "To allow some accounts without an assigned owner, we can modify the design to make the foreign key nullable:"
   ]
  },
  {
   "cell_type": "code",
   "execution_count": 34,
   "metadata": {},
   "outputs": [
    {
     "data": {
      "image/svg+xml": [
       "<svg xmlns=\"http://www.w3.org/2000/svg\" xmlns:xlink=\"http://www.w3.org/1999/xlink\" width=\"90pt\" height=\"113pt\" viewBox=\"0.00 0.00 90.00 113.12\">\n",
       "<g id=\"graph0\" class=\"graph\" transform=\"scale(1 1) rotate(0) translate(4 109.12)\">\n",
       "<polygon fill=\"white\" stroke=\"none\" points=\"-4,4 -4,-109.12 86,-109.12 86,4 -4,4\"/>\n",
       "<!-- Customer2 -->\n",
       "<g id=\"node1\" class=\"node\">\n",
       "<title>Customer2</title>\n",
       "<g id=\"a_node1\"><a xlink:title=\"customer_id          \r------------------------------\rfull_name            \rssn=null             \rUNIQUE INDEX (ssn)\r\">\n",
       "<polygon fill=\"#00ff00\" fill-opacity=\"0.188235\" stroke=\"#00ff00\" stroke-opacity=\"0.188235\" points=\"82,-105.12 0,-105.12 0,-70.56 82,-70.56 82,-105.12\"/>\n",
       "<text text-anchor=\"start\" x=\"8\" y=\"-84.56\" font-family=\"arial\" text-decoration=\"underline\" font-size=\"12.00\" fill=\"darkgreen\">Customer2</text>\n",
       "</a>\n",
       "</g>\n",
       "</g>\n",
       "<!-- Account2 -->\n",
       "<g id=\"node2\" class=\"node\">\n",
       "<title>Account2</title>\n",
       "<g id=\"a_node2\"><a xlink:title=\"account              \r------------------------------\r→ [nullable] Customer2\r\">\n",
       "<polygon fill=\"#00ff00\" fill-opacity=\"0.188235\" stroke=\"#00ff00\" stroke-opacity=\"0.188235\" points=\"77.12,-34.56 4.88,-34.56 4.88,0 77.12,0 77.12,-34.56\"/>\n",
       "<text text-anchor=\"start\" x=\"12.88\" y=\"-14.01\" font-family=\"arial\" text-decoration=\"underline\" font-size=\"12.00\" fill=\"darkgreen\">Account2</text>\n",
       "</a>\n",
       "</g>\n",
       "</g>\n",
       "<!-- Customer2&#45;&gt;Account2 -->\n",
       "<g id=\"edge1\" class=\"edge\">\n",
       "<title>Customer2-&gt;Account2</title>\n",
       "<path fill=\"none\" stroke=\"#000000\" stroke-width=\"0.75\" stroke-dasharray=\"5,2\" stroke-opacity=\"0.250980\" d=\"M41,-70.24C41,-59.46 41,-45.47 41,-34.72\"/>\n",
       "</g>\n",
       "</g>\n",
       "</svg>"
      ],
      "text/plain": [
       "<datajoint.diagram.Diagram at 0x7fc003d24e90>"
      ]
     },
     "execution_count": 34,
     "metadata": {},
     "output_type": "execute_result"
    }
   ],
   "source": [
    "schema2 = dj.Schema('bank2')\n",
    "@schema2\n",
    "class Customer2(dj.Manual):\n",
    "    definition = \"\"\"\n",
    "    customer_id : int unsigned\n",
    "    ---\n",
    "    full_name : varchar(30)\n",
    "    ssn = null : int unsigned\n",
    "    unique index(ssn)\n",
    "    \"\"\"\n",
    "\n",
    "@schema2\n",
    "class Account2(dj.Manual):\n",
    "    definition = \"\"\"\n",
    "    account : int unsigned\n",
    "    ---\n",
    "    -> [nullable] Customer2\n",
    "    open_date : date\n",
    "    \"\"\"\n",
    "\n",
    "dj.Diagram(schema2)"
   ]
  },
  {
   "cell_type": "markdown",
   "metadata": {},
   "source": [
    "In this modified design:\n",
    "\n",
    "* Accounts without owners are allowed by setting the foreign key to Customer2 as nullable.\n",
    "* The schema diagram does not visually distinguish between required and optional dependencies, so the nullable nature of the foreign key is not visible in the diagram.\n",
    "* This configuration supports cases where accounts may or may not be assigned to a customer, adding flexibility to the data model."
   ]
  },
  {
   "cell_type": "markdown",
   "metadata": {},
   "source": [
    "Consider a third design where the foreign key is part of a composite primary key:"
   ]
  },
  {
   "cell_type": "code",
   "execution_count": 35,
   "metadata": {},
   "outputs": [
    {
     "data": {
      "image/svg+xml": [
       "<svg xmlns=\"http://www.w3.org/2000/svg\" xmlns:xlink=\"http://www.w3.org/1999/xlink\" width=\"90pt\" height=\"113pt\" viewBox=\"0.00 0.00 90.00 113.12\">\n",
       "<g id=\"graph0\" class=\"graph\" transform=\"scale(1 1) rotate(0) translate(4 109.12)\">\n",
       "<polygon fill=\"white\" stroke=\"none\" points=\"-4,4 -4,-109.12 86,-109.12 86,4 -4,4\"/>\n",
       "<!-- Customer3 -->\n",
       "<g id=\"node1\" class=\"node\">\n",
       "<title>Customer3</title>\n",
       "<g id=\"a_node1\"><a xlink:title=\"customer_id          \r------------------------------\rfull_name            \rssn=null             \rUNIQUE INDEX (ssn)\r\">\n",
       "<polygon fill=\"#00ff00\" fill-opacity=\"0.188235\" stroke=\"#00ff00\" stroke-opacity=\"0.188235\" points=\"82,-105.12 0,-105.12 0,-70.56 82,-70.56 82,-105.12\"/>\n",
       "<text text-anchor=\"start\" x=\"8\" y=\"-84.56\" font-family=\"arial\" text-decoration=\"underline\" font-size=\"12.00\" fill=\"darkgreen\">Customer3</text>\n",
       "</a>\n",
       "</g>\n",
       "</g>\n",
       "<!-- Account3 -->\n",
       "<g id=\"node2\" class=\"node\">\n",
       "<title>Account3</title>\n",
       "<g id=\"a_node2\"><a xlink:title=\"→ Customer3\raccount              \r------------------------------\ropen_date            \r\">\n",
       "<polygon fill=\"#00ff00\" fill-opacity=\"0.188235\" stroke=\"#00ff00\" stroke-opacity=\"0.188235\" points=\"77.12,-34.56 4.88,-34.56 4.88,0 77.12,0 77.12,-34.56\"/>\n",
       "<text text-anchor=\"start\" x=\"12.88\" y=\"-14.01\" font-family=\"arial\" text-decoration=\"underline\" font-size=\"12.00\" fill=\"darkgreen\">Account3</text>\n",
       "</a>\n",
       "</g>\n",
       "</g>\n",
       "<!-- Customer3&#45;&gt;Account3 -->\n",
       "<g id=\"edge1\" class=\"edge\">\n",
       "<title>Customer3-&gt;Account3</title>\n",
       "<path fill=\"none\" stroke=\"#000000\" stroke-width=\"0.75\" stroke-opacity=\"0.250980\" d=\"M41,-70.24C41,-59.46 41,-45.47 41,-34.72\"/>\n",
       "</g>\n",
       "</g>\n",
       "</svg>"
      ],
      "text/plain": [
       "<datajoint.diagram.Diagram at 0x7fc003d98050>"
      ]
     },
     "execution_count": 35,
     "metadata": {},
     "output_type": "execute_result"
    }
   ],
   "source": [
    "schema3 = dj.Schema('bank3')\n",
    "\n",
    "@schema3\n",
    "class Customer3(dj.Manual):\n",
    "    definition = \"\"\"\n",
    "    customer_id : int unsigned\n",
    "    ---\n",
    "    full_name : varchar(30)\n",
    "    ssn = null : int unsigned  # Optional SSN with unique constraint\n",
    "    unique index(ssn)\n",
    "    \"\"\"\n",
    "\n",
    "@schema3\n",
    "class Account3(dj.Manual):\n",
    "    definition = \"\"\"\n",
    "    -> Customer3\n",
    "    account : int unsigned\n",
    "    ---\n",
    "    open_date : date\n",
    "    \"\"\"\n",
    "\n",
    "dj.Diagram(schema3)"
   ]
  },
  {
   "cell_type": "markdown",
   "metadata": {},
   "source": [
    "In this design:\n",
    "\n",
    "* Composite Primary Key: The primary key for `Account3` is a combination of `customer_id` and `account`, meaning each account is uniquely identified by both the customer and account number together and neither of the two fields separately has to be unique across accounts.\n",
    "* One-to-Many Relationship: Since `customer_id` is only part of the primary key (not the entire primary key), it doesn’t need to be unique within `Account3`. This allows each customer to have multiple accounts, preserving the one-to-many relationship between Customer3 and Account3.\n",
    "* Foreign Key Reference: The foreign key to `Customer3` establishes the relationship, ensuring that each entry in Account3 references a valid customer in Customer3.\n",
    "\n",
    "This setup maintains the one-to-many relationship while allowing for each account to be uniquely identified by a combination of customer and account identifiers.\n",
    "\n",
    "In the diagram, solid lines indicate a dependency where the foreign key is part of the primary key, signifying a stronger relationship than a secondary reference. This stronger relationship ensures that any foreign keys pointing to `Account3` will also transitively reference `Customer3`."
   ]
  },
  {
   "cell_type": "markdown",
   "metadata": {},
   "source": [
    "### Exercise: Analyzing Bank Design\n",
    "\n",
    "Review the database design below and consider how this structure might reflect the bank’s operations."
   ]
  },
  {
   "cell_type": "code",
   "execution_count": 36,
   "metadata": {},
   "outputs": [
    {
     "data": {
      "image/svg+xml": [
       "<svg xmlns=\"http://www.w3.org/2000/svg\" xmlns:xlink=\"http://www.w3.org/1999/xlink\" width=\"90pt\" height=\"113pt\" viewBox=\"0.00 0.00 90.00 113.12\">\n",
       "<g id=\"graph0\" class=\"graph\" transform=\"scale(1 1) rotate(0) translate(4 109.12)\">\n",
       "<polygon fill=\"white\" stroke=\"none\" points=\"-4,4 -4,-109.12 86,-109.12 86,4 -4,4\"/>\n",
       "<!-- Customer4 -->\n",
       "<g id=\"node1\" class=\"node\">\n",
       "<title>Customer4</title>\n",
       "<g id=\"a_node1\"><a xlink:title=\"customer_id          \r------------------------------\rfull_name            \rssn=null             \r→ Account4\rUNIQUE INDEX (ssn)\r\">\n",
       "<polygon fill=\"#00ff00\" fill-opacity=\"0.188235\" stroke=\"#00ff00\" stroke-opacity=\"0.188235\" points=\"82,-34.56 0,-34.56 0,0 82,0 82,-34.56\"/>\n",
       "<text text-anchor=\"start\" x=\"8\" y=\"-14.01\" font-family=\"arial\" text-decoration=\"underline\" font-size=\"12.00\" fill=\"darkgreen\">Customer4</text>\n",
       "</a>\n",
       "</g>\n",
       "</g>\n",
       "<!-- Account4 -->\n",
       "<g id=\"node2\" class=\"node\">\n",
       "<title>Account4</title>\n",
       "<g id=\"a_node2\"><a xlink:title=\"account              \r------------------------------\ropen_date            \r\">\n",
       "<polygon fill=\"#00ff00\" fill-opacity=\"0.188235\" stroke=\"#00ff00\" stroke-opacity=\"0.188235\" points=\"77.12,-105.12 4.88,-105.12 4.88,-70.56 77.12,-70.56 77.12,-105.12\"/>\n",
       "<text text-anchor=\"start\" x=\"12.88\" y=\"-84.56\" font-family=\"arial\" text-decoration=\"underline\" font-size=\"12.00\" fill=\"darkgreen\">Account4</text>\n",
       "</a>\n",
       "</g>\n",
       "</g>\n",
       "<!-- Account4&#45;&gt;Customer4 -->\n",
       "<g id=\"edge1\" class=\"edge\">\n",
       "<title>Account4-&gt;Customer4</title>\n",
       "<path fill=\"none\" stroke=\"#000000\" stroke-width=\"0.75\" stroke-dasharray=\"5,2\" stroke-opacity=\"0.250980\" d=\"M41,-70.24C41,-59.46 41,-45.47 41,-34.72\"/>\n",
       "</g>\n",
       "</g>\n",
       "</svg>"
      ],
      "text/plain": [
       "<datajoint.diagram.Diagram at 0x7fc003d75090>"
      ]
     },
     "execution_count": 36,
     "metadata": {},
     "output_type": "execute_result"
    }
   ],
   "source": [
    "schema4 = dj.Schema('bank4')\n",
    "\n",
    "@schema4\n",
    "class Account4(dj.Manual):\n",
    "    definition = \"\"\"\n",
    "    account : int unsigned\n",
    "    ---\n",
    "    open_date : date\n",
    "    \"\"\"\n",
    "\n",
    "\n",
    "@schema4\n",
    "class Customer4(dj.Manual):\n",
    "    definition = \"\"\"\n",
    "    customer_id : int unsigned\n",
    "    ---\n",
    "    full_name : varchar(30)\n",
    "    ssn = null : int unsigned  # Optional SSN with unique constraint\n",
    "    unique index(ssn)\n",
    "    -> Account4\n",
    "    \"\"\"\n",
    "\n",
    "\n",
    "dj.Diagram(schema4)"
   ]
  },
  {
   "cell_type": "markdown",
   "metadata": {},
   "source": [
    "### Interpretation\n",
    "Consider the implications of this setup:\n",
    "\n",
    "* Each customer entry contains a reference to a single account in `Account4`, suggesting that each customer is linked to one specific account.\n",
    "* Since there is no constraint on the number of customers who can point to the same account, this design may allow multiple customers to be associated with a single account, indicating the possibility of shared accounts.\n",
    "* However, the structure does not allow an customer to exist without being associated with an account, as each customer record must reference an existing account.\n",
    "\n",
    "These choices might reflect the bank’s operations and policies, such as whether joint accounts are supported, and how account ownership is managed."
   ]
  },
  {
   "cell_type": "markdown",
   "metadata": {},
   "source": [
    "## One-to-One Relationships\n",
    "\n",
    "A one-to-one relationship is created when a foreign key in the child table is also designated as either the primary key or a unique index. This ensures that each entry in the child table corresponds to a single, unique entry in the parent table, and no parent entry is linked to more than one child entry.\n",
    "\n",
    "In a one-to-one relationship, the connection is always optional on the child side: a child entry is not required for every parent entry. Therefore, the cardinality on the child side is 0..1—each parent may have either zero or one associated child entry.\n",
    "\n",
    "In the following example, the foreign key in `Account` is also its primary key, resulting in a one-to-one relationship:"
   ]
  },
  {
   "cell_type": "code",
   "execution_count": 37,
   "metadata": {},
   "outputs": [
    {
     "data": {
      "image/svg+xml": [
       "<svg xmlns=\"http://www.w3.org/2000/svg\" xmlns:xlink=\"http://www.w3.org/1999/xlink\" width=\"90pt\" height=\"113pt\" viewBox=\"0.00 0.00 90.00 113.12\">\n",
       "<g id=\"graph0\" class=\"graph\" transform=\"scale(1 1) rotate(0) translate(4 109.12)\">\n",
       "<polygon fill=\"white\" stroke=\"none\" points=\"-4,4 -4,-109.12 86,-109.12 86,4 -4,4\"/>\n",
       "<!-- Account5 -->\n",
       "<g id=\"node1\" class=\"node\">\n",
       "<title>Account5</title>\n",
       "<g id=\"a_node1\"><a xlink:title=\"→ Customer5\r------------------------------\ropen_date            \r\">\n",
       "<polygon fill=\"#00ff00\" fill-opacity=\"0.188235\" stroke=\"#00ff00\" stroke-opacity=\"0.188235\" points=\"77.12,-34.56 4.88,-34.56 4.88,0 77.12,0 77.12,-34.56\"/>\n",
       "<text text-anchor=\"middle\" x=\"41\" y=\"-13.01\" font-family=\"arial\" font-size=\"12.00\" fill=\"darkgreen\">Account5</text>\n",
       "</a>\n",
       "</g>\n",
       "</g>\n",
       "<!-- Customer5 -->\n",
       "<g id=\"node2\" class=\"node\">\n",
       "<title>Customer5</title>\n",
       "<g id=\"a_node2\"><a xlink:title=\"customer_id          \r------------------------------\rfull_name            \rssn=null             \rUNIQUE INDEX (ssn)\r\">\n",
       "<polygon fill=\"#00ff00\" fill-opacity=\"0.188235\" stroke=\"#00ff00\" stroke-opacity=\"0.188235\" points=\"82,-105.12 0,-105.12 0,-70.56 82,-70.56 82,-105.12\"/>\n",
       "<text text-anchor=\"start\" x=\"8\" y=\"-84.56\" font-family=\"arial\" text-decoration=\"underline\" font-size=\"12.00\" fill=\"darkgreen\">Customer5</text>\n",
       "</a>\n",
       "</g>\n",
       "</g>\n",
       "<!-- Customer5&#45;&gt;Account5 -->\n",
       "<g id=\"edge1\" class=\"edge\">\n",
       "<title>Customer5-&gt;Account5</title>\n",
       "<path fill=\"none\" stroke=\"#000000\" stroke-width=\"2\" stroke-opacity=\"0.250980\" d=\"M41,-70.24C41,-59.46 41,-45.47 41,-34.72\"/>\n",
       "</g>\n",
       "</g>\n",
       "</svg>"
      ],
      "text/plain": [
       "<datajoint.diagram.Diagram at 0x7fc003d5a950>"
      ]
     },
     "execution_count": 37,
     "metadata": {},
     "output_type": "execute_result"
    }
   ],
   "source": [
    "schema5 = dj.Schema('bank5')\n",
    "\n",
    "@schema5\n",
    "class Customer5(dj.Manual):\n",
    "    definition = \"\"\"\n",
    "    customer_id : int unsigned\n",
    "    ---\n",
    "    full_name : varchar(30)\n",
    "    ssn = null : int unsigned  # Optional SSN with unique constraint\n",
    "    unique index(ssn)\n",
    "    \"\"\"\n",
    "\n",
    "@schema5\n",
    "class Account5(dj.Manual):\n",
    "    definition = \"\"\"\n",
    "    -> Customer5\n",
    "    ---\n",
    "    open_date : date\n",
    "    \"\"\"\n",
    "\n",
    "dj.Diagram(schema5)"
   ]
  },
  {
   "cell_type": "markdown",
   "metadata": {},
   "source": [
    "The diagramming notation represents this relationship with a thick solid line, which indicates the strongest type of dependency between two entities.\n",
    "In this setup, `Customer5` and `Account5` share the same identity because `Account5` inherits its primary key from `Customer5`.\n",
    "This setup creates a strict one-to-one relationship between Customer5 and Account5, where each account is uniquely and exclusively linked to a single customer.\n",
    "\n",
    "### Characteristics of This Structure\n",
    "* **Unified Identity:** Since `Account5` shares the primary key with `Customer5`, each `Account5` record is uniquely identified by the same key as `Customer5`.\n",
    "This enforces the rule that each account cannot exist without an associated customer.\n",
    "\n",
    "* **Conflated Entities:** In the diagram, the name `Account5` is no longer underscored, indicating it has ceased to function as a separate “dimension” or independent entity. `Account5` is now fully conflated with `Customer5`, meaning it effectively serves as an extension of the `Customer5` entity, rather than an independent table with its own identity.\n",
    "\n",
    "### Why Keep Separate Tables?\n",
    "Although this design could allow us to simply merge all account-related data into the `Customer5` table, there are reasons we may choose to keep `Account5` as a separate table:\n",
    "\n",
    "1. **Modularity and Clarity**: Separating `Account5` from `Customer5` keeps the structure modular, which can clarify different aspects of customer and account data in queries and during development.\n",
    "\n",
    "2. **Data Management**: By keeping account information in a separate table, we can manage and update account-related data independently from customer information. This separation can be beneficial for tasks such as auditing, logging, or updating fields associated with only account data.\n",
    "\n",
    "3. **Avoiding Optional Fields**: In cases where certain fields are only relevant to accounts (e.g., open_date, account-specific details), keeping them in a separate table prevents having unused or irrelevant fields in the main `Customer5` table.\n",
    "\n",
    "4. **Access Control**: When account information is sensitive or needs restricted access, placing it in a separate table can simplify access control, allowing finer-grained security policies around account data.\n",
    "\n",
    "5. **Scalability and Maintenance**: Over time, this separation can support scalability as customer and account data expand. If we anticipate adding extensive account-specific data or if account records will be managed differently from customer records, the separate tables facilitate maintenance and future-proof the structure.\n",
    "\n",
    "6. **Schema Evolution**: Separate tables provide flexibility to adapt or expand either the Customer5 or Account5 table independently, without altering the other table. This flexibility is especially useful if the schema is expected to evolve over time."
   ]
  },
  {
   "cell_type": "markdown",
   "metadata": {},
   "source": []
  },
  {
   "cell_type": "markdown",
   "metadata": {},
   "source": [
    "Another approach to establishing a one-to-one relationship is to use a secondary foreign key with an additional uniqueness constraint. DataJoint’s foreign key syntax supports both `unique` and `nullable` modifiers on foreign keys, providing flexibility in how relationships are structured.\n",
    "\n",
    "* **`unique` Modifier**: Adding the unique modifier to a foreign key converts a one-to-many relationship into a one-to-one relationship. This ensures that each entry in the child table corresponds to only one entry in the parent table and vice versa, enforcing a strict one-to-one link.\n",
    "\n",
    "* **`nullable` Modifier**: The `nullable` modifier allows the relationship to be optional on the child side, meaning that not every child entry must reference a parent entry. (Relationships are already optional on the parent side, as parent entries don’t depend on children.)\n",
    "\n",
    "### Example: One-to-One Relationship with Unique and Nullable Modifiers\n",
    "The following example demonstrates how to model a one-to-one relationship using a secondary unique constraint:"
   ]
  },
  {
   "cell_type": "code",
   "execution_count": 39,
   "metadata": {},
   "outputs": [
    {
     "data": {
      "image/svg+xml": [
       "<svg xmlns=\"http://www.w3.org/2000/svg\" xmlns:xlink=\"http://www.w3.org/1999/xlink\" width=\"90pt\" height=\"113pt\" viewBox=\"0.00 0.00 90.00 113.12\">\n",
       "<g id=\"graph0\" class=\"graph\" transform=\"scale(1 1) rotate(0) translate(4 109.12)\">\n",
       "<polygon fill=\"white\" stroke=\"none\" points=\"-4,4 -4,-109.12 86,-109.12 86,4 -4,4\"/>\n",
       "<!-- Customer6 -->\n",
       "<g id=\"node1\" class=\"node\">\n",
       "<title>Customer6</title>\n",
       "<g id=\"a_node1\"><a xlink:title=\"customer_id          \r------------------------------\rfull_name            \rssn=null             \rUNIQUE INDEX (ssn)\r\">\n",
       "<polygon fill=\"#00ff00\" fill-opacity=\"0.188235\" stroke=\"#00ff00\" stroke-opacity=\"0.188235\" points=\"82,-105.12 0,-105.12 0,-70.56 82,-70.56 82,-105.12\"/>\n",
       "<text text-anchor=\"start\" x=\"8\" y=\"-84.56\" font-family=\"arial\" text-decoration=\"underline\" font-size=\"12.00\" fill=\"darkgreen\">Customer6</text>\n",
       "</a>\n",
       "</g>\n",
       "</g>\n",
       "<!-- Account6 -->\n",
       "<g id=\"node2\" class=\"node\">\n",
       "<title>Account6</title>\n",
       "<g id=\"a_node2\"><a xlink:title=\"account              \r------------------------------\r→ [unique, nullable] Customer6\ropen_date            \r\">\n",
       "<polygon fill=\"#00ff00\" fill-opacity=\"0.188235\" stroke=\"#00ff00\" stroke-opacity=\"0.188235\" points=\"77.12,-34.56 4.88,-34.56 4.88,0 77.12,0 77.12,-34.56\"/>\n",
       "<text text-anchor=\"start\" x=\"12.88\" y=\"-14.01\" font-family=\"arial\" text-decoration=\"underline\" font-size=\"12.00\" fill=\"darkgreen\">Account6</text>\n",
       "</a>\n",
       "</g>\n",
       "</g>\n",
       "<!-- Customer6&#45;&gt;Account6 -->\n",
       "<g id=\"edge1\" class=\"edge\">\n",
       "<title>Customer6-&gt;Account6</title>\n",
       "<path fill=\"none\" stroke=\"#000000\" stroke-width=\"0.75\" stroke-dasharray=\"5,2\" stroke-opacity=\"0.250980\" d=\"M41,-70.24C41,-59.46 41,-45.47 41,-34.72\"/>\n",
       "</g>\n",
       "</g>\n",
       "</svg>"
      ],
      "text/plain": [
       "<datajoint.diagram.Diagram at 0x7fc003b7bc90>"
      ]
     },
     "execution_count": 39,
     "metadata": {},
     "output_type": "execute_result"
    }
   ],
   "source": [
    "\n",
    "schema6 = dj.Schema('bank6')\n",
    "\n",
    "@schema6\n",
    "class Customer6(dj.Manual):\n",
    "    definition = \"\"\"\n",
    "    customer_id : int unsigned\n",
    "    ---\n",
    "    full_name : varchar(30)\n",
    "    ssn = null : int unsigned  # Optional SSN with unique constraint\n",
    "    unique index(ssn)\n",
    "    \"\"\"\n",
    "\n",
    "@schema6\n",
    "class Account6(dj.Manual):\n",
    "    definition = \"\"\"\n",
    "    account : int unsigned\n",
    "    ---\n",
    "    -> [unique, nullable] Customer6\n",
    "    open_date : date\n",
    "    \"\"\"\n",
    "\n",
    "dj.Diagram(schema6)"
   ]
  }
 ],
 "metadata": {
  "kernelspec": {
   "display_name": "base",
   "language": "python",
   "name": "python3"
  },
  "language_info": {
   "codemirror_mode": {
    "name": "ipython",
    "version": 3
   },
   "file_extension": ".py",
   "mimetype": "text/x-python",
   "name": "python",
   "nbconvert_exporter": "python",
   "pygments_lexer": "ipython3",
   "version": "3.11.10"
  }
 },
 "nbformat": 4,
 "nbformat_minor": 4
}
