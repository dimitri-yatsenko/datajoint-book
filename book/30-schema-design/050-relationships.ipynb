{
 "cells": [
  {
   "cell_type": "markdown",
   "metadata": {},
   "source": [
    "# Modeling Relationships\n",
    "\n",
    "In this section, we’ll explore how to build complex relationships between entities using a combination of uniqueness constraints and referential constraints.\n",
    "\n",
    "## Uniqueness Constraints\n",
    "\n",
    "Uniqueness constraints are typically set through primary keys, but tables can also have additional unique indexes beyond the primary key.\n",
    "\n",
    "## Referential Constraints\n",
    "\n",
    "Referential constraints establish relationships between tables and are enforced by [foreign keys](030-foreign-keys.ipynb).\n",
    "\n",
    "## Foreign Keys Establish 1:N or 1:1 Relationships\n",
    "\n",
    "When a child table defines a foreign key constraint to a parent table, it creates a relationship between the entities in the parent and child tables. The cardinality of this relationship is always **1 on the parent side**: each entry in the child table must refer to a single entity in the parent table.\n",
    "\n",
    "On the child side, the relationship can have different cardinalities:\n",
    "\n",
    "- **0–1**: if the foreign key field in the child table has a unique constraint.\n",
    "- **N**: if no uniqueness constraint is applied to the foreign key field.\n",
    "\n",
    "Let’s illustrate these possibilities with examples of bank customers and their accounts.\n"
   ]
  },
  {
   "cell_type": "code",
   "execution_count": 14,
   "metadata": {},
   "outputs": [],
   "source": [
    "import datajoint as dj"
   ]
  },
  {
   "cell_type": "markdown",
   "metadata": {},
   "source": [
    "# One-to-Many Relationships\n",
    "\n",
    "In the first example, let the rule be that customers are independent entities and accounts have exactly one owner but customers can have any number of accounts.\n",
    "This is an example of an 1:N relationship between customers and their accounts.\n",
    "\n",
    "Then the foreign key is declared in the `Account` table."
   ]
  },
  {
   "cell_type": "code",
   "execution_count": 15,
   "metadata": {},
   "outputs": [
    {
     "data": {
      "image/svg+xml": [
       "<svg xmlns=\"http://www.w3.org/2000/svg\" xmlns:xlink=\"http://www.w3.org/1999/xlink\" width=\"90pt\" height=\"113pt\" viewBox=\"0.00 0.00 90.00 113.12\">\n",
       "<g id=\"graph0\" class=\"graph\" transform=\"scale(1 1) rotate(0) translate(4 109.12)\">\n",
       "<polygon fill=\"white\" stroke=\"none\" points=\"-4,4 -4,-109.12 86,-109.12 86,4 -4,4\"/>\n",
       "<!-- Account1 -->\n",
       "<g id=\"node1\" class=\"node\">\n",
       "<title>Account1</title>\n",
       "<g id=\"a_node1\"><a xlink:title=\"account              \r------------------------------\r→ Customer1\ropen_date            \r\">\n",
       "<polygon fill=\"#00ff00\" fill-opacity=\"0.188235\" stroke=\"#00ff00\" stroke-opacity=\"0.188235\" points=\"77.12,-34.56 4.88,-34.56 4.88,0 77.12,0 77.12,-34.56\"/>\n",
       "<text text-anchor=\"start\" x=\"12.88\" y=\"-14.01\" font-family=\"arial\" text-decoration=\"underline\" font-size=\"12.00\" fill=\"darkgreen\">Account1</text>\n",
       "</a>\n",
       "</g>\n",
       "</g>\n",
       "<!-- Customer1 -->\n",
       "<g id=\"node2\" class=\"node\">\n",
       "<title>Customer1</title>\n",
       "<g id=\"a_node2\"><a xlink:title=\"customer_id          \r------------------------------\rfull_name            \rssn=null             \rUNIQUE INDEX (ssn)\r\">\n",
       "<polygon fill=\"#00ff00\" fill-opacity=\"0.188235\" stroke=\"#00ff00\" stroke-opacity=\"0.188235\" points=\"82,-105.12 0,-105.12 0,-70.56 82,-70.56 82,-105.12\"/>\n",
       "<text text-anchor=\"start\" x=\"8\" y=\"-84.56\" font-family=\"arial\" text-decoration=\"underline\" font-size=\"12.00\" fill=\"darkgreen\">Customer1</text>\n",
       "</a>\n",
       "</g>\n",
       "</g>\n",
       "<!-- Customer1&#45;&gt;Account1 -->\n",
       "<g id=\"edge1\" class=\"edge\">\n",
       "<title>Customer1-&gt;Account1</title>\n",
       "<path fill=\"none\" stroke=\"#000000\" stroke-width=\"0.75\" stroke-dasharray=\"5,2\" stroke-opacity=\"0.250980\" d=\"M41,-70.24C41,-59.46 41,-45.47 41,-34.72\"/>\n",
       "</g>\n",
       "</g>\n",
       "</svg>"
      ],
      "text/plain": [
       "<datajoint.diagram.Diagram at 0x7f923787d4d0>"
      ]
     },
     "execution_count": 15,
     "metadata": {},
     "output_type": "execute_result"
    }
   ],
   "source": [
    "schema1 = dj.Schema('bank1')\n",
    "@schema1\n",
    "class Customer1(dj.Manual):\n",
    "    definition = \"\"\"\n",
    "    customer_id : int unsigned\n",
    "    ---\n",
    "    full_name : varchar(30)\n",
    "    ssn = null : int unsigned\n",
    "    unique index(ssn)\n",
    "    \"\"\"\n",
    "\n",
    "@schema1\n",
    "class Account1(dj.Manual):\n",
    "    definition = \"\"\"\n",
    "    account : int unsigned\n",
    "    ---\n",
    "    -> Customer1\n",
    "    open_date : date\n",
    "    \"\"\"\n",
    "\n",
    "dj.Diagram(schema1)"
   ]
  },
  {
   "cell_type": "markdown",
   "metadata": {},
   "source": [
    "In this design:\n",
    "\n",
    "* Each account is linked to a single customer through a foreign key referencing the primary key in Customer1, ensuring that each account has one, and only one, owner.\n",
    "* This setup allows each customer to own multiple accounts, as there is no unique constraint on the foreign key in Account1.\n",
    "* Customers may have zero or more accounts, as there’s no requirement for every customer to have an associated account.\n",
    "* Every account must have an owner, since the foreign key reference to Customer1 is mandatory (non-nullable).\n",
    "\n",
    "This structure establishes a one-to-many relationship between customers and accounts: one customer can own multiple accounts, but each account belongs to only one customer.\n",
    "\n",
    "To allow some accounts without an assigned owner, we can modify the design to make the foreign key nullable:"
   ]
  },
  {
   "cell_type": "code",
   "execution_count": 16,
   "metadata": {},
   "outputs": [
    {
     "data": {
      "image/svg+xml": [
       "<svg xmlns=\"http://www.w3.org/2000/svg\" xmlns:xlink=\"http://www.w3.org/1999/xlink\" width=\"90pt\" height=\"113pt\" viewBox=\"0.00 0.00 90.00 113.12\">\n",
       "<g id=\"graph0\" class=\"graph\" transform=\"scale(1 1) rotate(0) translate(4 109.12)\">\n",
       "<polygon fill=\"white\" stroke=\"none\" points=\"-4,4 -4,-109.12 86,-109.12 86,4 -4,4\"/>\n",
       "<!-- Customer2 -->\n",
       "<g id=\"node1\" class=\"node\">\n",
       "<title>Customer2</title>\n",
       "<g id=\"a_node1\"><a xlink:title=\"customer_id          \r------------------------------\rfull_name            \rssn=null             \rUNIQUE INDEX (ssn)\r\">\n",
       "<polygon fill=\"#00ff00\" fill-opacity=\"0.188235\" stroke=\"#00ff00\" stroke-opacity=\"0.188235\" points=\"82,-105.12 0,-105.12 0,-70.56 82,-70.56 82,-105.12\"/>\n",
       "<text text-anchor=\"start\" x=\"8\" y=\"-84.56\" font-family=\"arial\" text-decoration=\"underline\" font-size=\"12.00\" fill=\"darkgreen\">Customer2</text>\n",
       "</a>\n",
       "</g>\n",
       "</g>\n",
       "<!-- Account2 -->\n",
       "<g id=\"node2\" class=\"node\">\n",
       "<title>Account2</title>\n",
       "<g id=\"a_node2\"><a xlink:title=\"account              \r------------------------------\r→ [nullable] Customer2\ropen_date            \r\">\n",
       "<polygon fill=\"#00ff00\" fill-opacity=\"0.188235\" stroke=\"#00ff00\" stroke-opacity=\"0.188235\" points=\"77.12,-34.56 4.88,-34.56 4.88,0 77.12,0 77.12,-34.56\"/>\n",
       "<text text-anchor=\"start\" x=\"12.88\" y=\"-14.01\" font-family=\"arial\" text-decoration=\"underline\" font-size=\"12.00\" fill=\"darkgreen\">Account2</text>\n",
       "</a>\n",
       "</g>\n",
       "</g>\n",
       "<!-- Customer2&#45;&gt;Account2 -->\n",
       "<g id=\"edge1\" class=\"edge\">\n",
       "<title>Customer2-&gt;Account2</title>\n",
       "<path fill=\"none\" stroke=\"#000000\" stroke-width=\"0.75\" stroke-dasharray=\"5,2\" stroke-opacity=\"0.250980\" d=\"M41,-70.24C41,-59.46 41,-45.47 41,-34.72\"/>\n",
       "</g>\n",
       "</g>\n",
       "</svg>"
      ],
      "text/plain": [
       "<datajoint.diagram.Diagram at 0x7f9237947e10>"
      ]
     },
     "execution_count": 16,
     "metadata": {},
     "output_type": "execute_result"
    }
   ],
   "source": [
    "schema2 = dj.Schema('bank2')\n",
    "@schema2\n",
    "class Customer2(dj.Manual):\n",
    "    definition = \"\"\"\n",
    "    customer_id : int unsigned\n",
    "    ---\n",
    "    full_name : varchar(30)\n",
    "    ssn = null : int unsigned\n",
    "    unique index(ssn)\n",
    "    \"\"\"\n",
    "\n",
    "@schema2\n",
    "class Account2(dj.Manual):\n",
    "    definition = \"\"\"\n",
    "    account : int unsigned\n",
    "    ---\n",
    "    -> [nullable] Customer2\n",
    "    open_date : date\n",
    "    \"\"\"\n",
    "\n",
    "dj.Diagram(schema2)"
   ]
  },
  {
   "cell_type": "markdown",
   "metadata": {},
   "source": [
    "In this modified design:\n",
    "\n",
    "* Accounts without owners are allowed by setting the foreign key to Customer2 as nullable.\n",
    "* The schema diagram does not visually distinguish between required and optional dependencies, so the nullable nature of the foreign key is not visible in the diagram.\n",
    "* This configuration supports cases where accounts may or may not be assigned to a customer, adding flexibility to the data model."
   ]
  },
  {
   "cell_type": "markdown",
   "metadata": {},
   "source": [
    "Consider a third design where the foreign key is part of a composite primary key:"
   ]
  },
  {
   "cell_type": "code",
   "execution_count": 17,
   "metadata": {},
   "outputs": [
    {
     "data": {
      "image/svg+xml": [
       "<svg xmlns=\"http://www.w3.org/2000/svg\" xmlns:xlink=\"http://www.w3.org/1999/xlink\" width=\"90pt\" height=\"113pt\" viewBox=\"0.00 0.00 90.00 113.12\">\n",
       "<g id=\"graph0\" class=\"graph\" transform=\"scale(1 1) rotate(0) translate(4 109.12)\">\n",
       "<polygon fill=\"white\" stroke=\"none\" points=\"-4,4 -4,-109.12 86,-109.12 86,4 -4,4\"/>\n",
       "<!-- Account3 -->\n",
       "<g id=\"node1\" class=\"node\">\n",
       "<title>Account3</title>\n",
       "<g id=\"a_node1\"><a xlink:title=\"→ Customer3\raccount              \r------------------------------\ropen_date            \r\">\n",
       "<polygon fill=\"#00ff00\" fill-opacity=\"0.188235\" stroke=\"#00ff00\" stroke-opacity=\"0.188235\" points=\"77.12,-34.56 4.88,-34.56 4.88,0 77.12,0 77.12,-34.56\"/>\n",
       "<text text-anchor=\"start\" x=\"12.88\" y=\"-14.01\" font-family=\"arial\" text-decoration=\"underline\" font-size=\"12.00\" fill=\"darkgreen\">Account3</text>\n",
       "</a>\n",
       "</g>\n",
       "</g>\n",
       "<!-- Customer3 -->\n",
       "<g id=\"node2\" class=\"node\">\n",
       "<title>Customer3</title>\n",
       "<g id=\"a_node2\"><a xlink:title=\"customer_id          \r------------------------------\rfull_name            \rssn=null             \rUNIQUE INDEX (ssn)\r\">\n",
       "<polygon fill=\"#00ff00\" fill-opacity=\"0.188235\" stroke=\"#00ff00\" stroke-opacity=\"0.188235\" points=\"82,-105.12 0,-105.12 0,-70.56 82,-70.56 82,-105.12\"/>\n",
       "<text text-anchor=\"start\" x=\"8\" y=\"-84.56\" font-family=\"arial\" text-decoration=\"underline\" font-size=\"12.00\" fill=\"darkgreen\">Customer3</text>\n",
       "</a>\n",
       "</g>\n",
       "</g>\n",
       "<!-- Customer3&#45;&gt;Account3 -->\n",
       "<g id=\"edge1\" class=\"edge\">\n",
       "<title>Customer3-&gt;Account3</title>\n",
       "<path fill=\"none\" stroke=\"#000000\" stroke-width=\"0.75\" stroke-opacity=\"0.250980\" d=\"M41,-70.24C41,-59.46 41,-45.47 41,-34.72\"/>\n",
       "</g>\n",
       "</g>\n",
       "</svg>"
      ],
      "text/plain": [
       "<datajoint.diagram.Diagram at 0x7f92375c8510>"
      ]
     },
     "execution_count": 17,
     "metadata": {},
     "output_type": "execute_result"
    }
   ],
   "source": [
    "schema3 = dj.Schema('bank3')\n",
    "\n",
    "@schema3\n",
    "class Customer3(dj.Manual):\n",
    "    definition = \"\"\"\n",
    "    customer_id : int unsigned\n",
    "    ---\n",
    "    full_name : varchar(30)\n",
    "    ssn = null : int unsigned  # Optional SSN with unique constraint\n",
    "    unique index(ssn)\n",
    "    \"\"\"\n",
    "\n",
    "@schema3\n",
    "class Account3(dj.Manual):\n",
    "    definition = \"\"\"\n",
    "    -> Customer3\n",
    "    account : int unsigned\n",
    "    ---\n",
    "    open_date : date\n",
    "    \"\"\"\n",
    "\n",
    "dj.Diagram(schema3)"
   ]
  },
  {
   "cell_type": "markdown",
   "metadata": {},
   "source": [
    "In this design:\n",
    "\n",
    "* Composite Primary Key: The primary key for `Account3` is a combination of `customer_id` and `account`, meaning each account is uniquely identified by both the customer and account number together and neither of the two fields separately has to be unique across accounts.\n",
    "* One-to-Many Relationship: Since `customer_id` is only part of the primary key (not the entire primary key), it doesn’t need to be unique within `Account3`. This allows each customer to have multiple accounts, preserving the one-to-many relationship between Customer3 and Account3.\n",
    "* Foreign Key Reference: The foreign key to `Customer3` establishes the relationship, ensuring that each entry in Account3 references a valid customer in Customer3.\n",
    "\n",
    "This setup maintains the one-to-many relationship while allowing for each account to be uniquely identified by a combination of customer and account identifiers.\n",
    "\n",
    "In the diagram, solid lines indicate a dependency where the foreign key is part of the primary key, signifying a stronger relationship than a secondary reference. This stronger relationship ensures that any foreign keys pointing to `Account3` will also transitively reference `Customer3`."
   ]
  },
  {
   "cell_type": "markdown",
   "metadata": {},
   "source": [
    "### Exercise: Analyzing Bank Design\n",
    "\n",
    "Review the database design below and consider how this structure might reflect the bank’s operations."
   ]
  },
  {
   "cell_type": "code",
   "execution_count": 18,
   "metadata": {},
   "outputs": [
    {
     "data": {
      "image/svg+xml": [
       "<svg xmlns=\"http://www.w3.org/2000/svg\" xmlns:xlink=\"http://www.w3.org/1999/xlink\" width=\"90pt\" height=\"113pt\" viewBox=\"0.00 0.00 90.00 113.12\">\n",
       "<g id=\"graph0\" class=\"graph\" transform=\"scale(1 1) rotate(0) translate(4 109.12)\">\n",
       "<polygon fill=\"white\" stroke=\"none\" points=\"-4,4 -4,-109.12 86,-109.12 86,4 -4,4\"/>\n",
       "<!-- Customer4 -->\n",
       "<g id=\"node1\" class=\"node\">\n",
       "<title>Customer4</title>\n",
       "<g id=\"a_node1\"><a xlink:title=\"customer_id          \r------------------------------\rfull_name            \rssn=null             \r→ Account4\rUNIQUE INDEX (ssn)\r\">\n",
       "<polygon fill=\"#00ff00\" fill-opacity=\"0.188235\" stroke=\"#00ff00\" stroke-opacity=\"0.188235\" points=\"82,-34.56 0,-34.56 0,0 82,0 82,-34.56\"/>\n",
       "<text text-anchor=\"start\" x=\"8\" y=\"-14.01\" font-family=\"arial\" text-decoration=\"underline\" font-size=\"12.00\" fill=\"darkgreen\">Customer4</text>\n",
       "</a>\n",
       "</g>\n",
       "</g>\n",
       "<!-- Account4 -->\n",
       "<g id=\"node2\" class=\"node\">\n",
       "<title>Account4</title>\n",
       "<g id=\"a_node2\"><a xlink:title=\"account              \r------------------------------\ropen_date            \r\">\n",
       "<polygon fill=\"#00ff00\" fill-opacity=\"0.188235\" stroke=\"#00ff00\" stroke-opacity=\"0.188235\" points=\"77.12,-105.12 4.88,-105.12 4.88,-70.56 77.12,-70.56 77.12,-105.12\"/>\n",
       "<text text-anchor=\"start\" x=\"12.88\" y=\"-84.56\" font-family=\"arial\" text-decoration=\"underline\" font-size=\"12.00\" fill=\"darkgreen\">Account4</text>\n",
       "</a>\n",
       "</g>\n",
       "</g>\n",
       "<!-- Account4&#45;&gt;Customer4 -->\n",
       "<g id=\"edge1\" class=\"edge\">\n",
       "<title>Account4-&gt;Customer4</title>\n",
       "<path fill=\"none\" stroke=\"#000000\" stroke-width=\"0.75\" stroke-dasharray=\"5,2\" stroke-opacity=\"0.250980\" d=\"M41,-70.24C41,-59.46 41,-45.47 41,-34.72\"/>\n",
       "</g>\n",
       "</g>\n",
       "</svg>"
      ],
      "text/plain": [
       "<datajoint.diagram.Diagram at 0x7f92375ca8d0>"
      ]
     },
     "execution_count": 18,
     "metadata": {},
     "output_type": "execute_result"
    }
   ],
   "source": [
    "schema4 = dj.Schema('bank4')\n",
    "\n",
    "@schema4\n",
    "class Account4(dj.Manual):\n",
    "    definition = \"\"\"\n",
    "    account : int unsigned\n",
    "    ---\n",
    "    open_date : date\n",
    "    \"\"\"\n",
    "\n",
    "\n",
    "@schema4\n",
    "class Customer4(dj.Manual):\n",
    "    definition = \"\"\"\n",
    "    customer_id : int unsigned\n",
    "    ---\n",
    "    full_name : varchar(30)\n",
    "    ssn = null : int unsigned  # Optional SSN with unique constraint\n",
    "    unique index(ssn)\n",
    "    -> Account4\n",
    "    \"\"\"\n",
    "\n",
    "\n",
    "dj.Diagram(schema4)"
   ]
  },
  {
   "cell_type": "markdown",
   "metadata": {},
   "source": [
    "### Interpretation\n",
    "Consider the implications of this setup:\n",
    "\n",
    "* Each customer entry contains a reference to a single account in `Account4`, suggesting that each customer is linked to one specific account.\n",
    "* Since there is no constraint on the number of customers who can point to the same account, this design may allow multiple customers to be associated with a single account, indicating the possibility of shared accounts.\n",
    "* However, the structure does not allow an customer to exist without being associated with an account, as each customer record must reference an existing account.\n",
    "\n",
    "These choices might reflect the bank’s operations and policies, such as whether joint accounts are supported, and how account ownership is managed."
   ]
  },
  {
   "cell_type": "markdown",
   "metadata": {},
   "source": [
    "# One-to-One Relationships\n",
    "\n",
    "A one-to-one relationship is created when a foreign key in the child table is also designated as either the primary key or a unique index. This ensures that each entry in the child table corresponds to a single, unique entry in the parent table, and no parent entry is linked to more than one child entry.\n",
    "\n",
    "In a one-to-one relationship, the connection is always optional on the child side: a child entry is not required for every parent entry. Therefore, the cardinality on the child side is 0..1—each parent may have either zero or one associated child entry.\n",
    "\n",
    "In the following example, the foreign key in `Account` is also its primary key, resulting in a one-to-one relationship:"
   ]
  },
  {
   "cell_type": "code",
   "execution_count": 19,
   "metadata": {},
   "outputs": [
    {
     "data": {
      "image/svg+xml": [
       "<svg xmlns=\"http://www.w3.org/2000/svg\" xmlns:xlink=\"http://www.w3.org/1999/xlink\" width=\"90pt\" height=\"113pt\" viewBox=\"0.00 0.00 90.00 113.12\">\n",
       "<g id=\"graph0\" class=\"graph\" transform=\"scale(1 1) rotate(0) translate(4 109.12)\">\n",
       "<polygon fill=\"white\" stroke=\"none\" points=\"-4,4 -4,-109.12 86,-109.12 86,4 -4,4\"/>\n",
       "<!-- Account5 -->\n",
       "<g id=\"node1\" class=\"node\">\n",
       "<title>Account5</title>\n",
       "<g id=\"a_node1\"><a xlink:title=\"→ Customer5\r------------------------------\ropen_date            \r\">\n",
       "<polygon fill=\"#00ff00\" fill-opacity=\"0.188235\" stroke=\"#00ff00\" stroke-opacity=\"0.188235\" points=\"77.12,-34.56 4.88,-34.56 4.88,0 77.12,0 77.12,-34.56\"/>\n",
       "<text text-anchor=\"middle\" x=\"41\" y=\"-13.01\" font-family=\"arial\" font-size=\"12.00\" fill=\"darkgreen\">Account5</text>\n",
       "</a>\n",
       "</g>\n",
       "</g>\n",
       "<!-- Customer5 -->\n",
       "<g id=\"node2\" class=\"node\">\n",
       "<title>Customer5</title>\n",
       "<g id=\"a_node2\"><a xlink:title=\"customer_id          \r------------------------------\rfull_name            \rssn=null             \rUNIQUE INDEX (ssn)\r\">\n",
       "<polygon fill=\"#00ff00\" fill-opacity=\"0.188235\" stroke=\"#00ff00\" stroke-opacity=\"0.188235\" points=\"82,-105.12 0,-105.12 0,-70.56 82,-70.56 82,-105.12\"/>\n",
       "<text text-anchor=\"start\" x=\"8\" y=\"-84.56\" font-family=\"arial\" text-decoration=\"underline\" font-size=\"12.00\" fill=\"darkgreen\">Customer5</text>\n",
       "</a>\n",
       "</g>\n",
       "</g>\n",
       "<!-- Customer5&#45;&gt;Account5 -->\n",
       "<g id=\"edge1\" class=\"edge\">\n",
       "<title>Customer5-&gt;Account5</title>\n",
       "<path fill=\"none\" stroke=\"#000000\" stroke-width=\"2\" stroke-opacity=\"0.250980\" d=\"M41,-70.24C41,-59.46 41,-45.47 41,-34.72\"/>\n",
       "</g>\n",
       "</g>\n",
       "</svg>"
      ],
      "text/plain": [
       "<datajoint.diagram.Diagram at 0x7f9237893fd0>"
      ]
     },
     "execution_count": 19,
     "metadata": {},
     "output_type": "execute_result"
    }
   ],
   "source": [
    "schema5 = dj.Schema('bank5')\n",
    "\n",
    "@schema5\n",
    "class Customer5(dj.Manual):\n",
    "    definition = \"\"\"\n",
    "    customer_id : int unsigned\n",
    "    ---\n",
    "    full_name : varchar(30)\n",
    "    ssn = null : int unsigned  # Optional SSN with unique constraint\n",
    "    unique index(ssn)\n",
    "    \"\"\"\n",
    "\n",
    "@schema5\n",
    "class Account5(dj.Manual):\n",
    "    definition = \"\"\"\n",
    "    -> Customer5\n",
    "    ---\n",
    "    open_date : date\n",
    "    \"\"\"\n",
    "\n",
    "dj.Diagram(schema5)"
   ]
  },
  {
   "cell_type": "markdown",
   "metadata": {},
   "source": [
    "The diagramming notation represents this relationship with a thick solid line, which indicates the strongest type of dependency between two entities.\n",
    "In this setup, `Customer5` and `Account5` share the same identity because `Account5` inherits its primary key from `Customer5`.\n",
    "This setup creates a strict one-to-one relationship between Customer5 and Account5, where each account is uniquely and exclusively linked to a single customer.\n",
    "\n",
    "### Characteristics of This Structure\n",
    "* **Unified Identity:** Since `Account5` shares the primary key with `Customer5`, each `Account5` record is uniquely identified by the same key as `Customer5`.\n",
    "This enforces the rule that each account cannot exist without an associated customer.\n",
    "\n",
    "* **Conflated Entities:** In the diagram, the name `Account5` is no longer underscored, indicating it has ceased to function as a separate “dimension” or independent entity. `Account5` is now fully conflated with `Customer5`, meaning it effectively serves as an extension of the `Customer5` entity, rather than an independent table with its own identity.\n",
    "\n",
    "### Why Keep Separate Tables?\n",
    "Although this design could allow us to simply merge all account-related data into the `Customer5` table, there are reasons we may choose to keep `Account5` as a separate table:\n",
    "\n",
    "1. **Modularity and Clarity**: Separating `Account5` from `Customer5` keeps the structure modular, which can clarify different aspects of customer and account data in queries and during development.\n",
    "\n",
    "2. **Data Management**: By keeping account information in a separate table, we can manage and update account-related data independently from customer information. This separation can be beneficial for tasks such as auditing, logging, or updating fields associated with only account data.\n",
    "\n",
    "3. **Avoiding Optional Fields**: In cases where certain fields are only relevant to accounts (e.g., open_date, account-specific details), keeping them in a separate table prevents having unused or irrelevant fields in the main `Customer5` table.\n",
    "\n",
    "4. **Access Control**: When account information is sensitive or needs restricted access, placing it in a separate table can simplify access control, allowing finer-grained security policies around account data.\n",
    "\n",
    "5. **Scalability and Maintenance**: Over time, this separation can support scalability as customer and account data expand. If we anticipate adding extensive account-specific data or if account records will be managed differently from customer records, the separate tables facilitate maintenance and future-proof the structure.\n",
    "\n",
    "6. **Schema Evolution**: Separate tables provide flexibility to adapt or expand either the Customer5 or Account5 table independently, without altering the other table. This flexibility is especially useful if the schema is expected to evolve over time."
   ]
  },
  {
   "cell_type": "markdown",
   "metadata": {},
   "source": []
  },
  {
   "cell_type": "markdown",
   "metadata": {},
   "source": [
    "Another approach to establishing a one-to-one relationship is to use a secondary foreign key with an additional uniqueness constraint. DataJoint’s foreign key syntax supports both `unique` and `nullable` modifiers on foreign keys, providing flexibility in how relationships are structured.\n",
    "\n",
    "* **`unique` Modifier**: Adding the unique modifier to a foreign key converts a one-to-many relationship into a one-to-one relationship. This ensures that each entry in the child table corresponds to only one entry in the parent table and vice versa, enforcing a strict one-to-one link.\n",
    "\n",
    "* **`nullable` Modifier**: The `nullable` modifier allows the relationship to be optional on the child side, meaning that not every child entry must reference a parent entry. (Relationships are already optional on the parent side, as parent entries don’t depend on children.)\n",
    "\n",
    "## One-to-One Relationship with Unique and Nullable Modifiers\n",
    "The following example demonstrates how to model a one-to-one relationship using a secondary unique constraint:"
   ]
  },
  {
   "cell_type": "code",
   "execution_count": 20,
   "metadata": {},
   "outputs": [
    {
     "data": {
      "image/svg+xml": [
       "<svg xmlns=\"http://www.w3.org/2000/svg\" xmlns:xlink=\"http://www.w3.org/1999/xlink\" width=\"90pt\" height=\"113pt\" viewBox=\"0.00 0.00 90.00 113.12\">\n",
       "<g id=\"graph0\" class=\"graph\" transform=\"scale(1 1) rotate(0) translate(4 109.12)\">\n",
       "<polygon fill=\"white\" stroke=\"none\" points=\"-4,4 -4,-109.12 86,-109.12 86,4 -4,4\"/>\n",
       "<!-- Customer6 -->\n",
       "<g id=\"node1\" class=\"node\">\n",
       "<title>Customer6</title>\n",
       "<g id=\"a_node1\"><a xlink:title=\"customer_id          \r------------------------------\rfull_name            \rssn=null             \rUNIQUE INDEX (ssn)\r\">\n",
       "<polygon fill=\"#00ff00\" fill-opacity=\"0.188235\" stroke=\"#00ff00\" stroke-opacity=\"0.188235\" points=\"82,-105.12 0,-105.12 0,-70.56 82,-70.56 82,-105.12\"/>\n",
       "<text text-anchor=\"start\" x=\"8\" y=\"-84.56\" font-family=\"arial\" text-decoration=\"underline\" font-size=\"12.00\" fill=\"darkgreen\">Customer6</text>\n",
       "</a>\n",
       "</g>\n",
       "</g>\n",
       "<!-- Account6 -->\n",
       "<g id=\"node2\" class=\"node\">\n",
       "<title>Account6</title>\n",
       "<g id=\"a_node2\"><a xlink:title=\"account              \r------------------------------\r→ [unique, nullable] Customer6\ropen_date            \r\">\n",
       "<polygon fill=\"#00ff00\" fill-opacity=\"0.188235\" stroke=\"#00ff00\" stroke-opacity=\"0.188235\" points=\"77.12,-34.56 4.88,-34.56 4.88,0 77.12,0 77.12,-34.56\"/>\n",
       "<text text-anchor=\"start\" x=\"12.88\" y=\"-14.01\" font-family=\"arial\" text-decoration=\"underline\" font-size=\"12.00\" fill=\"darkgreen\">Account6</text>\n",
       "</a>\n",
       "</g>\n",
       "</g>\n",
       "<!-- Customer6&#45;&gt;Account6 -->\n",
       "<g id=\"edge1\" class=\"edge\">\n",
       "<title>Customer6-&gt;Account6</title>\n",
       "<path fill=\"none\" stroke=\"#000000\" stroke-width=\"0.75\" stroke-dasharray=\"5,2\" stroke-opacity=\"0.250980\" d=\"M41,-70.24C41,-59.46 41,-45.47 41,-34.72\"/>\n",
       "</g>\n",
       "</g>\n",
       "</svg>"
      ],
      "text/plain": [
       "<datajoint.diagram.Diagram at 0x7f92378eb650>"
      ]
     },
     "execution_count": 20,
     "metadata": {},
     "output_type": "execute_result"
    }
   ],
   "source": [
    "\n",
    "schema6 = dj.Schema('bank6')\n",
    "\n",
    "@schema6\n",
    "class Customer6(dj.Manual):\n",
    "    definition = \"\"\"\n",
    "    customer_id : int unsigned\n",
    "    ---\n",
    "    full_name : varchar(30)\n",
    "    ssn = null : int unsigned  # Optional SSN with unique constraint\n",
    "    unique index(ssn)\n",
    "    \"\"\"\n",
    "\n",
    "@schema6\n",
    "class Account6(dj.Manual):\n",
    "    definition = \"\"\"\n",
    "    account : int unsigned\n",
    "    ---\n",
    "    -> [unique, nullable] Customer6\n",
    "    open_date : date\n",
    "    \"\"\"\n",
    "\n",
    "dj.Diagram(schema6)"
   ]
  },
  {
   "cell_type": "markdown",
   "metadata": {},
   "source": [
    "In this design:\n",
    "\n",
    "* The `Account6` table includes a foreign key reference to `Customer6`, modified with both `unique` and `nullable` modifications.\n",
    "* The `unique` constraint ensures that each `Account6` entry is exclusively linked to a single `Customer6` entry, establishing a one-to-one relationship.\n",
    "* The `nullable` constraint allows accounts to exist without necessarily being tied to a customer, making the relationship optional from the child’s perspective.\n",
    "\n",
    "\n",
    "### When to Use this Approach\n",
    "Using a secondary unique constraint on a foreign key is helpful when:\n",
    "\n",
    "* **Optional Relationships**: You want flexibility to create child entries without always requiring a parent reference.\n",
    "* **Separate, Modular Tables**: Keeping entities modular and maintaining a strict one-to-one relationship without merging the tables or merging the entity identities in the child table with those in the parent.\n",
    "\n",
    "This method provides flexibility and maintains clear separation between entities while enforcing a one-to-one association, even if the relationship isn’t visually highlighted in the diagram."
   ]
  },
  {
   "cell_type": "markdown",
   "metadata": {},
   "source": [
    "## Diagram Representation Limitations\n",
    "\n",
    "This *dependency-and-constraint* pattern doesn’t visually convey the close, exclusive association created by the unique and nullable modifiers. The diagram will show a basic line for the foreign key, lacking any specific notation to indicate that the relationship is both unique and optional.\n",
    "\n",
    "The diagram only reflect the relationships formed through the the structure of primary keys and foreign keys, without taking into account the additional constraints imposed by secondary unique indexes. While solid think lines indicate a one-to-one relationship, additional uniqueness constraints may be in force that are not evident from the diagram alone.\n",
    "\n",
    "Consider all the diagrams side-by-side and recall which ones are one-to-one and which are one-to-many:"
   ]
  },
  {
   "cell_type": "markdown",
   "metadata": {},
   "source": []
  },
  {
   "cell_type": "code",
   "execution_count": 21,
   "metadata": {},
   "outputs": [
    {
     "data": {
      "image/svg+xml": [
       "<svg xmlns=\"http://www.w3.org/2000/svg\" xmlns:xlink=\"http://www.w3.org/1999/xlink\" width=\"580pt\" height=\"113pt\" viewBox=\"0.00 0.00 580.00 113.12\">\n",
       "<g id=\"graph0\" class=\"graph\" transform=\"scale(1 1) rotate(0) translate(4 109.12)\">\n",
       "<polygon fill=\"white\" stroke=\"none\" points=\"-4,4 -4,-109.12 576,-109.12 576,4 -4,4\"/>\n",
       "<!-- Account1 -->\n",
       "<g id=\"node1\" class=\"node\">\n",
       "<title>Account1</title>\n",
       "<g id=\"a_node1\"><a xlink:title=\"account              \r------------------------------\r→ Customer1\ropen_date            \r\">\n",
       "<polygon fill=\"#00ff00\" fill-opacity=\"0.188235\" stroke=\"#00ff00\" stroke-opacity=\"0.188235\" points=\"77.12,-34.56 4.88,-34.56 4.88,0 77.12,0 77.12,-34.56\"/>\n",
       "<text text-anchor=\"start\" x=\"12.88\" y=\"-14.01\" font-family=\"arial\" text-decoration=\"underline\" font-size=\"12.00\" fill=\"darkgreen\">Account1</text>\n",
       "</a>\n",
       "</g>\n",
       "</g>\n",
       "<!-- Customer1 -->\n",
       "<g id=\"node2\" class=\"node\">\n",
       "<title>Customer1</title>\n",
       "<g id=\"a_node2\"><a xlink:title=\"customer_id          \r------------------------------\rfull_name            \rssn=null             \rUNIQUE INDEX (ssn)\r\">\n",
       "<polygon fill=\"#00ff00\" fill-opacity=\"0.188235\" stroke=\"#00ff00\" stroke-opacity=\"0.188235\" points=\"82,-105.12 0,-105.12 0,-70.56 82,-70.56 82,-105.12\"/>\n",
       "<text text-anchor=\"start\" x=\"8\" y=\"-84.56\" font-family=\"arial\" text-decoration=\"underline\" font-size=\"12.00\" fill=\"darkgreen\">Customer1</text>\n",
       "</a>\n",
       "</g>\n",
       "</g>\n",
       "<!-- Customer1&#45;&gt;Account1 -->\n",
       "<g id=\"edge1\" class=\"edge\">\n",
       "<title>Customer1-&gt;Account1</title>\n",
       "<path fill=\"none\" stroke=\"#000000\" stroke-width=\"0.75\" stroke-dasharray=\"5,2\" stroke-opacity=\"0.250980\" d=\"M41,-70.24C41,-59.46 41,-45.47 41,-34.72\"/>\n",
       "</g>\n",
       "<!-- Account2 -->\n",
       "<g id=\"node3\" class=\"node\">\n",
       "<title>Account2</title>\n",
       "<g id=\"a_node3\"><a xlink:title=\"account              \r------------------------------\r→ [nullable] Customer2\ropen_date            \r\">\n",
       "<polygon fill=\"#00ff00\" fill-opacity=\"0.188235\" stroke=\"#00ff00\" stroke-opacity=\"0.188235\" points=\"177.12,-34.56 104.88,-34.56 104.88,0 177.12,0 177.12,-34.56\"/>\n",
       "<text text-anchor=\"start\" x=\"112.88\" y=\"-14.01\" font-family=\"arial\" text-decoration=\"underline\" font-size=\"12.00\" fill=\"darkgreen\">Account2</text>\n",
       "</a>\n",
       "</g>\n",
       "</g>\n",
       "<!-- Customer2 -->\n",
       "<g id=\"node4\" class=\"node\">\n",
       "<title>Customer2</title>\n",
       "<g id=\"a_node4\"><a xlink:title=\"customer_id          \r------------------------------\rfull_name            \rssn=null             \rUNIQUE INDEX (ssn)\r\">\n",
       "<polygon fill=\"#00ff00\" fill-opacity=\"0.188235\" stroke=\"#00ff00\" stroke-opacity=\"0.188235\" points=\"182,-105.12 100,-105.12 100,-70.56 182,-70.56 182,-105.12\"/>\n",
       "<text text-anchor=\"start\" x=\"108\" y=\"-84.56\" font-family=\"arial\" text-decoration=\"underline\" font-size=\"12.00\" fill=\"darkgreen\">Customer2</text>\n",
       "</a>\n",
       "</g>\n",
       "</g>\n",
       "<!-- Customer2&#45;&gt;Account2 -->\n",
       "<g id=\"edge2\" class=\"edge\">\n",
       "<title>Customer2-&gt;Account2</title>\n",
       "<path fill=\"none\" stroke=\"#000000\" stroke-width=\"0.75\" stroke-dasharray=\"5,2\" stroke-opacity=\"0.250980\" d=\"M141,-70.24C141,-59.46 141,-45.47 141,-34.72\"/>\n",
       "</g>\n",
       "<!-- Account3 -->\n",
       "<g id=\"node5\" class=\"node\">\n",
       "<title>Account3</title>\n",
       "<g id=\"a_node5\"><a xlink:title=\"→ Customer3\raccount              \r------------------------------\ropen_date            \r\">\n",
       "<polygon fill=\"#00ff00\" fill-opacity=\"0.188235\" stroke=\"#00ff00\" stroke-opacity=\"0.188235\" points=\"277.12,-34.56 204.88,-34.56 204.88,0 277.12,0 277.12,-34.56\"/>\n",
       "<text text-anchor=\"start\" x=\"212.88\" y=\"-14.01\" font-family=\"arial\" text-decoration=\"underline\" font-size=\"12.00\" fill=\"darkgreen\">Account3</text>\n",
       "</a>\n",
       "</g>\n",
       "</g>\n",
       "<!-- Customer3 -->\n",
       "<g id=\"node6\" class=\"node\">\n",
       "<title>Customer3</title>\n",
       "<g id=\"a_node6\"><a xlink:title=\"customer_id          \r------------------------------\rfull_name            \rssn=null             \rUNIQUE INDEX (ssn)\r\">\n",
       "<polygon fill=\"#00ff00\" fill-opacity=\"0.188235\" stroke=\"#00ff00\" stroke-opacity=\"0.188235\" points=\"282,-105.12 200,-105.12 200,-70.56 282,-70.56 282,-105.12\"/>\n",
       "<text text-anchor=\"start\" x=\"208\" y=\"-84.56\" font-family=\"arial\" text-decoration=\"underline\" font-size=\"12.00\" fill=\"darkgreen\">Customer3</text>\n",
       "</a>\n",
       "</g>\n",
       "</g>\n",
       "<!-- Customer3&#45;&gt;Account3 -->\n",
       "<g id=\"edge3\" class=\"edge\">\n",
       "<title>Customer3-&gt;Account3</title>\n",
       "<path fill=\"none\" stroke=\"#000000\" stroke-width=\"0.75\" stroke-opacity=\"0.250980\" d=\"M241,-70.24C241,-59.46 241,-45.47 241,-34.72\"/>\n",
       "</g>\n",
       "<!-- Account4 -->\n",
       "<g id=\"node7\" class=\"node\">\n",
       "<title>Account4</title>\n",
       "<g id=\"a_node7\"><a xlink:title=\"account              \r------------------------------\ropen_date            \r\">\n",
       "<polygon fill=\"#00ff00\" fill-opacity=\"0.188235\" stroke=\"#00ff00\" stroke-opacity=\"0.188235\" points=\"372.12,-105.12 299.88,-105.12 299.88,-70.56 372.12,-70.56 372.12,-105.12\"/>\n",
       "<text text-anchor=\"start\" x=\"307.88\" y=\"-84.56\" font-family=\"arial\" text-decoration=\"underline\" font-size=\"12.00\" fill=\"darkgreen\">Account4</text>\n",
       "</a>\n",
       "</g>\n",
       "</g>\n",
       "<!-- Customer4 -->\n",
       "<g id=\"node8\" class=\"node\">\n",
       "<title>Customer4</title>\n",
       "<g id=\"a_node8\"><a xlink:title=\"customer_id          \r------------------------------\rfull_name            \rssn=null             \r→ Account4\rUNIQUE INDEX (ssn)\r\">\n",
       "<polygon fill=\"#00ff00\" fill-opacity=\"0.188235\" stroke=\"#00ff00\" stroke-opacity=\"0.188235\" points=\"377,-34.56 295,-34.56 295,0 377,0 377,-34.56\"/>\n",
       "<text text-anchor=\"start\" x=\"303\" y=\"-14.01\" font-family=\"arial\" text-decoration=\"underline\" font-size=\"12.00\" fill=\"darkgreen\">Customer4</text>\n",
       "</a>\n",
       "</g>\n",
       "</g>\n",
       "<!-- Account4&#45;&gt;Customer4 -->\n",
       "<g id=\"edge4\" class=\"edge\">\n",
       "<title>Account4-&gt;Customer4</title>\n",
       "<path fill=\"none\" stroke=\"#000000\" stroke-width=\"0.75\" stroke-dasharray=\"5,2\" stroke-opacity=\"0.250980\" d=\"M336,-70.24C336,-59.46 336,-45.47 336,-34.72\"/>\n",
       "</g>\n",
       "<!-- Account5 -->\n",
       "<g id=\"node9\" class=\"node\">\n",
       "<title>Account5</title>\n",
       "<g id=\"a_node9\"><a xlink:title=\"→ Customer5\r------------------------------\ropen_date            \r\">\n",
       "<polygon fill=\"#00ff00\" fill-opacity=\"0.188235\" stroke=\"#00ff00\" stroke-opacity=\"0.188235\" points=\"467.12,-34.56 394.88,-34.56 394.88,0 467.12,0 467.12,-34.56\"/>\n",
       "<text text-anchor=\"middle\" x=\"431\" y=\"-13.01\" font-family=\"arial\" font-size=\"12.00\" fill=\"darkgreen\">Account5</text>\n",
       "</a>\n",
       "</g>\n",
       "</g>\n",
       "<!-- Customer5 -->\n",
       "<g id=\"node10\" class=\"node\">\n",
       "<title>Customer5</title>\n",
       "<g id=\"a_node10\"><a xlink:title=\"customer_id          \r------------------------------\rfull_name            \rssn=null             \rUNIQUE INDEX (ssn)\r\">\n",
       "<polygon fill=\"#00ff00\" fill-opacity=\"0.188235\" stroke=\"#00ff00\" stroke-opacity=\"0.188235\" points=\"472,-105.12 390,-105.12 390,-70.56 472,-70.56 472,-105.12\"/>\n",
       "<text text-anchor=\"start\" x=\"398\" y=\"-84.56\" font-family=\"arial\" text-decoration=\"underline\" font-size=\"12.00\" fill=\"darkgreen\">Customer5</text>\n",
       "</a>\n",
       "</g>\n",
       "</g>\n",
       "<!-- Customer5&#45;&gt;Account5 -->\n",
       "<g id=\"edge5\" class=\"edge\">\n",
       "<title>Customer5-&gt;Account5</title>\n",
       "<path fill=\"none\" stroke=\"#000000\" stroke-width=\"2\" stroke-opacity=\"0.250980\" d=\"M431,-70.24C431,-59.46 431,-45.47 431,-34.72\"/>\n",
       "</g>\n",
       "<!-- Account6 -->\n",
       "<g id=\"node11\" class=\"node\">\n",
       "<title>Account6</title>\n",
       "<g id=\"a_node11\"><a xlink:title=\"account              \r------------------------------\r→ [unique, nullable] Customer6\ropen_date            \r\">\n",
       "<polygon fill=\"#00ff00\" fill-opacity=\"0.188235\" stroke=\"#00ff00\" stroke-opacity=\"0.188235\" points=\"567.12,-34.56 494.88,-34.56 494.88,0 567.12,0 567.12,-34.56\"/>\n",
       "<text text-anchor=\"start\" x=\"502.88\" y=\"-14.01\" font-family=\"arial\" text-decoration=\"underline\" font-size=\"12.00\" fill=\"darkgreen\">Account6</text>\n",
       "</a>\n",
       "</g>\n",
       "</g>\n",
       "<!-- Customer6 -->\n",
       "<g id=\"node12\" class=\"node\">\n",
       "<title>Customer6</title>\n",
       "<g id=\"a_node12\"><a xlink:title=\"customer_id          \r------------------------------\rfull_name            \rssn=null             \rUNIQUE INDEX (ssn)\r\">\n",
       "<polygon fill=\"#00ff00\" fill-opacity=\"0.188235\" stroke=\"#00ff00\" stroke-opacity=\"0.188235\" points=\"572,-105.12 490,-105.12 490,-70.56 572,-70.56 572,-105.12\"/>\n",
       "<text text-anchor=\"start\" x=\"498\" y=\"-84.56\" font-family=\"arial\" text-decoration=\"underline\" font-size=\"12.00\" fill=\"darkgreen\">Customer6</text>\n",
       "</a>\n",
       "</g>\n",
       "</g>\n",
       "<!-- Customer6&#45;&gt;Account6 -->\n",
       "<g id=\"edge6\" class=\"edge\">\n",
       "<title>Customer6-&gt;Account6</title>\n",
       "<path fill=\"none\" stroke=\"#000000\" stroke-width=\"0.75\" stroke-dasharray=\"5,2\" stroke-opacity=\"0.250980\" d=\"M531,-70.24C531,-59.46 531,-45.47 531,-34.72\"/>\n",
       "</g>\n",
       "</g>\n",
       "</svg>"
      ],
      "text/plain": [
       "<datajoint.diagram.Diagram at 0x7f92375d7fd0>"
      ]
     },
     "execution_count": 21,
     "metadata": {},
     "output_type": "execute_result"
    }
   ],
   "source": [
    "dj.Diagram(schema1) + dj.Diagram(schema2) + dj.Diagram(schema3) + dj.Diagram(schema4) + dj.Diagram(schema5) + dj.Diagram(schema6)"
   ]
  },
  {
   "cell_type": "markdown",
   "metadata": {},
   "source": [
    "By examining the diagrams alone, only one (`schema5`) clearly shows a one-to-one relationship. For the others, additional constraints may modify the relationships, though these may not be immediately visible. In Jupyter, you can hover over a diagram element to view its full definition, including any secondary uniqueness constraints.\n",
    "\n",
    "In practice, DataJoint users generally avoid secondary unique constraints when the primary key can enforce uniqueness. This approach has the added benefit of making relationships more transparent in the diagrams, providing a clearer representation of the schema’s structure."
   ]
  },
  {
   "cell_type": "markdown",
   "metadata": {},
   "source": [
    "# Many-to-Many Relationships\n",
    "\n",
    "In relational databases, a single foreign key between two tables can only establish one-to-many or one-to-one relationships.\n",
    "To create a many-to-many (M:N) relationship between two entities, a third table is required, with each entry in this table linking one instance from each of the two related tables.\n",
    "This third table is commonly referred to as an association table or join table.\n",
    "\n",
    "## Structure of Many-to-Many Relationships\n",
    "An M:N relationship can be visualized as two one-to-many (1:N and 1:M) relationships with the association table.\n",
    "\n",
    "The association table contains:\n",
    "* **A foreign key** referencing each of the two related entities, establishing connections to instances of both tables.\n",
    "* **Composite primary** key or a secondary unique constraint on the two foreign keys to ensure each combination of entities is unique.\n",
    "\n",
    "This structure allows each entity to link to multiple instances of the other entity through the association table."
   ]
  },
  {
   "cell_type": "markdown",
   "metadata": {},
   "source": [
    "## Example: Bank Customers and Bank Accounts\n",
    "Consider a bank system where customers can have multiple accounts, and accounts can be jointly owned by multiple customers. To represent this many-to-many relationship, an association table is used to link `Customer` and `Account`:"
   ]
  },
  {
   "cell_type": "code",
   "execution_count": 22,
   "metadata": {},
   "outputs": [
    {
     "data": {
      "image/svg+xml": [
       "<svg xmlns=\"http://www.w3.org/2000/svg\" xmlns:xlink=\"http://www.w3.org/1999/xlink\" width=\"180pt\" height=\"113pt\" viewBox=\"0.00 0.00 180.12 113.12\">\n",
       "<g id=\"graph0\" class=\"graph\" transform=\"scale(1 1) rotate(0) translate(4 109.12)\">\n",
       "<polygon fill=\"white\" stroke=\"none\" points=\"-4,4 -4,-109.12 176.12,-109.12 176.12,4 -4,4\"/>\n",
       "<!-- Account7 -->\n",
       "<g id=\"node1\" class=\"node\">\n",
       "<title>Account7</title>\n",
       "<g id=\"a_node1\"><a xlink:title=\"account_id           \r------------------------------\ropen_date            \r\">\n",
       "<polygon fill=\"#00ff00\" fill-opacity=\"0.188235\" stroke=\"#00ff00\" stroke-opacity=\"0.188235\" points=\"72.25,-105.12 0,-105.12 0,-70.56 72.25,-70.56 72.25,-105.12\"/>\n",
       "<text text-anchor=\"start\" x=\"8\" y=\"-84.56\" font-family=\"arial\" text-decoration=\"underline\" font-size=\"12.00\" fill=\"darkgreen\">Account7</text>\n",
       "</a>\n",
       "</g>\n",
       "</g>\n",
       "<!-- CustomerAccount7 -->\n",
       "<g id=\"node2\" class=\"node\">\n",
       "<title>CustomerAccount7</title>\n",
       "<g id=\"a_node2\"><a xlink:title=\"→ Customer7\r→ Account7\r\">\n",
       "<polygon fill=\"#00ff00\" fill-opacity=\"0.188235\" stroke=\"#00ff00\" stroke-opacity=\"0.188235\" points=\"148.5,-34.56 17.75,-34.56 17.75,0 148.5,0 148.5,-34.56\"/>\n",
       "<text text-anchor=\"middle\" x=\"83.12\" y=\"-13.01\" font-family=\"arial\" font-size=\"12.00\" fill=\"darkgreen\">CustomerAccount7</text>\n",
       "</a>\n",
       "</g>\n",
       "</g>\n",
       "<!-- Account7&#45;&gt;CustomerAccount7 -->\n",
       "<g id=\"edge1\" class=\"edge\">\n",
       "<title>Account7-&gt;CustomerAccount7</title>\n",
       "<path fill=\"none\" stroke=\"#000000\" stroke-width=\"0.75\" stroke-opacity=\"0.250980\" d=\"M47.5,-70.24C54.89,-59.46 64.48,-45.47 71.85,-34.72\"/>\n",
       "</g>\n",
       "<!-- Customer7 -->\n",
       "<g id=\"node3\" class=\"node\">\n",
       "<title>Customer7</title>\n",
       "<g id=\"a_node3\"><a xlink:title=\"customer_id          \r------------------------------\rfull_name            \r\">\n",
       "<polygon fill=\"#00ff00\" fill-opacity=\"0.188235\" stroke=\"#00ff00\" stroke-opacity=\"0.188235\" points=\"172.12,-105.12 90.12,-105.12 90.12,-70.56 172.12,-70.56 172.12,-105.12\"/>\n",
       "<text text-anchor=\"start\" x=\"98.12\" y=\"-84.56\" font-family=\"arial\" text-decoration=\"underline\" font-size=\"12.00\" fill=\"darkgreen\">Customer7</text>\n",
       "</a>\n",
       "</g>\n",
       "</g>\n",
       "<!-- Customer7&#45;&gt;CustomerAccount7 -->\n",
       "<g id=\"edge2\" class=\"edge\">\n",
       "<title>Customer7-&gt;CustomerAccount7</title>\n",
       "<path fill=\"none\" stroke=\"#000000\" stroke-width=\"0.75\" stroke-opacity=\"0.250980\" d=\"M119.51,-70.24C111.96,-59.46 102.16,-45.47 94.64,-34.72\"/>\n",
       "</g>\n",
       "</g>\n",
       "</svg>"
      ],
      "text/plain": [
       "<datajoint.diagram.Diagram at 0x7f92376cfb50>"
      ]
     },
     "execution_count": 22,
     "metadata": {},
     "output_type": "execute_result"
    }
   ],
   "source": [
    "schema7 = dj.Schema('bank7')\n",
    "\n",
    "@schema7\n",
    "class Customer7(dj.Manual):\n",
    "    definition = \"\"\"\n",
    "    customer_id : int unsigned\n",
    "    ---\n",
    "    full_name : varchar(30)\n",
    "    \"\"\"\n",
    "\n",
    "@schema7\n",
    "class Account7(dj.Manual):\n",
    "    definition = \"\"\"\n",
    "    account_id : int unsigned\n",
    "    ---\n",
    "    open_date : date\n",
    "    \"\"\"\n",
    "\n",
    "@schema7\n",
    "class CustomerAccount7(dj.Manual):\n",
    "    definition = \"\"\"\n",
    "    -> Customer7\n",
    "    -> Account7\n",
    "    \"\"\"\n",
    "\n",
    "dj.Diagram(schema7)"
   ]
  },
  {
   "cell_type": "markdown",
   "metadata": {},
   "source": [
    "DataJoint’s diagramming language does not use special notation for association tables; they appear identical to other tables.\n",
    "By contrast, other diagramming styles, such as **Chen’s Entity-Relationship (ER) notation**, represent associations—often called \"relationship sets\"—with diamond shapes to distinguish them from entity sets.\n",
    "\n",
    "DataJoint purposefully avoids this strict conceptual distinction between entities and relationships, as the boundary between them is often blurred.\n",
    "For instance, a synapse between two neurons could be considered an entity, storing specific data about the synapse itself, or it might be viewed as an association linking two neurons.\n",
    "Additionally, some relationships can even link other relationships, a complexity not easily captured in Chen’s notation.\n",
    "\n",
    "In DataJoint, you can often recognize an association table by its converging pattern of foreign keys, which reference multiple tables to form a many-to-many relationship. This flexible approach supports various interpretations of relationships, making DataJoint schemas particularly adaptable for complex scientific data, where associations may themselves hold meaningful attributes."
   ]
  },
  {
   "cell_type": "markdown",
   "metadata": {},
   "source": [
    "Association tables are primarily used to establish many-to-many relationships, but they also offer the flexibility to model one-to-many and even one-to-one relationships by applying additional uniqueness constraints. By controlling the uniqueness on the foreign keys within the association table, you can fine-tune the type of relationship between entities.\n",
    "\n",
    "### Example, enforcing One-to-Many with Shared Accounts \n",
    "\n",
    "In the following example, we model a scenario where each customer can have only one account, but each account may be shared among multiple customers.\n",
    "This structure enforces a one-to-many relationship between `Customer8` and `Account8` via the `CustomerAccount8` association table."
   ]
  },
  {
   "cell_type": "code",
   "execution_count": 23,
   "metadata": {},
   "outputs": [
    {
     "data": {
      "image/svg+xml": [
       "<svg xmlns=\"http://www.w3.org/2000/svg\" xmlns:xlink=\"http://www.w3.org/1999/xlink\" width=\"180pt\" height=\"113pt\" viewBox=\"0.00 0.00 180.12 113.12\">\n",
       "<g id=\"graph0\" class=\"graph\" transform=\"scale(1 1) rotate(0) translate(4 109.12)\">\n",
       "<polygon fill=\"white\" stroke=\"none\" points=\"-4,4 -4,-109.12 176.12,-109.12 176.12,4 -4,4\"/>\n",
       "<!-- Account8 -->\n",
       "<g id=\"node1\" class=\"node\">\n",
       "<title>Account8</title>\n",
       "<g id=\"a_node1\"><a xlink:title=\"account_id           \r------------------------------\ropen_date            \r\">\n",
       "<polygon fill=\"#00ff00\" fill-opacity=\"0.188235\" stroke=\"#00ff00\" stroke-opacity=\"0.188235\" points=\"72.25,-105.12 0,-105.12 0,-70.56 72.25,-70.56 72.25,-105.12\"/>\n",
       "<text text-anchor=\"start\" x=\"8\" y=\"-84.56\" font-family=\"arial\" text-decoration=\"underline\" font-size=\"12.00\" fill=\"darkgreen\">Account8</text>\n",
       "</a>\n",
       "</g>\n",
       "</g>\n",
       "<!-- CustomerAccount8 -->\n",
       "<g id=\"node2\" class=\"node\">\n",
       "<title>CustomerAccount8</title>\n",
       "<g id=\"a_node2\"><a xlink:title=\"→ Customer8\r------------------------------\r→ Account8\r\">\n",
       "<polygon fill=\"#00ff00\" fill-opacity=\"0.188235\" stroke=\"#00ff00\" stroke-opacity=\"0.188235\" points=\"148.5,-34.56 17.75,-34.56 17.75,0 148.5,0 148.5,-34.56\"/>\n",
       "<text text-anchor=\"middle\" x=\"83.12\" y=\"-13.01\" font-family=\"arial\" font-size=\"12.00\" fill=\"darkgreen\">CustomerAccount8</text>\n",
       "</a>\n",
       "</g>\n",
       "</g>\n",
       "<!-- Account8&#45;&gt;CustomerAccount8 -->\n",
       "<g id=\"edge1\" class=\"edge\">\n",
       "<title>Account8-&gt;CustomerAccount8</title>\n",
       "<path fill=\"none\" stroke=\"#000000\" stroke-width=\"0.75\" stroke-dasharray=\"5,2\" stroke-opacity=\"0.250980\" d=\"M47.5,-70.24C54.89,-59.46 64.48,-45.47 71.85,-34.72\"/>\n",
       "</g>\n",
       "<!-- Customer8 -->\n",
       "<g id=\"node3\" class=\"node\">\n",
       "<title>Customer8</title>\n",
       "<g id=\"a_node3\"><a xlink:title=\"customer_id          \r------------------------------\rfull_name            \r\">\n",
       "<polygon fill=\"#00ff00\" fill-opacity=\"0.188235\" stroke=\"#00ff00\" stroke-opacity=\"0.188235\" points=\"172.12,-105.12 90.12,-105.12 90.12,-70.56 172.12,-70.56 172.12,-105.12\"/>\n",
       "<text text-anchor=\"start\" x=\"98.12\" y=\"-84.56\" font-family=\"arial\" text-decoration=\"underline\" font-size=\"12.00\" fill=\"darkgreen\">Customer8</text>\n",
       "</a>\n",
       "</g>\n",
       "</g>\n",
       "<!-- Customer8&#45;&gt;CustomerAccount8 -->\n",
       "<g id=\"edge2\" class=\"edge\">\n",
       "<title>Customer8-&gt;CustomerAccount8</title>\n",
       "<path fill=\"none\" stroke=\"#000000\" stroke-width=\"2\" stroke-opacity=\"0.250980\" d=\"M119.51,-70.24C111.96,-59.46 102.16,-45.47 94.64,-34.72\"/>\n",
       "</g>\n",
       "</g>\n",
       "</svg>"
      ],
      "text/plain": [
       "<datajoint.diagram.Diagram at 0x7f92375f09d0>"
      ]
     },
     "execution_count": 23,
     "metadata": {},
     "output_type": "execute_result"
    }
   ],
   "source": [
    "schema8 = dj.Schema('bank8')\n",
    "\n",
    "@schema8\n",
    "class Customer8(dj.Manual):\n",
    "    definition = \"\"\"\n",
    "    customer_id : int unsigned\n",
    "    ---\n",
    "    full_name : varchar(30)\n",
    "    \"\"\"\n",
    "\n",
    "@schema8\n",
    "class Account8(dj.Manual):\n",
    "    definition = \"\"\"\n",
    "    account_id : int unsigned\n",
    "    ---\n",
    "    open_date : date\n",
    "    \"\"\"\n",
    "\n",
    "@schema8\n",
    "class CustomerAccount8(dj.Manual):\n",
    "    definition = \"\"\"\n",
    "    -> Customer8\n",
    "    ---\n",
    "    -> Account8\n",
    "    \"\"\"\n",
    "\n",
    "dj.Diagram(schema8)"
   ]
  },
  {
   "cell_type": "markdown",
   "metadata": {},
   "source": [
    "### Explanation of the Design\n",
    "* **Association Table (`CustomerAccount8`)**: The `CustomerAccount8` association table links `Customer8` and `Account8` through foreign keys. Although it resembles a many-to-many structure, by making the foreign key `-> Customer8` unique (it's the primary key), we ensure that each customer is associated with only one account. However, we leave the `-> Account8` foreign key unconstrained, allowing multiple customers to link to the same account, which enables account sharing.\n",
    "\n",
    "## Versatility of Association Tables\n",
    "While association tables are necessary for modeling many-to-many relationships, they can also model one-to-many and even one-to-one relationships.\n",
    "\n",
    "This is accomplished by by altering their primary key or adding additional uniqueness constraints. If the association table links tables `A` and `B`, then:\n",
    "\n",
    "* One-to-Many: \n",
    "\n",
    "```\n",
    "-> B\n",
    "--- \n",
    "-> A\n",
    "```\n",
    "\n",
    "Any number of `B`s are each matched to at most one `A`.\n",
    "\n",
    "\n",
    "* One-to-One: \n",
    "```\n",
    "-> A\n",
    "---\n",
    "-> [unique] B\n",
    "```\n",
    "\n",
    "With uniqueness constraints on both `A` and `B`, each entry in `A` is matched to at most one entry in `B` and vice versa.\n",
    "\n",
    "* Many-to-Many\n",
    "\n",
    "```\n",
    "-> A\n",
    "-> B\n",
    "---\n",
    "```\n",
    " Leave both foreign keys in the primary key, allowing each entity to associate freely with multiple instances of the other.\n",
    "\n",
    "This approach makes association tables a powerful tool for defining relationships of varying cardinality, adding flexibility and adaptability to DataJoint schemas. By managing uniqueness constraints directly in the association table, you can model complex relationships while keeping the primary entities’ structures simple and intuitive."
   ]
  },
  {
   "cell_type": "markdown",
   "metadata": {},
   "source": [
    "The schema diagram indicates the cardinality of these associations with thick lines corresponding to one-to-one relationship and thin lines indicating one-to-many:"
   ]
  },
  {
   "cell_type": "code",
   "execution_count": 24,
   "metadata": {},
   "outputs": [
    {
     "data": {
      "image/svg+xml": [
       "<svg xmlns=\"http://www.w3.org/2000/svg\" xmlns:xlink=\"http://www.w3.org/1999/xlink\" width=\"399pt\" height=\"113pt\" viewBox=\"0.00 0.00 399.00 113.12\">\n",
       "<g id=\"graph0\" class=\"graph\" transform=\"scale(1 1) rotate(0) translate(4 109.12)\">\n",
       "<polygon fill=\"white\" stroke=\"none\" points=\"-4,4 -4,-109.12 395,-109.12 395,4 -4,4\"/>\n",
       "<!-- CustomerAccount7 -->\n",
       "<g id=\"node1\" class=\"node\">\n",
       "<title>CustomerAccount7</title>\n",
       "<g id=\"a_node1\"><a xlink:title=\"→ Customer7\r→ Account7\r\">\n",
       "<polygon fill=\"#00ff00\" fill-opacity=\"0.188235\" stroke=\"#00ff00\" stroke-opacity=\"0.188235\" points=\"170.38,-34.56 39.62,-34.56 39.62,0 170.38,0 170.38,-34.56\"/>\n",
       "<text text-anchor=\"middle\" x=\"105\" y=\"-13.01\" font-family=\"arial\" font-size=\"12.00\" fill=\"darkgreen\">CustomerAccount7</text>\n",
       "</a>\n",
       "</g>\n",
       "</g>\n",
       "<!-- Account8 -->\n",
       "<g id=\"node2\" class=\"node\">\n",
       "<title>Account8</title>\n",
       "<g id=\"a_node2\"><a xlink:title=\"account_id           \r------------------------------\ropen_date            \r\">\n",
       "<polygon fill=\"#00ff00\" fill-opacity=\"0.188235\" stroke=\"#00ff00\" stroke-opacity=\"0.188235\" points=\"291.12,-105.12 218.88,-105.12 218.88,-70.56 291.12,-70.56 291.12,-105.12\"/>\n",
       "<text text-anchor=\"start\" x=\"226.88\" y=\"-84.56\" font-family=\"arial\" text-decoration=\"underline\" font-size=\"12.00\" fill=\"darkgreen\">Account8</text>\n",
       "</a>\n",
       "</g>\n",
       "</g>\n",
       "<!-- CustomerAccount8 -->\n",
       "<g id=\"node5\" class=\"node\">\n",
       "<title>CustomerAccount8</title>\n",
       "<g id=\"a_node5\"><a xlink:title=\"→ Customer8\r------------------------------\r→ Account8\r\">\n",
       "<polygon fill=\"#00ff00\" fill-opacity=\"0.188235\" stroke=\"#00ff00\" stroke-opacity=\"0.188235\" points=\"351.38,-34.56 220.62,-34.56 220.62,0 351.38,0 351.38,-34.56\"/>\n",
       "<text text-anchor=\"middle\" x=\"286\" y=\"-13.01\" font-family=\"arial\" font-size=\"12.00\" fill=\"darkgreen\">CustomerAccount8</text>\n",
       "</a>\n",
       "</g>\n",
       "</g>\n",
       "<!-- Account8&#45;&gt;CustomerAccount8 -->\n",
       "<g id=\"edge1\" class=\"edge\">\n",
       "<title>Account8-&gt;CustomerAccount8</title>\n",
       "<path fill=\"none\" stroke=\"#000000\" stroke-width=\"0.75\" stroke-dasharray=\"5,2\" stroke-opacity=\"0.250980\" d=\"M262.5,-70.24C267.38,-59.46 273.7,-45.47 278.56,-34.72\"/>\n",
       "</g>\n",
       "<!-- Customer7 -->\n",
       "<g id=\"node3\" class=\"node\">\n",
       "<title>Customer7</title>\n",
       "<g id=\"a_node3\"><a xlink:title=\"customer_id          \r------------------------------\rfull_name            \r\">\n",
       "<polygon fill=\"#00ff00\" fill-opacity=\"0.188235\" stroke=\"#00ff00\" stroke-opacity=\"0.188235\" points=\"82,-105.12 0,-105.12 0,-70.56 82,-70.56 82,-105.12\"/>\n",
       "<text text-anchor=\"start\" x=\"8\" y=\"-84.56\" font-family=\"arial\" text-decoration=\"underline\" font-size=\"12.00\" fill=\"darkgreen\">Customer7</text>\n",
       "</a>\n",
       "</g>\n",
       "</g>\n",
       "<!-- Customer7&#45;&gt;CustomerAccount7 -->\n",
       "<g id=\"edge2\" class=\"edge\">\n",
       "<title>Customer7-&gt;CustomerAccount7</title>\n",
       "<path fill=\"none\" stroke=\"#000000\" stroke-width=\"0.75\" stroke-opacity=\"0.250980\" d=\"M56.49,-70.24C66.56,-59.46 79.62,-45.47 89.65,-34.72\"/>\n",
       "</g>\n",
       "<!-- Customer8 -->\n",
       "<g id=\"node4\" class=\"node\">\n",
       "<title>Customer8</title>\n",
       "<g id=\"a_node4\"><a xlink:title=\"customer_id          \r------------------------------\rfull_name            \r\">\n",
       "<polygon fill=\"#00ff00\" fill-opacity=\"0.188235\" stroke=\"#00ff00\" stroke-opacity=\"0.188235\" points=\"391,-105.12 309,-105.12 309,-70.56 391,-70.56 391,-105.12\"/>\n",
       "<text text-anchor=\"start\" x=\"317\" y=\"-84.56\" font-family=\"arial\" text-decoration=\"underline\" font-size=\"12.00\" fill=\"darkgreen\">Customer8</text>\n",
       "</a>\n",
       "</g>\n",
       "</g>\n",
       "<!-- Customer8&#45;&gt;CustomerAccount8 -->\n",
       "<g id=\"edge3\" class=\"edge\">\n",
       "<title>Customer8-&gt;CustomerAccount8</title>\n",
       "<path fill=\"none\" stroke=\"#000000\" stroke-width=\"2\" stroke-opacity=\"0.250980\" d=\"M334.51,-70.24C324.44,-59.46 311.38,-45.47 301.35,-34.72\"/>\n",
       "</g>\n",
       "<!-- Account7 -->\n",
       "<g id=\"node6\" class=\"node\">\n",
       "<title>Account7</title>\n",
       "<g id=\"a_node6\"><a xlink:title=\"account_id           \r------------------------------\ropen_date            \r\">\n",
       "<polygon fill=\"#00ff00\" fill-opacity=\"0.188235\" stroke=\"#00ff00\" stroke-opacity=\"0.188235\" points=\"172.12,-105.12 99.88,-105.12 99.88,-70.56 172.12,-70.56 172.12,-105.12\"/>\n",
       "<text text-anchor=\"start\" x=\"107.88\" y=\"-84.56\" font-family=\"arial\" text-decoration=\"underline\" font-size=\"12.00\" fill=\"darkgreen\">Account7</text>\n",
       "</a>\n",
       "</g>\n",
       "</g>\n",
       "<!-- Account7&#45;&gt;CustomerAccount7 -->\n",
       "<g id=\"edge4\" class=\"edge\">\n",
       "<title>Account7-&gt;CustomerAccount7</title>\n",
       "<path fill=\"none\" stroke=\"#000000\" stroke-width=\"0.75\" stroke-opacity=\"0.250980\" d=\"M128.5,-70.24C123.62,-59.46 117.3,-45.47 112.44,-34.72\"/>\n",
       "</g>\n",
       "</g>\n",
       "</svg>"
      ],
      "text/plain": [
       "<datajoint.diagram.Diagram at 0x7f9237656d90>"
      ]
     },
     "execution_count": 24,
     "metadata": {},
     "output_type": "execute_result"
    }
   ],
   "source": [
    "dj.Diagram(schema7) + dj.Diagram(schema8)"
   ]
  },
  {
   "cell_type": "markdown",
   "metadata": {},
   "source": [
    "# More Design Patterns\n",
    "\n",
    "Here we will consider several other common patterns that make use of uniqueness constraints (primary keys and unique indexes) and referential constraints (foreign keys) to design more complex relationships."
   ]
  },
  {
   "cell_type": "markdown",
   "metadata": {},
   "source": [
    "## Sequences\n",
    "\n",
    "DataJoint schemas are directional: dependencies form a *directed-acyclic graph* (DAG) representing sequences of steps or operations.\n",
    "The diagrams are plotted with all the dependencies pointing in the same direction (top-to-bottom or left-to-right), so that a schema diagram can be understood as an operational workflow.\n",
    "\n",
    "Let's model a simple sequence of operations such as placing an order, shipping, and delivery.\n",
    "The three entities: `Order`, `Shipment`, and `Delivery` form a sequence of one-to-one relationships:"
   ]
  },
  {
   "cell_type": "code",
   "execution_count": 25,
   "metadata": {},
   "outputs": [
    {
     "data": {
      "image/svg+xml": [
       "<svg xmlns=\"http://www.w3.org/2000/svg\" xmlns:xlink=\"http://www.w3.org/1999/xlink\" width=\"81pt\" height=\"184pt\" viewBox=\"0.00 0.00 81.00 183.68\">\n",
       "<g id=\"graph0\" class=\"graph\" transform=\"scale(1 1) rotate(0) translate(4 179.68)\">\n",
       "<polygon fill=\"white\" stroke=\"none\" points=\"-4,4 -4,-179.68 77,-179.68 77,4 -4,4\"/>\n",
       "<!-- Delivery -->\n",
       "<g id=\"node1\" class=\"node\">\n",
       "<title>Delivery</title>\n",
       "<g id=\"a_node1\"><a xlink:title=\"→ Shipment\r------------------------------\rdelivery_date        \r\">\n",
       "<polygon fill=\"#00ff00\" fill-opacity=\"0.188235\" stroke=\"#00ff00\" stroke-opacity=\"0.188235\" points=\"68.88,-34.56 4.12,-34.56 4.12,0 68.88,0 68.88,-34.56\"/>\n",
       "<text text-anchor=\"middle\" x=\"36.5\" y=\"-13.01\" font-family=\"arial\" font-size=\"12.00\" fill=\"darkgreen\">Delivery</text>\n",
       "</a>\n",
       "</g>\n",
       "</g>\n",
       "<!-- Order -->\n",
       "<g id=\"node2\" class=\"node\">\n",
       "<title>Order</title>\n",
       "<g id=\"a_node2\"><a xlink:title=\"order_number         \r------------------------------\rorder_date           \r\">\n",
       "<polygon fill=\"#00ff00\" fill-opacity=\"0.188235\" stroke=\"#00ff00\" stroke-opacity=\"0.188235\" points=\"61.75,-175.68 11.25,-175.68 11.25,-141.12 61.75,-141.12 61.75,-175.68\"/>\n",
       "<text text-anchor=\"start\" x=\"19.25\" y=\"-155.12\" font-family=\"arial\" text-decoration=\"underline\" font-size=\"12.00\" fill=\"darkgreen\">Order</text>\n",
       "</a>\n",
       "</g>\n",
       "</g>\n",
       "<!-- Shipment -->\n",
       "<g id=\"node3\" class=\"node\">\n",
       "<title>Shipment</title>\n",
       "<g id=\"a_node3\"><a xlink:title=\"→ Order\r------------------------------\rship_date            \r\">\n",
       "<polygon fill=\"#00ff00\" fill-opacity=\"0.188235\" stroke=\"#00ff00\" stroke-opacity=\"0.188235\" points=\"73,-105.12 0,-105.12 0,-70.56 73,-70.56 73,-105.12\"/>\n",
       "<text text-anchor=\"middle\" x=\"36.5\" y=\"-83.56\" font-family=\"arial\" font-size=\"12.00\" fill=\"darkgreen\">Shipment</text>\n",
       "</a>\n",
       "</g>\n",
       "</g>\n",
       "<!-- Order&#45;&gt;Shipment -->\n",
       "<g id=\"edge1\" class=\"edge\">\n",
       "<title>Order-&gt;Shipment</title>\n",
       "<path fill=\"none\" stroke=\"#000000\" stroke-width=\"2\" stroke-opacity=\"0.250980\" d=\"M36.5,-140.8C36.5,-130.02 36.5,-116.03 36.5,-105.28\"/>\n",
       "</g>\n",
       "<!-- Shipment&#45;&gt;Delivery -->\n",
       "<g id=\"edge2\" class=\"edge\">\n",
       "<title>Shipment-&gt;Delivery</title>\n",
       "<path fill=\"none\" stroke=\"#000000\" stroke-width=\"2\" stroke-opacity=\"0.250980\" d=\"M36.5,-70.24C36.5,-59.46 36.5,-45.47 36.5,-34.72\"/>\n",
       "</g>\n",
       "</g>\n",
       "</svg>"
      ],
      "text/plain": [
       "<datajoint.diagram.Diagram at 0x7f9237674450>"
      ]
     },
     "execution_count": 25,
     "metadata": {},
     "output_type": "execute_result"
    }
   ],
   "source": [
    "schema = dj.Schema('orders')\n",
    "\n",
    "@schema\n",
    "class Order(dj.Manual):\n",
    "    definition = \"\"\"\n",
    "    order_number : int\n",
    "    ---\n",
    "    order_date : date\n",
    "    \"\"\"\n",
    "\n",
    "@schema\n",
    "class Shipment(dj.Manual):\n",
    "    definition = \"\"\"\n",
    "    -> Order\n",
    "    ---\n",
    "    ship_date : date\n",
    "    \"\"\"\n",
    "\n",
    "\n",
    "@schema\n",
    "class Delivery(dj.Manual):\n",
    "    definition = \"\"\"\n",
    "    -> Shipment\n",
    "    ---\n",
    "    delivery_date : date\n",
    "    \"\"\"\n",
    "\n",
    "dj.Diagram(schema)"
   ]
  },
  {
   "cell_type": "markdown",
   "metadata": {},
   "source": [
    "In this design, `Order`, `Shipment`, and `Delivery` use the same primary key that cascades through the sequence. This makes it straightforward to perform relationonal operations that skip steps. For example, joining information from `Order` and `Delivery` does not require the inclusion of `Shipment` in the query: `Order * Delivery` is a well-formed query:"
   ]
  },
  {
   "cell_type": "code",
   "execution_count": 27,
   "metadata": {},
   "outputs": [
    {
     "data": {
      "text/html": [
       "\n",
       "    \n",
       "    <style type=\"text/css\">\n",
       "        .Table{\n",
       "            border-collapse:collapse;\n",
       "        }\n",
       "        .Table th{\n",
       "            background: #A0A0A0; color: #ffffff; padding:4px; border:#f0e0e0 1px solid;\n",
       "            font-weight: normal; font-family: monospace; font-size: 100%;\n",
       "        }\n",
       "        .Table td{\n",
       "            padding:4px; border:#f0e0e0 1px solid; font-size:100%;\n",
       "        }\n",
       "        .Table tr:nth-child(odd){\n",
       "            background: #ffffff;\n",
       "            color: #000000;\n",
       "        }\n",
       "        .Table tr:nth-child(even){\n",
       "            background: #f3f1ff;\n",
       "            color: #000000;\n",
       "        }\n",
       "        /* Tooltip container */\n",
       "        .djtooltip {\n",
       "        }\n",
       "        /* Tooltip text */\n",
       "        .djtooltip .djtooltiptext {\n",
       "            visibility: hidden;\n",
       "            width: 120px;\n",
       "            background-color: black;\n",
       "            color: #fff;\n",
       "            text-align: center;\n",
       "            padding: 5px 0;\n",
       "            border-radius: 6px;\n",
       "            /* Position the tooltip text - see examples below! */\n",
       "            position: absolute;\n",
       "            z-index: 1;\n",
       "        }\n",
       "        #primary {\n",
       "            font-weight: bold;\n",
       "            color: black;\n",
       "        }\n",
       "        #nonprimary {\n",
       "            font-weight: normal;\n",
       "            color: white;\n",
       "        }\n",
       "\n",
       "        /* Show the tooltip text when you mouse over the tooltip container */\n",
       "        .djtooltip:hover .djtooltiptext {\n",
       "            visibility: visible;\n",
       "        }\n",
       "    </style>\n",
       "    \n",
       "    \n",
       "        <div style=\"max-height:1000px;max-width:1500px;overflow:auto;\">\n",
       "        <table border=\"1\" class=\"Table\">\n",
       "            <thead> <tr style=\"text-align: right;\"> <th> <div class=\"djtooltip\">\n",
       "                            <p id=\"primary\">order_number</p>\n",
       "                            <span class=\"djtooltiptext\"></span>\n",
       "                        </div></th><th><div class=\"djtooltip\">\n",
       "                            <p id=\"nonprimary\">order_date</p>\n",
       "                            <span class=\"djtooltiptext\"></span>\n",
       "                        </div></th><th><div class=\"djtooltip\">\n",
       "                            <p id=\"nonprimary\">delivery_date</p>\n",
       "                            <span class=\"djtooltiptext\"></span>\n",
       "                        </div> </th> </tr> </thead>\n",
       "            <tbody> <tr>  </tr> </tbody>\n",
       "        </table>\n",
       "        \n",
       "        <p>Total: 0</p></div>\n",
       "        "
      ],
      "text/plain": [
       "*order_number  order_date     delivery_date \n",
       "+------------+ +------------+ +------------+\n",
       "\n",
       " (Total: 0)"
      ]
     },
     "execution_count": 27,
     "metadata": {},
     "output_type": "execute_result"
    }
   ],
   "source": [
    "Order * Delivery"
   ]
  },
  {
   "cell_type": "markdown",
   "metadata": {},
   "source": [
    "## Hieararchies\n",
    "\n",
    "Several 1:N relationships in sequence form a *hierachy*. Many data standards are defined as hierarchies.\n",
    "\n",
    "Filesystems of files and folders with standardized naming conventions are examples of hiearchical structures.  Many file formats such as HDF5 are also hiearchical.\n",
    "\n",
    "### Example: Brain Imaging Database \n",
    "\n",
    "Consider the hierarchical structure of the *[Brain Imaging Data Standard](https://bids.neuroimaging.io/)* — [@10.1038/sdata.2016.44], which is used for brain imaging data.\n",
    "\n",
    "In BIDS, a neuroimaging study is organized around experiment subjects, imaging sessions for each subject, and then specific types of brain scans within each sessios: anatomical scans, diffusion-weighted imaging (DWI) scans, and functional imaging.\n",
    "`Study`, `Subject`, `Session`, `Scan` form a hierarchical relationship.\n",
    "\n",
    "Let's design a relational schema for the BIDS hiearchical format:"
   ]
  },
  {
   "cell_type": "code",
   "execution_count": null,
   "metadata": {},
   "outputs": [],
   "source": [
    "schema = dj.Schema('bids')\n",
    "\n",
    "@schema\n",
    "class Study(dj.Manual):\n",
    "    definition = \"\"\"\n",
    "    study : varchar(6)  # study unique code\n",
    "    ---\n",
    "    investigator : varchar(60)  # primary investigator\n",
    "    study_description : varchar(255)\n",
    "    \"\"\"\n",
    "\n",
    "@schema\n",
    "class Study(dj.Manual):\n",
    "    definition = \"\"\"\n",
    "    study : varchar(6)  # study unique code\n",
    "    ---\n",
    "    investigator : varchar(60)  # primary investigator\n",
    "    study_description : varchar(255)\n",
    "    \"\"\"\n",
    "\n",
    "@schema\n",
    "class Subject(dj.Manual):\n",
    "    definition = \"\"\"\n",
    "    -> Study\n",
    "    subject_id  : varchar(8)\n",
    "    ---  \n",
    "    subject_species : enum('human', 'primate', 'rodent')\n",
    "    date_of_birth = null : date\n",
    "    subject_notes : varchar(2000)\n",
    "    \"\"\"\n",
    "\n",
    "@schema\n",
    "class Session(dj.Manual):\n",
    "    definition = \"\"\"\n",
    "    -> Session\n",
    "    session  : smallint unsigned\n",
    "    ---  \n",
    "    session_date : date\n",
    "    operator : varchar(60)\n",
    "    aim : varchar(60)\n",
    "    \"\"\"\n",
    "\n",
    "@schema\n",
    "class Func(dj.Manual):\n",
    "    definition = \"\"\"\n",
    "    -> Session\n",
    "    func  : smallint unsigned\n",
    "    ---  \n",
    "    session_date : date\n",
    "    operator : varchar(60)\n",
    "    aim : varchar(60)\n",
    "    \"\"\""
   ]
  },
  {
   "cell_type": "markdown",
   "metadata": {},
   "source": []
  },
  {
   "cell_type": "markdown",
   "metadata": {},
   "source": [
    "# Design Patterns\n",
    "\n",
    "- Sequence\n",
    "  * workflows\n",
    "- Specialization / Generalization\n",
    "  * student / faculty / staff\n",
    "- Hierarchies\n",
    "  * Ownership\n",
    "  * Using composite primary keys\n",
    "  * Secondary keys\n",
    "- Parameterization\n",
    "  * \n",
    "- Associations\n",
    "  * Many-to-many relationships\n",
    "  * Directed graphs \n",
    "  * Trees\n",
    "  * Undirected graphs\n",
    "- Master-part\n"
   ]
  },
  {
   "cell_type": "code",
   "execution_count": null,
   "metadata": {},
   "outputs": [],
   "source": [
    "import datajoint as dj"
   ]
  },
  {
   "cell_type": "code",
   "execution_count": null,
   "metadata": {},
   "outputs": [],
   "source": [
    "schema = dj.schema(\"dimitri_patterns\")\n",
    "schema.drop()\n",
    "schema = dj.schema(\"dimitri_patterns\")"
   ]
  },
  {
   "cell_type": "markdown",
   "metadata": {},
   "source": [
    "# Sequence / Workflows"
   ]
  },
  {
   "cell_type": "code",
   "execution_count": null,
   "metadata": {},
   "outputs": [],
   "source": [
    "# E.g. order / shipment / confirmation"
   ]
  },
  {
   "cell_type": "code",
   "execution_count": null,
   "metadata": {},
   "outputs": [],
   "source": [
    "@schema\n",
    "class Order(dj.Manual):\n",
    "    definition = \"\"\"\n",
    "    order_number : int\n",
    "    ---\n",
    "    order_date : date\n",
    "    \"\"\""
   ]
  },
  {
   "cell_type": "code",
   "execution_count": null,
   "metadata": {},
   "outputs": [],
   "source": [
    "@schema\n",
    "class Shipment(dj.Manual):\n",
    "    definition = \"\"\"\n",
    "    -> Order\n",
    "    ---\n",
    "    ship_date : date\n",
    "    \"\"\""
   ]
  },
  {
   "cell_type": "code",
   "execution_count": null,
   "metadata": {},
   "outputs": [],
   "source": [
    "@schema\n",
    "class Confirm(dj.Manual):\n",
    "    definition = \"\"\"\n",
    "    -> Shipment\n",
    "    ---\n",
    "    confirm_date : date\n",
    "    \"\"\""
   ]
  },
  {
   "cell_type": "code",
   "execution_count": null,
   "metadata": {},
   "outputs": [],
   "source": [
    "dj.Diagram(schema)"
   ]
  },
  {
   "cell_type": "code",
   "execution_count": null,
   "metadata": {},
   "outputs": [],
   "source": [
    "Order * Shipment * Confirm"
   ]
  },
  {
   "cell_type": "code",
   "execution_count": null,
   "metadata": {},
   "outputs": [],
   "source": [
    "@schema\n",
    "class Order2(dj.Manual):\n",
    "    definition = \"\"\"\n",
    "    order_number : int\n",
    "    ---\n",
    "    order_date : date\n",
    "    \"\"\"\n",
    "\n",
    "\n",
    "@schema\n",
    "class Shipment2(dj.Manual):\n",
    "    definition = \"\"\"\n",
    "    shipment_id : int\n",
    "    ---\n",
    "    ->[unique] Order2\n",
    "    ship_date : date\n",
    "    \"\"\"\n",
    "\n",
    "\n",
    "@schema\n",
    "class Confirm2(dj.Manual):\n",
    "    definition = \"\"\"\n",
    "    confirm_id : int\n",
    "    ---\n",
    "    -> [unique] Shipment2\n",
    "    confirm_date : date\n",
    "    \"\"\""
   ]
  },
  {
   "cell_type": "code",
   "execution_count": null,
   "metadata": {},
   "outputs": [],
   "source": [
    "dj.Diagram(schema)"
   ]
  },
  {
   "cell_type": "code",
   "execution_count": null,
   "metadata": {},
   "outputs": [],
   "source": [
    "Order * Confirm"
   ]
  },
  {
   "cell_type": "code",
   "execution_count": null,
   "metadata": {},
   "outputs": [],
   "source": [
    "Order * Shipment * Confirm"
   ]
  },
  {
   "cell_type": "markdown",
   "metadata": {},
   "source": [
    "# Two ways to model hierarchies\n",
    "\n",
    "## Approach 1: Simple primary keys with secondary dependencies"
   ]
  },
  {
   "cell_type": "code",
   "execution_count": null,
   "metadata": {},
   "outputs": [],
   "source": [
    "@schema\n",
    "class Subject(dj.Manual):\n",
    "    definition = \"\"\"\n",
    "    # Experiment Subject\n",
    "    subject_id : int\n",
    "    ---\n",
    "    species = 'mouse' : enum('human', 'mouse', 'rat', 'worm')\n",
    "    sex : enum('F', 'M', 'unknown')\n",
    "    \"\"\""
   ]
  },
  {
   "cell_type": "code",
   "execution_count": null,
   "metadata": {},
   "outputs": [],
   "source": [
    "Subject()"
   ]
  },
  {
   "cell_type": "code",
   "execution_count": null,
   "metadata": {},
   "outputs": [],
   "source": [
    "Subject.insert1(\n",
    "    dict(subject_id=1, species=\"human\", sex=\"unknown\"), skip_duplicates=True\n",
    ")\n",
    "Subject.insert1(dict(subject_id=2, species=\"mouse\", sex=\"F\"), skip_duplicates=True)\n",
    "Subject.insert1(dict(subject_id=3, species=\"worm\", sex=\"M\"), skip_duplicates=True)"
   ]
  },
  {
   "cell_type": "code",
   "execution_count": null,
   "metadata": {},
   "outputs": [],
   "source": [
    "@schema\n",
    "class Session(dj.Manual):\n",
    "    definition = \"\"\"\n",
    "    -> Subject\n",
    "    session : int\n",
    "    ---\n",
    "    session_timestamp = CURRENT_TIMESTAMP : timestamp\n",
    "    \"\"\""
   ]
  },
  {
   "cell_type": "code",
   "execution_count": null,
   "metadata": {},
   "outputs": [],
   "source": [
    "Session.insert1(dict(session=1, subject_id=2), skip_duplicates=True)\n",
    "Session.insert1(dict(session=2, subject_id=2), skip_duplicates=True)\n",
    "Session.insert1(dict(session=3, subject_id=3), skip_duplicates=True)"
   ]
  },
  {
   "cell_type": "code",
   "execution_count": null,
   "metadata": {},
   "outputs": [],
   "source": [
    "Session()"
   ]
  },
  {
   "cell_type": "code",
   "execution_count": null,
   "metadata": {},
   "outputs": [],
   "source": [
    "@schema\n",
    "class Scan(dj.Manual):\n",
    "    definition = \"\"\"\n",
    "    -> Session\n",
    "    scan_id : int\n",
    "    ---\n",
    "    laser_power : float  # mW\n",
    "    \"\"\""
   ]
  },
  {
   "cell_type": "code",
   "execution_count": null,
   "metadata": {},
   "outputs": [],
   "source": [
    "Scan()"
   ]
  },
  {
   "cell_type": "code",
   "execution_count": null,
   "metadata": {},
   "outputs": [],
   "source": [
    "Scan.insert1(dict(subject_id=2, scan_id=1, session=1, laser_power=3200))"
   ]
  },
  {
   "cell_type": "code",
   "execution_count": null,
   "metadata": {},
   "outputs": [],
   "source": [
    "@schema\n",
    "class Cell(dj.Manual):\n",
    "    definition = \"\"\"\n",
    "    -> Scan\n",
    "    cell_id : int\n",
    "    ---\n",
    "    cell_type : enum('E', 'I')   # excitatory or inhibitory\n",
    "    \"\"\""
   ]
  },
  {
   "cell_type": "code",
   "execution_count": null,
   "metadata": {},
   "outputs": [],
   "source": [
    "dj.Diagram(schema)"
   ]
  },
  {
   "cell_type": "code",
   "execution_count": null,
   "metadata": {},
   "outputs": [],
   "source": [
    "# Give me excitatory cells for all males"
   ]
  },
  {
   "cell_type": "code",
   "execution_count": null,
   "metadata": {},
   "outputs": [],
   "source": [
    "Cell & (Subject & {\"sex\": \"M\"})"
   ]
  },
  {
   "cell_type": "code",
   "execution_count": null,
   "metadata": {},
   "outputs": [],
   "source": [
    "@schema\n",
    "class Subject2(dj.Manual):\n",
    "    definition = \"\"\"\n",
    "    # Experiment Subject\n",
    "    subject_id : int\n",
    "    ---\n",
    "    species = 'mouse' : enum('human', 'mouse', 'rat', 'worm')\n",
    "    sex : enum('F', 'M', 'unknown')\n",
    "    \"\"\"\n",
    "\n",
    "\n",
    "@schema\n",
    "class Session2(dj.Manual):\n",
    "    definition = \"\"\"\n",
    "    session : int\n",
    "    ---\n",
    "    -> Subject2\n",
    "    session_timestamp = CURRENT_TIMESTAMP : timestamp\n",
    "    \"\"\"\n",
    "\n",
    "\n",
    "@schema\n",
    "class Scan2(dj.Manual):\n",
    "    definition = \"\"\"\n",
    "    scan_id : int\n",
    "    ---\n",
    "    -> Session2\n",
    "    laser_power : float  # mW\n",
    "    \"\"\"\n",
    "\n",
    "\n",
    "@schema\n",
    "class Cell2(dj.Manual):\n",
    "    definition = \"\"\"\n",
    "    cell_id : int\n",
    "    ---\n",
    "    -> Scan2\n",
    "    cell_type : enum('E', 'I')   # excitatory or inhibitory\n",
    "    \"\"\""
   ]
  },
  {
   "cell_type": "code",
   "execution_count": null,
   "metadata": {},
   "outputs": [],
   "source": [
    "dj.Diagram(schema)"
   ]
  },
  {
   "cell_type": "code",
   "execution_count": null,
   "metadata": {},
   "outputs": [],
   "source": [
    "Cell.insert1(dict(cell_id=1, scan_id=1, cell_type=\"E\"))"
   ]
  },
  {
   "cell_type": "code",
   "execution_count": null,
   "metadata": {},
   "outputs": [],
   "source": [
    "Cell()"
   ]
  },
  {
   "cell_type": "code",
   "execution_count": null,
   "metadata": {},
   "outputs": [],
   "source": [
    "# Give me cells for subject_id=1\n",
    "\n",
    "Cell2 & (Scan2 & (Session2 & \"subject_id=2\"))"
   ]
  },
  {
   "cell_type": "code",
   "execution_count": null,
   "metadata": {},
   "outputs": [],
   "source": [
    "# Give me cells for all males\n",
    "\n",
    "(Cell2 & (Scan2 & (Session2 & (Subject2 & 'sex=\"M\"')))).make_sql()"
   ]
  },
  {
   "cell_type": "code",
   "execution_count": null,
   "metadata": {},
   "outputs": [],
   "source": [
    "(Cell & (Subject & 'sex=\"M\"')).make_sql()"
   ]
  },
  {
   "cell_type": "code",
   "execution_count": null,
   "metadata": {},
   "outputs": [],
   "source": [
    "dj.Diagram(schema)"
   ]
  },
  {
   "cell_type": "markdown",
   "metadata": {},
   "source": [
    "# Parameterization"
   ]
  },
  {
   "cell_type": "code",
   "execution_count": null,
   "metadata": {},
   "outputs": [],
   "source": [
    "@schema\n",
    "class Image(dj.Manual):\n",
    "    definition = \"\"\"\n",
    "    image_id : int\n",
    "    ---\n",
    "    image : longblob\n",
    "    \"\"\""
   ]
  },
  {
   "cell_type": "code",
   "execution_count": null,
   "metadata": {},
   "outputs": [],
   "source": [
    "@schema\n",
    "class EnhanceMethod(dj.Lookup):\n",
    "    definition = \"\"\"\n",
    "    enhance_method : int\n",
    "    ---\n",
    "    method_name : varchar(16)\n",
    "    \"\"\"\n",
    "\n",
    "    contents = ((1, \"sharpen\"), (2, \"contrast\"))"
   ]
  },
  {
   "cell_type": "code",
   "execution_count": null,
   "metadata": {},
   "outputs": [],
   "source": [
    "@schema\n",
    "class EnhancedImage(dj.Manual):\n",
    "    definition = \"\"\"\n",
    "    -> Image\n",
    "    -> EnhanceMethod\n",
    "    ---\n",
    "    enhanced_image : longblob\n",
    "    \"\"\""
   ]
  },
  {
   "cell_type": "code",
   "execution_count": null,
   "metadata": {},
   "outputs": [],
   "source": [
    "dj.Diagram(schema)"
   ]
  },
  {
   "cell_type": "markdown",
   "metadata": {},
   "source": [
    "# Association \n",
    "\n",
    "Books and authors\n",
    "\n",
    "Checking accounts and account owners"
   ]
  },
  {
   "cell_type": "code",
   "execution_count": null,
   "metadata": {},
   "outputs": [],
   "source": [
    "@schema\n",
    "class Book(dj.Manual):\n",
    "    definition = \"\"\"\n",
    "    isbn : int\n",
    "    ---\n",
    "    title : varchar(300)\n",
    "    \"\"\""
   ]
  },
  {
   "cell_type": "code",
   "execution_count": null,
   "metadata": {},
   "outputs": [],
   "source": [
    "@schema\n",
    "class Author(dj.Manual):\n",
    "    definition = \"\"\"\n",
    "    author_id : int\n",
    "    ---\n",
    "    name : varchar(300)\n",
    "    \"\"\""
   ]
  },
  {
   "cell_type": "code",
   "execution_count": null,
   "metadata": {},
   "outputs": [],
   "source": [
    "@schema\n",
    "class AuthorBook(dj.Manual):\n",
    "    definition = \"\"\"\n",
    "    -> Author\n",
    "    -> Book\n",
    "    ---\n",
    "    order : tinyint unsigned \n",
    "    unique index(isbn, order)\n",
    "    \"\"\""
   ]
  },
  {
   "cell_type": "code",
   "execution_count": null,
   "metadata": {},
   "outputs": [],
   "source": [
    "dj.Diagram(schema)"
   ]
  },
  {
   "cell_type": "markdown",
   "metadata": {},
   "source": [
    "# Generalization / specialization\n",
    "\n",
    "Employee, student, instructor"
   ]
  },
  {
   "cell_type": "code",
   "execution_count": null,
   "metadata": {},
   "outputs": [],
   "source": [
    "@schema\n",
    "class Person(dj.Manual):\n",
    "    definition = \"\"\"\n",
    "    person_id : int\n",
    "    ---\n",
    "    date_of_birth : date\n",
    "    gender : enum(\"male\", \"female\", \"unknown\")\n",
    "    \"\"\""
   ]
  },
  {
   "cell_type": "code",
   "execution_count": null,
   "metadata": {},
   "outputs": [],
   "source": [
    "@schema\n",
    "class Employee(dj.Manual):\n",
    "    definition = \"\"\"\n",
    "    -> Person\n",
    "    ---\n",
    "    hire_date : date    \n",
    "    \"\"\"\n",
    "\n",
    "\n",
    "@schema\n",
    "class Instructor(dj.Manual):\n",
    "    definition = \"\"\"\n",
    "    -> Employee\n",
    "    ---\n",
    "    department : varchar(30)\n",
    "    \"\"\"\n",
    "\n",
    "\n",
    "@schema\n",
    "class Student(dj.Manual):\n",
    "    definition = \"\"\"\n",
    "    -> Person\n",
    "    ---\n",
    "    admission_date : date\n",
    "    \"\"\""
   ]
  },
  {
   "cell_type": "code",
   "execution_count": null,
   "metadata": {},
   "outputs": [],
   "source": [
    "dj.Diagram(schema)"
   ]
  },
  {
   "cell_type": "markdown",
   "metadata": {},
   "source": [
    "# Directed graphs "
   ]
  },
  {
   "cell_type": "code",
   "execution_count": null,
   "metadata": {},
   "outputs": [],
   "source": [
    "@schema\n",
    "class Subordinate(dj.Manual):\n",
    "    definition = \"\"\"\n",
    "    -> Employee\n",
    "    ---\n",
    "    -> Employee.proj(manager_id=\"person_id\")\n",
    "    \"\"\""
   ]
  },
  {
   "cell_type": "code",
   "execution_count": null,
   "metadata": {},
   "outputs": [],
   "source": [
    "dj.Diagram(schema)"
   ]
  },
  {
   "cell_type": "code",
   "execution_count": null,
   "metadata": {},
   "outputs": [],
   "source": [
    "@schema\n",
    "class Neuron(dj.Manual):\n",
    "    definition = \"\"\"\n",
    "    neuron : int\n",
    "    \"\"\"\n",
    "\n",
    "\n",
    "@schema\n",
    "class Synapse(dj.Manual):\n",
    "    definition = \"\"\"\n",
    "    synapse_id : int\n",
    "    ---\n",
    "    -> Neuron.proj(pre=\"neuron\")\n",
    "    -> Neuron.proj(post=\"neuron\")    \n",
    "    \"\"\""
   ]
  },
  {
   "cell_type": "code",
   "execution_count": null,
   "metadata": {},
   "outputs": [],
   "source": [
    "dj.Diagram(schema)"
   ]
  },
  {
   "cell_type": "markdown",
   "metadata": {},
   "source": [
    "```sql\n",
    "\n",
    "CREATE TABLE managed_by (\n",
    "   person_id : int NOT NULL,\n",
    "   manager_id : int NOT NULL,\n",
    "   \n",
    "   PRIMARY KEY (person_id),\n",
    "   \n",
    "   FOREIGN KEY (person_id) REFERENCES employee (person_id),\n",
    "   FOREIGN KEY (manager_id) reference employee (person_id))\n",
    "   "
   ]
  },
  {
   "cell_type": "markdown",
   "metadata": {},
   "source": [
    "# Undirected graphs"
   ]
  },
  {
   "cell_type": "code",
   "execution_count": null,
   "metadata": {},
   "outputs": [],
   "source": [
    "# direcated friendship = full directed graph capability\n",
    "@schema\n",
    "class Friendship(dj.Manual):\n",
    "    definition = \"\"\"\n",
    "    -> Person.proj(friend1 = \"person_id\")\n",
    "    -> Person.proj(friend2 = \"person_id\")\n",
    "    \"\"\""
   ]
  },
  {
   "cell_type": "code",
   "execution_count": null,
   "metadata": {},
   "outputs": [],
   "source": [
    "dj.Diagram(schema)"
   ]
  },
  {
   "cell_type": "code",
   "execution_count": null,
   "metadata": {},
   "outputs": [],
   "source": [
    "@schema\n",
    "class Order(dj.Manual):\n",
    "    definition = \"\"\"\n",
    "    order_id : int\n",
    "    ---\n",
    "    order_date : date\n",
    "    \"\"\"\n",
    "\n",
    "    class Item(dj.Part):\n",
    "        definition = \"\"\"\n",
    "        -> master\n",
    "        order_item : int\n",
    "        ---\n",
    "        \n",
    "        \"\"\""
   ]
  },
  {
   "cell_type": "markdown",
   "metadata": {},
   "source": [
    "# Puzzle: \n",
    "Cities and states.\n",
    "1. Each city belongs to one state. \n",
    "2. Each state has one capital.\n",
    "3. A capital is a city.\n",
    "4. A capital must be in the same state. \n",
    "\n",
    "* Tables\n",
    "* Primary keys\n",
    "* Foreign keys"
   ]
  },
  {
   "cell_type": "code",
   "execution_count": null,
   "metadata": {},
   "outputs": [],
   "source": [
    "@schema\n",
    "class State(dj.Manual):\n",
    "    definition = \"\"\"\n",
    "    st : char(2)\n",
    "    ---\n",
    "    state : varchar(30)\n",
    "    \"\"\"\n",
    "\n",
    "\n",
    "State.insert(\n",
    "    ((\"WA\", \"Washington\"), (\"TX\", \"Texas\"), (\"AK\", \"Alaska\"), (\"LA\", \"Louisiana\"))\n",
    ")"
   ]
  },
  {
   "cell_type": "code",
   "execution_count": null,
   "metadata": {},
   "outputs": [],
   "source": [
    "@schema\n",
    "class City(dj.Manual):\n",
    "    definition = \"\"\"\n",
    "    -> State\n",
    "    city_name : varchar(30)\n",
    "    ---\n",
    "    capital = null : enum(\"YES\")\n",
    "    unique index(st, capital)\n",
    "    \"\"\""
   ]
  },
  {
   "cell_type": "code",
   "execution_count": null,
   "metadata": {},
   "outputs": [],
   "source": [
    "City.delete_quick()\n",
    "\n",
    "City.insert1((\"WA\", \"Seattle\", None))\n",
    "City.insert1((\"TX\", \"Austin\", \"YES\"))\n",
    "City.insert1((\"TX\", \"Houston\", None))\n",
    "City.insert1((\"WA\", \"Olympia\", \"YES\"))"
   ]
  },
  {
   "cell_type": "code",
   "execution_count": null,
   "metadata": {},
   "outputs": [],
   "source": [
    "City()"
   ]
  },
  {
   "cell_type": "code",
   "execution_count": null,
   "metadata": {},
   "outputs": [],
   "source": [
    "@schema\n",
    "class State2(dj.Manual):\n",
    "    definition = \"\"\"\n",
    "    state : char (2)\n",
    "    ---\n",
    "    state_name : varchar(30)\n",
    "    \"\"\"\n",
    "\n",
    "\n",
    "@schema\n",
    "class City2(dj.Manual):\n",
    "    definition = \"\"\"\n",
    "    -> State2\n",
    "    city_name : varchar(30)\n",
    "    \"\"\"\n",
    "\n",
    "\n",
    "@schema\n",
    "class Capital2(dj.Manual):\n",
    "    definition = \"\"\"\n",
    "    -> State2\n",
    "    ---\n",
    "    -> City2\n",
    "    \"\"\""
   ]
  },
  {
   "cell_type": "code",
   "execution_count": null,
   "metadata": {},
   "outputs": [],
   "source": [
    "State2.delete_quick()\n",
    "City2.delete_quick()\n",
    "\n",
    "State2.insert(\n",
    "    ((\"WA\", \"Washington\"), (\"TX\", \"Texas\"), (\"AK\", \"Alaska\"), (\"LA\", \"Louisiana\"))\n",
    ")\n",
    "\n",
    "City2.insert1((\"WA\", \"Seattle\"))\n",
    "City2.insert1((\"TX\", \"Austin\"))\n",
    "City2.insert1((\"TX\", \"Houston\"))\n",
    "City2.insert1((\"WA\", \"Olympia\"))"
   ]
  },
  {
   "cell_type": "code",
   "execution_count": null,
   "metadata": {},
   "outputs": [],
   "source": [
    "dj.Diagram(schema)"
   ]
  },
  {
   "cell_type": "code",
   "execution_count": null,
   "metadata": {},
   "outputs": [],
   "source": [
    "Capital2.insert1((\"TX\", \"Austin\"))"
   ]
  },
  {
   "cell_type": "code",
   "execution_count": null,
   "metadata": {},
   "outputs": [],
   "source": [
    "Capital2.insert1((\"TX\", \"Houston\"))"
   ]
  },
  {
   "cell_type": "code",
   "execution_count": null,
   "metadata": {},
   "outputs": [],
   "source": [
    "City2()"
   ]
  },
  {
   "cell_type": "markdown",
   "metadata": {},
   "source": [
    "# In SQL \n",
    "\n",
    "```sql\n",
    "CREATE TABLE state (\n",
    "    state char(2) NOT NULL,\n",
    "    state_name varchar(30) NOT NULL,\n",
    "    PRIMARY KEY (state))\n",
    "    \n",
    "CREATE TABLE city (\n",
    "    state char(2) NOT NULL,\n",
    "    city_name varchar(30) NOT NULL,\n",
    "    PRIMARY KEY (state, city_name),\n",
    "    FOREIGN KEY (state) REFERENCES state(state))\n",
    "\n",
    "CREATE TABLE capital (\n",
    "    state char(2) NOT NULL,\n",
    "    city_name varchar(30) NOT NULL,\n",
    "    PRIMARY KEY (state),\n",
    "    FOREIGN KEY (state, city_name) REFERENCES city (state, city_name))\n",
    "```\n"
   ]
  },
  {
   "cell_type": "markdown",
   "metadata": {},
   "source": [
    "\n",
    "```sql\n",
    "CREATE TABLE state (\n",
    "    state char(2),\n",
    "    state_name varchar(30),\n",
    "    capital varchar(30),\n",
    "    PRIMARY KEY (state),\n",
    "    FOREIGN KEY (state, capital) REFERENCES city (state, city_name))\n",
    "    \n",
    "CREATE TABLE city (\n",
    "    state char(2),\n",
    "    city_name varchar(30),\n",
    "    PRIMARY KEY (state, city_name))\n",
    "    FOREIGN KEY (state) REFERENCES state(state)\n",
    "```"
   ]
  },
  {
   "cell_type": "markdown",
   "metadata": {},
   "source": [
    "# In SQL \n",
    "\n",
    "```sql\n",
    "CREATE TABLE state (\n",
    "    state char(2) NOT NULL,\n",
    "    state_name varchar(30) NOT NULL,\n",
    "    PRIMARY KEY (state))\n",
    "    \n",
    "CREATE TABLE city (\n",
    "    city_id int NOT NULL,\n",
    "    state char(2) NOT NULL,\n",
    "    city_name varchar(30) NOT NULL,\n",
    "    is_capital enum('yes'),\n",
    "    PRIMARY KEY (state_id),\n",
    "    UNIQUE INDEX(state, is_capital),\n",
    "    FOREIGN KEY (state) REFERENCES state(state))\n",
    "```\n",
    "\n"
   ]
  },
  {
   "cell_type": "markdown",
   "metadata": {},
   "source": [
    "## Problem \n",
    "\n",
    "Model a vet clinic. \n",
    "\n",
    "1. Customers bring in pets. Customers are identified by their cell phones. Pets are identified by their nicknames for that customer.\n",
    "\n",
    "2. Pets have a date of birth, species, and date of birth.\n",
    "\n",
    "3. Pets have a list of vaccinations that must be performed for their species.\n",
    "\n",
    "4. Pets have vaccination administration, shot date. "
   ]
  },
  {
   "cell_type": "code",
   "execution_count": null,
   "metadata": {},
   "outputs": [],
   "source": [
    "schema = dj.Schema(\"shared_vet\")\n",
    "schema.drop()\n",
    "schema = dj.Schema(\"shared_vet\")"
   ]
  },
  {
   "cell_type": "code",
   "execution_count": null,
   "metadata": {},
   "outputs": [],
   "source": [
    "@schema\n",
    "class Owner(dj.Manual):\n",
    "    definition = \"\"\"\n",
    "    cell_phone : char(10) \n",
    "    ---\n",
    "    full_name : varchar(16)\n",
    "    \"\"\""
   ]
  },
  {
   "cell_type": "code",
   "execution_count": null,
   "metadata": {},
   "outputs": [],
   "source": [
    "@schema\n",
    "class Species(dj.Lookup):\n",
    "    definition = \"\"\"\n",
    "    species : varchar(30)\n",
    "    \"\"\"\n",
    "    contents = ((\"cat\",), (\"dog\",), (\"ferret\",), (\"parrot\",))"
   ]
  },
  {
   "cell_type": "code",
   "execution_count": null,
   "metadata": {},
   "outputs": [],
   "source": [
    "Species()"
   ]
  },
  {
   "cell_type": "code",
   "execution_count": null,
   "metadata": {},
   "outputs": [],
   "source": [
    "@schema\n",
    "class Pet(dj.Manual):\n",
    "    definition = \"\"\"\n",
    "    -> Owner\n",
    "    -> Species\n",
    "    nickname : varchar(30)\n",
    "    ---\n",
    "    birthdate : date\n",
    "    \"\"\""
   ]
  },
  {
   "cell_type": "code",
   "execution_count": null,
   "metadata": {},
   "outputs": [],
   "source": [
    "@schema\n",
    "class RequiredVaccine(dj.Manual):\n",
    "    definition = \"\"\"\n",
    "    -> Species\n",
    "    vaccine  : varchar(10)\n",
    "    \"\"\""
   ]
  },
  {
   "cell_type": "code",
   "execution_count": null,
   "metadata": {},
   "outputs": [],
   "source": [
    "dj.Diagram(schema)"
   ]
  },
  {
   "cell_type": "code",
   "execution_count": null,
   "metadata": {},
   "outputs": [],
   "source": [
    "@schema\n",
    "class Shot(dj.Manual):\n",
    "    definition = \"\"\"\n",
    "    -> Pet\n",
    "    -> RequiredVaccine\n",
    "    ---\n",
    "    shot_date : date\n",
    "    \"\"\""
   ]
  },
  {
   "cell_type": "code",
   "execution_count": null,
   "metadata": {},
   "outputs": [],
   "source": [
    "dj.Diagram(schema)"
   ]
  },
  {
   "cell_type": "code",
   "execution_count": null,
   "metadata": {},
   "outputs": [],
   "source": [
    "Shot()"
   ]
  },
  {
   "cell_type": "markdown",
   "metadata": {},
   "source": [
    "```sql\n",
    "create table shot (\n",
    "    cell_phone char(10) NOT NULL,\n",
    "    nickname varchar(16) NOT NULL,\n",
    "    species varchar(20) NOT NULL,\n",
    "    vaccine varchar(10) NOT NULL,\n",
    "    PRIMARY KEY (cell_phone, nickname, species, vaccine),\n",
    "    FOREIGN KEY (cell_phone, nickname, species) REFERENCES                         pet(cell_phone, nickname, species),\n",
    "    FOREIGN KEY (species, vaccine) REFERENCES required_vaccine(species, vaccine)\n",
    ")\n",
    "```"
   ]
  },
  {
   "cell_type": "markdown",
   "metadata": {},
   "source": [
    "## Homework homework\n",
    "\n",
    "Homework assignments, students, grades\n",
    "\n",
    "1. Homework is given with a due date.\n",
    "2. Students submit homework, we record the submit date\n",
    "3. Submitted homework gets a grade\n"
   ]
  },
  {
   "cell_type": "code",
   "execution_count": null,
   "metadata": {},
   "outputs": [],
   "source": [
    "@schema\n",
    "class Assignment(dj.Manual):\n",
    "    definition = \"\"\"\n",
    "    assignment : int\n",
    "    ---\n",
    "    due_date : date\n",
    "    \"\"\""
   ]
  },
  {
   "cell_type": "code",
   "execution_count": null,
   "metadata": {},
   "outputs": [],
   "source": [
    "@schema\n",
    "class Student(dj.Manual):\n",
    "    definition = \"\"\"\n",
    "    student_id : int\n",
    "    ---\n",
    "    student_name : varchar(30)\n",
    "    \"\"\""
   ]
  },
  {
   "cell_type": "code",
   "execution_count": null,
   "metadata": {},
   "outputs": [],
   "source": [
    "@schema\n",
    "class Submission(dj.Manual):\n",
    "    definition = \"\"\"\n",
    "    -> Student\n",
    "    -> Assignment\n",
    "    ---\n",
    "    submit_date : date\n",
    "    \"\"\""
   ]
  },
  {
   "cell_type": "code",
   "execution_count": null,
   "metadata": {},
   "outputs": [],
   "source": [
    "@schema\n",
    "class Grade(dj.Manual):\n",
    "    definition = \"\"\"\n",
    "    -> Submission\n",
    "    ---\n",
    "    grade : char(1)\n",
    "    \"\"\""
   ]
  },
  {
   "cell_type": "code",
   "execution_count": null,
   "metadata": {},
   "outputs": [],
   "source": [
    "dj.Diagram(schema)"
   ]
  },
  {
   "cell_type": "markdown",
   "metadata": {},
   "source": [
    "# Messaging App (Slack, Telegram, Signal)\n",
    "\n",
    "1. Users can create channels. Each channel belongs to one user.\n",
    "3. Channel names are globally unique\n",
    "2. A user can create a post in their channels only\n",
    "3. A user can be a guest in another person's channel.\n",
    "4. Guest can reply to posts\n",
    "\n",
    "\n",
    "\n"
   ]
  },
  {
   "cell_type": "code",
   "execution_count": null,
   "metadata": {},
   "outputs": [],
   "source": [
    "@schema\n",
    "class User(dj.Manual):\n",
    "    definition = \"\"\"\n",
    "    username : varchar(12)\n",
    "    ---\n",
    "    irl_name : varchar(30)\n",
    "    \"\"\""
   ]
  },
  {
   "cell_type": "code",
   "execution_count": null,
   "metadata": {},
   "outputs": [],
   "source": [
    "@schema\n",
    "class Channel(dj.Manual):\n",
    "    definition = \"\"\"\n",
    "    channel : varchar(12)\n",
    "    ---\n",
    "    -> User\n",
    "    \"\"\""
   ]
  },
  {
   "cell_type": "code",
   "execution_count": null,
   "metadata": {},
   "outputs": [],
   "source": [
    "@schema\n",
    "class Guest(dj.Manual):\n",
    "    definition = \"\"\"\n",
    "    -> Channel\n",
    "    -> User\n",
    "    \"\"\""
   ]
  },
  {
   "cell_type": "code",
   "execution_count": null,
   "metadata": {},
   "outputs": [],
   "source": [
    "dj.Diagram(schema)"
   ]
  },
  {
   "cell_type": "code",
   "execution_count": null,
   "metadata": {},
   "outputs": [],
   "source": [
    "@schema\n",
    "class Post(dj.Manual):\n",
    "    definition = \"\"\"\n",
    "    -> Channel\n",
    "    post : int\n",
    "    ---\n",
    "    message : varchar(1024)\n",
    "    \"\"\""
   ]
  },
  {
   "cell_type": "code",
   "execution_count": null,
   "metadata": {},
   "outputs": [],
   "source": [
    "Post * Channel"
   ]
  },
  {
   "cell_type": "code",
   "execution_count": null,
   "metadata": {},
   "outputs": [],
   "source": [
    "@schema\n",
    "class Response(dj.Manual):\n",
    "    definition = \"\"\"\n",
    "    -> Post\n",
    "    -> Guest\n",
    "    ---\n",
    "    response : varchar(1024)\n",
    "    \"\"\""
   ]
  },
  {
   "cell_type": "code",
   "execution_count": null,
   "metadata": {},
   "outputs": [],
   "source": [
    "dj.Diagram(schema)"
   ]
  }
 ],
 "metadata": {
  "kernelspec": {
   "display_name": "base",
   "language": "python",
   "name": "python3"
  },
  "language_info": {
   "codemirror_mode": {
    "name": "ipython",
    "version": 3
   },
   "file_extension": ".py",
   "mimetype": "text/x-python",
   "name": "python",
   "nbconvert_exporter": "python",
   "pygments_lexer": "ipython3",
   "version": "3.11.10"
  }
 },
 "nbformat": 4,
 "nbformat_minor": 4
}
