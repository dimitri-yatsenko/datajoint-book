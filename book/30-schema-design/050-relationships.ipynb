{
 "cells": [
  {
   "cell_type": "markdown",
   "metadata": {},
   "source": [
    "# Modeling Relationships\n",
    "\n",
    "In this section, we’ll explore how to build complex relationships between entities using a combination of uniqueness constraints and referential constraints.\n",
    "\n",
    "## Uniqueness Constraints\n",
    "\n",
    "Uniqueness constraints are typically set through primary keys, but tables can also have additional unique indexes beyond the primary key.\n",
    "\n",
    "## Referential Constraints\n",
    "\n",
    "Referential constraints establish relationships between tables and are enforced by [foreign keys](030-foreign-keys.ipynb).\n",
    "\n",
    "## Foreign Keys Establish 1:N or 1:1 Relationships\n",
    "\n",
    "When a child table defines a foreign key constraint to a parent table, it creates a relationship between the entities in the parent and child tables. The cardinality of this relationship is always **1 on the parent side**: each entry in the child table must refer to a single entity in the parent table.\n",
    "\n",
    "On the child side, the relationship can have different cardinalities:\n",
    "\n",
    "- **0–1**: if the foreign key field in the child table has a unique constraint.\n",
    "- **N**: if no uniqueness constraint is applied to the foreign key field.\n",
    "\n",
    "Let’s illustrate these possibilities with examples of bank customers and their accounts.\n"
   ]
  },
  {
   "cell_type": "code",
   "execution_count": 32,
   "metadata": {},
   "outputs": [],
   "source": [
    "import datajoint as dj"
   ]
  },
  {
   "cell_type": "markdown",
   "metadata": {},
   "source": [
    "# 1:N Relationships\n",
    "\n",
    "In the first example, let the rule be that customers are independent entities and accounts have exactly one owner but customers can have any number of accounts.\n",
    "This is an example of an 1:N relationship between customers and their accounts.\n",
    "\n",
    "Then the foreign key is declared in the `Account` table."
   ]
  },
  {
   "cell_type": "code",
   "execution_count": 33,
   "metadata": {},
   "outputs": [
    {
     "data": {
      "image/svg+xml": [
       "<svg xmlns=\"http://www.w3.org/2000/svg\" xmlns:xlink=\"http://www.w3.org/1999/xlink\" width=\"90pt\" height=\"113pt\" viewBox=\"0.00 0.00 90.00 113.12\">\n",
       "<g id=\"graph0\" class=\"graph\" transform=\"scale(1 1) rotate(0) translate(4 109.12)\">\n",
       "<polygon fill=\"white\" stroke=\"none\" points=\"-4,4 -4,-109.12 86,-109.12 86,4 -4,4\"/>\n",
       "<!-- Customer1 -->\n",
       "<g id=\"node1\" class=\"node\">\n",
       "<title>Customer1</title>\n",
       "<g id=\"a_node1\"><a xlink:title=\"customer_id          \r------------------------------\rfull_name            \rssn=null             \rUNIQUE INDEX (ssn)\r\">\n",
       "<polygon fill=\"#00ff00\" fill-opacity=\"0.188235\" stroke=\"#00ff00\" stroke-opacity=\"0.188235\" points=\"82,-105.12 0,-105.12 0,-70.56 82,-70.56 82,-105.12\"/>\n",
       "<text text-anchor=\"start\" x=\"8\" y=\"-84.56\" font-family=\"arial\" text-decoration=\"underline\" font-size=\"12.00\" fill=\"darkgreen\">Customer1</text>\n",
       "</a>\n",
       "</g>\n",
       "</g>\n",
       "<!-- Account1 -->\n",
       "<g id=\"node2\" class=\"node\">\n",
       "<title>Account1</title>\n",
       "<g id=\"a_node2\"><a xlink:title=\"account              \r------------------------------\r→ Customer1\r\">\n",
       "<polygon fill=\"#00ff00\" fill-opacity=\"0.188235\" stroke=\"#00ff00\" stroke-opacity=\"0.188235\" points=\"77.12,-34.56 4.88,-34.56 4.88,0 77.12,0 77.12,-34.56\"/>\n",
       "<text text-anchor=\"start\" x=\"12.88\" y=\"-14.01\" font-family=\"arial\" text-decoration=\"underline\" font-size=\"12.00\" fill=\"darkgreen\">Account1</text>\n",
       "</a>\n",
       "</g>\n",
       "</g>\n",
       "<!-- Customer1&#45;&gt;Account1 -->\n",
       "<g id=\"edge1\" class=\"edge\">\n",
       "<title>Customer1-&gt;Account1</title>\n",
       "<path fill=\"none\" stroke=\"#000000\" stroke-width=\"0.75\" stroke-dasharray=\"5,2\" stroke-opacity=\"0.250980\" d=\"M41,-70.24C41,-59.46 41,-45.47 41,-34.72\"/>\n",
       "</g>\n",
       "</g>\n",
       "</svg>"
      ],
      "text/plain": [
       "<datajoint.diagram.Diagram at 0x7fc003d24b50>"
      ]
     },
     "execution_count": 33,
     "metadata": {},
     "output_type": "execute_result"
    }
   ],
   "source": [
    "schema1 = dj.Schema('bank1')\n",
    "@schema1\n",
    "class Customer1(dj.Manual):\n",
    "    definition = \"\"\"\n",
    "    customer_id : int unsigned\n",
    "    ---\n",
    "    full_name : varchar(30)\n",
    "    ssn = null : int unsigned\n",
    "    unique index(ssn)\n",
    "    \"\"\"\n",
    "\n",
    "@schema1\n",
    "class Account1(dj.Manual):\n",
    "    definition = \"\"\"\n",
    "    account : int unsigned\n",
    "    ---\n",
    "    -> Customer1\n",
    "    open_date : date\n",
    "    \"\"\"\n",
    "\n",
    "dj.Diagram(schema1)"
   ]
  },
  {
   "cell_type": "markdown",
   "metadata": {},
   "source": [
    "In this design:\n",
    "\n",
    "* Each account is linked to a single customer through a foreign key referencing the primary key in Customer1, ensuring that each account has one, and only one, owner.\n",
    "* This setup allows each customer to own multiple accounts, as there is no unique constraint on the foreign key in Account1.\n",
    "* Customers may have zero or more accounts, as there’s no requirement for every customer to have an associated account.\n",
    "* Every account must have an owner, since the foreign key reference to Customer1 is mandatory (non-nullable).\n",
    "\n",
    "This structure establishes a one-to-many relationship between customers and accounts: one customer can own multiple accounts, but each account belongs to only one customer.\n",
    "\n",
    "To allow some accounts without an assigned owner, we can modify the design to make the foreign key nullable:"
   ]
  },
  {
   "cell_type": "code",
   "execution_count": 34,
   "metadata": {},
   "outputs": [
    {
     "data": {
      "image/svg+xml": [
       "<svg xmlns=\"http://www.w3.org/2000/svg\" xmlns:xlink=\"http://www.w3.org/1999/xlink\" width=\"90pt\" height=\"113pt\" viewBox=\"0.00 0.00 90.00 113.12\">\n",
       "<g id=\"graph0\" class=\"graph\" transform=\"scale(1 1) rotate(0) translate(4 109.12)\">\n",
       "<polygon fill=\"white\" stroke=\"none\" points=\"-4,4 -4,-109.12 86,-109.12 86,4 -4,4\"/>\n",
       "<!-- Customer2 -->\n",
       "<g id=\"node1\" class=\"node\">\n",
       "<title>Customer2</title>\n",
       "<g id=\"a_node1\"><a xlink:title=\"customer_id          \r------------------------------\rfull_name            \rssn=null             \rUNIQUE INDEX (ssn)\r\">\n",
       "<polygon fill=\"#00ff00\" fill-opacity=\"0.188235\" stroke=\"#00ff00\" stroke-opacity=\"0.188235\" points=\"82,-105.12 0,-105.12 0,-70.56 82,-70.56 82,-105.12\"/>\n",
       "<text text-anchor=\"start\" x=\"8\" y=\"-84.56\" font-family=\"arial\" text-decoration=\"underline\" font-size=\"12.00\" fill=\"darkgreen\">Customer2</text>\n",
       "</a>\n",
       "</g>\n",
       "</g>\n",
       "<!-- Account2 -->\n",
       "<g id=\"node2\" class=\"node\">\n",
       "<title>Account2</title>\n",
       "<g id=\"a_node2\"><a xlink:title=\"account              \r------------------------------\r→ [nullable] Customer2\r\">\n",
       "<polygon fill=\"#00ff00\" fill-opacity=\"0.188235\" stroke=\"#00ff00\" stroke-opacity=\"0.188235\" points=\"77.12,-34.56 4.88,-34.56 4.88,0 77.12,0 77.12,-34.56\"/>\n",
       "<text text-anchor=\"start\" x=\"12.88\" y=\"-14.01\" font-family=\"arial\" text-decoration=\"underline\" font-size=\"12.00\" fill=\"darkgreen\">Account2</text>\n",
       "</a>\n",
       "</g>\n",
       "</g>\n",
       "<!-- Customer2&#45;&gt;Account2 -->\n",
       "<g id=\"edge1\" class=\"edge\">\n",
       "<title>Customer2-&gt;Account2</title>\n",
       "<path fill=\"none\" stroke=\"#000000\" stroke-width=\"0.75\" stroke-dasharray=\"5,2\" stroke-opacity=\"0.250980\" d=\"M41,-70.24C41,-59.46 41,-45.47 41,-34.72\"/>\n",
       "</g>\n",
       "</g>\n",
       "</svg>"
      ],
      "text/plain": [
       "<datajoint.diagram.Diagram at 0x7fc003d24e90>"
      ]
     },
     "execution_count": 34,
     "metadata": {},
     "output_type": "execute_result"
    }
   ],
   "source": [
    "schema2 = dj.Schema('bank2')\n",
    "@schema2\n",
    "class Customer2(dj.Manual):\n",
    "    definition = \"\"\"\n",
    "    customer_id : int unsigned\n",
    "    ---\n",
    "    full_name : varchar(30)\n",
    "    ssn = null : int unsigned\n",
    "    unique index(ssn)\n",
    "    \"\"\"\n",
    "\n",
    "@schema2\n",
    "class Account2(dj.Manual):\n",
    "    definition = \"\"\"\n",
    "    account : int unsigned\n",
    "    ---\n",
    "    -> [nullable] Customer2\n",
    "    open_date : date\n",
    "    \"\"\"\n",
    "\n",
    "dj.Diagram(schema2)"
   ]
  },
  {
   "cell_type": "markdown",
   "metadata": {},
   "source": [
    "In this modified design:\n",
    "\n",
    "* Accounts without owners are allowed by setting the foreign key to Customer2 as nullable.\n",
    "* The schema diagram does not visually distinguish between required and optional dependencies, so the nullable nature of the foreign key is not visible in the diagram.\n",
    "* This configuration supports cases where accounts may or may not be assigned to a customer, adding flexibility to the data model."
   ]
  },
  {
   "cell_type": "markdown",
   "metadata": {},
   "source": [
    "Consider a third design where the foreign key is part of a composite primary key:"
   ]
  },
  {
   "cell_type": "code",
   "execution_count": 35,
   "metadata": {},
   "outputs": [
    {
     "data": {
      "image/svg+xml": [
       "<svg xmlns=\"http://www.w3.org/2000/svg\" xmlns:xlink=\"http://www.w3.org/1999/xlink\" width=\"90pt\" height=\"113pt\" viewBox=\"0.00 0.00 90.00 113.12\">\n",
       "<g id=\"graph0\" class=\"graph\" transform=\"scale(1 1) rotate(0) translate(4 109.12)\">\n",
       "<polygon fill=\"white\" stroke=\"none\" points=\"-4,4 -4,-109.12 86,-109.12 86,4 -4,4\"/>\n",
       "<!-- Customer3 -->\n",
       "<g id=\"node1\" class=\"node\">\n",
       "<title>Customer3</title>\n",
       "<g id=\"a_node1\"><a xlink:title=\"customer_id          \r------------------------------\rfull_name            \rssn=null             \rUNIQUE INDEX (ssn)\r\">\n",
       "<polygon fill=\"#00ff00\" fill-opacity=\"0.188235\" stroke=\"#00ff00\" stroke-opacity=\"0.188235\" points=\"82,-105.12 0,-105.12 0,-70.56 82,-70.56 82,-105.12\"/>\n",
       "<text text-anchor=\"start\" x=\"8\" y=\"-84.56\" font-family=\"arial\" text-decoration=\"underline\" font-size=\"12.00\" fill=\"darkgreen\">Customer3</text>\n",
       "</a>\n",
       "</g>\n",
       "</g>\n",
       "<!-- Account3 -->\n",
       "<g id=\"node2\" class=\"node\">\n",
       "<title>Account3</title>\n",
       "<g id=\"a_node2\"><a xlink:title=\"→ Customer3\raccount              \r------------------------------\ropen_date            \r\">\n",
       "<polygon fill=\"#00ff00\" fill-opacity=\"0.188235\" stroke=\"#00ff00\" stroke-opacity=\"0.188235\" points=\"77.12,-34.56 4.88,-34.56 4.88,0 77.12,0 77.12,-34.56\"/>\n",
       "<text text-anchor=\"start\" x=\"12.88\" y=\"-14.01\" font-family=\"arial\" text-decoration=\"underline\" font-size=\"12.00\" fill=\"darkgreen\">Account3</text>\n",
       "</a>\n",
       "</g>\n",
       "</g>\n",
       "<!-- Customer3&#45;&gt;Account3 -->\n",
       "<g id=\"edge1\" class=\"edge\">\n",
       "<title>Customer3-&gt;Account3</title>\n",
       "<path fill=\"none\" stroke=\"#000000\" stroke-width=\"0.75\" stroke-opacity=\"0.250980\" d=\"M41,-70.24C41,-59.46 41,-45.47 41,-34.72\"/>\n",
       "</g>\n",
       "</g>\n",
       "</svg>"
      ],
      "text/plain": [
       "<datajoint.diagram.Diagram at 0x7fc003d98050>"
      ]
     },
     "execution_count": 35,
     "metadata": {},
     "output_type": "execute_result"
    }
   ],
   "source": [
    "schema3 = dj.Schema('bank3')\n",
    "\n",
    "@schema3\n",
    "class Customer3(dj.Manual):\n",
    "    definition = \"\"\"\n",
    "    customer_id : int unsigned\n",
    "    ---\n",
    "    full_name : varchar(30)\n",
    "    ssn = null : int unsigned  # Optional SSN with unique constraint\n",
    "    unique index(ssn)\n",
    "    \"\"\"\n",
    "\n",
    "@schema3\n",
    "class Account3(dj.Manual):\n",
    "    definition = \"\"\"\n",
    "    -> Customer3\n",
    "    account : int unsigned\n",
    "    ---\n",
    "    open_date : date\n",
    "    \"\"\"\n",
    "\n",
    "dj.Diagram(schema3)"
   ]
  },
  {
   "cell_type": "markdown",
   "metadata": {},
   "source": [
    "In this design:\n",
    "\n",
    "* Composite Primary Key: The primary key for `Account3` is a combination of `customer_id` and `account`, meaning each account is uniquely identified by both the customer and account number together and neither of the two fields separately has to be unique across accounts.\n",
    "* One-to-Many Relationship: Since `customer_id` is only part of the primary key (not the entire primary key), it doesn’t need to be unique within `Account3`. This allows each customer to have multiple accounts, preserving the one-to-many relationship between Customer3 and Account3.\n",
    "* Foreign Key Reference: The foreign key to `Customer3` establishes the relationship, ensuring that each entry in Account3 references a valid customer in Customer3.\n",
    "\n",
    "This setup maintains the one-to-many relationship while allowing for each account to be uniquely identified by a combination of customer and account identifiers.\n",
    "\n",
    "In the diagram, solid lines indicate a dependency where the foreign key is part of the primary key, signifying a stronger relationship than a secondary reference. This stronger relationship ensures that any foreign keys pointing to `Account3` will also transitively reference `Customer3`."
   ]
  },
  {
   "cell_type": "markdown",
   "metadata": {},
   "source": [
    "### Exercise: Analyzing Bank Design\n",
    "\n",
    "Review the database design below and consider how this structure might reflect the bank’s operations."
   ]
  },
  {
   "cell_type": "code",
   "execution_count": 36,
   "metadata": {},
   "outputs": [
    {
     "data": {
      "image/svg+xml": [
       "<svg xmlns=\"http://www.w3.org/2000/svg\" xmlns:xlink=\"http://www.w3.org/1999/xlink\" width=\"90pt\" height=\"113pt\" viewBox=\"0.00 0.00 90.00 113.12\">\n",
       "<g id=\"graph0\" class=\"graph\" transform=\"scale(1 1) rotate(0) translate(4 109.12)\">\n",
       "<polygon fill=\"white\" stroke=\"none\" points=\"-4,4 -4,-109.12 86,-109.12 86,4 -4,4\"/>\n",
       "<!-- Customer4 -->\n",
       "<g id=\"node1\" class=\"node\">\n",
       "<title>Customer4</title>\n",
       "<g id=\"a_node1\"><a xlink:title=\"customer_id          \r------------------------------\rfull_name            \rssn=null             \r→ Account4\rUNIQUE INDEX (ssn)\r\">\n",
       "<polygon fill=\"#00ff00\" fill-opacity=\"0.188235\" stroke=\"#00ff00\" stroke-opacity=\"0.188235\" points=\"82,-34.56 0,-34.56 0,0 82,0 82,-34.56\"/>\n",
       "<text text-anchor=\"start\" x=\"8\" y=\"-14.01\" font-family=\"arial\" text-decoration=\"underline\" font-size=\"12.00\" fill=\"darkgreen\">Customer4</text>\n",
       "</a>\n",
       "</g>\n",
       "</g>\n",
       "<!-- Account4 -->\n",
       "<g id=\"node2\" class=\"node\">\n",
       "<title>Account4</title>\n",
       "<g id=\"a_node2\"><a xlink:title=\"account              \r------------------------------\ropen_date            \r\">\n",
       "<polygon fill=\"#00ff00\" fill-opacity=\"0.188235\" stroke=\"#00ff00\" stroke-opacity=\"0.188235\" points=\"77.12,-105.12 4.88,-105.12 4.88,-70.56 77.12,-70.56 77.12,-105.12\"/>\n",
       "<text text-anchor=\"start\" x=\"12.88\" y=\"-84.56\" font-family=\"arial\" text-decoration=\"underline\" font-size=\"12.00\" fill=\"darkgreen\">Account4</text>\n",
       "</a>\n",
       "</g>\n",
       "</g>\n",
       "<!-- Account4&#45;&gt;Customer4 -->\n",
       "<g id=\"edge1\" class=\"edge\">\n",
       "<title>Account4-&gt;Customer4</title>\n",
       "<path fill=\"none\" stroke=\"#000000\" stroke-width=\"0.75\" stroke-dasharray=\"5,2\" stroke-opacity=\"0.250980\" d=\"M41,-70.24C41,-59.46 41,-45.47 41,-34.72\"/>\n",
       "</g>\n",
       "</g>\n",
       "</svg>"
      ],
      "text/plain": [
       "<datajoint.diagram.Diagram at 0x7fc003d75090>"
      ]
     },
     "execution_count": 36,
     "metadata": {},
     "output_type": "execute_result"
    }
   ],
   "source": [
    "schema4 = dj.Schema('bank4')\n",
    "\n",
    "@schema4\n",
    "class Account4(dj.Manual):\n",
    "    definition = \"\"\"\n",
    "    account : int unsigned\n",
    "    ---\n",
    "    open_date : date\n",
    "    \"\"\"\n",
    "\n",
    "\n",
    "@schema4\n",
    "class Customer4(dj.Manual):\n",
    "    definition = \"\"\"\n",
    "    customer_id : int unsigned\n",
    "    ---\n",
    "    full_name : varchar(30)\n",
    "    ssn = null : int unsigned  # Optional SSN with unique constraint\n",
    "    unique index(ssn)\n",
    "    -> Account4\n",
    "    \"\"\"\n",
    "\n",
    "\n",
    "dj.Diagram(schema4)"
   ]
  },
  {
   "cell_type": "markdown",
   "metadata": {},
   "source": [
    "### Interpretation\n",
    "Consider the implications of this setup:\n",
    "\n",
    "* Each customer entry contains a reference to a single account in `Account4`, suggesting that each customer is linked to one specific account.\n",
    "* Since there is no constraint on the number of customers who can point to the same account, this design may allow multiple customers to be associated with a single account, indicating the possibility of shared accounts.\n",
    "* However, the structure does not allow an customer to exist without being associated with an account, as each customer record must reference an existing account.\n",
    "\n",
    "These choices might reflect the bank’s operations and policies, such as whether joint accounts are supported, and how account ownership is managed."
   ]
  },
  {
   "cell_type": "markdown",
   "metadata": {},
   "source": [
    "# One-to-One Relationships\n",
    "\n",
    "A one-to-one relationship is created when a foreign key in the child table is also designated as either the primary key or a unique index. This ensures that each entry in the child table corresponds to a single, unique entry in the parent table, and no parent entry is linked to more than one child entry.\n",
    "\n",
    "In a one-to-one relationship, the connection is always optional on the child side: a child entry is not required for every parent entry. Therefore, the cardinality on the child side is 0..1—each parent may have either zero or one associated child entry.\n",
    "\n",
    "In the following example, the foreign key in `Account` is also its primary key, resulting in a one-to-one relationship:"
   ]
  },
  {
   "cell_type": "code",
   "execution_count": 37,
   "metadata": {},
   "outputs": [
    {
     "data": {
      "image/svg+xml": [
       "<svg xmlns=\"http://www.w3.org/2000/svg\" xmlns:xlink=\"http://www.w3.org/1999/xlink\" width=\"90pt\" height=\"113pt\" viewBox=\"0.00 0.00 90.00 113.12\">\n",
       "<g id=\"graph0\" class=\"graph\" transform=\"scale(1 1) rotate(0) translate(4 109.12)\">\n",
       "<polygon fill=\"white\" stroke=\"none\" points=\"-4,4 -4,-109.12 86,-109.12 86,4 -4,4\"/>\n",
       "<!-- Account5 -->\n",
       "<g id=\"node1\" class=\"node\">\n",
       "<title>Account5</title>\n",
       "<g id=\"a_node1\"><a xlink:title=\"→ Customer5\r------------------------------\ropen_date            \r\">\n",
       "<polygon fill=\"#00ff00\" fill-opacity=\"0.188235\" stroke=\"#00ff00\" stroke-opacity=\"0.188235\" points=\"77.12,-34.56 4.88,-34.56 4.88,0 77.12,0 77.12,-34.56\"/>\n",
       "<text text-anchor=\"middle\" x=\"41\" y=\"-13.01\" font-family=\"arial\" font-size=\"12.00\" fill=\"darkgreen\">Account5</text>\n",
       "</a>\n",
       "</g>\n",
       "</g>\n",
       "<!-- Customer5 -->\n",
       "<g id=\"node2\" class=\"node\">\n",
       "<title>Customer5</title>\n",
       "<g id=\"a_node2\"><a xlink:title=\"customer_id          \r------------------------------\rfull_name            \rssn=null             \rUNIQUE INDEX (ssn)\r\">\n",
       "<polygon fill=\"#00ff00\" fill-opacity=\"0.188235\" stroke=\"#00ff00\" stroke-opacity=\"0.188235\" points=\"82,-105.12 0,-105.12 0,-70.56 82,-70.56 82,-105.12\"/>\n",
       "<text text-anchor=\"start\" x=\"8\" y=\"-84.56\" font-family=\"arial\" text-decoration=\"underline\" font-size=\"12.00\" fill=\"darkgreen\">Customer5</text>\n",
       "</a>\n",
       "</g>\n",
       "</g>\n",
       "<!-- Customer5&#45;&gt;Account5 -->\n",
       "<g id=\"edge1\" class=\"edge\">\n",
       "<title>Customer5-&gt;Account5</title>\n",
       "<path fill=\"none\" stroke=\"#000000\" stroke-width=\"2\" stroke-opacity=\"0.250980\" d=\"M41,-70.24C41,-59.46 41,-45.47 41,-34.72\"/>\n",
       "</g>\n",
       "</g>\n",
       "</svg>"
      ],
      "text/plain": [
       "<datajoint.diagram.Diagram at 0x7fc003d5a950>"
      ]
     },
     "execution_count": 37,
     "metadata": {},
     "output_type": "execute_result"
    }
   ],
   "source": [
    "schema5 = dj.Schema('bank5')\n",
    "\n",
    "@schema5\n",
    "class Customer5(dj.Manual):\n",
    "    definition = \"\"\"\n",
    "    customer_id : int unsigned\n",
    "    ---\n",
    "    full_name : varchar(30)\n",
    "    ssn = null : int unsigned  # Optional SSN with unique constraint\n",
    "    unique index(ssn)\n",
    "    \"\"\"\n",
    "\n",
    "@schema5\n",
    "class Account5(dj.Manual):\n",
    "    definition = \"\"\"\n",
    "    -> Customer5\n",
    "    ---\n",
    "    open_date : date\n",
    "    \"\"\"\n",
    "\n",
    "dj.Diagram(schema5)"
   ]
  },
  {
   "cell_type": "markdown",
   "metadata": {},
   "source": [
    "The diagramming notation represents this relationship with a thick solid line, which indicates the strongest type of dependency between two entities.\n",
    "In this setup, `Customer5` and `Account5` share the same identity because `Account5` inherits its primary key from `Customer5`.\n",
    "This setup creates a strict one-to-one relationship between Customer5 and Account5, where each account is uniquely and exclusively linked to a single customer.\n",
    "\n",
    "### Characteristics of This Structure\n",
    "* **Unified Identity:** Since `Account5` shares the primary key with `Customer5`, each `Account5` record is uniquely identified by the same key as `Customer5`.\n",
    "This enforces the rule that each account cannot exist without an associated customer.\n",
    "\n",
    "* **Conflated Entities:** In the diagram, the name `Account5` is no longer underscored, indicating it has ceased to function as a separate “dimension” or independent entity. `Account5` is now fully conflated with `Customer5`, meaning it effectively serves as an extension of the `Customer5` entity, rather than an independent table with its own identity.\n",
    "\n",
    "### Why Keep Separate Tables?\n",
    "Although this design could allow us to simply merge all account-related data into the `Customer5` table, there are reasons we may choose to keep `Account5` as a separate table:\n",
    "\n",
    "1. **Modularity and Clarity**: Separating `Account5` from `Customer5` keeps the structure modular, which can clarify different aspects of customer and account data in queries and during development.\n",
    "\n",
    "2. **Data Management**: By keeping account information in a separate table, we can manage and update account-related data independently from customer information. This separation can be beneficial for tasks such as auditing, logging, or updating fields associated with only account data.\n",
    "\n",
    "3. **Avoiding Optional Fields**: In cases where certain fields are only relevant to accounts (e.g., open_date, account-specific details), keeping them in a separate table prevents having unused or irrelevant fields in the main `Customer5` table.\n",
    "\n",
    "4. **Access Control**: When account information is sensitive or needs restricted access, placing it in a separate table can simplify access control, allowing finer-grained security policies around account data.\n",
    "\n",
    "5. **Scalability and Maintenance**: Over time, this separation can support scalability as customer and account data expand. If we anticipate adding extensive account-specific data or if account records will be managed differently from customer records, the separate tables facilitate maintenance and future-proof the structure.\n",
    "\n",
    "6. **Schema Evolution**: Separate tables provide flexibility to adapt or expand either the Customer5 or Account5 table independently, without altering the other table. This flexibility is especially useful if the schema is expected to evolve over time."
   ]
  },
  {
   "cell_type": "markdown",
   "metadata": {},
   "source": []
  },
  {
   "cell_type": "markdown",
   "metadata": {},
   "source": [
    "Another approach to establishing a one-to-one relationship is to use a secondary foreign key with an additional uniqueness constraint. DataJoint’s foreign key syntax supports both `unique` and `nullable` modifiers on foreign keys, providing flexibility in how relationships are structured.\n",
    "\n",
    "* **`unique` Modifier**: Adding the unique modifier to a foreign key converts a one-to-many relationship into a one-to-one relationship. This ensures that each entry in the child table corresponds to only one entry in the parent table and vice versa, enforcing a strict one-to-one link.\n",
    "\n",
    "* **`nullable` Modifier**: The `nullable` modifier allows the relationship to be optional on the child side, meaning that not every child entry must reference a parent entry. (Relationships are already optional on the parent side, as parent entries don’t depend on children.)\n",
    "\n",
    "## One-to-One Relationship with Unique and Nullable Modifiers\n",
    "The following example demonstrates how to model a one-to-one relationship using a secondary unique constraint:"
   ]
  },
  {
   "cell_type": "code",
   "execution_count": null,
   "metadata": {},
   "outputs": [
    {
     "data": {
      "image/svg+xml": [
       "<svg xmlns=\"http://www.w3.org/2000/svg\" xmlns:xlink=\"http://www.w3.org/1999/xlink\" width=\"90pt\" height=\"113pt\" viewBox=\"0.00 0.00 90.00 113.12\">\n",
       "<g id=\"graph0\" class=\"graph\" transform=\"scale(1 1) rotate(0) translate(4 109.12)\">\n",
       "<polygon fill=\"white\" stroke=\"none\" points=\"-4,4 -4,-109.12 86,-109.12 86,4 -4,4\"/>\n",
       "<!-- Customer6 -->\n",
       "<g id=\"node1\" class=\"node\">\n",
       "<title>Customer6</title>\n",
       "<g id=\"a_node1\"><a xlink:title=\"customer_id          \r------------------------------\rfull_name            \rssn=null             \rUNIQUE INDEX (ssn)\r\">\n",
       "<polygon fill=\"#00ff00\" fill-opacity=\"0.188235\" stroke=\"#00ff00\" stroke-opacity=\"0.188235\" points=\"82,-105.12 0,-105.12 0,-70.56 82,-70.56 82,-105.12\"/>\n",
       "<text text-anchor=\"start\" x=\"8\" y=\"-84.56\" font-family=\"arial\" text-decoration=\"underline\" font-size=\"12.00\" fill=\"darkgreen\">Customer6</text>\n",
       "</a>\n",
       "</g>\n",
       "</g>\n",
       "<!-- Account6 -->\n",
       "<g id=\"node2\" class=\"node\">\n",
       "<title>Account6</title>\n",
       "<g id=\"a_node2\"><a xlink:title=\"account              \r------------------------------\r→ [unique, nullable] Customer6\ropen_date            \r\">\n",
       "<polygon fill=\"#00ff00\" fill-opacity=\"0.188235\" stroke=\"#00ff00\" stroke-opacity=\"0.188235\" points=\"77.12,-34.56 4.88,-34.56 4.88,0 77.12,0 77.12,-34.56\"/>\n",
       "<text text-anchor=\"start\" x=\"12.88\" y=\"-14.01\" font-family=\"arial\" text-decoration=\"underline\" font-size=\"12.00\" fill=\"darkgreen\">Account6</text>\n",
       "</a>\n",
       "</g>\n",
       "</g>\n",
       "<!-- Customer6&#45;&gt;Account6 -->\n",
       "<g id=\"edge1\" class=\"edge\">\n",
       "<title>Customer6-&gt;Account6</title>\n",
       "<path fill=\"none\" stroke=\"#000000\" stroke-width=\"0.75\" stroke-dasharray=\"5,2\" stroke-opacity=\"0.250980\" d=\"M41,-70.24C41,-59.46 41,-45.47 41,-34.72\"/>\n",
       "</g>\n",
       "</g>\n",
       "</svg>"
      ],
      "text/plain": [
       "<datajoint.diagram.Diagram at 0x7fc003b7bc90>"
      ]
     },
     "execution_count": 39,
     "metadata": {},
     "output_type": "execute_result"
    }
   ],
   "source": [
    "\n",
    "schema6 = dj.Schema('bank6')\n",
    "\n",
    "@schema6\n",
    "class Customer6(dj.Manual):\n",
    "    definition = \"\"\"\n",
    "    customer_id : int unsigned\n",
    "    ---\n",
    "    full_name : varchar(30)\n",
    "    ssn = null : int unsigned  # Optional SSN with unique constraint\n",
    "    unique index(ssn)\n",
    "    \"\"\"\n",
    "\n",
    "@schema6\n",
    "class Account6(dj.Manual):\n",
    "    definition = \"\"\"\n",
    "    account : int unsigned\n",
    "    ---\n",
    "    -> [unique, nullable] Customer6\n",
    "    open_date : date\n",
    "    \"\"\"\n",
    "\n",
    "dj.Diagram(schema6)"
   ]
  },
  {
   "cell_type": "markdown",
   "metadata": {},
   "source": [
    "In this design:\n",
    "\n",
    "* The `Account6` table includes a foreign key reference to `Customer6`, modified with both `unique` and `nullable` modifications.\n",
    "* The `unique` constraint ensures that each `Account6` entry is exclusively linked to a single `Customer6` entry, establishing a one-to-one relationship.\n",
    "* The `nullable` constraint allows accounts to exist without necessarily being tied to a customer, making the relationship optional from the child’s perspective.\n",
    "\n",
    "\n",
    "### When to Use this Approach\n",
    "Using a secondary unique constraint on a foreign key is helpful when:\n",
    "\n",
    "* **Optional Relationships**: You want flexibility to create child entries without always requiring a parent reference.\n",
    "* **Separate, Modular Tables**: Keeping entities modular and maintaining a strict one-to-one relationship without merging the tables or merging the entity identities in the child table with those in the parent.\n",
    "\n",
    "This method provides flexibility and maintains clear separation between entities while enforcing a one-to-one association, even if the relationship isn’t visually highlighted in the diagram."
   ]
  },
  {
   "cell_type": "markdown",
   "metadata": {},
   "source": [
    "## Diagram Representation Limitations\n",
    "\n",
    "This *dependency-and-constraint* pattern doesn’t visually convey the close, exclusive association created by the unique and nullable modifiers. The diagram will show a basic line for the foreign key, lacking any specific notation to indicate that the relationship is both unique and optional.\n",
    "\n",
    "The diagram only reflect the relationships formed through the the structure of primary keys and foreign keys, without taking into account the additional constraints imposed by secondary unique indexes. While solid think lines indicate a one-to-one relationship, additional uniqueness constraints may be in force that are not evident from the diagram alone.\n",
    "\n",
    "Consider all the diagrams side-by-side and recall which ones are one-to-one and which are one-to-many:"
   ]
  },
  {
   "cell_type": "markdown",
   "metadata": {},
   "source": []
  },
  {
   "cell_type": "code",
   "execution_count": 41,
   "metadata": {},
   "outputs": [
    {
     "data": {
      "image/svg+xml": [
       "<svg xmlns=\"http://www.w3.org/2000/svg\" xmlns:xlink=\"http://www.w3.org/1999/xlink\" width=\"580pt\" height=\"113pt\" viewBox=\"0.00 0.00 580.00 113.12\">\n",
       "<g id=\"graph0\" class=\"graph\" transform=\"scale(1 1) rotate(0) translate(4 109.12)\">\n",
       "<polygon fill=\"white\" stroke=\"none\" points=\"-4,4 -4,-109.12 576,-109.12 576,4 -4,4\"/>\n",
       "<!-- Account1 -->\n",
       "<g id=\"node1\" class=\"node\">\n",
       "<title>Account1</title>\n",
       "<g id=\"a_node1\"><a xlink:title=\"account              \r------------------------------\r→ Customer1\r\">\n",
       "<polygon fill=\"#00ff00\" fill-opacity=\"0.188235\" stroke=\"#00ff00\" stroke-opacity=\"0.188235\" points=\"77.12,-34.56 4.88,-34.56 4.88,0 77.12,0 77.12,-34.56\"/>\n",
       "<text text-anchor=\"start\" x=\"12.88\" y=\"-14.01\" font-family=\"arial\" text-decoration=\"underline\" font-size=\"12.00\" fill=\"darkgreen\">Account1</text>\n",
       "</a>\n",
       "</g>\n",
       "</g>\n",
       "<!-- Customer1 -->\n",
       "<g id=\"node2\" class=\"node\">\n",
       "<title>Customer1</title>\n",
       "<g id=\"a_node2\"><a xlink:title=\"customer_id          \r------------------------------\rfull_name            \rssn=null             \rUNIQUE INDEX (ssn)\r\">\n",
       "<polygon fill=\"#00ff00\" fill-opacity=\"0.188235\" stroke=\"#00ff00\" stroke-opacity=\"0.188235\" points=\"82,-105.12 0,-105.12 0,-70.56 82,-70.56 82,-105.12\"/>\n",
       "<text text-anchor=\"start\" x=\"8\" y=\"-84.56\" font-family=\"arial\" text-decoration=\"underline\" font-size=\"12.00\" fill=\"darkgreen\">Customer1</text>\n",
       "</a>\n",
       "</g>\n",
       "</g>\n",
       "<!-- Customer1&#45;&gt;Account1 -->\n",
       "<g id=\"edge1\" class=\"edge\">\n",
       "<title>Customer1-&gt;Account1</title>\n",
       "<path fill=\"none\" stroke=\"#000000\" stroke-width=\"0.75\" stroke-dasharray=\"5,2\" stroke-opacity=\"0.250980\" d=\"M41,-70.24C41,-59.46 41,-45.47 41,-34.72\"/>\n",
       "</g>\n",
       "<!-- Account2 -->\n",
       "<g id=\"node3\" class=\"node\">\n",
       "<title>Account2</title>\n",
       "<g id=\"a_node3\"><a xlink:title=\"account              \r------------------------------\r→ [nullable] Customer2\r\">\n",
       "<polygon fill=\"#00ff00\" fill-opacity=\"0.188235\" stroke=\"#00ff00\" stroke-opacity=\"0.188235\" points=\"177.12,-34.56 104.88,-34.56 104.88,0 177.12,0 177.12,-34.56\"/>\n",
       "<text text-anchor=\"start\" x=\"112.88\" y=\"-14.01\" font-family=\"arial\" text-decoration=\"underline\" font-size=\"12.00\" fill=\"darkgreen\">Account2</text>\n",
       "</a>\n",
       "</g>\n",
       "</g>\n",
       "<!-- Customer2 -->\n",
       "<g id=\"node4\" class=\"node\">\n",
       "<title>Customer2</title>\n",
       "<g id=\"a_node4\"><a xlink:title=\"customer_id          \r------------------------------\rfull_name            \rssn=null             \rUNIQUE INDEX (ssn)\r\">\n",
       "<polygon fill=\"#00ff00\" fill-opacity=\"0.188235\" stroke=\"#00ff00\" stroke-opacity=\"0.188235\" points=\"182,-105.12 100,-105.12 100,-70.56 182,-70.56 182,-105.12\"/>\n",
       "<text text-anchor=\"start\" x=\"108\" y=\"-84.56\" font-family=\"arial\" text-decoration=\"underline\" font-size=\"12.00\" fill=\"darkgreen\">Customer2</text>\n",
       "</a>\n",
       "</g>\n",
       "</g>\n",
       "<!-- Customer2&#45;&gt;Account2 -->\n",
       "<g id=\"edge2\" class=\"edge\">\n",
       "<title>Customer2-&gt;Account2</title>\n",
       "<path fill=\"none\" stroke=\"#000000\" stroke-width=\"0.75\" stroke-dasharray=\"5,2\" stroke-opacity=\"0.250980\" d=\"M141,-70.24C141,-59.46 141,-45.47 141,-34.72\"/>\n",
       "</g>\n",
       "<!-- Account3 -->\n",
       "<g id=\"node5\" class=\"node\">\n",
       "<title>Account3</title>\n",
       "<g id=\"a_node5\"><a xlink:title=\"→ Customer3\raccount              \r------------------------------\ropen_date            \r\">\n",
       "<polygon fill=\"#00ff00\" fill-opacity=\"0.188235\" stroke=\"#00ff00\" stroke-opacity=\"0.188235\" points=\"277.12,-34.56 204.88,-34.56 204.88,0 277.12,0 277.12,-34.56\"/>\n",
       "<text text-anchor=\"start\" x=\"212.88\" y=\"-14.01\" font-family=\"arial\" text-decoration=\"underline\" font-size=\"12.00\" fill=\"darkgreen\">Account3</text>\n",
       "</a>\n",
       "</g>\n",
       "</g>\n",
       "<!-- Customer3 -->\n",
       "<g id=\"node6\" class=\"node\">\n",
       "<title>Customer3</title>\n",
       "<g id=\"a_node6\"><a xlink:title=\"customer_id          \r------------------------------\rfull_name            \rssn=null             \rUNIQUE INDEX (ssn)\r\">\n",
       "<polygon fill=\"#00ff00\" fill-opacity=\"0.188235\" stroke=\"#00ff00\" stroke-opacity=\"0.188235\" points=\"282,-105.12 200,-105.12 200,-70.56 282,-70.56 282,-105.12\"/>\n",
       "<text text-anchor=\"start\" x=\"208\" y=\"-84.56\" font-family=\"arial\" text-decoration=\"underline\" font-size=\"12.00\" fill=\"darkgreen\">Customer3</text>\n",
       "</a>\n",
       "</g>\n",
       "</g>\n",
       "<!-- Customer3&#45;&gt;Account3 -->\n",
       "<g id=\"edge3\" class=\"edge\">\n",
       "<title>Customer3-&gt;Account3</title>\n",
       "<path fill=\"none\" stroke=\"#000000\" stroke-width=\"0.75\" stroke-opacity=\"0.250980\" d=\"M241,-70.24C241,-59.46 241,-45.47 241,-34.72\"/>\n",
       "</g>\n",
       "<!-- Account4 -->\n",
       "<g id=\"node7\" class=\"node\">\n",
       "<title>Account4</title>\n",
       "<g id=\"a_node7\"><a xlink:title=\"account              \r------------------------------\ropen_date            \r\">\n",
       "<polygon fill=\"#00ff00\" fill-opacity=\"0.188235\" stroke=\"#00ff00\" stroke-opacity=\"0.188235\" points=\"372.12,-105.12 299.88,-105.12 299.88,-70.56 372.12,-70.56 372.12,-105.12\"/>\n",
       "<text text-anchor=\"start\" x=\"307.88\" y=\"-84.56\" font-family=\"arial\" text-decoration=\"underline\" font-size=\"12.00\" fill=\"darkgreen\">Account4</text>\n",
       "</a>\n",
       "</g>\n",
       "</g>\n",
       "<!-- Customer4 -->\n",
       "<g id=\"node8\" class=\"node\">\n",
       "<title>Customer4</title>\n",
       "<g id=\"a_node8\"><a xlink:title=\"customer_id          \r------------------------------\rfull_name            \rssn=null             \r→ Account4\rUNIQUE INDEX (ssn)\r\">\n",
       "<polygon fill=\"#00ff00\" fill-opacity=\"0.188235\" stroke=\"#00ff00\" stroke-opacity=\"0.188235\" points=\"377,-34.56 295,-34.56 295,0 377,0 377,-34.56\"/>\n",
       "<text text-anchor=\"start\" x=\"303\" y=\"-14.01\" font-family=\"arial\" text-decoration=\"underline\" font-size=\"12.00\" fill=\"darkgreen\">Customer4</text>\n",
       "</a>\n",
       "</g>\n",
       "</g>\n",
       "<!-- Account4&#45;&gt;Customer4 -->\n",
       "<g id=\"edge4\" class=\"edge\">\n",
       "<title>Account4-&gt;Customer4</title>\n",
       "<path fill=\"none\" stroke=\"#000000\" stroke-width=\"0.75\" stroke-dasharray=\"5,2\" stroke-opacity=\"0.250980\" d=\"M336,-70.24C336,-59.46 336,-45.47 336,-34.72\"/>\n",
       "</g>\n",
       "<!-- Account5 -->\n",
       "<g id=\"node9\" class=\"node\">\n",
       "<title>Account5</title>\n",
       "<g id=\"a_node9\"><a xlink:title=\"→ Customer5\r------------------------------\ropen_date            \r\">\n",
       "<polygon fill=\"#00ff00\" fill-opacity=\"0.188235\" stroke=\"#00ff00\" stroke-opacity=\"0.188235\" points=\"467.12,-34.56 394.88,-34.56 394.88,0 467.12,0 467.12,-34.56\"/>\n",
       "<text text-anchor=\"middle\" x=\"431\" y=\"-13.01\" font-family=\"arial\" font-size=\"12.00\" fill=\"darkgreen\">Account5</text>\n",
       "</a>\n",
       "</g>\n",
       "</g>\n",
       "<!-- Customer5 -->\n",
       "<g id=\"node10\" class=\"node\">\n",
       "<title>Customer5</title>\n",
       "<g id=\"a_node10\"><a xlink:title=\"customer_id          \r------------------------------\rfull_name            \rssn=null             \rUNIQUE INDEX (ssn)\r\">\n",
       "<polygon fill=\"#00ff00\" fill-opacity=\"0.188235\" stroke=\"#00ff00\" stroke-opacity=\"0.188235\" points=\"472,-105.12 390,-105.12 390,-70.56 472,-70.56 472,-105.12\"/>\n",
       "<text text-anchor=\"start\" x=\"398\" y=\"-84.56\" font-family=\"arial\" text-decoration=\"underline\" font-size=\"12.00\" fill=\"darkgreen\">Customer5</text>\n",
       "</a>\n",
       "</g>\n",
       "</g>\n",
       "<!-- Customer5&#45;&gt;Account5 -->\n",
       "<g id=\"edge5\" class=\"edge\">\n",
       "<title>Customer5-&gt;Account5</title>\n",
       "<path fill=\"none\" stroke=\"#000000\" stroke-width=\"2\" stroke-opacity=\"0.250980\" d=\"M431,-70.24C431,-59.46 431,-45.47 431,-34.72\"/>\n",
       "</g>\n",
       "<!-- Account6 -->\n",
       "<g id=\"node11\" class=\"node\">\n",
       "<title>Account6</title>\n",
       "<g id=\"a_node11\"><a xlink:title=\"account              \r------------------------------\r→ [unique, nullable] Customer6\ropen_date            \r\">\n",
       "<polygon fill=\"#00ff00\" fill-opacity=\"0.188235\" stroke=\"#00ff00\" stroke-opacity=\"0.188235\" points=\"567.12,-34.56 494.88,-34.56 494.88,0 567.12,0 567.12,-34.56\"/>\n",
       "<text text-anchor=\"start\" x=\"502.88\" y=\"-14.01\" font-family=\"arial\" text-decoration=\"underline\" font-size=\"12.00\" fill=\"darkgreen\">Account6</text>\n",
       "</a>\n",
       "</g>\n",
       "</g>\n",
       "<!-- Customer6 -->\n",
       "<g id=\"node12\" class=\"node\">\n",
       "<title>Customer6</title>\n",
       "<g id=\"a_node12\"><a xlink:title=\"customer_id          \r------------------------------\rfull_name            \rssn=null             \rUNIQUE INDEX (ssn)\r\">\n",
       "<polygon fill=\"#00ff00\" fill-opacity=\"0.188235\" stroke=\"#00ff00\" stroke-opacity=\"0.188235\" points=\"572,-105.12 490,-105.12 490,-70.56 572,-70.56 572,-105.12\"/>\n",
       "<text text-anchor=\"start\" x=\"498\" y=\"-84.56\" font-family=\"arial\" text-decoration=\"underline\" font-size=\"12.00\" fill=\"darkgreen\">Customer6</text>\n",
       "</a>\n",
       "</g>\n",
       "</g>\n",
       "<!-- Customer6&#45;&gt;Account6 -->\n",
       "<g id=\"edge6\" class=\"edge\">\n",
       "<title>Customer6-&gt;Account6</title>\n",
       "<path fill=\"none\" stroke=\"#000000\" stroke-width=\"0.75\" stroke-dasharray=\"5,2\" stroke-opacity=\"0.250980\" d=\"M531,-70.24C531,-59.46 531,-45.47 531,-34.72\"/>\n",
       "</g>\n",
       "</g>\n",
       "</svg>"
      ],
      "text/plain": [
       "<datajoint.diagram.Diagram at 0x7fc003b82250>"
      ]
     },
     "execution_count": 41,
     "metadata": {},
     "output_type": "execute_result"
    }
   ],
   "source": [
    "dj.Diagram(schema1) + dj.Diagram(schema2) + dj.Diagram(schema3) + dj.Diagram(schema4) + dj.Diagram(schema5) + dj.Diagram(schema6)"
   ]
  },
  {
   "cell_type": "markdown",
   "metadata": {},
   "source": [
    "Looking at the diagrams alone, only one is obviously a one-on-one relationship (`schema5`), but all others may have additional constraints modifying the relationship. In Jupyter, you may hover over the diagram to see its definition, including secondary uniqueness constraints."
   ]
  },
  {
   "cell_type": "markdown",
   "metadata": {},
   "source": [
    "# Many-to-Many Relationships\n",
    "\n",
    "In relational databases, a single foreign key between two tables can only establish one-to-many or one-to-one relationships.\n",
    "To create a many-to-many (M:N) relationship between two entities, a third table is required, with each entry in this table linking one instance from each of the two related tables.\n",
    "This third table is commonly referred to as an association table or join table.\n",
    "\n",
    "## Structure of Many-to-Many Relationships\n",
    "An M:N relationship can be visualized as two one-to-many (1:N and 1:M) relationships with the association table.\n",
    "\n",
    "The association table contains:\n",
    "* **A foreign key** referencing each of the two related entities, establishing connections to instances of both tables.\n",
    "* **Composite primary** key or a secondary unique constraint on the two foreign keys to ensure each combination of entities is unique.\n",
    "\n",
    "This structure allows each entity to link to multiple instances of the other entity through the association table."
   ]
  },
  {
   "cell_type": "markdown",
   "metadata": {},
   "source": [
    "## Example: Bank Customers and Bank Accounts\n",
    "Consider a bank system where customers can have multiple accounts, and accounts can be jointly owned by multiple customers. To represent this many-to-many relationship, an association table is used to link `Customer` and `Account`:"
   ]
  },
  {
   "cell_type": "code",
   "execution_count": 42,
   "metadata": {},
   "outputs": [
    {
     "data": {
      "image/svg+xml": [
       "<svg xmlns=\"http://www.w3.org/2000/svg\" xmlns:xlink=\"http://www.w3.org/1999/xlink\" width=\"166pt\" height=\"113pt\" viewBox=\"0.00 0.00 165.62 113.12\">\n",
       "<g id=\"graph0\" class=\"graph\" transform=\"scale(1 1) rotate(0) translate(4 109.12)\">\n",
       "<polygon fill=\"white\" stroke=\"none\" points=\"-4,4 -4,-109.12 161.62,-109.12 161.62,4 -4,4\"/>\n",
       "<!-- CustomerAccount -->\n",
       "<g id=\"node1\" class=\"node\">\n",
       "<title>CustomerAccount</title>\n",
       "<g id=\"a_node1\"><a xlink:title=\"→ Customer\r→ Account\r\">\n",
       "<polygon fill=\"#00ff00\" fill-opacity=\"0.188235\" stroke=\"#00ff00\" stroke-opacity=\"0.188235\" points=\"142.88,-34.56 19.62,-34.56 19.62,0 142.88,0 142.88,-34.56\"/>\n",
       "<text text-anchor=\"middle\" x=\"81.25\" y=\"-13.01\" font-family=\"arial\" font-size=\"12.00\" fill=\"darkgreen\">CustomerAccount</text>\n",
       "</a>\n",
       "</g>\n",
       "</g>\n",
       "<!-- Customer -->\n",
       "<g id=\"node2\" class=\"node\">\n",
       "<title>Customer</title>\n",
       "<g id=\"a_node2\"><a xlink:title=\"customer_id          \r------------------------------\rfull_name            \r\">\n",
       "<polygon fill=\"#00ff00\" fill-opacity=\"0.188235\" stroke=\"#00ff00\" stroke-opacity=\"0.188235\" points=\"74.5,-105.12 0,-105.12 0,-70.56 74.5,-70.56 74.5,-105.12\"/>\n",
       "<text text-anchor=\"start\" x=\"8\" y=\"-84.56\" font-family=\"arial\" text-decoration=\"underline\" font-size=\"12.00\" fill=\"darkgreen\">Customer</text>\n",
       "</a>\n",
       "</g>\n",
       "</g>\n",
       "<!-- Customer&#45;&gt;CustomerAccount -->\n",
       "<g id=\"edge1\" class=\"edge\">\n",
       "<title>Customer-&gt;CustomerAccount</title>\n",
       "<path fill=\"none\" stroke=\"#000000\" stroke-width=\"0.75\" stroke-opacity=\"0.250980\" d=\"M47.9,-70.24C54.82,-59.46 63.8,-45.47 70.7,-34.72\"/>\n",
       "</g>\n",
       "<!-- Account -->\n",
       "<g id=\"node3\" class=\"node\">\n",
       "<title>Account</title>\n",
       "<g id=\"a_node3\"><a xlink:title=\"account_id           \r------------------------------\ropen_date            \r\">\n",
       "<polygon fill=\"#00ff00\" fill-opacity=\"0.188235\" stroke=\"#00ff00\" stroke-opacity=\"0.188235\" points=\"157.62,-105.12 92.88,-105.12 92.88,-70.56 157.62,-70.56 157.62,-105.12\"/>\n",
       "<text text-anchor=\"start\" x=\"100.88\" y=\"-84.56\" font-family=\"arial\" text-decoration=\"underline\" font-size=\"12.00\" fill=\"darkgreen\">Account</text>\n",
       "</a>\n",
       "</g>\n",
       "</g>\n",
       "<!-- Account&#45;&gt;CustomerAccount -->\n",
       "<g id=\"edge2\" class=\"edge\">\n",
       "<title>Account-&gt;CustomerAccount</title>\n",
       "<path fill=\"none\" stroke=\"#000000\" stroke-width=\"0.75\" stroke-opacity=\"0.250980\" d=\"M114.6,-70.24C107.68,-59.46 98.7,-45.47 91.8,-34.72\"/>\n",
       "</g>\n",
       "</g>\n",
       "</svg>"
      ],
      "text/plain": [
       "<datajoint.diagram.Diagram at 0x7fc003e5da50>"
      ]
     },
     "execution_count": 42,
     "metadata": {},
     "output_type": "execute_result"
    }
   ],
   "source": [
    "schema7 = dj.Schema('bank7')\n",
    "\n",
    "@schema7\n",
    "class Customer(dj.Manual):\n",
    "    definition = \"\"\"\n",
    "    customer_id : int unsigned\n",
    "    ---\n",
    "    full_name : varchar(30)\n",
    "    \"\"\"\n",
    "\n",
    "@schema7\n",
    "class Account(dj.Manual):\n",
    "    definition = \"\"\"\n",
    "    account_id : int unsigned\n",
    "    ---\n",
    "    open_date : date\n",
    "    \"\"\"\n",
    "\n",
    "@schema7\n",
    "class CustomerAccount(dj.Manual):\n",
    "    definition = \"\"\"\n",
    "    -> Customer\n",
    "    -> Account\n",
    "    \"\"\"\n",
    "\n",
    "dj.Diagram(schema7)"
   ]
  },
  {
   "cell_type": "markdown",
   "metadata": {},
   "source": [
    "DataJoint’s diagramming language does not use special notation for association tables; they appear identical to other tables.\n",
    "By contrast, other diagramming styles, such as **Chen’s Entity-Relationship (ER) notation**, represent associations—often called \"relationship sets\"—with diamond shapes to distinguish them from entity sets.\n",
    "\n",
    "DataJoint purposefully avoids this strict conceptual distinction between entities and relationships, as the boundary between them is often blurred.\n",
    "For instance, a synapse between two neurons could be considered an entity, storing specific data about the synapse itself, or it might be viewed as an association linking two neurons.\n",
    "Additionally, some relationships can even link other relationships, a complexity not easily captured in Chen’s notation.\n",
    "\n",
    "In DataJoint, you can often recognize an association table by its converging pattern of foreign keys, which reference multiple tables to form a many-to-many relationship. This flexible approach supports various interpretations of relationships, making DataJoint schemas particularly adaptable for complex scientific data, where associations may themselves hold meaningful attributes."
   ]
  },
  {
   "cell_type": "markdown",
   "metadata": {},
   "source": []
  }
 ],
 "metadata": {
  "kernelspec": {
   "display_name": "base",
   "language": "python",
   "name": "python3"
  },
  "language_info": {
   "codemirror_mode": {
    "name": "ipython",
    "version": 3
   },
   "file_extension": ".py",
   "mimetype": "text/x-python",
   "name": "python",
   "nbconvert_exporter": "python",
   "pygments_lexer": "ipython3",
   "version": "3.11.10"
  }
 },
 "nbformat": 4,
 "nbformat_minor": 4
}
