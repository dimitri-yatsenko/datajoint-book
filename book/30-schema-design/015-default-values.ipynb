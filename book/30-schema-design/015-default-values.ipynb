{
 "cells": [
  {
   "cell_type": "markdown",
   "metadata": {},
   "source": [
    "# Default Values\n",
    "\n",
    "When designing database tables, setting default values for attributes can be a powerful tool for ensuring data consistency, reducing errors, and simplifying data entry. \n",
    "\n",
    "Default values allow you to predefine certain field values in a table, so that that attribute can be omitted at insert and the default value is then used.\n",
    "\n",
    "## Benefits of Using Default Values\n",
    "1. **Consistency**: Default values help maintain uniformity across records by ensuring that certain fields always have a predefined value unless explicitly overridden. This is particularly useful for fields that have common or standard values.\n",
    "\n",
    "2. **Error Reduction**: By automatically filling in certain fields with default values, you minimize the chances of missing or incorrect data entry. This is especially beneficial in large-scale data entry operations where manual input errors can occur.\n",
    "\n",
    "3. **Efficiency**: Default values streamline the process of adding new records, as users do not need to repeatedly enter the same information for every new record. This saves time and reduces the cognitive load on researchers.\n",
    "\n",
    "4. **Clarity:** Setting default values can make the intent of a database design clearer. It signals to users that certain fields are expected to have a particular value unless there is a specific reason to deviate.\n",
    "\n",
    "\n",
    "Frequent default values are the empty string `\"\"`, current date or time, zero, or `null`."
   ]
  },
  {
   "cell_type": "markdown",
   "metadata": {},
   "source": [
    "## Implementing default values\n",
    "Default values are specified within the table declaration, typically in the definition of each attribute. Here’s an example of how to define a table with default values:"
   ]
  },
  {
   "cell_type": "code",
   "execution_count": 1,
   "metadata": {},
   "outputs": [
    {
     "name": "stderr",
     "output_type": "stream",
     "text": [
      "[2024-09-01 13:53:17,743][INFO]: Connecting root@localhost:3306\n",
      "[2024-09-01 13:53:17,817][INFO]: Connected root@localhost:3306\n"
     ]
    }
   ],
   "source": [
    "import datajoint as dj\n",
    "\n",
    "# Define the schema\n",
    "schema = dj.Schema('experiment')"
   ]
  },
  {
   "cell_type": "code",
   "execution_count": 5,
   "metadata": {},
   "outputs": [],
   "source": [
    "@schema\n",
    "class Experiment(dj.Manual):\n",
    "    definition = \"\"\"\n",
    "    experiment_id: int      # Unique identifier for each experiment\n",
    "    ---\n",
    "    experiment_name = \"\": varchar(64)   \n",
    "    experimenter_name = \"\" : varchar(30)\n",
    "    outside_temperature = null : decimal(4, 1) unsigned # in Kelvin \n",
    "    experiment_date = CURRENT_TIMESTAMP : datetime\n",
    "    experiment_type = \"tinkering\" : enum(\"tinkering\", \\\n",
    "          \"time dilation\", \"wormhole traversal\", \"teleportation\")\n",
    "    \"\"\""
   ]
  },
  {
   "cell_type": "markdown",
   "metadata": {},
   "source": [
    "# Understanding Null values\n",
    "\n",
    "In database design, the null value holds a special significance and follows special rules.\n",
    "It represents the absence of a value or the intentional omission of an attribute's data.\n",
    "Fields that can be marked as nullable or non-nullable (required).\n",
    "If a field is non-nullable, a value is required.\n",
    "In SQL, field declaration default to nullable and can have a default value other than `NULL`.\n",
    "\n",
    "In DataJoint, by default field values are required and the only way to make a field nullabe is to make it default to `null`.\n",
    "Although this may seem like a limitation, this avoids many confusing interpretation of what it means to omit a value.\n",
    "\n",
    "Using null as a default value in table declarations can be a strategic choice for handling optional or unknown data.\n",
    "\n",
    "The null value is not equivalent to zero, an empty string, or any other placeholder; rather, it explicitly signifies that the data is missing or undefined. This can be crucial in scientific databases, where the distinction between \"no data\" and \"zero\" or \"empty\" is meaningful.\n",
    "\n",
    "## Benefits of Using null as a Default Value\n",
    "**Flexibility**: By setting null as the default value, you allow for flexibility in data entry. This is particularly useful when some attributes may not always be applicable or when the data for an attribute might not be available at the time of record creation.\n",
    "\n",
    "**Data Integrity**: Using null helps maintain the integrity of the data by preventing the entry of arbitrary or placeholder values when the actual data is unknown or inapplicable. This avoids misleading or inaccurate entries in the database.\n",
    "\n",
    "**Clear Semantics**: null clearly indicates the absence of a value, distinguishing it from cases where a value of zero, an empty string, or another default might be misleading. This clarity can be important for both data entry and data analysis."
   ]
  },
  {
   "cell_type": "markdown",
   "metadata": {},
   "source": []
  }
 ],
 "metadata": {
  "kernelspec": {
   "display_name": "base",
   "language": "python",
   "name": "python3"
  },
  "language_info": {
   "codemirror_mode": {
    "name": "ipython",
    "version": 3
   },
   "file_extension": ".py",
   "mimetype": "text/x-python",
   "name": "python",
   "nbconvert_exporter": "python",
   "pygments_lexer": "ipython3",
   "version": "3.10.14"
  }
 },
 "nbformat": 4,
 "nbformat_minor": 2
}
