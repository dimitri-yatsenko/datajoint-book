{
 "cells": [
  {
   "cell_type": "markdown",
   "metadata": {},
   "source": [
    "---\n",
    "title: Create Schemas\n",
    "authors:\n",
    "  - name: Dimitri Yatsenko\n",
    "---\n",
    "\n",
    "# Create Schemas\n",
    "\n",
    "## What is a schema?\n",
    "\n",
    "We use the word \"schema\" in a couple of different but related ways.\n",
    "\n",
    "Firstly, a **schema** is a formal specification of the data structure and of the rules governing its integrity.\n",
    "The schema serves as a blueprint that defines how data is organized, stored, and accessed within the database, ensuring that the data reflects the underlying business or research project rules it supports.\n",
    "In strucuted data models, such as the relational model, schemas \n",
    "In the relational data model, the schema provides a robust framework for defining the rules and constraints that govern data operations, helping to maintain consistency, accuracy, and reliability.\n",
    "\n",
    "In addition to ensuring data integrity, good schema design optimizes the ease and efficiency of data queries. \n",
    "A well-designed schema facilitates fast and accurate data retrieval, supports more complex queries, and allows the database to scale as data volumes grow.\n",
    "\n",
    "Relational schema design involves defining a set of tables, each with columns (attributes) of specific data types. These tables are linked by primary keys, which uniquely identify each record, and foreign keys, which establish relationships between entities in different tables. Additional constraints, such as uniqueness constraints and indexes, further refine the schema by enforcing rules that prevent data duplication and by improving query performance. Default values can also be specified for certain attributes, ensuring that missing or optional data is handled consistently.\n",
    "\n",
    "Through schema design, database architects ensure that the database not only meets the current needs of the organization but also remains flexible and scalable as those needs evolve. The schema acts as a living document that guides the database’s structure, supports efficient data operations, and upholds the integrity of the data it manages.\n",
    "\n",
    "In DataJoint, declaring individual tables is the foundational step in building your data pipeline. Each table corresponds to a specific entity or data structure that you want to model within your database. This tutorial will guide you through the basics of declaring individual tables, covering essential components like primary keys, attributes, and basic definitions.\n",
    "\n",
    "\n",
    "The second meaning of the word \"schema\" is for a single module in a complex database design. \n",
    "Complex databases can be separated into modules that serve as namespaces for related tables.\n",
    "Thus a database may comprise multiple schemas.\n",
    "We discuss multi-schema designs in a separate section."
   ]
  },
  {
   "cell_type": "markdown",
   "metadata": {},
   "source": [
    "# Schema Declaration\n",
    "Before declaring tables, you need to declare a schema which is a namespace for your tables, giving it a unique name.\n",
    "\n",
    "The schema groups related tables together and avoids naming conflicts."
   ]
  },
  {
   "cell_type": "code",
   "execution_count": null,
   "metadata": {},
   "outputs": [
    {
     "name": "stderr",
     "output_type": "stream",
     "text": [
      "[2024-08-27 04:10:41,167][INFO]: Connecting root@localhost:3306\n",
      "[2024-08-27 04:10:41,184][INFO]: Connected root@localhost:3306\n"
     ]
    }
   ],
   "source": [
    "import datajoint as dj\n",
    "\n",
    "# Define the schema\n",
    "schema = dj.Schema('schema_name')"
   ]
  },
  {
   "cell_type": "markdown",
   "metadata": {},
   "source": [
    "# Using the Schema Object\n",
    "\n",
    "The `schema` object declared above\n"
   ]
  },
  {
   "cell_type": "markdown",
   "metadata": {},
   "source": []
  },
  {
   "cell_type": "markdown",
   "metadata": {},
   "source": [
    "# Dropping a schema\n",
    "\n",
    "Dropping a schema in DataJoint involves permanently deleting all the tables within that schema and the schema itself from the database. This is a significant action because it removes not only the tables but also all the data stored within those tables. To drop a schema, you typically use the `schema.drop()` method, where schema is the schema object you defined earlier in your code. \n",
    "\n",
    "When you execute this command, DataJoint will prompt you to confirm the action, as it is irreversible and will result in the loss of all data associated with the schema. This operation is especially powerful because it cascades through all tables within the schema, removing each one. \n",
    "\n",
    "It's crucial to ensure that any data within the schema is either no longer needed or has been adequately backed up before dropping the schema, as this action will permanently remove all traces of the data and the schema’s structure from the database."
   ]
  },
  {
   "cell_type": "code",
   "execution_count": null,
   "metadata": {},
   "outputs": [],
   "source": [
    "# dropping a schema\n",
    "schema.drop()"
   ]
  }
 ],
 "metadata": {
  "kernelspec": {
   "display_name": "base",
   "language": "python",
   "name": "python3"
  },
  "language_info": {
   "codemirror_mode": {
    "name": "ipython",
    "version": 3
   },
   "file_extension": ".py",
   "mimetype": "text/x-python",
   "name": "python",
   "nbconvert_exporter": "python",
   "pygments_lexer": "ipython3",
   "version": "3.10.14"
  }
 },
 "nbformat": 4,
 "nbformat_minor": 2
}
