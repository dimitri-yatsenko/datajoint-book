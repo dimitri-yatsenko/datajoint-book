{
 "cells": [
  {
   "cell_type": "markdown",
   "metadata": {},
   "source": [
    "---\n",
    "title: Create Schemas\n",
    "authors:\n",
    "  - name: Dimitri Yatsenko\n",
    "  - date: 2025-01-12\n",
    "---\n",
    "\n",
    "# Create Schemas\n",
    "\n",
    "## What is a schema?\n",
    "\n",
    "The term schema has two related meanings in the context of databases:\n",
    "\n",
    "### 1. Schema as a Data Blueprint\n",
    "A **schema** is a formal specification of the structure of data and the rules governing its integrity.\n",
    "It serves as a blueprint that defines how data is organized, stored, and accessed within a database.\n",
    "This ensures that the database reflects the rules and requirements of the underlying business or research project it supports.\n",
    "\n",
    "In structured data models, such as the relational model, a schema provides a robust framework for defining:\n",
    "* The structure of tables (relations) and their attributes (columns).\n",
    "* Rules and constraints that ensure data consistency, accuracy, and reliability.\n",
    "* Relationships between tables, such as primary keys (unique identifiers for records) and foreign keys (references to related records in other tables).\n",
    "\n",
    "#### Aims of Good Schema Design\n",
    "* **Data Integrity**: Ensures consistency and prevents anomalies.\n",
    "* **Query Efficiency**: Facilitates fast and accurate data retrieval, supports complex queries, and optimizes database performance.\n",
    "* **Scalability**: Allows the database to grow and adapt as data volumes increase.\n",
    "\n",
    "#### Key Elements of Schema Design\n",
    "* **Tables and Attributes**: Each table is defined with specific attributes (columns), each assigned a data type.\n",
    "* **Primary Keys**: Uniquely identify each record in a table.\n",
    "* **Foreign Keys**: Establish relationships between entities in tables.\n",
    "* **Indexes**: Support efficient queries.\n",
    "\n",
    "Through careful schema design, database architects create systems that are both efficient and flexible, meeting the current and future needs of an organization. The schema acts as a living document that guides the structure, operations, and integrity of the database.\n",
    "\n",
    "### 2. Schema as a Database Module\n",
    "\n",
    "In complex database designs, the term \"schema\" is also used to describe a distinct module of a larger database with its own namespace that groups related tables together. \n",
    "This modular approach:\n",
    "* Separates tables into logical groups for better organization.\n",
    "* Avoids naming conflicts in large databases with multiple schemas.\n",
    "\n"
   ]
  },
  {
   "cell_type": "markdown",
   "metadata": {},
   "source": [
    "# Declaring a schema\n",
    "Before you can create tables, you must declare a schema to serve as a namespace for your tables.\n",
    "Each schema requires a unique name to distinguish it within the database.\n",
    "\n",
    "Here’s how to declare a schema in DataJoint:"
   ]
  },
  {
   "cell_type": "code",
   "execution_count": null,
   "metadata": {},
   "outputs": [
    {
     "name": "stderr",
     "output_type": "stream",
     "text": [
      "[2024-08-27 04:10:41,167][INFO]: Connecting root@localhost:3306\n",
      "[2024-08-27 04:10:41,184][INFO]: Connected root@localhost:3306\n"
     ]
    }
   ],
   "source": [
    "import datajoint as dj\n",
    "\n",
    "# Define the schema\n",
    "schema = dj.Schema('schema_name')"
   ]
  },
  {
   "cell_type": "markdown",
   "metadata": {},
   "source": [
    "# Using the `schema` Object\n",
    "\n",
    "The schema object groups related tables together and helps prevent naming conflicts.\n",
    "\n",
    "By convention, the object created by `dj.Schema` is named `schema`. Typically, only one schema object is used in any given Python namespace, usually at the level of a Python module.\n",
    "\n",
    "The schema object serves multiple purposes:\n",
    "* **Creating Tables**: Used as a *class decorator* (`@schema`) to declare tables within the schema. \n",
    "For details, see the next section, [Create Tables](010-table.ipynb)\n",
    "* **Visualizing the Schema**: Generates diagrams to illustrate relationships between tables.\n",
    "* **Exporting Data**: Facilitates exporting data for external use or backup.\n",
    "\n",
    "With this foundation, you are ready to begin declaring tables and building your data pipeline."
   ]
  },
  {
   "cell_type": "code",
   "execution_count": null,
   "metadata": {},
   "outputs": [],
   "source": []
  },
  {
   "cell_type": "markdown",
   "metadata": {},
   "source": [
    "# Working with Multi-Schema Databases\n",
    "\n",
    "Organizing larger databases into multiple smaller schemas (or modules) enhances clarity, modularity, and maintainability. In DataJoint, schemas serve as namespaces that group related tables together, while Python modules provide a corresponding organizational structure for the database code.\n",
    "\n",
    "## Convention: One Database Schema = One Python Module\n",
    "\n",
    "DataJoint projects are typically organized with each database schema mapped to a single Python module (`.py` file). This convention:\n",
    "\n",
    "* Promotes modularity by grouping all tables of a schema within one module.\n",
    "* Ensures clarity by maintaining a single schema object per module.\n",
    "* Avoids naming conflicts and simplifies dependency management.\n",
    "\n",
    "Each module declares its own schema object and defines all associated tables. Downstream schemas explicitly import upstream schemas to manage dependencies.\n",
    "\n",
    "## Dependency Management and Acyclic Design\n",
    "\n",
    "In multi-schema databases, dependencies between tables and schemas must form a Directed Acyclic Graph (DAG). Cyclic dependencies are not allowed. This ensures:\n",
    "* Foreign key constraints maintain logical order without forming loops.\n",
    "* Python module imports align with the dependency structure of the database.\n",
    "\n",
    "**Key Principles**:\n",
    "1. Tables can reference each other within a schema or across schemas using foreign keys.\n",
    "2. Dependencies should be topologically sorted, ensuring upstream schemas are imported into downstream schemas.\n",
    "\n",
    "# Advantages of Multi-Schema Design\n",
    "1. **Modularity**: Each schema focuses on a specific aspect of the pipeline (e.g., acquisition, processing, analysis).\n",
    "2. **Separation of Concerns**: Clear boundaries between schemas simplify navigation and troubleshooting.\n",
    "3. **Scalability**: Isolated schemas enable easier updates and scaling as projects grow.\n",
    "4. **Collaboration**: Teams can work on separate modules independently without conflicts.\n",
    "5. **Maintainability**: Modular design facilitates version control and debugging.\n",
    "\n",
    "# Defining Complex Databases with Multiple Schemas in DataJoint\n",
    "\n",
    "In DataJoint, defining **multiple schemas across separate Python modules** ensures that large, complex projects remain well-organized, modular, and maintainable. Each schema should be defined in a **dedicated Python module** to adhere to best practices. This structure ensures that every module maintains **only one `schema` object**, and **downstream schemas import upstream schemas** to manage dependencies correctly. This approach improves code clarity, enables better version control, and simplifies collaboration across teams.\n",
    "\n",
    "The database schema and its Python module usually have similar names, although they need not be identical. \n",
    "\n",
    "Tables can form foreign key dependencies within modules and but also across modules. \n",
    "In DataJoint, Such dependencies must be acyclic within each schema: dependencies cannot form closed cycles, so that the graph of dependences forms a DAG (directed acyclic graph). \n",
    "Then also database modules form a directed acyclic graph at a higher level: the python modules should never form cyclic import dependences and their database schemas must be topologically sorted in the same way so that tables cannot make foreign key dependencies into tables that are in downstream schemas.\n",
    "\n",
    "\n",
    "## Why Use Multiple Schemas in Separate Modules?\n",
    "\n",
    "Using multiple schemas across separate modules offers the following benefits:\n",
    "\n",
    "1. **Modularity and Code Organization**: Each module contains only the tables relevant to a specific schema, making the codebase easier to manage and navigate.\n",
    "2. **Clear Boundaries Between Schemas**: Ensures a separation of concerns, where each schema focuses on a specific aspect of the pipeline (e.g., acquisition, processing, analysis).\n",
    "3. **Dependency Management**: Downstream schemas explicitly **import upstream schemas** to manage table dependencies and data flow.\n",
    "4. **Collaboration**: Multiple developers or teams can work on separate modules without conflicts.\n",
    "5. **Scalability and Maintainability**: Isolating schemas into modules simplifies future updates and troubleshooting.\n",
    "\n",
    "\n",
    "## How to Structure Modules for Multiple Schemas\n",
    "\n",
    "Below is an example that demonstrates how to organize multiple schemas in separate Python modules.\n",
    "\n",
    "# Example Project Structure\n",
    "\n",
    "Here’s an example of how to organize multiple schemas in a DataJoint project:\n",
    "\n",
    "```\n",
    "my_pipeline/\n",
    "│\n",
    "├── subject.py      # Defines subject_management schema\n",
    "├── acquisition.py  # Defines acquisition schema (depends on subject_management)\n",
    "├── processing.py   # Defines processing schema (depends on acquisition)\n",
    "└── analysis.py     # Defines analysis schema (depends on processing)\n",
    "```\n",
    "\n",
    "## Step-by-Step Example\n",
    "\n",
    "1. `subject.py`:\n",
    " * Defines the `subject_management` schema.\n",
    " * Contains the Subject table and related entities.\n",
    "2. `acquisition.py`:\n",
    " * Defines the `acquisition` schema.\n",
    " * Depends on subject_management for subject-related data.\n",
    "3. `processing.py`:\n",
    " * Defines the `processing` schema.\n",
    " * Depends on `acquisition` for data to process.\n",
    "4. `analysis.py`:\n",
    " * Defines the `analysis` schema.\n",
    " * Depends on `processing` for processed data to analyze.\n",
    "\n",
    "By adhering to these principles, large projects remain modular, scalable, and easy to maintain.\n"
   ]
  },
  {
   "cell_type": "code",
   "execution_count": 1,
   "metadata": {},
   "outputs": [
    {
     "name": "stdout",
     "output_type": "stream",
     "text": [
      "\u001b[0;32mimport\u001b[0m \u001b[0mdatajoint\u001b[0m \u001b[0;32mas\u001b[0m \u001b[0mdj\u001b[0m\u001b[0;34m\u001b[0m\n",
      "\u001b[0;34m\u001b[0m\u001b[0;34m\u001b[0m\n",
      "\u001b[0;34m\u001b[0m\u001b[0;31m# Define the subject management schema\u001b[0m\u001b[0;34m\u001b[0m\n",
      "\u001b[0;34m\u001b[0m\u001b[0mschema\u001b[0m \u001b[0;34m=\u001b[0m \u001b[0mdj\u001b[0m\u001b[0;34m.\u001b[0m\u001b[0mSchema\u001b[0m\u001b[0;34m(\u001b[0m\u001b[0;34m\"subject_management\"\u001b[0m\u001b[0;34m)\u001b[0m\u001b[0;34m\u001b[0m\n",
      "\u001b[0;34m\u001b[0m\u001b[0;34m\u001b[0m\n",
      "\u001b[0;34m\u001b[0m\u001b[0;34m@\u001b[0m\u001b[0mschema\u001b[0m\u001b[0;34m\u001b[0m\n",
      "\u001b[0;34m\u001b[0m\u001b[0;32mclass\u001b[0m \u001b[0mSubject\u001b[0m\u001b[0;34m(\u001b[0m\u001b[0mdj\u001b[0m\u001b[0;34m.\u001b[0m\u001b[0mManual\u001b[0m\u001b[0;34m)\u001b[0m\u001b[0;34m:\u001b[0m\u001b[0;34m\u001b[0m\n",
      "\u001b[0;34m\u001b[0m    \u001b[0mdefinition\u001b[0m \u001b[0;34m=\u001b[0m \u001b[0;34m\"\"\"\u001b[0m\n",
      "\u001b[0;34m    subject_id : int\u001b[0m\n",
      "\u001b[0;34m    ---\u001b[0m\n",
      "\u001b[0;34m    subject_name : varchar(50)\u001b[0m\n",
      "\u001b[0;34m    species : varchar(50)\u001b[0m\n",
      "\u001b[0;34m    \"\"\"\u001b[0m\u001b[0;34m\u001b[0m\u001b[0;34m\u001b[0m\u001b[0m\n"
     ]
    }
   ],
   "source": [
    "%pycat code/subject.py"
   ]
  },
  {
   "cell_type": "markdown",
   "metadata": {},
   "source": [
    "# Dropping a Schema\n",
    "\n",
    "Dropping a schema in DataJoint involves permanently deleting all the tables within that schema and the schema itself from the database. This is a significant action because it removes not only the tables but also all the data stored within those tables. To drop a schema, you typically use the `schema.drop()` method, where schema is the schema object you defined earlier in your code. \n",
    "\n",
    "When you execute this command, DataJoint will prompt you to confirm the action, as it is irreversible and will result in the loss of all data associated with the schema. This operation is especially powerful because it cascades through all tables within the schema, removing each one. \n",
    "\n",
    "It's crucial to ensure that any data within the schema is either no longer needed or has been adequately backed up before dropping the schema, as this action will permanently remove all traces of the data and the schema’s structure from the database."
   ]
  },
  {
   "cell_type": "code",
   "execution_count": null,
   "metadata": {},
   "outputs": [],
   "source": [
    "# dropping a schema\n",
    "schema.drop()"
   ]
  }
 ],
 "metadata": {
  "kernelspec": {
   "display_name": "base",
   "language": "python",
   "name": "python3"
  },
  "language_info": {
   "codemirror_mode": {
    "name": "ipython",
    "version": 3
   },
   "file_extension": ".py",
   "mimetype": "text/x-python",
   "name": "python",
   "nbconvert_exporter": "python",
   "pygments_lexer": "ipython3",
   "version": "3.11.10"
  }
 },
 "nbformat": 4,
 "nbformat_minor": 2
}
