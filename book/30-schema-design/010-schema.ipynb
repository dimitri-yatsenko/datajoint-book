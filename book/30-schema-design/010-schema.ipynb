{
 "cells": [
  {
   "cell_type": "markdown",
   "metadata": {},
   "source": [
    "---\n",
    "title: Create Schemas\n",
    "authors:\n",
    "  - name: Dimitri Yatsenko\n",
    "  - date: 2025-01-12\n",
    "---\n",
    "\n",
    "# Create Schemas\n",
    "\n",
    "## What is a schema?\n",
    "\n",
    "The term schema has two related meanings in the context of databases:\n",
    "\n",
    "### 1. Schema as a Data Blueprint\n",
    "A **schema** is a formal specification of the structure of data and the rules governing its integrity.\n",
    "It serves as a blueprint that defines how data is organized, stored, and accessed within a database.\n",
    "This ensures that the database reflects the rules and requirements of the underlying business or research project it supports.\n",
    "\n",
    "In structured data models, such as the relational model, a schema provides a robust framework for defining:\n",
    "* The structure of tables (relations) and their attributes (columns).\n",
    "* Rules and constraints that ensure data consistency, accuracy, and reliability.\n",
    "* Relationships between tables, such as primary keys (unique identifiers for records) and foreign keys (references to related records in other tables).\n",
    "\n",
    "#### Aims of Good Schema Design\n",
    "* **Data Integrity**: Ensures consistency and prevents anomalies.\n",
    "* **Query Efficiency**: Facilitates fast and accurate data retrieval, supports complex queries, and optimizes database performance.\n",
    "* **Scalability**: Allows the database to grow and adapt as data volumes increase.\n",
    "\n",
    "#### Key Elements of Schema Design\n",
    "* **Tables and Attributes**: Each table is defined with specific attributes (columns), each assigned a data type.\n",
    "* **Primary Keys**: Uniquely identify each record in a table.\n",
    "* **Foreign Keys**: Establish relationships between entities in tables.\n",
    "* **Indexes**: Support efficient queries.\n",
    "\n",
    "Through careful schema design, database architects create systems that are both efficient and flexible, meeting the current and future needs of an organization. The schema acts as a living document that guides the structure, operations, and integrity of the database.\n",
    "\n",
    "### 2. Schema as a Database Module\n",
    "\n",
    "In complex database designs, the term \"schema\" is also used to describe a distinct module of a larger database with its own namespace that groups related tables together. \n",
    "This modular approach:\n",
    "* Separates tables into logical groups for better organization.\n",
    "* Avoids naming conflicts in large databases with multiple schemas.\n",
    "\n",
    "For more details on designing multi-schema databases, refer to the section on multi-schema designs."
   ]
  },
  {
   "cell_type": "markdown",
   "metadata": {},
   "source": [
    "# Declaring a schema\n",
    "Before you can create tables, you must declare a schema to serve as a namespace for your tables.\n",
    "Each schema requires a unique name to distinguish it within the database.\n",
    "\n",
    "Here’s how to declare a schema in DataJoint:"
   ]
  },
  {
   "cell_type": "code",
   "execution_count": null,
   "metadata": {},
   "outputs": [
    {
     "name": "stderr",
     "output_type": "stream",
     "text": [
      "[2024-08-27 04:10:41,167][INFO]: Connecting root@localhost:3306\n",
      "[2024-08-27 04:10:41,184][INFO]: Connected root@localhost:3306\n"
     ]
    }
   ],
   "source": [
    "import datajoint as dj\n",
    "\n",
    "# Define the schema\n",
    "schema = dj.Schema('schema_name')"
   ]
  },
  {
   "cell_type": "markdown",
   "metadata": {},
   "source": [
    "# Using the `schema` Object\n",
    "\n",
    "The schema object groups related tables together and helps prevent naming conflicts.\n",
    "\n",
    "By convention, the object created by `dj.Schema` is named `schema`. Typically, only one schema object is used in any given Python namespace, usually at the level of a Python module.\n",
    "\n",
    "The schema object serves multiple purposes:\n",
    "* **Creating Tables**: Used as a *class decorator* (`@schema`) to declare tables within the schema. \n",
    "For details, see the next section, [Create Tables](010-table.ipynb)\n",
    "* **Visualizing the Schema**: Generates diagrams to illustrate relationships between tables.\n",
    "* **Exporting Data**: Facilitates exporting data for external use or backup.\n",
    "\n",
    "With this foundation, you are ready to begin declaring tables and building your data pipeline."
   ]
  },
  {
   "cell_type": "markdown",
   "metadata": {},
   "source": []
  },
  {
   "cell_type": "markdown",
   "metadata": {},
   "source": [
    "# Dropping a Schema\n",
    "\n",
    "Dropping a schema in DataJoint involves permanently deleting all the tables within that schema and the schema itself from the database. This is a significant action because it removes not only the tables but also all the data stored within those tables. To drop a schema, you typically use the `schema.drop()` method, where schema is the schema object you defined earlier in your code. \n",
    "\n",
    "When you execute this command, DataJoint will prompt you to confirm the action, as it is irreversible and will result in the loss of all data associated with the schema. This operation is especially powerful because it cascades through all tables within the schema, removing each one. \n",
    "\n",
    "It's crucial to ensure that any data within the schema is either no longer needed or has been adequately backed up before dropping the schema, as this action will permanently remove all traces of the data and the schema’s structure from the database."
   ]
  },
  {
   "cell_type": "code",
   "execution_count": null,
   "metadata": {},
   "outputs": [],
   "source": [
    "# dropping a schema\n",
    "schema.drop()"
   ]
  }
 ],
 "metadata": {
  "kernelspec": {
   "display_name": "base",
   "language": "python",
   "name": "python3"
  },
  "language_info": {
   "codemirror_mode": {
    "name": "ipython",
    "version": 3
   },
   "file_extension": ".py",
   "mimetype": "text/x-python",
   "name": "python",
   "nbconvert_exporter": "python",
   "pygments_lexer": "ipython3",
   "version": "3.10.14"
  }
 },
 "nbformat": 4,
 "nbformat_minor": 2
}
