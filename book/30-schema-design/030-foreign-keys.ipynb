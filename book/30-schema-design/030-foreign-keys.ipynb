{
 "cells": [
  {
   "cell_type": "markdown",
   "metadata": {},
   "source": [
    "# Foreign Keys"
   ]
  },
  {
   "cell_type": "markdown",
   "metadata": {},
   "source": [
    "# Modeling Relationships with Foreign Keys\n",
    "\n",
    "While **entity integrity** ensures that each record uniquely represents a real-world entity, **referential integrity** ensures that the *relationships between* these entities are valid and consistent. It's a guarantee that you won't have an employee assigned to a non-existent department or a task associated with a deleted project.\n",
    "\n",
    "Crucially, **referential integrity is impossible without entity integrity**. You must first have a reliable way to identify unique entities before you can define their relationships.\n",
    "\n",
    "In relational databases, these relationships are established and enforced using **foreign keys**. A foreign key creates a link between a **child table** (the one with the reference) and a **parent table** (the one being referenced). Think of `Employee` as the child and `Title` as the parent; an employee must have a valid, existing title.\n",
    "\n",
    "A foreign key is a column (or set of columns) in the child table that refers to the primary key of the parent table. In DataJoint, a foreign key *always* references a parent's primary key, which is a highly recommended practice for clarity and consistency.\n",
    "\n",
    "In the following example, we define the parent table `Title` and the child table `Employee`, which references `Title`."
   ]
  },
  {
   "cell_type": "code",
   "execution_count": 9,
   "metadata": {},
   "outputs": [
    {
     "name": "stdout",
     "output_type": "stream",
     "text": [
      "Exception reporting mode: Minimal\n"
     ]
    }
   ],
   "source": [
    "%xmode Minimal\n",
    "\n",
    "import datajoint as dj\n",
    "schema = dj.Schema('company')\n",
    "\n",
    "\n",
    "@schema\n",
    "class Title(dj.Lookup):\n",
    "    definition = \"\"\"\n",
    "    title_code  : char(8)\n",
    "    ---\n",
    "    full_title : varchar(120)\n",
    "    \"\"\"\n",
    "    \n",
    "    contents = [\n",
    "        (\"SW-Dev1\", \"Software Developer 1\"),\n",
    "        (\"SW-Dev2\", \"Software Developer 2\"),\n",
    "        (\"SW-Dev3\", \"Software Developer 3\"),\n",
    "        (\"Web-Dev1\", \"Web Developer 1\"),\n",
    "        (\"Web-Dev2\", \"Web Developer 2\"),\n",
    "        (\"Web-Dev3\", \"Web Developer 3\"),\n",
    "        (\"HR-Mgr\", \"Human Resources Manager\")\n",
    "    ]\n",
    "\n",
    "@schema\n",
    "class Employee(dj.Manual):\n",
    "    definition = \"\"\"\n",
    "    person_id  :  int \n",
    "    ---\n",
    "    first_name : varchar(30)\n",
    "    last_name : varchar(30)\n",
    "    -> Title\n",
    "    \"\"\""
   ]
  },
  {
   "cell_type": "markdown",
   "metadata": {},
   "source": [
    "Here the arrow `-> Title` creates a foreign key from `Employee` (child) to `Title` (parent).\n",
    "\n",
    "We can use the `dj.Diagram` class to visualize the relationships created by the foreign keys."
   ]
  },
  {
   "cell_type": "code",
   "execution_count": 4,
   "metadata": {},
   "outputs": [
    {
     "data": {
      "image/svg+xml": [
       "<svg xmlns=\"http://www.w3.org/2000/svg\" xmlns:xlink=\"http://www.w3.org/1999/xlink\" width=\"84pt\" height=\"114pt\" viewBox=\"0.00 0.00 84.00 114.00\">\n",
       "<g id=\"graph0\" class=\"graph\" transform=\"scale(1 1) rotate(0) translate(4 110)\">\n",
       "<polygon fill=\"white\" stroke=\"transparent\" points=\"-4,4 -4,-110 80,-110 80,4 -4,4\"/>\n",
       "<!-- Title -->\n",
       "<g id=\"node1\" class=\"node\">\n",
       "<title>Title</title>\n",
       "<g id=\"a_node1\"><a xlink:title=\"title_code           &#13;------------------------------&#13;full_title           &#13;\">\n",
       "<polygon fill=\"#000000\" fill-opacity=\"0.125490\" stroke=\"transparent\" points=\"57,-106 19,-106 19,-71 57,-71 57,-106\"/>\n",
       "<text text-anchor=\"start\" x=\"27\" y=\"-87\" font-family=\"arial\" text-decoration=\"underline\" font-size=\"10.00\">Title</text>\n",
       "</a>\n",
       "</g>\n",
       "</g>\n",
       "<!-- Employee -->\n",
       "<g id=\"node2\" class=\"node\">\n",
       "<title>Employee</title>\n",
       "<g id=\"a_node2\"><a xlink:title=\"person_id            &#13;------------------------------&#13;first_name           &#13;last_name            &#13;→ Title&#13;\">\n",
       "<polygon fill=\"#00ff00\" fill-opacity=\"0.188235\" stroke=\"#00ff00\" stroke-opacity=\"0.188235\" points=\"76,-35 0,-35 0,0 76,0 76,-35\"/>\n",
       "<text text-anchor=\"start\" x=\"8\" y=\"-15.4\" font-family=\"arial\" text-decoration=\"underline\" font-size=\"12.00\" fill=\"darkgreen\">Employee</text>\n",
       "</a>\n",
       "</g>\n",
       "</g>\n",
       "<!-- Title&#45;&gt;Employee -->\n",
       "<g id=\"edge1\" class=\"edge\">\n",
       "<title>Title-&gt;Employee</title>\n",
       "<path fill=\"none\" stroke=\"#000000\" stroke-width=\"0.75\" stroke-dasharray=\"5,2\" stroke-opacity=\"0.250980\" d=\"M38,-70.8C38,-59.95 38,-45.87 38,-35.05\"/>\n",
       "</g>\n",
       "</g>\n",
       "</svg>"
      ],
      "text/plain": [
       "<datajoint.diagram.Diagram at 0xffff5ba52660>"
      ]
     },
     "execution_count": 4,
     "metadata": {},
     "output_type": "execute_result"
    }
   ],
   "source": [
    "dj.Diagram(schema)"
   ]
  },
  {
   "cell_type": "markdown",
   "metadata": {},
   "source": [
    "The parent table `Title` is above and the child table `Employee` is below."
   ]
  },
  {
   "cell_type": "markdown",
   "metadata": {},
   "source": [
    "## Defining Foreign Keys in SQL\n",
    "In standard SQL, the same relationship is defined with more verbose syntax. The child table must explicitly redefine the columns of the parent's primary key and then declare the foreign key constraint.\n",
    "\n",
    "Notice that the data type (`char(8)`) of the primary key in `Title` must be exactly repeated for the `title_code` column in `Employee`.\n",
    "\n",
    "```sql\n",
    "-- Parent Table\n",
    "CREATE TABLE title (\n",
    "    title_code  CHAR(8) NOT NULL,\n",
    "    full_title  VARCHAR(120) NOT NULL,\n",
    "    PRIMARY KEY (title_code)\n",
    ");\n",
    "\n",
    "-- Child Table\n",
    "CREATE TABLE employee (\n",
    "person_id   INT NOT NULL,\n",
    "first_name  VARCHAR(30) NOT NULL,\n",
    "last_name   VARCHAR(30) NOT NULL,\n",
    "title_code  CHAR(8) NOT NULL,\n",
    "PRIMARY KEY (person_id),\n",
    "FOREIGN KEY (title_code) REFERENCES title(title_code)\n",
    ");\n",
    "```\n",
    "\n",
    "The concise `-> Title` syntax in DataJoint handles this automatically, reducing redundancy and preventing potential errors if the parent's primary key definition changes."
   ]
  },
  {
   "cell_type": "markdown",
   "metadata": {},
   "source": [
    "```{admonition} A Logical Constraint, not a Physical Pointer\n",
    ":class: tip\n",
    "\n",
    "A revolutionary concept in the relational model is that a foreign key is **not a physical pointer** to a location on a disk. Instead, it is a **logical constraint** enforced at runtime.\n",
    "\n",
    "When you try to insert a row into a child table, the database doesn't follow a pre-existing \"link.\" It performs a search on the parent table to see if a record with a matching primary key exists. If a match is found, the insert is allowed; otherwise, it is rejected.\n",
    "\n",
    "This is fundamentally different from other data models like HDF5, where data is often linked by direct pointers or paths [^1]. The logical nature of foreign keys gives relational databases their flexibility and integrity.\n",
    "\n",
    "[^1]: The HDF Group. \"HDF5 User's Guide: Groups and Links\". [https://docs.hdfgroup.org/hdf5/develop/H5.intro.html#intro-groups](https://docs.hdfgroup.org/hdf5/develop/H5.intro.html#intro-groups)\n",
    "```"
   ]
  },
  {
   "cell_type": "markdown",
   "metadata": {},
   "source": [
    "## The Five Effects of a Foreign Key\n",
    "\n",
    "Foreign keys enforce **referential integrity** by regulating the relationships between a **parent table** (referenced entity set) and a **child table** (dependent entity set). In addition to defining how entities relate, foreign keys also impose important constraints on data operations. \n",
    "\n",
    "Below are the five key effects of foreign keys:\n",
    "\n",
    "### Effect 1. The primary key columns from the parent become embedded as foreign key columns in the child  \n",
    "When a foreign key relationship is established, the **primary key** (or unique key) of the parent table becomes part of the child table’s schema. The child table includes the foreign key attribute(s) with **matching name and datatype** to ensure that each row in the child table refers to a valid parent record.\n",
    "\n",
    "If you examine the heading of `Employee`, you will find that it now contains a `title_code` field. It will have the same data type as the \n"
   ]
  },
  {
   "cell_type": "code",
   "execution_count": 5,
   "metadata": {},
   "outputs": [
    {
     "data": {
      "text/html": [
       "\n",
       "    \n",
       "    <style type=\"text/css\">\n",
       "        .Table{\n",
       "            border-collapse:collapse;\n",
       "        }\n",
       "        .Table th{\n",
       "            background: #A0A0A0; color: #ffffff; padding:4px; border:#f0e0e0 1px solid;\n",
       "            font-weight: normal; font-family: monospace; font-size: 100%;\n",
       "        }\n",
       "        .Table td{\n",
       "            padding:4px; border:#f0e0e0 1px solid; font-size:100%;\n",
       "        }\n",
       "        .Table tr:nth-child(odd){\n",
       "            background: #ffffff;\n",
       "            color: #000000;\n",
       "        }\n",
       "        .Table tr:nth-child(even){\n",
       "            background: #f3f1ff;\n",
       "            color: #000000;\n",
       "        }\n",
       "        /* Tooltip container */\n",
       "        .djtooltip {\n",
       "        }\n",
       "        /* Tooltip text */\n",
       "        .djtooltip .djtooltiptext {\n",
       "            visibility: hidden;\n",
       "            width: 120px;\n",
       "            background-color: black;\n",
       "            color: #fff;\n",
       "            text-align: center;\n",
       "            padding: 5px 0;\n",
       "            border-radius: 6px;\n",
       "            /* Position the tooltip text - see examples below! */\n",
       "            position: absolute;\n",
       "            z-index: 1;\n",
       "        }\n",
       "        #primary {\n",
       "            font-weight: bold;\n",
       "            color: black;\n",
       "        }\n",
       "        #nonprimary {\n",
       "            font-weight: normal;\n",
       "            color: white;\n",
       "        }\n",
       "\n",
       "        /* Show the tooltip text when you mouse over the tooltip container */\n",
       "        .djtooltip:hover .djtooltiptext {\n",
       "            visibility: visible;\n",
       "        }\n",
       "    </style>\n",
       "    \n",
       "    <b></b>\n",
       "        <div style=\"max-height:1000px;max-width:1500px;overflow:auto;\">\n",
       "        <table border=\"1\" class=\"Table\">\n",
       "            <thead> <tr style=\"text-align: right;\"> <th> <div class=\"djtooltip\">\n",
       "                            <p id=\"primary\">person_id</p>\n",
       "                            <span class=\"djtooltiptext\"></span>\n",
       "                        </div></th><th><div class=\"djtooltip\">\n",
       "                            <p id=\"nonprimary\">first_name</p>\n",
       "                            <span class=\"djtooltiptext\"></span>\n",
       "                        </div></th><th><div class=\"djtooltip\">\n",
       "                            <p id=\"nonprimary\">last_name</p>\n",
       "                            <span class=\"djtooltiptext\"></span>\n",
       "                        </div></th><th><div class=\"djtooltip\">\n",
       "                            <p id=\"nonprimary\">title_code</p>\n",
       "                            <span class=\"djtooltiptext\"></span>\n",
       "                        </div> </th> </tr> </thead>\n",
       "            <tbody> <tr>  </tr> </tbody>\n",
       "        </table>\n",
       "        \n",
       "        <p>Total: 0</p></div>\n",
       "        "
      ],
      "text/plain": [
       "*person_id    first_name     last_name     title_code    \n",
       "+-----------+ +------------+ +-----------+ +------------+\n",
       "\n",
       " (Total: 0)"
      ]
     },
     "execution_count": 5,
     "metadata": {},
     "output_type": "execute_result"
    }
   ],
   "source": [
    "Employee()"
   ]
  },
  {
   "cell_type": "markdown",
   "metadata": {},
   "source": [
    "### Effect 2: Inserts into the Child Table are Restricted\n",
    "\n",
    "A foreign key ensures that no \"orphaned\" records are created. An insert into the child table is only permitted if the foreign key value corresponds to an existing primary key in the parent table.\n",
    "\n",
    "The rule is simple: **Inserts are restricted in the child, not the parent.** You can always add new job titles, but you cannot add an employee with a `title_code` that doesn't exist in the `Title` table."
   ]
  },
  {
   "cell_type": "code",
   "execution_count": 6,
   "metadata": {},
   "outputs": [],
   "source": [
    "# This works!\n",
    "Employee.insert1((1, 'Mark', 'Sommers', 'Web-Dev1'))"
   ]
  },
  {
   "cell_type": "code",
   "execution_count": 7,
   "metadata": {},
   "outputs": [
    {
     "ename": "IntegrityError",
     "evalue": "Cannot add or update a child row: a foreign key constraint fails (`company`.`employee`, CONSTRAINT `employee_ibfk_1` FOREIGN KEY (`title_code`) REFERENCES `#title` (`title_code`) ON DELETE RESTRICT ON UPDATE CASCADE)",
     "output_type": "error",
     "traceback": [
      "\u001b[31mIntegrityError\u001b[39m\u001b[31m:\u001b[39m Cannot add or update a child row: a foreign key constraint fails (`company`.`employee`, CONSTRAINT `employee_ibfk_1` FOREIGN KEY (`title_code`) REFERENCES `#title` (`title_code`) ON DELETE RESTRICT ON UPDATE CASCADE)\n"
     ]
    }
   ],
   "source": [
    "# This fails!\n",
    "Employee.insert1((2, 'Brenda', 'Means', 'BizDev'))"
   ]
  },
  {
   "cell_type": "markdown",
   "metadata": {},
   "source": [
    "### Effect 3: Deletes from the Parent Table are Restricted\n",
    "\n",
    "To prevent broken relationships, a parent record cannot be deleted if any child records still refer to it.\n",
    "\n",
    "The rule is the inverse of the insert rule: **Deletes are restricted in the parent, not the child.** You can always delete an employee, but you cannot delete a title if it is still assigned to an employee.\n",
    "\n",
    "In standard SQL, this operation would fail with a constraint error. DataJoint, however, implements a **cascading delete**. It will warn you that deleting the parent record will also delete all dependent child records, which can cascade through many levels of a deep hierarchy."
   ]
  },
  {
   "cell_type": "code",
   "execution_count": 8,
   "metadata": {},
   "outputs": [
    {
     "name": "stderr",
     "output_type": "stream",
     "text": [
      "[2025-09-18 14:31:21,418][INFO]: Deleting 1 rows from `company`.`employee`\n",
      "[2025-09-18 14:31:21,422][INFO]: Deleting 7 rows from `company`.`#title`\n",
      "[2025-09-18 14:31:29,056][WARNING]: Delete cancelled\n"
     ]
    },
    {
     "data": {
      "text/plain": [
       "7"
      ]
     },
     "execution_count": 8,
     "metadata": {},
     "output_type": "execute_result"
    }
   ],
   "source": [
    "Title.delete()"
   ]
  },
  {
   "cell_type": "markdown",
   "metadata": {},
   "source": [
    "### Effect 4: Updates to Referenced Keys are Restricted\n",
    "\n",
    "To maintain referential integrity, updates to a parent's primary key or a child's foreign key are restricted.\n",
    "\n",
    "In general relational theory, databases can be configured to handle this with **cascading updates**, where changing a parent's primary key automatically propagates that change to all child records.\n",
    "\n",
    "However, DataJoint does not support updating primary key values, as this can risk breaking referential integrity in complex scientific workflows. The preferred and safer pattern in DataJoint is to **delete the old record and insert a new one** with the updated information."
   ]
  },
  {
   "cell_type": "markdown",
   "metadata": {},
   "source": [
    "# Summary\n",
    "\n",
    "Foreign keys ensure referential integrity by linking a child table to a parent table. This link imposes five key effects:\n",
    "\n",
    "1.  **Schema Embedding**: The parent's primary key is added as columns to the child table.\n",
    "2.  **Insert Restriction**: A row cannot be added to the **child** if its foreign key doesn't match a primary key in the **parent**.\n",
    "3.  **Delete Restriction**: A row cannot be deleted from the **parent** if it is still referenced by any rows in the **child**.\n",
    "4.  **Update Restriction**: Updates to the primary and foreign keys are restricted to prevent inconsistencies.\n",
    "5.  **Performance Optimization**: An index is automatically created on the foreign key in the child table to speed up searches and joins."
   ]
  }
 ],
 "metadata": {
  "kernelspec": {
   "display_name": "base",
   "language": "python",
   "name": "python3"
  },
  "language_info": {
   "codemirror_mode": {
    "name": "ipython",
    "version": 3
   },
   "file_extension": ".py",
   "mimetype": "text/x-python",
   "name": "python",
   "nbconvert_exporter": "python",
   "pygments_lexer": "ipython3",
   "version": "3.13.2"
  },
  "orig_nbformat": 4
 },
 "nbformat": 4,
 "nbformat_minor": 2
}
