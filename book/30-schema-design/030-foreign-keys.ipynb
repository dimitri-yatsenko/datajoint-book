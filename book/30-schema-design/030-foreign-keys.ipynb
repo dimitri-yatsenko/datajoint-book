{
 "cells": [
  {
   "cell_type": "markdown",
   "metadata": {},
   "source": [
    "# Foreign Keys"
   ]
  },
  {
   "cell_type": "markdown",
   "metadata": {},
   "source": [
    "# Referential integrity\n",
    "\n",
    "**Referential Integrity** is the guarantee made by the data management process that the entitites represented in the database remain correctly associated and mutually consistent and that relationships between them remain accurate.\n",
    "\n",
    "Referential integrity is predicated on entity integrity. \n",
    "Without entity integrity, referential integrity cannot be properly defined nor enforced.\n",
    "\n",
    "# Foreign keys\n",
    "In relational databases, referential integrity is defined and enforced by the means of *foreign keys*, which establishes a reltionship between the *child table* that contains the foreign key and the *parent table* that is referenced by the foreign key. \n",
    "\n",
    "A **foreign key** is a column or several columns in the child table referencing the primary key column(s) in the parent table.\n",
    "\n",
    "In DataJoint, the foreign *always* references the primary key of the parent table and that's the only way foreign keys are used. \n",
    "However, more generally in SQL and relational theory, foreign keys can reference other sets of columns.\n",
    "Such uses are esoteric and we avoid using them. \n",
    "All foreign key references in this book will reference the primary key of the parent table.\n",
    "\n",
    "In the following example, we create a foreign key between an employee and their work title.  We first define a lookup table `Title` that lists all possible titles and the table `Employee` that containts references `Title`."
   ]
  },
  {
   "cell_type": "code",
   "execution_count": 1,
   "metadata": {},
   "outputs": [
    {
     "name": "stdout",
     "output_type": "stream",
     "text": [
      "Exception reporting mode: Minimal\n"
     ]
    },
    {
     "name": "stderr",
     "output_type": "stream",
     "text": [
      "[2024-10-21 04:07:03,488][INFO]: Connecting root@localhost:3306\n",
      "[2024-10-21 04:07:03,506][INFO]: Connected root@localhost:3306\n"
     ]
    }
   ],
   "source": [
    "%xmode Minimal\n",
    "\n",
    "import datajoint as dj\n",
    "schema = dj.Schema('company')\n",
    "\n",
    "\n",
    "@schema\n",
    "class Title(dj.Lookup):\n",
    "    definition = \"\"\"\n",
    "    title_code  : char(8)\n",
    "    ---\n",
    "    full_title : varchar(120)\n",
    "    \"\"\"\n",
    "    \n",
    "    contents = [\n",
    "        (\"SW-Dev1\", \"Software Developer 1\"),\n",
    "        (\"SW-Dev2\", \"Software Developer 2\"),\n",
    "        (\"SW-Dev3\", \"Software Developer 3\"),\n",
    "        (\"Web-Dev1\", \"Web Developer 1\"),\n",
    "        (\"Web-Dev2\", \"Web Developer 2\"),\n",
    "        (\"Web-Dev3\", \"Web Developer 3\"),\n",
    "        (\"HR-Mgr\", \"Human Resources Manager\")\n",
    "    ]\n",
    "\n",
    "\n",
    "\n",
    "@schema\n",
    "class Employee(dj.Manual):\n",
    "    definition = \"\"\"\n",
    "    person_id  :  int \n",
    "    ---\n",
    "    first_name : varchar(30)\n",
    "    last_name : varchar(30)\n",
    "    -> Title\n",
    "    \"\"\""
   ]
  },
  {
   "cell_type": "markdown",
   "metadata": {},
   "source": [
    "Here the arrow `-> Title` create a foreign key from `Employee` to `Title`.\n",
    "\n",
    "We can use the `dj.Diagram` class to visualize the relationships created by the foreign keys."
   ]
  },
  {
   "cell_type": "code",
   "execution_count": 2,
   "metadata": {},
   "outputs": [
    {
     "data": {
      "image/svg+xml": [
       "<svg xmlns=\"http://www.w3.org/2000/svg\" xmlns:xlink=\"http://www.w3.org/1999/xlink\" width=\"83pt\" height=\"113pt\" viewBox=\"0.00 0.00 83.25 113.12\">\n",
       "<g id=\"graph0\" class=\"graph\" transform=\"scale(1 1) rotate(0) translate(4 109.12)\">\n",
       "<polygon fill=\"white\" stroke=\"none\" points=\"-4,4 -4,-109.12 79.25,-109.12 79.25,4 -4,4\"/>\n",
       "<!-- Title -->\n",
       "<g id=\"node1\" class=\"node\">\n",
       "<title>Title</title>\n",
       "<g id=\"a_node1\"><a xlink:title=\"title_code           \r------------------------------\rfull_title           \r\">\n",
       "<polygon fill=\"#000000\" fill-opacity=\"0.125490\" stroke=\"none\" points=\"56.5,-105.12 18.75,-105.12 18.75,-70.56 56.5,-70.56 56.5,-105.12\"/>\n",
       "<text text-anchor=\"start\" x=\"26.75\" y=\"-85.72\" font-family=\"arial\" text-decoration=\"underline\" font-size=\"10.00\">Title</text>\n",
       "</a>\n",
       "</g>\n",
       "</g>\n",
       "<!-- Employee -->\n",
       "<g id=\"node2\" class=\"node\">\n",
       "<title>Employee</title>\n",
       "<g id=\"a_node2\"><a xlink:title=\"person_id            \r------------------------------\rfirst_name           \rlast_name            \r→ Title\r\">\n",
       "<polygon fill=\"#00ff00\" fill-opacity=\"0.188235\" stroke=\"#00ff00\" stroke-opacity=\"0.188235\" points=\"75.25,-34.56 0,-34.56 0,0 75.25,0 75.25,-34.56\"/>\n",
       "<text text-anchor=\"start\" x=\"8\" y=\"-14.01\" font-family=\"arial\" text-decoration=\"underline\" font-size=\"12.00\" fill=\"darkgreen\">Employee</text>\n",
       "</a>\n",
       "</g>\n",
       "</g>\n",
       "<!-- Title&#45;&gt;Employee -->\n",
       "<g id=\"edge1\" class=\"edge\">\n",
       "<title>Title-&gt;Employee</title>\n",
       "<path fill=\"none\" stroke=\"#000000\" stroke-width=\"0.75\" stroke-dasharray=\"5,2\" stroke-opacity=\"0.250980\" d=\"M37.62,-70.59C37.62,-59.82 37.62,-45.73 37.62,-34.89\"/>\n",
       "</g>\n",
       "</g>\n",
       "</svg>"
      ],
      "text/plain": [
       "<datajoint.diagram.Diagram at 0x7fe136962e50>"
      ]
     },
     "execution_count": 2,
     "metadata": {},
     "output_type": "execute_result"
    }
   ],
   "source": [
    "dj.Diagram(schema)"
   ]
  },
  {
   "cell_type": "markdown",
   "metadata": {},
   "source": [
    "The parent table `Title` is above and the child table `Employee` is below."
   ]
  },
  {
   "cell_type": "markdown",
   "metadata": {},
   "source": [
    "## The Five Effects of a Foreign Key\n",
    "\n",
    "Foreign keys enforce **referential integrity** by regulating the relationships between a **parent table** (referenced entity set) and a **child table** (dependent entity set). In addition to defining how entities relate, foreign keys also impose important constraints on data operations. \n",
    "\n",
    "Below are the five key effects of foreign keys:\n",
    "\n",
    "### Effect 1. The primary key columns from the parent become embedded as foreign key columns in the child  \n",
    "When a foreign key relationship is established, the **primary key** (or unique key) of the parent table becomes part of the child table’s schema. The child table includes the foreign key attribute(s) with **matching name and datatype** to ensure that each row in the child table refers to a valid parent record.\n",
    "\n",
    "If you examine the heading of `Employee`, you will find that it now contains a `title_code` field. It will have the same data type as the \n"
   ]
  },
  {
   "cell_type": "code",
   "execution_count": 3,
   "metadata": {},
   "outputs": [
    {
     "data": {
      "text/html": [
       "\n",
       "    \n",
       "    <style type=\"text/css\">\n",
       "        .Table{\n",
       "            border-collapse:collapse;\n",
       "        }\n",
       "        .Table th{\n",
       "            background: #A0A0A0; color: #ffffff; padding:4px; border:#f0e0e0 1px solid;\n",
       "            font-weight: normal; font-family: monospace; font-size: 100%;\n",
       "        }\n",
       "        .Table td{\n",
       "            padding:4px; border:#f0e0e0 1px solid; font-size:100%;\n",
       "        }\n",
       "        .Table tr:nth-child(odd){\n",
       "            background: #ffffff;\n",
       "            color: #000000;\n",
       "        }\n",
       "        .Table tr:nth-child(even){\n",
       "            background: #f3f1ff;\n",
       "            color: #000000;\n",
       "        }\n",
       "        /* Tooltip container */\n",
       "        .djtooltip {\n",
       "        }\n",
       "        /* Tooltip text */\n",
       "        .djtooltip .djtooltiptext {\n",
       "            visibility: hidden;\n",
       "            width: 120px;\n",
       "            background-color: black;\n",
       "            color: #fff;\n",
       "            text-align: center;\n",
       "            padding: 5px 0;\n",
       "            border-radius: 6px;\n",
       "            /* Position the tooltip text - see examples below! */\n",
       "            position: absolute;\n",
       "            z-index: 1;\n",
       "        }\n",
       "        #primary {\n",
       "            font-weight: bold;\n",
       "            color: black;\n",
       "        }\n",
       "        #nonprimary {\n",
       "            font-weight: normal;\n",
       "            color: white;\n",
       "        }\n",
       "\n",
       "        /* Show the tooltip text when you mouse over the tooltip container */\n",
       "        .djtooltip:hover .djtooltiptext {\n",
       "            visibility: visible;\n",
       "        }\n",
       "    </style>\n",
       "    \n",
       "    <b></b>\n",
       "        <div style=\"max-height:1000px;max-width:1500px;overflow:auto;\">\n",
       "        <table border=\"1\" class=\"Table\">\n",
       "            <thead> <tr style=\"text-align: right;\"> <th> <div class=\"djtooltip\">\n",
       "                            <p id=\"primary\">person_id</p>\n",
       "                            <span class=\"djtooltiptext\"></span>\n",
       "                        </div></th><th><div class=\"djtooltip\">\n",
       "                            <p id=\"nonprimary\">first_name</p>\n",
       "                            <span class=\"djtooltiptext\"></span>\n",
       "                        </div></th><th><div class=\"djtooltip\">\n",
       "                            <p id=\"nonprimary\">last_name</p>\n",
       "                            <span class=\"djtooltiptext\"></span>\n",
       "                        </div></th><th><div class=\"djtooltip\">\n",
       "                            <p id=\"nonprimary\">title_code</p>\n",
       "                            <span class=\"djtooltiptext\"></span>\n",
       "                        </div> </th> </tr> </thead>\n",
       "            <tbody> <tr>  </tr> </tbody>\n",
       "        </table>\n",
       "        \n",
       "        <p>Total: 0</p></div>\n",
       "        "
      ],
      "text/plain": [
       "*person_id    first_name     last_name     title_code    \n",
       "+-----------+ +------------+ +-----------+ +------------+\n",
       "\n",
       " (Total: 0)"
      ]
     },
     "execution_count": 3,
     "metadata": {},
     "output_type": "execute_result"
    }
   ],
   "source": [
    "Employee()"
   ]
  },
  {
   "cell_type": "markdown",
   "metadata": {},
   "source": [
    "\n",
    "### Effect 2: Inserts into the child table are restricted unless there is a match in the parent table  \n",
    "When inserting a new row into the child table, the database ensures that the foreign key value **must match a primary key** in the parent table. If no matching parent row exists, the insert is rejected, preventing **orphaned records** in the child table.\n",
    "\n",
    "For example, let's try inserting two employees. The first will use an existing title where as the other will use a new title."
   ]
  },
  {
   "cell_type": "code",
   "execution_count": 4,
   "metadata": {},
   "outputs": [],
   "source": [
    "# This works!\n",
    "Employee.insert1((1, 'Mark', 'Sommers', 'Web-Dev1'))"
   ]
  },
  {
   "cell_type": "code",
   "execution_count": 5,
   "metadata": {},
   "outputs": [
    {
     "ename": "IntegrityError",
     "evalue": "Cannot add or update a child row: a foreign key constraint fails (`company`.`employee`, CONSTRAINT `employee_ibfk_1` FOREIGN KEY (`title_code`) REFERENCES `#title` (`title_code`) ON DELETE RESTRICT ON UPDATE CASCADE)",
     "output_type": "error",
     "traceback": [
      "\u001b[0;31mIntegrityError\u001b[0m\u001b[0;31m:\u001b[0m Cannot add or update a child row: a foreign key constraint fails (`company`.`employee`, CONSTRAINT `employee_ibfk_1` FOREIGN KEY (`title_code`) REFERENCES `#title` (`title_code`) ON DELETE RESTRICT ON UPDATE CASCADE)\n"
     ]
    }
   ],
   "source": [
    "# This fails!\n",
    "Employee.insert1((2, 'Brenda', 'Means', 'BizDev'))"
   ]
  },
  {
   "cell_type": "markdown",
   "metadata": {},
   "source": [
    "### Effect 3. Deletes from the parent table are restricted for rows that have matching children  \n",
    "A parent record cannot be deleted if it is referenced by any child records. This restriction prevents **broken relationships** between tables. The only way to delete the parent is to first delete or update the dependent child records, or to use a **cascading delete** that removes both parent and child rows.\n",
    "\n",
    "- **Cascading Delete Option**: With cascading delete enabled, deleting a parent row automatically removes all its associated child rows.\n",
    "\n",
    "\n",
    "Deleting from `Title` will generate a warning that children in `Employee` will be deleted too. Such cascading will go down many levels through the hierarchy."
   ]
  },
  {
   "cell_type": "code",
   "execution_count": null,
   "metadata": {},
   "outputs": [],
   "source": [
    "Title.delete()"
   ]
  },
  {
   "cell_type": "markdown",
   "metadata": {},
   "source": [
    "### Effect 4. Restrict Updates to the Foreign Key and the Referenced Primary Key  \n",
    "Foreign keys **restrict updates** on both the child and parent tables to maintain data consistency.\n",
    "\n",
    "DataJoint does not support updates of primary key values since such updates have the potential for breaking down referential integrity.\n",
    "Normal data manipulations are performed by deletes and inserts. However SQL and relational theory more generally supports such operations. \n",
    "\n",
    "- **Updates in the Parent Table**: If the primary key of a parent record is updated, all dependent child records must be updated to maintain referential integrity. However, unless **cascading updates** are configured, these updates are blocked to prevent inconsistency.\n",
    "\n",
    "- **Updates in the Child Table**: Similarly, updating the foreign key value in a child record is restricted to ensure that the new value matches a valid parent row.\n",
    "\n",
    "- **Cascading Update Option**: With cascading updates enabled, changes to a parent’s primary key will automatically propagate to the related child records.\n",
    "\n",
    "\n",
    "### Effect 5. Create an index in the child table for fast searches on the foreign key  \n",
    "To optimize performance, the database **automatically creates an index** on the foreign key column(s) in the child table. This index allows the database to efficiently find child records that refer to a specific parent row, improving query performance during joins and lookups."
   ]
  },
  {
   "cell_type": "markdown",
   "metadata": {},
   "source": [
    "# Summary  \n",
    "Foreign keys ensure **referential integrity** by imposing constraints on how data is added, modified, and deleted across related tables. The five key effects are:\n",
    "\n",
    "1. **Schema Design**: The parent’s primary key becomes part of the child table as a foreign key.  \n",
    "2. **Insert Restriction**: Inserts into the child table are blocked unless a matching parent row exists.  \n",
    "3. **Delete Restriction**: Deleting a parent row is blocked unless dependent child rows are handled (or cascading delete is enabled).  \n",
    "4. **Update Restriction**: Updates to the primary key in the parent table and foreign key in the child table are restricted to maintain consistency, unless cascading updates are explicitly allowed.\n",
    "5. **Performance Optimization**: An index on the foreign key in the child table ensures fast searches and efficient joins.  \n"
   ]
  }
 ],
 "metadata": {
  "kernelspec": {
   "display_name": "base",
   "language": "python",
   "name": "python3"
  },
  "language_info": {
   "codemirror_mode": {
    "name": "ipython",
    "version": 3
   },
   "file_extension": ".py",
   "mimetype": "text/x-python",
   "name": "python",
   "nbconvert_exporter": "python",
   "pygments_lexer": "ipython3",
   "version": "3.11.10"
  },
  "orig_nbformat": 4
 },
 "nbformat": 4,
 "nbformat_minor": 2
}
