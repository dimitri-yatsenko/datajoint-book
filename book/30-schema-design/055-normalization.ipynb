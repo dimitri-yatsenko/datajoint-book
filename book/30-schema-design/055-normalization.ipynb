{
  "cells": [
    {
      "cell_type": "markdown",
      "metadata": {},
      "source": [
        "# Normalization\n",
        "\n",
        "Normalization is a fundamental principle in relational database design that ensures data integrity, eliminates redundancy, and creates maintainable schemas. Understanding normalization helps you design databases that are robust, efficient, and accurately represent your domain.\n"
      ]
    },
    {
      "cell_type": "markdown",
      "metadata": {},
      "source": [
        "## The Purpose of Normalization\n",
        "\n",
        "Normalization addresses several critical problems that arise in poorly designed databases:\n"
      ]
    },
    {
      "cell_type": "markdown",
      "metadata": {},
      "source": [
        "### Problems Solved by Normalization\n",
        "\n",
        "**1. Update Anomalies**\n",
        "```\n",
        "Bad Design: Storing employee department info in every project record\n",
        "┌────────────┬──────────┬────────────┬─────────────┐\n",
        "│ project_id │ emp_name │ dept_name  │ dept_phone  │\n",
        "├────────────┼──────────┼────────────┼─────────────┤\n",
        "│ P1         │ Alice    │ Engineering│ 555-0100    │\n",
        "│ P2         │ Alice    │ Engineering│ 555-0100    │  ← Redundant!\n",
        "│ P3         │ Alice    │ Engineering│ 555-0100    │  ← Redundant!\n",
        "└────────────┴──────────┴────────────┴─────────────┘\n",
        "\n",
        "Problem: If department phone changes, must update multiple rows\n",
        "Risk: Updates might be missed, creating inconsistencies\n",
        "```\n"
      ]
    },
    {
      "cell_type": "markdown",
      "metadata": {},
      "source": [
        "**2. Insertion Anomalies**\n",
        "```\n",
        "Bad Design: Cannot add a department without having projects\n",
        "Problem: Department information only exists in project records\n",
        "Result: Cannot represent departments that have no active projects\n",
        "```\n",
        "\n",
        "**3. Deletion Anomalies**\n",
        "```\n",
        "Bad Design: Deleting last project removes department information\n",
        "Problem: Department data is tied to project existence\n",
        "Result: Lose department records when all projects complete\n",
        "```\n",
        "\n",
        "**4. Data Redundancy**\n",
        "```\n",
        "Bad Design: Same information repeated in multiple rows\n",
        "Problem: Wastes storage space\n",
        "Result: Increases database size unnecessarily\n",
        "```\n"
      ]
    },
    {
      "cell_type": "markdown",
      "metadata": {},
      "source": [
        "### Benefits of Normalization\n",
        "\n",
        "When properly normalized, databases achieve:\n",
        "\n",
        "* **Data Integrity**: Each fact is stored in exactly one place\n",
        "* **Consistency**: Updates propagate correctly without anomalies\n",
        "* **Maintainability**: Changes are localized to specific tables\n",
        "* **Clarity**: Schema structure reflects real-world entities clearly\n",
        "* **Query Correctness**: Relationships are explicitly defined and enforced\n"
      ]
    },
    {
      "cell_type": "markdown",
      "metadata": {},
      "source": [
        "## Classical Normalization: Codd's Normal Forms\n",
        "\n",
        "Edgar F. Codd, the inventor of the relational model, developed a formal theory of normalization based on **functional dependencies** between attributes. His work established a progression of \"normal forms\"—increasingly strict rules for database design [@10.1145/358024.358054].\n"
      ]
    },
    {
      "cell_type": "markdown",
      "metadata": {},
      "source": [
        "### Historical Context\n",
        "\n",
        "Codd introduced normalization in the early 1970s, **before** the Entity-Relationship (ER) model was developed by Peter Chen in 1976. At that time, database design was primarily concerned with:\n",
        "- Mathematical properties of relations (tables)\n",
        "- Functional dependencies between attribute domains\n",
        "- Decomposition of relations to eliminate anomalies\n",
        "\n",
        "The conceptual framework of \"entities\" and \"relationships\" came later, providing a more intuitive way to think about normalization.\n"
      ]
    },
    {
      "cell_type": "markdown",
      "metadata": {},
      "source": [
        "### The Classical Normal Forms\n",
        "\n",
        "Codd and his successors defined a series of normal forms, each addressing specific types of problems:\n"
      ]
    },
    {
      "cell_type": "markdown",
      "metadata": {},
      "source": [
        "#### First Normal Form (1NF)\n",
        "\n",
        "**Rule**: All attributes must contain atomic (indivisible) values—no repeating groups or arrays.\n",
        "\n",
        "**Violation Example**:\n",
        "```\n",
        "┌────────────┬─────────────────────────┐\n",
        "│ student_id │ courses                 │\n",
        "├────────────┼─────────────────────────┤\n",
        "│ 1          │ Math, Physics, Chemistry│  ← NOT atomic!\n",
        "└────────────┴─────────────────────────┘\n",
        "```\n",
        "\n",
        "**Normalized (1NF)**:\n",
        "```\n",
        "┌────────────┬───────────┐\n",
        "│ student_id │ course    │\n",
        "├────────────┼───────────┤\n",
        "│ 1          │ Math      │\n",
        "│ 1          │ Physics   │\n",
        "│ 1          │ Chemistry │\n",
        "└────────────┴───────────┘\n",
        "```\n"
      ]
    },
    {
      "cell_type": "markdown",
      "metadata": {},
      "source": [
        "#### Second Normal Form (2NF)\n",
        "\n",
        "**Rule**: Must be in 1NF, and all non-key attributes must depend on the **entire** primary key (not just part of it).\n",
        "\n",
        "**Violation Example** (composite primary key: student_id, course_id):\n",
        "```\n",
        "┌─────────────┬────────────┬──────────────┬──────────────┐\n",
        "│ *student_id │ *course_id │ student_name │ course_title │\n",
        "├─────────────┼────────────┼──────────────┼──────────────┤\n",
        "│ 1           │ CS101      │ Alice        │ Databases    │\n",
        "│ 1           │ CS102      │ Alice        │ Algorithms   │  ← Alice repeated!\n",
        "└─────────────┴────────────┴──────────────┴──────────────┘\n",
        "\n",
        "Problem: student_name depends only on student_id (part of PK)\n",
        "Problem: course_title depends only on course_id (part of PK)\n",
        "```\n",
        "\n",
        "**Normalized (2NF)**:\n",
        "```\n",
        "Student table:           Course table:           Enrollment table:\n",
        "┌─────────────┬──────┐   ┌────────────┬──────┐   ┌─────────────┬────────────┐\n",
        "│ *student_id │ name │   │ *course_id │ title│   │ *student_id │ *course_id │\n",
        "├─────────────┼──────┤   ├────────────┼──────┤   ├─────────────┼────────────┤\n",
        "│ 1           │ Alice│   │ CS101      │ DB   │   │ 1           │ CS101      │\n",
        "│ 2           │ Bob  │   │ CS102      │ Algo │   │ 1           │ CS102      │\n",
        "└─────────────┴──────┘   └────────────┴──────┘   └─────────────┴────────────┘\n",
        "```\n"
      ]
    },
    {
      "cell_type": "markdown",
      "metadata": {},
      "source": [
        "#### Third Normal Form (3NF)\n",
        "\n",
        "**Rule**: Must be in 2NF, and no non-key attribute depends on another non-key attribute (no transitive dependencies).\n",
        "\n",
        "**Violation Example**:\n",
        "```\n",
        "┌─────────────┬──────┬─────────┬────────────┐\n",
        "│ *student_id │ name │ dept_id │ dept_name  │\n",
        "├─────────────┼──────┼─────────┼────────────┤\n",
        "│ 1           │ Alice│ CS      │ Comp Sci   │\n",
        "│ 2           │ Bob  │ CS      │ Comp Sci   │  ← Dept name repeated!\n",
        "└─────────────┴──────┴─────────┴────────────┘\n",
        "\n",
        "Problem: dept_name depends on dept_id, which depends on student_id\n",
        "This is a transitive dependency: student_id → dept_id → dept_name\n",
        "```\n",
        "\n",
        "**Normalized (3NF)**:\n",
        "```\n",
        "Student table:                    Department table:\n",
        "┌─────────────┬──────┬─────────┐   ┌──────────┬──────────┐\n",
        "│ *student_id │ name │ dept_id │   │ *dept_id │ name     │\n",
        "├─────────────┼──────┼─────────┤   ├──────────┼──────────┤\n",
        "│ 1           │ Alice│ CS      │   │ CS       │ Comp Sci │\n",
        "│ 2           │ Bob  │ CS      │   │ MATH     │ Math     │\n",
        "└─────────────┴──────┴─────────┘   └──────────┴──────────┘\n",
        "```\n"
      ]
    },
    {
      "cell_type": "markdown",
      "metadata": {},
      "source": [
        "### Functional Dependencies\n",
        "\n",
        "The classical normal forms are rooted in the concept of **functional dependencies**:\n",
        "\n",
        "A functional dependency `A → B` means:\n",
        "- \"Attribute A functionally determines attribute B\"\n",
        "- If you know A, you can determine B uniquely\n",
        "- Example: `student_id → student_name` (student ID determines name)\n",
        "\n",
        "**Normalization process**:\n",
        "1. Identify all functional dependencies\n",
        "2. Decompose relations to eliminate:\n",
        "   - Partial dependencies (violate 2NF)\n",
        "   - Transitive dependencies (violate 3NF)\n",
        "3. Each resulting relation contains attributes that depend on the primary key\n",
        "\n",
        "**The famous mnemonic**: \"Every non-key attribute must depend on the key, the whole key, and nothing but the key, so help me Codd!\"\n",
        "\n",
        "This mathematical approach, while rigorous, can be complex and difficult to apply intuitively.\n"
      ]
    },
    {
      "cell_type": "markdown",
      "metadata": {},
      "source": [
        "## DataJoint's Entity-Centric Normalization\n",
        "\n",
        "DataJoint takes a different, more intuitive approach to normalization that emerged after the development of the Entity-Relationship model. Rather than focusing on functional dependencies between attribute domains, DataJoint emphasizes **entities and their attributes**.\n"
      ]
    },
    {
      "cell_type": "markdown",
      "metadata": {},
      "source": [
        "### The DataJoint Normalization Principle\n",
        "\n",
        "> **Every relation (table) must represent a well-defined entity type, and all attributes in that table must describe that entity type directly and only that entity type.**\n",
        "\n",
        "This principle guides schema design, ensuring that each table represents a coherent entity type.\n"
      ]
    },
    {
      "cell_type": "markdown",
      "metadata": {},
      "source": [
        "### What This Means in Practice\n",
        "\n",
        "#### Rule 1: One Entity Type Per Table\n",
        "\n",
        "Each table should represent exactly one class or type of entity:\n"
      ]
    },
    {
      "cell_type": "markdown",
      "metadata": {},
      "source": [
        "**Good (Normalized)**:\n"
      ]
    },
    {
      "cell_type": "code",
      "execution_count": null,
      "metadata": {},
      "outputs": [],
      "source": [
        "@schema\n",
        "class Professor(dj.Manual):\n",
        "    definition = \"\"\"\n",
        "    professor_id : int\n",
        "    ---\n",
        "    name : varchar(100)\n",
        "    hire_date : date\n",
        "    \"\"\"\n",
        "\n",
        "@schema\n",
        "class Office(dj.Manual):\n",
        "    definition = \"\"\"\n",
        "    office_number : varchar(10)\n",
        "    ---\n",
        "    building : varchar(50)\n",
        "    phone : varchar(20)\n",
        "    \"\"\"\n"
      ]
    },
    {
      "cell_type": "markdown",
      "metadata": {},
      "source": [
        "**Bad (Not Normalized)**:\n"
      ]
    },
    {
      "cell_type": "code",
      "execution_count": null,
      "metadata": {},
      "outputs": [],
      "source": [
        "@schema\n",
        "class Professor(dj.Manual):\n",
        "    definition = \"\"\"\n",
        "    professor_id : int\n",
        "    ---\n",
        "    name : varchar(100)\n",
        "    hire_date : date\n",
        "    office_number : varchar(10)   # Describes office, not professor!\n",
        "    office_building : varchar(50)  # Describes office, not professor!\n",
        "    office_phone : varchar(20)     # Describes office, not professor!\n",
        "    \"\"\"\n"
      ]
    },
    {
      "cell_type": "markdown",
      "metadata": {},
      "source": [
        "**Why it's bad**: The office attributes describe the office, not the professor. A professor might change offices, but the office's building and phone don't change. These are properties of the office entity, not the professor entity.\n"
      ]
    },
    {
      "cell_type": "markdown",
      "metadata": {},
      "source": [
        "#### Rule 2: All Attributes Must Describe ONLY That Entity\n",
        "\n",
        "Every attribute in a table should be an intrinsic property of the entity represented by that table's primary key:\n",
        "\n",
        "**Questions to ask**:\n",
        "- Does this attribute describe the entity identified by this row's primary key?\n",
        "- Would this attribute still apply if the entity's relationships changed?\n",
        "- Is this attribute a permanent property of this entity?\n"
      ]
    },
    {
      "cell_type": "markdown",
      "metadata": {},
      "source": [
        "**Example: Customer and Account**\n"
      ]
    },
    {
      "cell_type": "code",
      "execution_count": null,
      "metadata": {},
      "outputs": [],
      "source": [
        "# Good: Attributes describe the customer\n",
        "@schema\n",
        "class Customer(dj.Manual):\n",
        "    definition = \"\"\"\n",
        "    customer_id : int\n",
        "    ---\n",
        "    name : varchar(100)           # Property of customer\n",
        "    date_of_birth : date          # Property of customer\n",
        "    social_security : varchar(11) # Property of customer\n",
        "    \"\"\"\n",
        "\n",
        "# Good: Attributes describe the account\n",
        "@schema\n",
        "class Account(dj.Manual):\n",
        "    definition = \"\"\"\n",
        "    account_number : int\n",
        "    ---\n",
        "    -> Customer\n",
        "    open_date : date              # Property of account\n",
        "    balance : decimal(10,2)       # Property of account\n",
        "    account_type : varchar(20)    # Property of account\n",
        "    \"\"\"\n"
      ]
    },
    {
      "cell_type": "markdown",
      "metadata": {},
      "source": [
        "The foreign key `-> Customer` is not an attribute OF the account—it's a **relationship** between account and customer. The account belongs to a customer, but the customer's identity is not a property of the account itself.\n"
      ]
    },
    {
      "cell_type": "markdown",
      "metadata": {},
      "source": [
        "#### Rule 3: Relationships in Separate Tables When Needed\n",
        "\n",
        "When entities relate to each other, sometimes that relationship itself needs to be represented as a separate entity:\n",
        "\n",
        "**Example: Professor Office Assignment**\n"
      ]
    },
    {
      "cell_type": "code",
      "execution_count": null,
      "metadata": {},
      "outputs": [],
      "source": [
        "@schema\n",
        "class Professor(dj.Manual):\n",
        "    definition = \"\"\"\n",
        "    professor_id : int\n",
        "    ---\n",
        "    name : varchar(100)\n",
        "    hire_date : date\n",
        "    \"\"\"\n",
        "\n",
        "@schema\n",
        "class Office(dj.Manual):\n",
        "    definition = \"\"\"\n",
        "    office_number : varchar(10)\n",
        "    ---\n",
        "    building : varchar(50)\n",
        "    phone : varchar(20)\n",
        "    \"\"\"\n",
        "\n",
        "@schema\n",
        "class ProfessorOfficeAssignment(dj.Manual):\n",
        "    definition = \"\"\"\n",
        "    -> Professor\n",
        "    ---\n",
        "    -> Office\n",
        "    assignment_date : date        # Property of the ASSIGNMENT\n",
        "    \"\"\"\n"
      ]
    },
    {
      "cell_type": "markdown",
      "metadata": {},
      "source": [
        "**Why separate?**:\n",
        "- The assignment is not a property of the professor (professors can change offices)\n",
        "- The assignment is not a property of the office (offices can be reassigned)\n",
        "- The assignment is an entity in itself, with its own properties (assignment_date)\n"
      ]
    },
    {
      "cell_type": "markdown",
      "metadata": {},
      "source": [
        "### Normalization Requires Segregation\n",
        "\n",
        "The process of normalization often requires **breaking a single table into multiple tables**, segregating information into distinct entity types:\n",
        "\n",
        "#### Example: Denormalized Design\n"
      ]
    },
    {
      "cell_type": "code",
      "execution_count": null,
      "metadata": {},
      "outputs": [],
      "source": [
        "# BAD: Mixing customer, account, and transaction data\n",
        "@schema\n",
        "class CustomerAccountTransaction(dj.Manual):\n",
        "    definition = \"\"\"\n",
        "    transaction_id : int\n",
        "    ---\n",
        "    customer_name : varchar(100)      # Customer property\n",
        "    customer_email : varchar(100)     # Customer property\n",
        "    account_number : int              # Account identity\n",
        "    account_type : varchar(20)        # Account property\n",
        "    transaction_amount : decimal(10,2)# Transaction property\n",
        "    transaction_date : date           # Transaction property\n",
        "    \"\"\"\n"
      ]
    },
    {
      "cell_type": "markdown",
      "metadata": {},
      "source": [
        "**Problems**:\n",
        "- Customer info repeated for every transaction (redundancy)\n",
        "- Account info repeated for every transaction (redundancy)\n",
        "- Can't have customers without transactions (insertion anomaly)\n",
        "- Can't have accounts without transactions (insertion anomaly)\n",
        "\n",
        "#### Normalized Design\n"
      ]
    },
    {
      "cell_type": "code",
      "execution_count": null,
      "metadata": {},
      "outputs": [],
      "source": [
        "@schema\n",
        "class Customer(dj.Manual):\n",
        "    definition = \"\"\"\n",
        "    customer_id : int\n",
        "    ---\n",
        "    name : varchar(100)\n",
        "    email : varchar(100)\n",
        "    \"\"\"\n",
        "\n",
        "@schema\n",
        "class Account(dj.Manual):\n",
        "    definition = \"\"\"\n",
        "    account_number : int\n",
        "    ---\n",
        "    -> Customer\n",
        "    account_type : varchar(20)\n",
        "    \"\"\"\n",
        "\n",
        "@schema\n",
        "class Transaction(dj.Manual):\n",
        "    definition = \"\"\"\n",
        "    transaction_id : int\n",
        "    ---\n",
        "    -> Account\n",
        "    amount : decimal(10,2)\n",
        "    transaction_date : date\n",
        "    \"\"\"\n"
      ]
    },
    {
      "cell_type": "markdown",
      "metadata": {},
      "source": [
        "**Benefits**:\n",
        "- Each entity type is separate (Customer, Account, Transaction)\n",
        "- No redundancy (customer info stored once)\n",
        "- Can have customers without accounts, accounts without transactions\n",
        "- Each table contains only attributes of that entity type\n"
      ]
    },
    {
      "cell_type": "markdown",
      "metadata": {},
      "source": [
        "## Comparing Classical and DataJoint Normalization\n",
        "\n",
        "### Classical Approach: Functional Dependencies\n",
        "\n",
        "**Focus**: Mathematical properties of relations\n",
        "**Question**: \"What attributes determine what other attributes?\"\n",
        "**Method**: Identify functional dependencies, decompose to eliminate violations\n"
      ]
    },
    {
      "cell_type": "markdown",
      "metadata": {},
      "source": [
        "**Example analysis**:\n",
        "```\n",
        "Relation: (student_id, course_id, student_name, dept_id, dept_name)\n",
        "\n",
        "Functional dependencies:\n",
        "- student_id → student_name, dept_id\n",
        "- dept_id → dept_name\n",
        "- course_id → (nothing in this relation)\n",
        "\n",
        "Violations:\n",
        "- Partial dependency: student_name depends on part of PK (violates 2NF)\n",
        "- Transitive dependency: student_id → dept_id → dept_name (violates 3NF)\n",
        "\n",
        "Decomposition:\n",
        "- Student(student_id, student_name, dept_id)\n",
        "- Department(dept_id, dept_name)\n",
        "- Enrollment(student_id, course_id)\n",
        "```\n",
        "\n",
        "**Complexity**: Requires formal analysis of all functional dependencies. Can be difficult to apply intuitively.\n"
      ]
    },
    {
      "cell_type": "markdown",
      "metadata": {},
      "source": [
        "### DataJoint Approach: Entity-Centric Normalization\n",
        "\n",
        "**Focus**: Entities and their intrinsic properties\n",
        "**Question**: \"Does each attribute describe the entity identified by this row's primary key?\"\n",
        "**Method**: Design tables so each represents one entity type with only its own attributes\n"
      ]
    },
    {
      "cell_type": "markdown",
      "metadata": {},
      "source": [
        "**Example analysis**:\n",
        "```\n",
        "Ask: What entity types do we have?\n",
        "- Students (identified by student_id)\n",
        "- Departments (identified by dept_id)\n",
        "- Courses (identified by course_id)\n",
        "- Enrollments (relationships between students and courses)\n",
        "\n",
        "Design:\n",
        "- Student table: Contains only student properties\n",
        "- Department table: Contains only department properties\n",
        "- Course table: Contains only course properties\n",
        "- Enrollment table: Relates students to courses\n",
        "```\n",
        "\n",
        "**Simplicity**: Think about entities and what properties belong to them. Much more intuitive than analyzing functional dependencies.\n"
      ]
    },
    {
      "cell_type": "markdown",
      "metadata": {},
      "source": [
        "### The Key Insight\n",
        "\n",
        "Both approaches lead to the same result, but through different reasoning:\n",
        "\n",
        "**Classical normalization**: \"Eliminate functional dependency violations\"\n",
        "**DataJoint normalization**: \"Separate distinct entity types\"\n",
        "\n",
        "DataJoint's approach is easier to understand and apply because it maps directly to how we conceptualize domains: as collections of entities with properties, not as collections of attributes with dependencies.\n"
      ]
    },
    {
      "cell_type": "markdown",
      "metadata": {},
      "source": [
        "## Immutability and Workflow: Core Design Principles\n",
        "\n",
        "DataJoint's normalization philosophy extends beyond avoiding redundancy—it fundamentally shapes how you think about data manipulation and schema evolution. Two principles are central: **immutability of tuples** and **schemas as workflows**.\n"
      ]
    },
    {
      "cell_type": "markdown",
      "metadata": {},
      "source": [
        "### Principle 1: Entities as Immutable Tuples\n",
        "\n",
        "A well-normalized DataJoint schema is designed so that all data manipulations are accomplished through **insert and delete operations only**, without requiring updates to existing rows.\n",
        "\n",
        "#### Rows as Immutable Objects\n",
        "\n",
        "**Concept**: Each row (tuple) in a table represents an immutable entity. Once created, the entity cannot be modified—only created or destroyed.\n",
        "\n",
        "**Operations allowed**:\n",
        "- ✅ **INSERT**: Create a new entity\n",
        "- ✅ **DELETE**: Remove an entity\n",
        "- ❌ **UPDATE**: Modify an existing entity's attributes (avoided)\n"
      ]
    },
    {
      "cell_type": "markdown",
      "metadata": {},
      "source": [
        "**Why immutability?**\n",
        "\n",
        "1. **Referential integrity operates on entire tuples**: Foreign keys establish relationships between complete rows, not individual attributes. When you reference a parent row, you're referencing its entire identity.\n",
        "\n",
        "2. **History preservation**: Immutable records create an audit trail. Instead of updating a value, you delete the old record and insert a new one with the changed value.\n",
        "\n",
        "3. **Consistency with constraints**: All constraints (foreign keys, unique indexes) relate entire tuples. Updates can violate constraints in subtle ways that inserts and deletes handle explicitly.\n",
        "\n",
        "4. **Parallel processing**: Immutable data can be safely read by multiple processes without locks or race conditions.\n"
      ]
    },
    {
      "cell_type": "markdown",
      "metadata": {},
      "source": [
        "#### Example: Mutable vs. Immutable Design\n",
        "\n",
        "**Bad Design (Requires Updates)**:\n"
      ]
    },
    {
      "cell_type": "code",
      "execution_count": null,
      "metadata": {},
      "outputs": [],
      "source": [
        "@schema\n",
        "class Mouse(dj.Manual):\n",
        "    definition = \"\"\"\n",
        "    mouse_id : int\n",
        "    ---\n",
        "    date_of_birth : date\n",
        "    sex : enum('M', 'F')\n",
        "    cage_id : int                 # ✗ Will change over time!\n",
        "    current_weight : decimal(5,2) # ✗ Changes frequently!\n",
        "    \"\"\"\n",
        "\n",
        "# Typical operation: UPDATE mouse SET cage_id = 42 WHERE mouse_id = 1\n",
        "# Problem: Requires modifying existing row\n"
      ]
    },
    {
      "cell_type": "markdown",
      "metadata": {},
      "source": [
        "**Good Design (Insert/Delete Only)**:\n"
      ]
    },
    {
      "cell_type": "code",
      "execution_count": null,
      "metadata": {},
      "outputs": [],
      "source": [
        "@schema\n",
        "class Mouse(dj.Manual):\n",
        "    definition = \"\"\"\n",
        "    mouse_id : int\n",
        "    ---\n",
        "    date_of_birth : date          # ✓ Permanent property\n",
        "    sex : enum('M', 'F')          # ✓ Permanent property\n",
        "    \"\"\"\n",
        "\n",
        "@schema\n",
        "class Cage(dj.Manual):\n",
        "    definition = \"\"\"\n",
        "    cage_id : int\n",
        "    ---\n",
        "    location : varchar(50)        # ✓ Property of cage\n",
        "    size : varchar(20)            # ✓ Property of cage\n",
        "    \"\"\"\n",
        "\n",
        "@schema\n",
        "class CageAssignment(dj.Manual):\n",
        "    definition = \"\"\"\n",
        "    -> Mouse\n",
        "    start_date : date\n",
        "    ---\n",
        "    -> Cage\n",
        "    \"\"\"\n",
        "\n",
        "# Relocating a mouse: DELETE old assignment, INSERT new assignment\n",
        "# Or simply add a new assignment, keeping history of all assignments\n",
        "# No updates needed—immutable records\n"
      ]
    },
    {
      "cell_type": "markdown",
      "metadata": {},
      "source": [
        "#### Why This Works\n",
        "\n",
        "**Foreign keys relate entire tuples**:\n",
        "```python\n",
        "# When CageAssignment references Mouse:\n",
        "-> Mouse\n",
        "\n",
        "# It references the ENTIRE mouse entity (all its attributes together)\n",
        "# Not just mouse_id in isolation\n",
        "# The relationship is to the tuple: (mouse_id, date_of_birth, sex)\n",
        "```\n",
        "\n",
        "**Benefits**:\n",
        "- Foreign key constraints check entire tuple existence\n",
        "- No risk of partial updates breaking references\n",
        "- Relationship semantics are clear: \"this assignment relates to this specific mouse entity\"\n"
      ]
    },
    {
      "cell_type": "markdown",
      "metadata": {},
      "source": [
        "### Principle 2: Schemas as Workflows with Data Dependencies\n",
        "\n",
        "DataJoint views schemas as **directed workflows** where downstream data depends on and is potentially derived from upstream data. This has profound implications for normalization.\n",
        "\n",
        "#### Downstream Data Depends on Upstream Data\n",
        "\n",
        "In a workflow schema:\n",
        "- **Upstream tables**: Independent entities, source data\n",
        "- **Downstream tables**: Derived results, computed values, dependent entities\n",
        "\n",
        "**Critical insight**: Updating a secondary attribute in an upstream table may **invalidate** downstream data that was computed or derived from it.\n"
      ]
    },
    {
      "cell_type": "markdown",
      "metadata": {},
      "source": [
        "#### Example: Data Invalidation\n",
        "\n",
        "```\n",
        "    RawImage                    ← Upstream: source data\n",
        "       ↓\n",
        "   PreprocessedImage            ← Derived from RawImage\n",
        "       ↓\n",
        "   SegmentedCells               ← Derived from PreprocessedImage\n",
        "       ↓\n",
        "   CellActivity                 ← Analyzed from SegmentedCells\n",
        "```\n",
        "\n",
        "**Scenario**: You discover an error in `RawImage` preprocessing parameters\n",
        "\n",
        "**If you UPDATE `RawImage`**:\n",
        "- ✗ All downstream data (`PreprocessedImage`, `SegmentedCells`, `CellActivity`) is now invalid\n",
        "- ✗ No automatic mechanism to detect or fix the inconsistency\n",
        "- ✗ Results may be incorrect, and you might not notice\n",
        "\n",
        "**If you DELETE and INSERT**:\n",
        "- ✓ Foreign key constraint violation: Can't delete `RawImage` while downstream data exists\n",
        "- ✓ Forces you to delete entire pipeline downstream\n",
        "- ✓ Then reinsert and recompute—ensures consistency\n",
        "- ✓ Makes data dependencies explicit and enforceable\n"
      ]
    },
    {
      "cell_type": "markdown",
      "metadata": {},
      "source": [
        "#### Why Updates Are Dangerous in Workflows\n",
        "\n",
        "**Updates bypass referential integrity**:\n"
      ]
    },
    {
      "cell_type": "code",
      "execution_count": null,
      "metadata": {},
      "outputs": [],
      "source": [
        "PreprocessedImage.update1({\"image_id\": 42, \"brightness\": 1.5})\n",
        "\n",
        "# But this image_id = 42 is referenced by downstream tables!\n",
        "# Those downstream results are now based on outdated input\n",
        "# No error raised, no warning given\n"
      ]
    },
    {
      "cell_type": "markdown",
      "metadata": {},
      "source": [
        "**Delete-and-insert makes dependencies explicit**:\n"
      ]
    },
    {
      "cell_type": "code",
      "execution_count": null,
      "metadata": {},
      "outputs": [],
      "source": [
        "# Try to delete\n",
        "Mouse.delete()  # Raises error if CageAssignment references it\n",
        "\n",
        "# Must delete downstream first\n",
        "CageAssignment.delete()  # Delete dependent data\n",
        "Mouse.delete()           # Then delete source\n",
        "\n",
        "# Or use cascade delete (if configured)\n",
        "Mouse.delete_quick()     # Deletes mouse and all dependent data\n"
      ]
    },
    {
      "cell_type": "markdown",
      "metadata": {},
      "source": [
        "### Design Principle: Permanent vs. Changeable Attributes\n",
        "\n",
        "A crucial normalization decision: **What attributes can change over time?**\n",
        "\n",
        "#### The Rule\n",
        "\n",
        "**Separate changeable attributes into their own entity tables**: Associate only **permanent, intrinsic attributes** with each entity.\n",
        "\n",
        "**Permanent attributes**: Properties that are fixed once the entity is created\n",
        "**Changeable attributes**: Properties that may be updated during the entity's lifetime\n"
      ]
    },
    {
      "cell_type": "markdown",
      "metadata": {},
      "source": [
        "#### Example 1: Animal Housing (from Lecture)\n",
        "\n",
        "**Bad Design**:\n"
      ]
    },
    {
      "cell_type": "code",
      "execution_count": null,
      "metadata": {},
      "outputs": [],
      "source": [
        "@schema\n",
        "class Mouse(dj.Manual):\n",
        "    definition = \"\"\"\n",
        "    mouse_id : int\n",
        "    ---\n",
        "    date_of_birth : date          # ✓ Permanent\n",
        "    sex : enum('M', 'F')          # ✓ Permanent\n",
        "    cage_id : int                 # ✗ CHANGEABLE! Mouse can be relocated\n",
        "    \"\"\"\n",
        "\n",
        "# Problem: When mouse is relocated, must UPDATE the mouse table\n",
        "# This modifies the mouse entity, but location is not intrinsic to the mouse\n"
      ]
    },
    {
      "cell_type": "markdown",
      "metadata": {},
      "source": [
        "**Good Design**:\n"
      ]
    },
    {
      "cell_type": "code",
      "execution_count": null,
      "metadata": {},
      "outputs": [],
      "source": [
        "@schema\n",
        "class Mouse(dj.Manual):\n",
        "    definition = \"\"\"\n",
        "    mouse_id : int\n",
        "    ---\n",
        "    date_of_birth : date          # ✓ Permanent property of mouse\n",
        "    sex : enum('M', 'F')          # ✓ Permanent property of mouse\n",
        "    \"\"\"\n",
        "\n",
        "@schema\n",
        "class Cage(dj.Manual):\n",
        "    definition = \"\"\"\n",
        "    cage_id : int\n",
        "    ---\n",
        "    location : varchar(50)        # ✓ Property of cage\n",
        "    capacity : int                # ✓ Property of cage\n",
        "    \"\"\"\n",
        "\n",
        "@schema\n",
        "class CageAssignment(dj.Manual):\n",
        "    definition = \"\"\"\n",
        "    -> Mouse\n",
        "    assignment_date : date        # When assignment started\n",
        "    ---\n",
        "    -> Cage\n",
        "    \"\"\"\n",
        "\n",
        "# Relocating a mouse:\n",
        "# 1. DELETE from CageAssignment WHERE mouse_id = X\n",
        "# 2. INSERT into CageAssignment (mouse_id, cage_id, assignment_date) VALUES (X, Y, today)\n",
        "# No updates—mouse entity remains immutable\n"
      ]
    },
    {
      "cell_type": "markdown",
      "metadata": {},
      "source": [
        "**Why this is better**:\n",
        "- Mouse entity is truly immutable (permanent attributes only)\n",
        "- Cage assignment is a separate entity (the relationship)\n",
        "- History can be preserved (keep old assignments, add new ones)\n",
        "- No updates needed—just insert/delete operations\n",
        "_"
      ]
    },
    {
      "cell_type": "markdown",
      "metadata": {},
      "source": [
        "#### Example 2: Employee Department Assignment\n",
        "\n",
        "**Bad Design**:\n"
      ]
    },
    {
      "cell_type": "code",
      "execution_count": null,
      "metadata": {},
      "outputs": [],
      "source": [
        "@schema\n",
        "class Employee(dj.Manual):\n",
        "    definition = \"\"\"\n",
        "    employee_id : int\n",
        "    ---\n",
        "    name : varchar(100)           # ✓ Permanent (rarely changes)\n",
        "    hire_date : date              # ✓ Permanent\n",
        "    department_id : int           # ✗ CHANGEABLE! Employee can transfer\n",
        "    \"\"\"\n",
        "\n",
        "# Problem: Employee transfers require UPDATE\n",
        "# Modifies the employee entity unnecessarily\n"
      ]
    },
    {
      "cell_type": "markdown",
      "metadata": {},
      "source": [
        "**Good Design**:\n"
      ]
    },
    {
      "cell_type": "code",
      "execution_count": null,
      "metadata": {},
      "outputs": [],
      "source": [
        "@schema\n",
        "class Employee(dj.Manual):\n",
        "    definition = \"\"\"\n",
        "    employee_id : int\n",
        "    ---\n",
        "    name : varchar(100)\n",
        "    hire_date : date\n",
        "    \"\"\"\n",
        "\n",
        "@schema\n",
        "class Department(dj.Manual):\n",
        "    definition = \"\"\"\n",
        "    department_id : int\n",
        "    ---\n",
        "    department_name : varchar(100)\n",
        "    \"\"\"\n",
        "\n",
        "@schema\n",
        "class DepartmentAssignment(dj.Manual):\n",
        "    definition = \"\"\"\n",
        "    -> Employee\n",
        "    assignment_date : date\n",
        "    ---\n",
        "    -> Department\n",
        "    \"\"\"\n",
        "\n",
        "# Employee transfers:\n",
        "# 1. End current assignment (DELETE or add end_date)\n",
        "# 2. Create new assignment (INSERT)\n",
        "# Employee entity never modified\n"
      ]
    },
    {
      "cell_type": "markdown",
      "metadata": {},
      "source": [
        "#### Example 3: Product Pricing\n",
        "\n",
        "**Bad Design**:\n"
      ]
    },
    {
      "cell_type": "code",
      "execution_count": null,
      "metadata": {},
      "outputs": [],
      "source": [
        "@schema\n",
        "class Product(dj.Manual):\n",
        "    definition = \"\"\"\n",
        "    product_id : int\n",
        "    ---\n",
        "    name : varchar(100)           # ✓ Permanent\n",
        "    description : varchar(500)    # ✓ Permanent\n",
        "    current_price : decimal(10,2) # ✗ CHANGEABLE! Prices fluctuate\n",
        "    \"\"\"\n",
        "\n",
        "# Problem: Price changes require UPDATE\n",
        "# Loses price history\n"
      ]
    },
    {
      "cell_type": "markdown",
      "metadata": {},
      "source": [
        "**Good Design**:\n"
      ]
    },
    {
      "cell_type": "code",
      "execution_count": null,
      "metadata": {},
      "outputs": [],
      "source": [
        "@schema\n",
        "class Product(dj.Manual):\n",
        "    definition = \"\"\"\n",
        "    product_id : int\n",
        "    ---\n",
        "    name : varchar(100)           # ✓ Permanent\n",
        "    description : varchar(500)    # ✓ Permanent\n",
        "    \"\"\"\n",
        "\n",
        "@schema\n",
        "class ProductPrice(dj.Manual):\n",
        "    definition = \"\"\"\n",
        "    -> Product\n",
        "    effective_date : date\n",
        "    ---\n",
        "    price : decimal(10,2)         # ✓ Price at this date\n",
        "    \"\"\"\n",
        "\n",
        "# Price changes: INSERT new ProductPrice record\n",
        "# Preserves history, no updates needed\n"
      ]
    },
    {
      "cell_type": "markdown",
      "metadata": {},
      "source": [
        "### The Temporal Evolution Design Rule\n",
        "\n",
        "**Design Rule**: Think about the typical evolution of your data over time. Attributes that change should be modeled as separate entities.\n",
        "\n",
        "**Questions to ask**:\n",
        "1. Will this attribute ever change during the entity's lifetime?\n",
        "2. If it changes, does the entity become \"a different entity\" or just \"the same entity with updated info\"?\n",
        "3. Do I need to preserve history of changes?\n",
        "\n",
        "**Decision tree**:\n",
        "```\n",
        "Is this attribute permanent for the entity's lifetime?\n",
        "│\n",
        "├─ YES ──→ Include in entity table\n",
        "│          Example: Mouse.date_of_birth, Mouse.sex\n",
        "│\n",
        "└─ NO ───→ Create separate association/time-series table\n",
        "           Example: CageAssignment, WeightMeasurement\n",
        "```\n"
      ]
    },
    {
      "cell_type": "markdown",
      "metadata": {},
      "source": [
        "## Normalization in Schema Design\n",
        "\n",
        "When designing a DataJoint schema, apply the normalization principle at each table:\n",
        "\n",
        "### Step 1: Identify Entity Types\n",
        "\n",
        "Ask: \"What are the things (entities) in my domain?\"\n",
        "\n",
        "**Example domain**: University course management\n",
        "- Students\n",
        "- Professors  \n",
        "- Courses\n",
        "- Departments\n",
        "- Enrollments (student taking a course)\n",
        "- Course Offerings (course taught in a specific semester)\n"
      ]
    },
    {
      "cell_type": "markdown",
      "metadata": {},
      "source": [
        "### Step 2: For Each Entity, List Its Intrinsic Properties\n",
        "\n",
        "**Intrinsic properties**: Attributes that describe the entity itself, regardless of its relationships\n"
      ]
    },
    {
      "cell_type": "code",
      "execution_count": null,
      "metadata": {},
      "outputs": [],
      "source": [
        "@schema\n",
        "class Student(dj.Manual):\n",
        "    definition = \"\"\"\n",
        "    student_id : int\n",
        "    ---\n",
        "    name : varchar(100)           # ✓ Property of student\n",
        "    date_of_birth : date          # ✓ Property of student\n",
        "    email : varchar(100)          # ✓ Property of student\n",
        "    # NOT: major_name              ✗ Property of major, not student\n",
        "    # NOT: advisor_name            ✗ Property of professor, not student\n",
        "    \"\"\"\n"
      ]
    },
    {
      "cell_type": "markdown",
      "metadata": {},
      "source": [
        "## The \"Nothing But The Entity\" Rule\n",
        "\n",
        "A helpful way to remember DataJoint's normalization principle:\n",
        "\n",
        "> **\"Each table should contain attributes about the entity, the whole entity, and nothing but the entity.\"**\n",
        "\n",
        "This is a variation of the classical mnemonic \"the key, the whole key, and nothing but the key,\" but focused on entities rather than functional dependencies.\n",
        "\n",
        "**Applied**:\n",
        "- **The entity**: All attributes must describe the entity identified by the primary key\n",
        "- **The whole entity**: Include all relevant intrinsic properties (don't split unnecessarily)\n",
        "- **Nothing but the entity**: Exclude properties of related entities (use foreign keys instead)\n"
      ]
    },
    {
      "cell_type": "markdown",
      "metadata": {},
      "source": [
        "## Summary\n",
        "\n",
        "### Classical Normalization (Codd)\n",
        "- **Foundation**: Functional dependencies between attributes\n",
        "- **Goal**: Eliminate update, insertion, deletion anomalies\n",
        "- **Method**: Decompose relations based on dependency analysis\n",
        "- **Era**: Pre-Entity-Relationship model (early 1970s)\n",
        "- **Focus**: Mathematical properties of relations\n",
        "\n",
        "### DataJoint Normalization\n",
        "- **Foundation**: Entities and their intrinsic properties\n",
        "- **Goal**: Separate distinct entity types, eliminate redundancy\n",
        "- **Method**: Design tables to represent one entity type each\n",
        "- **Era**: Post-ER model (leverages conceptual clarity)\n",
        "- **Focus**: Semantic meaning of entities and relationships\n",
        "- **Key principles**: Immutability of tuples, schemas as workflows, permanent vs. changeable attributes\n"
      ]
    },
    {
      "cell_type": "markdown",
      "metadata": {},
      "source": [
        "### The Unified Principle\n",
        "\n",
        "> **Every table must have a well-defined entity type, and all attributes must describe that entity type directly.**\n",
        "\n",
        "When this principle is followed:\n",
        "- Update anomalies are eliminated (each fact stored once)\n",
        "- Insertion anomalies are eliminated (entities can exist independently)\n",
        "- Deletion anomalies are eliminated (deleting one entity doesn't affect others)\n",
        "- Schema structure is clear (one entity type per table)\n",
        "- Data integrity is maintained through immutable tuples and explicit dependencies\n",
        "\n",
        "### Practical Application\n",
        "\n",
        "When designing or reviewing a schema:\n",
        "\n",
        "1. **For each table, ask**: \"What entity type does this table represent?\"\n",
        "2. **For each attribute, ask**: \"Is this an intrinsic property of that entity?\"\n",
        "3. **If no**: Move the attribute to its proper entity table or create a relationship table\n",
        "\n",
        "This intuitive approach achieves the same rigor as classical normal forms but is much easier to apply in practice, especially in complex scientific and computational workflows.\n"
      ]
    }
  ],
  "metadata": {
    "language_info": {
      "name": "python"
    }
  },
  "nbformat": 4,
  "nbformat_minor": 2
}
