{
  "cells": [
    {
      "cell_type": "markdown",
      "metadata": {},
      "source": [
        "# Relational Databases in Practice\n",
        "\n",
        "## From Theory to Tables\n",
        "\n",
        "The previous chapter introduced relational theory's mathematical foundations: relations as sets of tuples, functional dependencies, and the formal operations of relational algebra. While this mathematical rigor provides the theoretical foundation for database systems, most practitioners don't design databases by analyzing functional dependencies or proving normal form properties.\n",
        "\n",
        "Instead, they use the **Entity-Relationship Model (ERM)**, a practical design methodology that maps domain concepts—the entities and relationships in your problem space—directly to database structures. This chapter shows how ERM works in practice, demonstrates common database operations, and reveals the limitations that motivate DataJoint's workflow-centric approach.\n",
        "\n",
        "We'll work through a concrete example: designing a database for a research lab that conducts experiments, collects measurements, and analyzes results. This scenario will illustrate both the power and the limitations of traditional relational databases for scientific workflows.\n"
      ]
    },
    {
      "cell_type": "markdown",
      "metadata": {},
      "source": [
        "## A Working Example: Research Lab Database\n",
        "\n",
        "### The Domain\n",
        "\n",
        "Consider a neuroscience research lab that studies visual perception. The lab has several researchers who design and conduct experiments. Each experiment involves presenting visual stimuli to animal subjects and recording neural activity. The raw recordings are then analyzed to extract useful information about how neurons respond to different stimuli.\n",
        "\n",
        "This is a typical scientific workflow with several distinct stages:\n",
        "1. **Study Design**: Researchers plan experiments\n",
        "2. **Data Acquisition**: Experiments generate raw recordings\n",
        "3. **Data Processing**: Raw data is analyzed to extract results\n",
        "4. **Interpretation**: Results are interpreted in the context of research questions\n",
        "\n",
        "Let's design a database to support this workflow.\n"
      ]
    },
    {
      "cell_type": "markdown",
      "metadata": {},
      "source": [
        "### Identifying Entities\n",
        "\n",
        "The first step in ERM is identifying the **entities**—the distinct \"things\" in your domain that have independent existence and need to be tracked.\n",
        "\n",
        "In our research lab, we can identify several entities:\n",
        "\n",
        "**Researcher**: People conducting the research\n",
        "- Attributes: researcher_id (unique identifier), name, email, lab_role\n",
        "\n",
        "**AnimalSubject**: The experimental subjects\n",
        "- Attributes: subject_id, species, date_of_birth, sex\n",
        "\n",
        "**Experiment**: A planned experimental session\n",
        "- Attributes: experiment_id, experiment_date, description, protocol\n",
        "\n",
        "**Recording**: Raw data collected during an experiment\n",
        "- Attributes: recording_id, recording_time, file_path, recording_quality\n",
        "\n",
        "**NeuralUnit**: Individual neurons identified in recordings\n",
        "- Attributes: unit_id, spike_rate, receptive_field_size\n"
      ]
    },
    {
      "cell_type": "markdown",
      "metadata": {},
      "source": [
        "### Identifying Relationships\n",
        "\n",
        "Entities don't exist in isolation—they're connected through **relationships** that capture how they interact:\n",
        "\n",
        "- A **Researcher** *conducts* an **Experiment** (one-to-many: one researcher can conduct multiple experiments)\n",
        "- An **AnimalSubject** *participates in* an **Experiment** (one-to-many: one subject can participate in multiple experiments)\n",
        "- An **Experiment** *produces* **Recordings** (one-to-many: one experiment can generate multiple recordings)\n",
        "- A **Recording** *contains* **NeuralUnits** (one-to-many: one recording can contain many identified neurons)\n"
      ]
    },
    {
      "cell_type": "markdown",
      "metadata": {},
      "source": [
        "### Drawing the ER Diagram\n",
        "\n",
        "We can visualize this structure using Crow's Foot notation:\n",
        "\n",
        "```mermaid\n",
        "erDiagram\n",
        "    RESEARCHER ||--o{ EXPERIMENT : conducts\n",
        "    ANIMAL_SUBJECT ||--o{ EXPERIMENT : \"participates-in\"\n",
        "    EXPERIMENT ||--o{ RECORDING : produces\n",
        "    RECORDING ||--o{ NEURAL_UNIT : contains\n",
        "    \n",
        "    RESEARCHER {\n",
        "        int researcher_id PK\n",
        "        string researcher_name\n",
        "        string email\n",
        "        string lab_role\n",
        "    }\n",
        "    \n",
        "    ANIMAL_SUBJECT {\n",
        "        int subject_id PK\n",
        "        string species\n",
        "        date date_of_birth\n",
        "        string sex\n",
        "    }\n",
        "    \n",
        "    EXPERIMENT {\n",
        "        int experiment_id PK\n",
        "        int researcher_id FK\n",
        "        int subject_id FK\n",
        "        date experiment_date\n",
        "        string description\n",
        "        string protocol\n",
        "    }\n",
        "    \n",
        "    RECORDING {\n",
        "        int experiment_id PK, FK\n",
        "        int recording_id PK\n",
        "        datetime recording_time\n",
        "        string file_path\n",
        "        string recording_quality\n",
        "    }\n",
        "    \n",
        "    NEURAL_UNIT {\n",
        "        int experiment_id PK, FK\n",
        "        int recording_id PK, FK        \n",
        "        int unit_id PK\n",
        "        float spike_rate\n",
        "        float receptive_field_size\n",
        "    }\n",
        "```\n",
        "\n",
        "The diagram shows:\n",
        "- **Entities** as rectangles containing their attributes\n",
        "- **Primary keys (PK)**: Unique identifiers for each entity\n",
        "- **Foreign keys (FK)**: References to related entities\n",
        "- **Relationships** as lines with symbols indicating cardinality:\n",
        "  - `||` means \"exactly one\"\n",
        "  - `o{` means \"zero or many\"\n"
      ]
    },
    {
      "cell_type": "markdown",
      "metadata": {},
      "source": [
        "### Translating to SQL Tables\n",
        "\n",
        "The ER diagram translates almost directly to SQL table definitions:\n"
      ]
    },
    {
      "cell_type": "code",
      "execution_count": null,
      "metadata": {
        "vscode": {
          "languageId": "sql"
        }
      },
      "outputs": [],
      "source": [
        "-- Create all tables for the research lab database\n",
        "\n",
        "CREATE TABLE Researcher (\n",
        "    researcher_id INT,\n",
        "    name VARCHAR(100) NOT NULL,\n",
        "    email VARCHAR(100) UNIQUE,\n",
        "    lab_role VARCHAR(50),\n",
        "    PRIMARY KEY(researcher_id)\n",
        ");\n",
        "\n",
        "CREATE TABLE AnimalSubject (\n",
        "    subject_id INT PRIMARY KEY,\n",
        "    species VARCHAR(50) NOT NULL,\n",
        "    date_of_birth DATE,\n",
        "    sex ENUM('M', 'F', 'Unknown')\n",
        ");\n",
        "\n",
        "CREATE TABLE Experiment (\n",
        "    experiment_id INT,\n",
        "    researcher_id INT NOT NULL,\n",
        "    subject_id INT NOT NULL,\n",
        "    experiment_date DATE NOT NULL,\n",
        "    description TEXT,\n",
        "    protocol VARCHAR(100),\n",
        "    PRIMARY KEY (experiment_id),\n",
        "    FOREIGN KEY (researcher_id) REFERENCES Researcher(researcher_id),\n",
        "    FOREIGN KEY (subject_id) REFERENCES AnimalSubject(subject_id)\n",
        ");\n",
        "\n",
        "CREATE TABLE Recording (\n",
        "    experiment_id INT NOT NULL,\n",
        "    recording_id INT NOT NULL,\n",
        "    recording_time DATETIME NOT NULL,\n",
        "    file_path VARCHAR(255) NOT NULL,\n",
        "    recording_quality ENUM('excellent', 'good', 'fair', 'poor'),\n",
        "    PRIMARY KEY (experiment_id, recording_id),\n",
        "    FOREIGN KEY (experiment_id) REFERENCES Experiment(experiment_id)\n",
        ");\n",
        "\n",
        "CREATE TABLE NeuralUnit (\n",
        "    experiment_id INT NOT NULL,\n",
        "    recording_id INT NOT NULL,\n",
        "    unit_id INT NOT NULL,\n",
        "    spike_rate FLOAT NOT NULL,\n",
        "    receptive_field_size FLOAT NOT NULL,\n",
        "    PRIMARY KEY (experiment_id, recording_id, unit_id),\n",
        "    FOREIGN KEY (experiment_id, recording_id) REFERENCES Recording(experiment_id, recording_id)\n",
        ");\n"
      ]
    },
    {
      "cell_type": "markdown",
      "metadata": {},
      "source": [
        "Note the key features:\n",
        "- **PRIMARY KEY**: Ensures each row has a unique identifier\n",
        "- **FOREIGN KEY**: Enforces referential integrity—you can't reference a non-existent entity\n",
        "- **NOT NULL**: Requires certain attributes to have values\n",
        "- **Data types**: Constrain what values can be stored (INT, VARCHAR, DATE, etc.)\n"
      ]
    },
    {
      "cell_type": "markdown",
      "metadata": {},
      "source": [
        "### Populating with Sample Data\n",
        "\n",
        "Let's add some sample data to see the database in action:\n"
      ]
    },
    {
      "cell_type": "code",
      "execution_count": null,
      "metadata": {
        "vscode": {
          "languageId": "sql"
        }
      },
      "outputs": [],
      "source": [
        "-- Add researchers\n",
        "INSERT INTO Researcher (researcher_id, name, email, lab_role) VALUES\n",
        "    (1, 'Dr. Sarah Chen', 'schen@university.edu', 'Principal Investigator'),\n",
        "    (2, 'Alex Martinez', 'amartinez@university.edu', 'Postdoc'),\n",
        "    (3, 'Jamie Park', 'jpark@university.edu', 'Graduate Student');\n",
        "\n",
        "-- Add animal subjects\n",
        "INSERT INTO AnimalSubject (subject_id, species, date_of_birth, sex) VALUES\n",
        "    (1, 'Mouse', '2024-01-15', 'M'),\n",
        "    (2, 'Mouse', '2024-01-20', 'F'),\n",
        "    (3, 'Mouse', '2024-02-03', 'M');\n",
        "\n",
        "-- Add an experiment\n",
        "INSERT INTO Experiment (experiment_id, researcher_id, subject_id, experiment_date, description, protocol) VALUES\n",
        "    (1, 2, 1, '2024-08-15', 'Visual cortex recording during grating stimuli', 'Protocol-V1-001');\n",
        "\n",
        "-- Add recordings from that experiment\n",
        "INSERT INTO Recording (experiment_id, recording_id, recording_time, file_path, recording_quality) VALUES\n",
        "    (1, 1, '2024-08-15 10:30:00', '/data/2024/08/15/rec001.dat', 'excellent'),\n",
        "    (1, 2, '2024-08-15 11:45:00', '/data/2024/08/15/rec002.dat', 'good');\n",
        "\n",
        "-- Add neural units identified in first recording\n",
        "INSERT INTO NeuralUnit (experiment_id, recording_id, unit_id, spike_rate, receptive_field_size) VALUES\n",
        "    (1, 1, 1, 15.3, 2.5),\n",
        "    (1, 1, 2, 8.7, 3.1),\n",
        "    (1, 1, 3, 22.4, 1.8);\n"
      ]
    },
    {
      "cell_type": "markdown",
      "metadata": {},
      "source": [
        "## Common Database Operations\n",
        "\n",
        "Now that we have a populated database, let's explore the fundamental operations you'll use daily.\n"
      ]
    },
    {
      "cell_type": "markdown",
      "metadata": {},
      "source": [
        "### Querying Data: SELECT\n",
        "\n",
        "The most common operation is retrieving data. SQL's `SELECT` statement specifies *what* you want, and the database figures out *how* to get it:\n"
      ]
    },
    {
      "cell_type": "code",
      "execution_count": null,
      "metadata": {
        "vscode": {
          "languageId": "sql"
        }
      },
      "outputs": [],
      "source": [
        "-- Get all researchers\n",
        "SELECT * FROM Researcher;\n",
        "\n",
        "-- Get specific attributes\n",
        "SELECT name, email FROM Researcher WHERE lab_role = 'Graduate Student';\n",
        "\n",
        "-- Count neural units per recording\n",
        "SELECT experiment_id, recording_id, COUNT(*) as unit_count \n",
        "FROM NeuralUnit \n",
        "GROUP BY experiment_id, recording_id;\n",
        "\n",
        "-- Get average spike rate\n",
        "SELECT AVG(spike_rate) as mean_rate, STD(spike_rate) as std_rate\n",
        "FROM NeuralUnit;\n"
      ]
    },
    {
      "cell_type": "markdown",
      "metadata": {},
      "source": [
        "### Joining Tables: Combining Related Data\n",
        "\n",
        "The real power of relational databases emerges when joining related tables:\n"
      ]
    },
    {
      "cell_type": "code",
      "execution_count": null,
      "metadata": {
        "vscode": {
          "languageId": "sql"
        }
      },
      "outputs": [],
      "source": [
        "-- Which researcher conducted each experiment?\n",
        "SELECT experiment_id, experiment_date, researcher_name\n",
        "FROM Experiment JOIN Researcher USING (researcher_id);\n",
        "\n",
        "-- Full experiment details including subject\n",
        "SELECT \n",
        "    experiment_id,\n",
        "    experiment_date,\n",
        "    researcher_name,\n",
        "    species,\n",
        "    sex,\n",
        "    description\n",
        "FROM Experiment JOIN Researcher USING(researcher_id) JOIN AnimalSubject USING(subject_id);\n",
        "\n",
        "-- Count recordings per researcher\n",
        "SELECT \n",
        "    research_id, researcher_name,\n",
        "    COUNT(*) as num_recordings\n",
        "FROM Researcher JOIN Experiment USING(researcher_id) JOIN Recording USING(experiment_id)\n",
        "GROUP BY researcher_id, researcher_name;\n"
      ]
    },
    {
      "cell_type": "markdown",
      "metadata": {},
      "source": [
        "These joins follow the foreign key relationships defined in our schema, ensuring we only combine data that's meaningfully related.\n"
      ]
    },
    {
      "cell_type": "markdown",
      "metadata": {},
      "source": [
        "### Inserting Data: Adding New Records\n",
        "\n",
        "Adding data follows a hierarchical pattern dictated by foreign keys:\n"
      ]
    },
    {
      "cell_type": "code",
      "execution_count": null,
      "metadata": {
        "vscode": {
          "languageId": "sql"
        }
      },
      "outputs": [],
      "source": [
        "-- Must add researcher before experiments they conduct\n",
        "INSERT INTO Researcher (researcher_id, name, email, lab_role) \n",
        "VALUES (4, 'Dr. Maria Rodriguez', 'mrodriguez@university.edu', 'Assistant Professor');\n",
        "\n",
        "-- Must add experiment before its recordings\n",
        "INSERT INTO Experiment (experiment_id, researcher_id, subject_id, experiment_date, description, protocol)\n",
        "VALUES (2, 4, 2, '2024-09-20', 'Orientation selectivity experiment', 'Protocol-V1-002');\n",
        "\n",
        "-- Can only add recording after experiment exists\n",
        "INSERT INTO Recording (experiment_id, recording_id, recording_time, file_path, recording_quality)\n",
        "VALUES (2, 1, '2024-09-20 14:00:00', '/data/2024/09/20/rec001.dat', 'excellent');\n"
      ]
    },
    {
      "cell_type": "markdown",
      "metadata": {},
      "source": [
        "The foreign key constraints enforce this order—you can't reference entities that don't exist yet.\n"
      ]
    },
    {
      "cell_type": "markdown",
      "metadata": {},
      "source": [
        "### Updating Data: Modifying Records\n",
        "\n",
        "SQL allows modifying existing data, but this is where problems begin for scientific workflows:\n"
      ]
    },
    {
      "cell_type": "code",
      "execution_count": null,
      "metadata": {
        "vscode": {
          "languageId": "sql"
        }
      },
      "outputs": [],
      "source": [
        "-- Update a researcher's email\n",
        "UPDATE Researcher \n",
        "SET email = 'sarah.chen@university.edu' \n",
        "WHERE researcher_id = 1;\n",
        "\n",
        "-- Update recording quality assessment\n",
        "UPDATE Recording \n",
        "SET recording_quality = 'fair' \n",
        "WHERE recording_id = 2;\n",
        "\n",
        "-- This is dangerous for derived data!\n",
        "UPDATE NeuralUnit \n",
        "SET spike_rate = 18.5 \n",
        "WHERE unit_id = 1;\n"
      ]
    },
    {
      "cell_type": "markdown",
      "metadata": {},
      "source": [
        "The last example reveals a fundamental problem: if we update a derived result (spike rate computed from the raw recording), we've broken the connection between the result and its source data. There's no automatic recomputation, no tracking of why the value changed, no provenance.\n"
      ]
    },
    {
      "cell_type": "markdown",
      "metadata": {},
      "source": [
        "### Deleting Data: Removing Records\n",
        "\n",
        "Deletion propagates through foreign keys when `ON DELETE CASCADE` is specified:\n"
      ]
    },
    {
      "cell_type": "code",
      "execution_count": null,
      "metadata": {
        "vscode": {
          "languageId": "sql"
        }
      },
      "outputs": [],
      "source": [
        "-- Delete a recording (will cascade to NeuralUnits)\n",
        "DELETE FROM Recording WHERE recording_id = 2;\n",
        "\n",
        "-- This removes the recording AND all neural units from that recording\n",
        "-- But what if those neural units were inputs to other analyses?\n"
      ]
    },
    {
      "cell_type": "markdown",
      "metadata": {},
      "source": [
        "The database maintains *referential integrity* (no orphaned records) but not *computational validity* (no guarantee that dependent computations are updated).\n"
      ]
    },
    {
      "cell_type": "markdown",
      "metadata": {},
      "source": [
        "## The Traditional Workflow Problem\n",
        "\n",
        "Let's work through a concrete scenario that exposes the limitations of traditional relational databases for scientific workflows.\n"
      ]
    },
    {
      "cell_type": "markdown",
      "metadata": {},
      "source": [
        "### Scenario: Quality Control Issue\n",
        "\n",
        "Suppose we discover that Recording #1 had a technical problem—the amplifier gain was set incorrectly, causing all spike rates to be measured at half their true values. We need to correct this.\n",
        "\n",
        "**Step 1**: We update the raw recording quality:\n"
      ]
    },
    {
      "cell_type": "code",
      "execution_count": null,
      "metadata": {
        "vscode": {
          "languageId": "sql"
        }
      },
      "outputs": [],
      "source": [
        "UPDATE Recording \n",
        "SET recording_quality = 'poor',\n",
        "    file_path = '/data/2024/08/15/rec001_corrected.dat'\n",
        "WHERE recording_id = 1;\n"
      ]
    },
    {
      "cell_type": "markdown",
      "metadata": {},
      "source": [
        "**Step 2**: We need to recompute spike rates. But how do we know which ones?\n"
      ]
    },
    {
      "cell_type": "code",
      "execution_count": null,
      "metadata": {
        "vscode": {
          "languageId": "sql"
        }
      },
      "outputs": [],
      "source": [
        "-- We must manually identify affected neural units\n",
        "SELECT * FROM NeuralUnit WHERE recording_id = 1;\n",
        "\n",
        "-- Then manually update each one\n",
        "UPDATE NeuralUnit SET spike_rate = spike_rate * 2.0 WHERE recording_id = 1;\n"
      ]
    },
    {
      "cell_type": "markdown",
      "metadata": {
        "vscode": {
          "languageId": "sql"
        }
      },
      "source": [
        "# How DataJoint is Different\n",
        "\n",
        "DataJoint solves the same problem as traditional relational databases, but it does so in a way that is more consistent with scientific workflows.\n",
        "\n",
        "Let's consider the same scenario in DataJoint."
      ]
    },
    {
      "cell_type": "code",
      "execution_count": 15,
      "metadata": {},
      "outputs": [
        {
          "data": {
            "image/svg+xml": [
              "<svg xmlns=\"http://www.w3.org/2000/svg\" xmlns:xlink=\"http://www.w3.org/1999/xlink\" width=\"212pt\" height=\"256pt\" viewBox=\"0.00 0.00 212.00 256.00\">\n",
              "<g id=\"graph0\" class=\"graph\" transform=\"scale(1 1) rotate(0) translate(4 252)\">\n",
              "<polygon fill=\"white\" stroke=\"transparent\" points=\"-4,4 -4,-252 208,-252 208,4 -4,4\"/>\n",
              "<!-- AnimalSubject -->\n",
              "<g id=\"node1\" class=\"node\">\n",
              "<title>AnimalSubject</title>\n",
              "<g id=\"a_node1\"><a xlink:title=\"subject_id           &#13;------------------------------&#13;species              &#13;date_of_birth        &#13;sex                  &#13;\">\n",
              "<polygon fill=\"#00ff00\" fill-opacity=\"0.188235\" stroke=\"#00ff00\" stroke-opacity=\"0.188235\" points=\"102,-248 0,-248 0,-213 102,-213 102,-248\"/>\n",
              "<text text-anchor=\"start\" x=\"8\" y=\"-228.4\" font-family=\"arial\" text-decoration=\"underline\" font-size=\"12.00\" fill=\"darkgreen\">AnimalSubject</text>\n",
              "</a>\n",
              "</g>\n",
              "</g>\n",
              "<!-- Experiment -->\n",
              "<g id=\"node2\" class=\"node\">\n",
              "<title>Experiment</title>\n",
              "<g id=\"a_node2\"><a xlink:title=\"experiment_id        &#13;------------------------------&#13;→ Researcher&#13;→ AnimalSubject&#13;experiment_date      &#13;description          &#13;protocol             &#13;\">\n",
              "<polygon fill=\"#00ff00\" fill-opacity=\"0.188235\" stroke=\"#00ff00\" stroke-opacity=\"0.188235\" points=\"149,-177 63,-177 63,-142 149,-142 149,-177\"/>\n",
              "<text text-anchor=\"start\" x=\"71\" y=\"-157.4\" font-family=\"arial\" text-decoration=\"underline\" font-size=\"12.00\" fill=\"darkgreen\">Experiment</text>\n",
              "</a>\n",
              "</g>\n",
              "</g>\n",
              "<!-- AnimalSubject&#45;&gt;Experiment -->\n",
              "<g id=\"edge1\" class=\"edge\">\n",
              "<title>AnimalSubject-&gt;Experiment</title>\n",
              "<path fill=\"none\" stroke=\"#000000\" stroke-width=\"0.75\" stroke-dasharray=\"5,2\" stroke-opacity=\"0.250980\" d=\"M64.31,-212.8C72.96,-201.95 84.19,-187.87 92.81,-177.05\"/>\n",
              "</g>\n",
              "<!-- Recording -->\n",
              "<g id=\"node4\" class=\"node\">\n",
              "<title>Recording</title>\n",
              "<g id=\"a_node4\"><a xlink:title=\"→ Experiment&#13;recording_id         &#13;------------------------------&#13;recording_time       &#13;file_path            &#13;recording_quality    &#13;\">\n",
              "<polygon fill=\"#00ff00\" fill-opacity=\"0.188235\" stroke=\"#00ff00\" stroke-opacity=\"0.188235\" points=\"144,-106 68,-106 68,-71 144,-71 144,-106\"/>\n",
              "<text text-anchor=\"start\" x=\"76\" y=\"-86.4\" font-family=\"arial\" text-decoration=\"underline\" font-size=\"12.00\" fill=\"darkgreen\">Recording</text>\n",
              "</a>\n",
              "</g>\n",
              "</g>\n",
              "<!-- Experiment&#45;&gt;Recording -->\n",
              "<g id=\"edge2\" class=\"edge\">\n",
              "<title>Experiment-&gt;Recording</title>\n",
              "<path fill=\"none\" stroke=\"#000000\" stroke-width=\"0.75\" stroke-opacity=\"0.250980\" d=\"M106,-141.8C106,-130.95 106,-116.87 106,-106.05\"/>\n",
              "</g>\n",
              "<!-- NeuralUnit -->\n",
              "<g id=\"node3\" class=\"node\">\n",
              "<title>NeuralUnit</title>\n",
              "<g id=\"a_node3\"><a xlink:title=\"→ Recording&#13;unit_id              &#13;------------------------------&#13;spike_rate           &#13;receptive_field_size &#13;\">\n",
              "<polygon fill=\"#00ff00\" fill-opacity=\"0.188235\" stroke=\"#00ff00\" stroke-opacity=\"0.188235\" points=\"146,-35 66,-35 66,0 146,0 146,-35\"/>\n",
              "<text text-anchor=\"start\" x=\"74\" y=\"-15.4\" font-family=\"arial\" text-decoration=\"underline\" font-size=\"12.00\" fill=\"darkgreen\">NeuralUnit</text>\n",
              "</a>\n",
              "</g>\n",
              "</g>\n",
              "<!-- Recording&#45;&gt;NeuralUnit -->\n",
              "<g id=\"edge3\" class=\"edge\">\n",
              "<title>Recording-&gt;NeuralUnit</title>\n",
              "<path fill=\"none\" stroke=\"#000000\" stroke-width=\"0.75\" stroke-opacity=\"0.250980\" d=\"M106,-70.8C106,-59.95 106,-45.87 106,-35.05\"/>\n",
              "</g>\n",
              "<!-- Researcher -->\n",
              "<g id=\"node5\" class=\"node\">\n",
              "<title>Researcher</title>\n",
              "<g id=\"a_node5\"><a xlink:title=\"researcher_id        &#13;------------------------------&#13;researcher_name      &#13;email                &#13;lab_role             &#13;\">\n",
              "<polygon fill=\"#00ff00\" fill-opacity=\"0.188235\" stroke=\"#00ff00\" stroke-opacity=\"0.188235\" points=\"204,-248 120,-248 120,-213 204,-213 204,-248\"/>\n",
              "<text text-anchor=\"start\" x=\"128\" y=\"-228.4\" font-family=\"arial\" text-decoration=\"underline\" font-size=\"12.00\" fill=\"darkgreen\">Researcher</text>\n",
              "</a>\n",
              "</g>\n",
              "</g>\n",
              "<!-- Researcher&#45;&gt;Experiment -->\n",
              "<g id=\"edge4\" class=\"edge\">\n",
              "<title>Researcher-&gt;Experiment</title>\n",
              "<path fill=\"none\" stroke=\"#000000\" stroke-width=\"0.75\" stroke-dasharray=\"5,2\" stroke-opacity=\"0.250980\" d=\"M148.44,-212.8C139.64,-201.95 128.21,-187.87 119.43,-177.05\"/>\n",
              "</g>\n",
              "</g>\n",
              "</svg>"
            ],
            "text/plain": [
              "<datajoint.diagram.Diagram at 0xffff5eb1b250>"
            ]
          },
          "execution_count": 15,
          "metadata": {},
          "output_type": "execute_result"
        }
      ],
      "source": [
        "import datajoint as dj\n",
        "\n",
        "schema = dj.Schema('research_lab')\n",
        "\n",
        "@schema\n",
        "class Researcher(dj.Manual):\n",
        "    definition = \"\"\"\n",
        "    researcher_id: int\n",
        "    ---\n",
        "    researcher_name: varchar(100)\n",
        "    email: varchar(100)\n",
        "    lab_role: varchar(50)\n",
        "    \"\"\"\n",
        "\n",
        "@schema\n",
        "class AnimalSubject(dj.Manual):\n",
        "    definition = \"\"\"\n",
        "    subject_id: int\n",
        "    ---\n",
        "    species: varchar(50)\n",
        "    date_of_birth: date\n",
        "    sex: enum('M', 'F', 'Unknown')\n",
        "    \"\"\"\n",
        "\n",
        "@schema\n",
        "class Experiment(dj.Manual):\n",
        "    definition = \"\"\"\n",
        "    experiment_id: int\n",
        "    ---\n",
        "    -> Researcher\n",
        "    -> AnimalSubject\n",
        "    experiment_date: date\n",
        "    description: varchar(255)\n",
        "    protocol: varchar(100)\n",
        "    \"\"\"\n",
        "\n",
        "@schema\n",
        "class Recording(dj.Manual):\n",
        "    definition = \"\"\"\n",
        "    -> Experiment\n",
        "    recording_id: int\n",
        "    ---\n",
        "    recording_time: datetime\n",
        "    file_path: varchar(255)\n",
        "    recording_quality: enum('excellent', 'good', 'fair', 'poor')\n",
        "    \"\"\"\n",
        "\n",
        "@schema\n",
        "class NeuralUnit(dj.Manual):\n",
        "    definition = \"\"\"\n",
        "    -> Recording\n",
        "    unit_id: int\n",
        "    ---\n",
        "    spike_rate: float\n",
        "    receptive_field_size: float\n",
        "    \"\"\"\n",
        "\n",
        "dj.Diagram(schema)\n"
      ]
    },
    {
      "cell_type": "markdown",
      "metadata": {},
      "source": [
        "### Populating with Sample Data in DataJoint\n",
        "\n",
        "Now let's insert the same sample data using DataJoint. Notice how the syntax is Python-native and follows the same hierarchical order:\n"
      ]
    },
    {
      "cell_type": "code",
      "execution_count": 16,
      "metadata": {},
      "outputs": [],
      "source": [
        "# Add researchers\n",
        "Researcher.insert([\n",
        "    (1, 'Dr. Sarah Chen', 'schen@university.edu', 'Principal Investigator'),\n",
        "    (2, 'Alex Martinez', 'amartinez@university.edu', 'Postdoc'),\n",
        "    (3, 'Jamie Park', 'jpark@university.edu', 'Graduate Student'),\n",
        "])\n",
        "\n",
        "# Add animal subjects\n",
        "AnimalSubject.insert([\n",
        "    dict(subject_id=1, species='Mouse', date_of_birth='2024-01-15', sex='M'),\n",
        "    dict(subject_id=2, species='Mouse', date_of_birth='2024-01-20', sex='F'),\n",
        "    dict(subject_id=3, species='Mouse', date_of_birth='2024-02-03', sex='M'),\n",
        "])\n",
        "\n",
        "# Add an experiment\n",
        "Experiment.insert1(dict(\n",
        "    experiment_id=1,\n",
        "    researcher_id=2,\n",
        "    subject_id=1,\n",
        "    experiment_date='2024-08-15',\n",
        "    description='Visual cortex recording during grating stimuli',\n",
        "    protocol='Protocol-V1-001'\n",
        "))\n",
        "\n",
        "# Add recordings from that experiment\n",
        "Recording.insert([\n",
        "    dict(\n",
        "        experiment_id=1,\n",
        "        recording_id=1,\n",
        "        recording_time='2024-08-15 10:30:00',\n",
        "        file_path='/data/2024/08/15/rec001.dat',\n",
        "        recording_quality='excellent'\n",
        "    ),\n",
        "    dict(\n",
        "        experiment_id=1,\n",
        "        recording_id=2,\n",
        "        recording_time='2024-08-15 11:45:00',\n",
        "        file_path='/data/2024/08/15/rec002.dat',\n",
        "        recording_quality='good'\n",
        "    ),\n",
        "])\n",
        "\n",
        "# Add neural units identified in first recording\n",
        "NeuralUnit.insert([\n",
        "    dict(experiment_id=1, recording_id=1, unit_id=1, spike_rate=15.3, receptive_field_size=2.5),\n",
        "    dict(experiment_id=1, recording_id=1, unit_id=2, spike_rate=8.7, receptive_field_size=3.1),\n",
        "    dict(experiment_id=1, recording_id=1, unit_id=3, spike_rate=22.4, receptive_field_size=1.8),\n",
        "])\n"
      ]
    },
    {
      "cell_type": "markdown",
      "metadata": {},
      "source": [
        "Notice how DataJoint:\n",
        "- Uses Python dictionaries for data entry (more readable and type-safe than SQL strings)\n",
        "- Uses `insert()` for multiple records and `insert1()` for single records\n",
        "- Still enforces the same foreign key constraints—try inserting an Experiment with a non-existent researcher_id and see what happens!\n",
        "- The relationship syntax `-> Researcher` automatically creates the foreign key constraint\n",
        "\n",
        "Let's verify the data was inserted correctly:\n"
      ]
    },
    {
      "cell_type": "markdown",
      "metadata": {},
      "source": [
        "### Querying Data in DataJoint\n",
        "\n",
        "Now let's perform the same queries as the SQL examples. DataJoint provides a Python-native query syntax that is more intuitive and type-safe:\n"
      ]
    },
    {
      "cell_type": "markdown",
      "metadata": {},
      "source": [
        "#### Basic SELECT Queries\n",
        "\n",
        "These match the SQL SELECT examples:\n"
      ]
    },
    {
      "cell_type": "code",
      "execution_count": 13,
      "metadata": {},
      "outputs": [
        {
          "data": {
            "text/html": [
              "\n",
              "    \n",
              "    <style type=\"text/css\">\n",
              "        .Table{\n",
              "            border-collapse:collapse;\n",
              "        }\n",
              "        .Table th{\n",
              "            background: #A0A0A0; color: #ffffff; padding:4px; border:#f0e0e0 1px solid;\n",
              "            font-weight: normal; font-family: monospace; font-size: 100%;\n",
              "        }\n",
              "        .Table td{\n",
              "            padding:4px; border:#f0e0e0 1px solid; font-size:100%;\n",
              "        }\n",
              "        .Table tr:nth-child(odd){\n",
              "            background: #ffffff;\n",
              "            color: #000000;\n",
              "        }\n",
              "        .Table tr:nth-child(even){\n",
              "            background: #f3f1ff;\n",
              "            color: #000000;\n",
              "        }\n",
              "        /* Tooltip container */\n",
              "        .djtooltip {\n",
              "        }\n",
              "        /* Tooltip text */\n",
              "        .djtooltip .djtooltiptext {\n",
              "            visibility: hidden;\n",
              "            width: 120px;\n",
              "            background-color: black;\n",
              "            color: #fff;\n",
              "            text-align: center;\n",
              "            padding: 5px 0;\n",
              "            border-radius: 6px;\n",
              "            /* Position the tooltip text - see examples below! */\n",
              "            position: absolute;\n",
              "            z-index: 1;\n",
              "        }\n",
              "        #primary {\n",
              "            font-weight: bold;\n",
              "            color: black;\n",
              "        }\n",
              "        #nonprimary {\n",
              "            font-weight: normal;\n",
              "            color: white;\n",
              "        }\n",
              "\n",
              "        /* Show the tooltip text when you mouse over the tooltip container */\n",
              "        .djtooltip:hover .djtooltiptext {\n",
              "            visibility: visible;\n",
              "        }\n",
              "    </style>\n",
              "    \n",
              "    <b></b>\n",
              "        <div style=\"max-height:1000px;max-width:1500px;overflow:auto;\">\n",
              "        <table border=\"1\" class=\"Table\">\n",
              "            <thead> <tr style=\"text-align: right;\"> <th> <div class=\"djtooltip\">\n",
              "                            <p id=\"primary\">researcher_id</p>\n",
              "                            <span class=\"djtooltiptext\"></span>\n",
              "                        </div></th><th><div class=\"djtooltip\">\n",
              "                            <p id=\"nonprimary\">name</p>\n",
              "                            <span class=\"djtooltiptext\"></span>\n",
              "                        </div></th><th><div class=\"djtooltip\">\n",
              "                            <p id=\"nonprimary\">email</p>\n",
              "                            <span class=\"djtooltiptext\"></span>\n",
              "                        </div></th><th><div class=\"djtooltip\">\n",
              "                            <p id=\"nonprimary\">lab_role</p>\n",
              "                            <span class=\"djtooltiptext\"></span>\n",
              "                        </div> </th> </tr> </thead>\n",
              "            <tbody> <tr> <td>1</td>\n",
              "<td>Dr. Sarah Chen</td>\n",
              "<td>schen@university.edu</td>\n",
              "<td>Principal Investigator</td></tr><tr><td>2</td>\n",
              "<td>Alex Martinez</td>\n",
              "<td>amartinez@university.edu</td>\n",
              "<td>Postdoc</td></tr><tr><td>3</td>\n",
              "<td>Jamie Park</td>\n",
              "<td>jpark@university.edu</td>\n",
              "<td>Graduate Student</td> </tr> </tbody>\n",
              "        </table>\n",
              "        \n",
              "        <p>Total: 3</p></div>\n",
              "        "
            ],
            "text/plain": [
              "*researcher_id name           email          lab_role      \n",
              "+------------+ +------------+ +------------+ +------------+\n",
              "1              Dr. Sarah Chen schen@universi Principal Inve\n",
              "2              Alex Martinez  amartinez@univ Postdoc       \n",
              "3              Jamie Park     jpark@universi Graduate Stude\n",
              " (Total: 3)"
            ]
          },
          "execution_count": 13,
          "metadata": {},
          "output_type": "execute_result"
        }
      ],
      "source": [
        "# Get all researchers (equivalent to SELECT * FROM Researcher)\n",
        "Researcher()"
      ]
    },
    {
      "cell_type": "code",
      "execution_count": 17,
      "metadata": {},
      "outputs": [
        {
          "data": {
            "text/html": [
              "\n",
              "    \n",
              "    <style type=\"text/css\">\n",
              "        .Table{\n",
              "            border-collapse:collapse;\n",
              "        }\n",
              "        .Table th{\n",
              "            background: #A0A0A0; color: #ffffff; padding:4px; border:#f0e0e0 1px solid;\n",
              "            font-weight: normal; font-family: monospace; font-size: 100%;\n",
              "        }\n",
              "        .Table td{\n",
              "            padding:4px; border:#f0e0e0 1px solid; font-size:100%;\n",
              "        }\n",
              "        .Table tr:nth-child(odd){\n",
              "            background: #ffffff;\n",
              "            color: #000000;\n",
              "        }\n",
              "        .Table tr:nth-child(even){\n",
              "            background: #f3f1ff;\n",
              "            color: #000000;\n",
              "        }\n",
              "        /* Tooltip container */\n",
              "        .djtooltip {\n",
              "        }\n",
              "        /* Tooltip text */\n",
              "        .djtooltip .djtooltiptext {\n",
              "            visibility: hidden;\n",
              "            width: 120px;\n",
              "            background-color: black;\n",
              "            color: #fff;\n",
              "            text-align: center;\n",
              "            padding: 5px 0;\n",
              "            border-radius: 6px;\n",
              "            /* Position the tooltip text - see examples below! */\n",
              "            position: absolute;\n",
              "            z-index: 1;\n",
              "        }\n",
              "        #primary {\n",
              "            font-weight: bold;\n",
              "            color: black;\n",
              "        }\n",
              "        #nonprimary {\n",
              "            font-weight: normal;\n",
              "            color: white;\n",
              "        }\n",
              "\n",
              "        /* Show the tooltip text when you mouse over the tooltip container */\n",
              "        .djtooltip:hover .djtooltiptext {\n",
              "            visibility: visible;\n",
              "        }\n",
              "    </style>\n",
              "    \n",
              "    \n",
              "        <div style=\"max-height:1000px;max-width:1500px;overflow:auto;\">\n",
              "        <table border=\"1\" class=\"Table\">\n",
              "            <thead> <tr style=\"text-align: right;\"> <th> <div class=\"djtooltip\">\n",
              "                            <p id=\"primary\">researcher_id</p>\n",
              "                            <span class=\"djtooltiptext\"></span>\n",
              "                        </div></th><th><div class=\"djtooltip\">\n",
              "                            <p id=\"nonprimary\">researcher_name</p>\n",
              "                            <span class=\"djtooltiptext\"></span>\n",
              "                        </div></th><th><div class=\"djtooltip\">\n",
              "                            <p id=\"nonprimary\">email</p>\n",
              "                            <span class=\"djtooltiptext\"></span>\n",
              "                        </div> </th> </tr> </thead>\n",
              "            <tbody> <tr> <td>3</td>\n",
              "<td>Jamie Park</td>\n",
              "<td>jpark@university.edu</td> </tr> </tbody>\n",
              "        </table>\n",
              "        \n",
              "        <p>Total: 1</p></div>\n",
              "        "
            ],
            "text/plain": [
              "*researcher_id researcher_nam email         \n",
              "+------------+ +------------+ +------------+\n",
              "3              Jamie Park     jpark@universi\n",
              " (Total: 1)"
            ]
          },
          "execution_count": 17,
          "metadata": {},
          "output_type": "execute_result"
        }
      ],
      "source": [
        "# Get specific attributes (equivalent to SELECT name, email FROM Researcher WHERE lab_role = 'Graduate Student')\n",
        "(Researcher & {'lab_role': 'Graduate Student'}).proj('researcher_name', 'email')"
      ]
    },
    {
      "cell_type": "code",
      "execution_count": 19,
      "metadata": {},
      "outputs": [
        {
          "data": {
            "text/html": [
              "\n",
              "    \n",
              "    <style type=\"text/css\">\n",
              "        .Table{\n",
              "            border-collapse:collapse;\n",
              "        }\n",
              "        .Table th{\n",
              "            background: #A0A0A0; color: #ffffff; padding:4px; border:#f0e0e0 1px solid;\n",
              "            font-weight: normal; font-family: monospace; font-size: 100%;\n",
              "        }\n",
              "        .Table td{\n",
              "            padding:4px; border:#f0e0e0 1px solid; font-size:100%;\n",
              "        }\n",
              "        .Table tr:nth-child(odd){\n",
              "            background: #ffffff;\n",
              "            color: #000000;\n",
              "        }\n",
              "        .Table tr:nth-child(even){\n",
              "            background: #f3f1ff;\n",
              "            color: #000000;\n",
              "        }\n",
              "        /* Tooltip container */\n",
              "        .djtooltip {\n",
              "        }\n",
              "        /* Tooltip text */\n",
              "        .djtooltip .djtooltiptext {\n",
              "            visibility: hidden;\n",
              "            width: 120px;\n",
              "            background-color: black;\n",
              "            color: #fff;\n",
              "            text-align: center;\n",
              "            padding: 5px 0;\n",
              "            border-radius: 6px;\n",
              "            /* Position the tooltip text - see examples below! */\n",
              "            position: absolute;\n",
              "            z-index: 1;\n",
              "        }\n",
              "        #primary {\n",
              "            font-weight: bold;\n",
              "            color: black;\n",
              "        }\n",
              "        #nonprimary {\n",
              "            font-weight: normal;\n",
              "            color: white;\n",
              "        }\n",
              "\n",
              "        /* Show the tooltip text when you mouse over the tooltip container */\n",
              "        .djtooltip:hover .djtooltiptext {\n",
              "            visibility: visible;\n",
              "        }\n",
              "    </style>\n",
              "    \n",
              "    \n",
              "        <div style=\"max-height:1000px;max-width:1500px;overflow:auto;\">\n",
              "        <table border=\"1\" class=\"Table\">\n",
              "            <thead> <tr style=\"text-align: right;\"> <th> <div class=\"djtooltip\">\n",
              "                            <p id=\"primary\">experiment_id</p>\n",
              "                            <span class=\"djtooltiptext\"></span>\n",
              "                        </div></th><th><div class=\"djtooltip\">\n",
              "                            <p id=\"primary\">recording_id</p>\n",
              "                            <span class=\"djtooltiptext\"></span>\n",
              "                        </div></th><th><div class=\"djtooltip\">\n",
              "                            <p id=\"nonprimary\">n</p>\n",
              "                            <span class=\"djtooltiptext\">calculated attribute</span>\n",
              "                        </div> </th> </tr> </thead>\n",
              "            <tbody> <tr> <td>1</td>\n",
              "<td>1</td>\n",
              "<td>3</td> </tr> </tbody>\n",
              "        </table>\n",
              "        \n",
              "        <p>Total: 1</p></div>\n",
              "        "
            ],
            "text/plain": [
              "*experiment_id *recording_id  n    \n",
              "+------------+ +------------+ +---+\n",
              "1              1              3    \n",
              " (Total: 1)"
            ]
          },
          "execution_count": 19,
          "metadata": {},
          "output_type": "execute_result"
        }
      ],
      "source": [
        "\n",
        "# Count neural units per recording (equivalent to SELECT experiment_id, recording_id, COUNT(*) as unit_count \n",
        "#                                   FROM NeuralUnit GROUP BY experiment_id, recording_id)\n",
        "Recording.aggr(NeuralUnit, n='count(*)')"
      ]
    },
    {
      "cell_type": "code",
      "execution_count": 23,
      "metadata": {},
      "outputs": [
        {
          "data": {
            "text/html": [
              "\n",
              "    \n",
              "    <style type=\"text/css\">\n",
              "        .Table{\n",
              "            border-collapse:collapse;\n",
              "        }\n",
              "        .Table th{\n",
              "            background: #A0A0A0; color: #ffffff; padding:4px; border:#f0e0e0 1px solid;\n",
              "            font-weight: normal; font-family: monospace; font-size: 100%;\n",
              "        }\n",
              "        .Table td{\n",
              "            padding:4px; border:#f0e0e0 1px solid; font-size:100%;\n",
              "        }\n",
              "        .Table tr:nth-child(odd){\n",
              "            background: #ffffff;\n",
              "            color: #000000;\n",
              "        }\n",
              "        .Table tr:nth-child(even){\n",
              "            background: #f3f1ff;\n",
              "            color: #000000;\n",
              "        }\n",
              "        /* Tooltip container */\n",
              "        .djtooltip {\n",
              "        }\n",
              "        /* Tooltip text */\n",
              "        .djtooltip .djtooltiptext {\n",
              "            visibility: hidden;\n",
              "            width: 120px;\n",
              "            background-color: black;\n",
              "            color: #fff;\n",
              "            text-align: center;\n",
              "            padding: 5px 0;\n",
              "            border-radius: 6px;\n",
              "            /* Position the tooltip text - see examples below! */\n",
              "            position: absolute;\n",
              "            z-index: 1;\n",
              "        }\n",
              "        #primary {\n",
              "            font-weight: bold;\n",
              "            color: black;\n",
              "        }\n",
              "        #nonprimary {\n",
              "            font-weight: normal;\n",
              "            color: white;\n",
              "        }\n",
              "\n",
              "        /* Show the tooltip text when you mouse over the tooltip container */\n",
              "        .djtooltip:hover .djtooltiptext {\n",
              "            visibility: visible;\n",
              "        }\n",
              "    </style>\n",
              "    \n",
              "    \n",
              "        <div style=\"max-height:1000px;max-width:1500px;overflow:auto;\">\n",
              "        <table border=\"1\" class=\"Table\">\n",
              "            <thead> <tr style=\"text-align: right;\"> <th> <div class=\"djtooltip\">\n",
              "                            <p id=\"nonprimary\">avg_spike_rate</p>\n",
              "                            <span class=\"djtooltiptext\">calculated attribute</span>\n",
              "                        </div></th><th><div class=\"djtooltip\">\n",
              "                            <p id=\"nonprimary\">std_dev</p>\n",
              "                            <span class=\"djtooltiptext\">calculated attribute</span>\n",
              "                        </div> </th> </tr> </thead>\n",
              "            <tbody> <tr> <td>15.466666539510092</td>\n",
              "<td>5.594242990034591</td> </tr> </tbody>\n",
              "        </table>\n",
              "        \n",
              "        <p>Total: 1</p></div>\n",
              "        "
            ],
            "text/plain": [
              "avg_spike_rate std_dev       \n",
              "+------------+ +------------+\n",
              "15.46666653951 5.594242990034\n",
              " (Total: 1)"
            ]
          },
          "execution_count": 23,
          "metadata": {},
          "output_type": "execute_result"
        }
      ],
      "source": [
        "# Get average spike rate (equivalent to SELECT AVG(spike_rate), STD(spike_rate) FROM NeuralUnit)\n",
        "dj.U().aggr(NeuralUnit, avg_spike_rate='avg(spike_rate)', std_dev='std(spike_rate)' )"
      ]
    },
    {
      "cell_type": "markdown",
      "metadata": {},
      "source": [
        "#### Joining Tables in DataJoint\n",
        "\n",
        "The power of relational queries comes through naturally in DataJoint using Python's join operator `*`:\n"
      ]
    },
    {
      "cell_type": "code",
      "execution_count": null,
      "metadata": {},
      "outputs": [
        {
          "data": {
            "text/html": [
              "\n",
              "    \n",
              "    <style type=\"text/css\">\n",
              "        .Table{\n",
              "            border-collapse:collapse;\n",
              "        }\n",
              "        .Table th{\n",
              "            background: #A0A0A0; color: #ffffff; padding:4px; border:#f0e0e0 1px solid;\n",
              "            font-weight: normal; font-family: monospace; font-size: 100%;\n",
              "        }\n",
              "        .Table td{\n",
              "            padding:4px; border:#f0e0e0 1px solid; font-size:100%;\n",
              "        }\n",
              "        .Table tr:nth-child(odd){\n",
              "            background: #ffffff;\n",
              "            color: #000000;\n",
              "        }\n",
              "        .Table tr:nth-child(even){\n",
              "            background: #f3f1ff;\n",
              "            color: #000000;\n",
              "        }\n",
              "        /* Tooltip container */\n",
              "        .djtooltip {\n",
              "        }\n",
              "        /* Tooltip text */\n",
              "        .djtooltip .djtooltiptext {\n",
              "            visibility: hidden;\n",
              "            width: 120px;\n",
              "            background-color: black;\n",
              "            color: #fff;\n",
              "            text-align: center;\n",
              "            padding: 5px 0;\n",
              "            border-radius: 6px;\n",
              "            /* Position the tooltip text - see examples below! */\n",
              "            position: absolute;\n",
              "            z-index: 1;\n",
              "        }\n",
              "        #primary {\n",
              "            font-weight: bold;\n",
              "            color: black;\n",
              "        }\n",
              "        #nonprimary {\n",
              "            font-weight: normal;\n",
              "            color: white;\n",
              "        }\n",
              "\n",
              "        /* Show the tooltip text when you mouse over the tooltip container */\n",
              "        .djtooltip:hover .djtooltiptext {\n",
              "            visibility: visible;\n",
              "        }\n",
              "    </style>\n",
              "    \n",
              "    \n",
              "        <div style=\"max-height:1000px;max-width:1500px;overflow:auto;\">\n",
              "        <table border=\"1\" class=\"Table\">\n",
              "            <thead> <tr style=\"text-align: right;\"> <th> <div class=\"djtooltip\">\n",
              "                            <p id=\"primary\">experiment_id</p>\n",
              "                            <span class=\"djtooltiptext\"></span>\n",
              "                        </div></th><th><div class=\"djtooltip\">\n",
              "                            <p id=\"primary\">researcher_id</p>\n",
              "                            <span class=\"djtooltiptext\"></span>\n",
              "                        </div></th><th><div class=\"djtooltip\">\n",
              "                            <p id=\"nonprimary\">experiment_date</p>\n",
              "                            <span class=\"djtooltiptext\"></span>\n",
              "                        </div></th><th><div class=\"djtooltip\">\n",
              "                            <p id=\"nonprimary\">researcher_name</p>\n",
              "                            <span class=\"djtooltiptext\"></span>\n",
              "                        </div> </th> </tr> </thead>\n",
              "            <tbody> <tr> <td>1</td>\n",
              "<td>2</td>\n",
              "<td>2024-08-15</td>\n",
              "<td>Alex Martinez</td> </tr> </tbody>\n",
              "        </table>\n",
              "        \n",
              "        <p>Total: 1</p></div>\n",
              "        "
            ],
            "text/plain": [
              "*experiment_id *researcher_id experiment_dat researcher_nam\n",
              "+------------+ +------------+ +------------+ +------------+\n",
              "1              2              2024-08-15     Alex Martinez \n",
              " (Total: 1)"
            ]
          },
          "execution_count": 25,
          "metadata": {},
          "output_type": "execute_result"
        }
      ],
      "source": [
        "# Which researcher conducted each experiment?\n",
        "# Equivalent to: SELECT e.experiment_id, e.experiment_date, r.name as researcher_name\n",
        "#               FROM Experiment e JOIN Researcher r ON e.researcher_id = r.researcher_id\n",
        "\n",
        "(Experiment * Researcher).proj('experiment_date', 'researcher_name')"
      ]
    },
    {
      "cell_type": "code",
      "execution_count": 30,
      "metadata": {},
      "outputs": [
        {
          "data": {
            "text/html": [
              "\n",
              "    \n",
              "    <style type=\"text/css\">\n",
              "        .Table{\n",
              "            border-collapse:collapse;\n",
              "        }\n",
              "        .Table th{\n",
              "            background: #A0A0A0; color: #ffffff; padding:4px; border:#f0e0e0 1px solid;\n",
              "            font-weight: normal; font-family: monospace; font-size: 100%;\n",
              "        }\n",
              "        .Table td{\n",
              "            padding:4px; border:#f0e0e0 1px solid; font-size:100%;\n",
              "        }\n",
              "        .Table tr:nth-child(odd){\n",
              "            background: #ffffff;\n",
              "            color: #000000;\n",
              "        }\n",
              "        .Table tr:nth-child(even){\n",
              "            background: #f3f1ff;\n",
              "            color: #000000;\n",
              "        }\n",
              "        /* Tooltip container */\n",
              "        .djtooltip {\n",
              "        }\n",
              "        /* Tooltip text */\n",
              "        .djtooltip .djtooltiptext {\n",
              "            visibility: hidden;\n",
              "            width: 120px;\n",
              "            background-color: black;\n",
              "            color: #fff;\n",
              "            text-align: center;\n",
              "            padding: 5px 0;\n",
              "            border-radius: 6px;\n",
              "            /* Position the tooltip text - see examples below! */\n",
              "            position: absolute;\n",
              "            z-index: 1;\n",
              "        }\n",
              "        #primary {\n",
              "            font-weight: bold;\n",
              "            color: black;\n",
              "        }\n",
              "        #nonprimary {\n",
              "            font-weight: normal;\n",
              "            color: white;\n",
              "        }\n",
              "\n",
              "        /* Show the tooltip text when you mouse over the tooltip container */\n",
              "        .djtooltip:hover .djtooltiptext {\n",
              "            visibility: visible;\n",
              "        }\n",
              "    </style>\n",
              "    \n",
              "    \n",
              "        <div style=\"max-height:1000px;max-width:1500px;overflow:auto;\">\n",
              "        <table border=\"1\" class=\"Table\">\n",
              "            <thead> <tr style=\"text-align: right;\"> <th> <div class=\"djtooltip\">\n",
              "                            <p id=\"primary\">experiment_id</p>\n",
              "                            <span class=\"djtooltiptext\"></span>\n",
              "                        </div></th><th><div class=\"djtooltip\">\n",
              "                            <p id=\"primary\">researcher_id</p>\n",
              "                            <span class=\"djtooltiptext\"></span>\n",
              "                        </div></th><th><div class=\"djtooltip\">\n",
              "                            <p id=\"primary\">subject_id</p>\n",
              "                            <span class=\"djtooltiptext\"></span>\n",
              "                        </div></th><th><div class=\"djtooltip\">\n",
              "                            <p id=\"nonprimary\">experiment_date</p>\n",
              "                            <span class=\"djtooltiptext\"></span>\n",
              "                        </div></th><th><div class=\"djtooltip\">\n",
              "                            <p id=\"nonprimary\">description</p>\n",
              "                            <span class=\"djtooltiptext\"></span>\n",
              "                        </div></th><th><div class=\"djtooltip\">\n",
              "                            <p id=\"nonprimary\">researcher_name</p>\n",
              "                            <span class=\"djtooltiptext\"></span>\n",
              "                        </div></th><th><div class=\"djtooltip\">\n",
              "                            <p id=\"nonprimary\">species</p>\n",
              "                            <span class=\"djtooltiptext\"></span>\n",
              "                        </div></th><th><div class=\"djtooltip\">\n",
              "                            <p id=\"nonprimary\">sex</p>\n",
              "                            <span class=\"djtooltiptext\"></span>\n",
              "                        </div> </th> </tr> </thead>\n",
              "            <tbody> <tr> <td>1</td>\n",
              "<td>2</td>\n",
              "<td>1</td>\n",
              "<td>2024-08-15</td>\n",
              "<td>Visual cortex recording during grating stimuli</td>\n",
              "<td>Alex Martinez</td>\n",
              "<td>Mouse</td>\n",
              "<td>M</td> </tr> </tbody>\n",
              "        </table>\n",
              "        \n",
              "        <p>Total: 1</p></div>\n",
              "        "
            ],
            "text/plain": [
              "*experiment_id *researcher_id *subject_id    experiment_dat description    researcher_nam species     sex    \n",
              "+------------+ +------------+ +------------+ +------------+ +------------+ +------------+ +---------+ +-----+\n",
              "1              2              1              2024-08-15     Visual cortex  Alex Martinez  Mouse       M      \n",
              " (Total: 1)"
            ]
          },
          "execution_count": 30,
          "metadata": {},
          "output_type": "execute_result"
        }
      ],
      "source": [
        "# Full experiment details including subject\n",
        "# Equivalent to: SELECT experiment_id, experiment_date, researcher_name, species, sex, description\n",
        "#               FROM Experiment \n",
        "#               JOIN Researcher USING(researcher_id)\n",
        "#               JOIN AnimalSubject (subject_id)\n",
        "# DataJoint automatically follows both foreign key relationships\n",
        "\n",
        "(Experiment * Researcher * AnimalSubject).proj(\n",
        "    'experiment_date', 'researcher_name', 'species', 'sex', 'description')\n"
      ]
    },
    {
      "cell_type": "code",
      "execution_count": null,
      "metadata": {},
      "outputs": [
        {
          "data": {
            "text/html": [
              "\n",
              "    \n",
              "    <style type=\"text/css\">\n",
              "        .Table{\n",
              "            border-collapse:collapse;\n",
              "        }\n",
              "        .Table th{\n",
              "            background: #A0A0A0; color: #ffffff; padding:4px; border:#f0e0e0 1px solid;\n",
              "            font-weight: normal; font-family: monospace; font-size: 100%;\n",
              "        }\n",
              "        .Table td{\n",
              "            padding:4px; border:#f0e0e0 1px solid; font-size:100%;\n",
              "        }\n",
              "        .Table tr:nth-child(odd){\n",
              "            background: #ffffff;\n",
              "            color: #000000;\n",
              "        }\n",
              "        .Table tr:nth-child(even){\n",
              "            background: #f3f1ff;\n",
              "            color: #000000;\n",
              "        }\n",
              "        /* Tooltip container */\n",
              "        .djtooltip {\n",
              "        }\n",
              "        /* Tooltip text */\n",
              "        .djtooltip .djtooltiptext {\n",
              "            visibility: hidden;\n",
              "            width: 120px;\n",
              "            background-color: black;\n",
              "            color: #fff;\n",
              "            text-align: center;\n",
              "            padding: 5px 0;\n",
              "            border-radius: 6px;\n",
              "            /* Position the tooltip text - see examples below! */\n",
              "            position: absolute;\n",
              "            z-index: 1;\n",
              "        }\n",
              "        #primary {\n",
              "            font-weight: bold;\n",
              "            color: black;\n",
              "        }\n",
              "        #nonprimary {\n",
              "            font-weight: normal;\n",
              "            color: white;\n",
              "        }\n",
              "\n",
              "        /* Show the tooltip text when you mouse over the tooltip container */\n",
              "        .djtooltip:hover .djtooltiptext {\n",
              "            visibility: visible;\n",
              "        }\n",
              "    </style>\n",
              "    \n",
              "    \n",
              "        <div style=\"max-height:1000px;max-width:1500px;overflow:auto;\">\n",
              "        <table border=\"1\" class=\"Table\">\n",
              "            <thead> <tr style=\"text-align: right;\"> <th> <div class=\"djtooltip\">\n",
              "                            <p id=\"primary\">researcher_id</p>\n",
              "                            <span class=\"djtooltiptext\"></span>\n",
              "                        </div></th><th><div class=\"djtooltip\">\n",
              "                            <p id=\"nonprimary\">num_recordings</p>\n",
              "                            <span class=\"djtooltiptext\">calculated attribute</span>\n",
              "                        </div> </th> </tr> </thead>\n",
              "            <tbody> <tr> <td>2</td>\n",
              "<td>2</td> </tr> </tbody>\n",
              "        </table>\n",
              "        \n",
              "        <p>Total: 1</p></div>\n",
              "        "
            ],
            "text/plain": [
              "*researcher_id num_recordings\n",
              "+------------+ +------------+\n",
              "2              2             \n",
              " (Total: 1)"
            ]
          },
          "execution_count": 32,
          "metadata": {},
          "output_type": "execute_result"
        }
      ],
      "source": [
        "\n",
        "# Count recordings per researcher\n",
        "# Equivalent to: SELECT researcher_id, researcher_name, COUNT(*) as num_recordings\n",
        "#               FROM Researcher\n",
        "#               JOIN Experiment USING (researcher_id)\n",
        "#               JOIN Recording USING (eexperiment_id)\n",
        "#               GROUP BY researcher_id\n",
        "\n",
        "Researcher.aggr(Experiment * Recording, num_recordings='count(*)')\n"
      ]
    },
    {
      "cell_type": "markdown",
      "metadata": {},
      "source": [
        "Notice how DataJoint queries:\n",
        "- Use Python operators (`*` for joins, `&` for restrictions) instead of SQL keywords\n",
        "- Support method chaining for complex queries\n",
        "- Provide `fetch('attribute')` for getting specific fields\n",
        "- Support `format='frame'` to return pandas DataFrames for analysis\n",
        "- Automatically follow foreign key relationships defined in the schema\n",
        "\n",
        "The queries above demonstrate that DataJoint maintains the full power of relational queries while being more Pythonic and integrated with the scientific Python ecosystem.\n"
      ]
    },
    {
      "cell_type": "markdown",
      "metadata": {},
      "source": [
        "**The Problems:**\n",
        "\n",
        "1. **No Automatic Tracking**: The database doesn't know that NeuralUnit depends computationally on Recording. The foreign key establishes a relationship but doesn't capture the *computational* dependency.\n",
        "\n",
        "2. **Manual Propagation**: We must manually figure out what needs updating and write UPDATE statements. For complex pipelines with many stages, this becomes error-prone.\n",
        "\n",
        "3. **Lost Provenance**: After the UPDATE, there's no record that these spike rates were corrected. Someone looking at the data later won't know these values were modified.\n",
        "\n",
        "4. **Silent Staleness**: If we forget to update some dependent data, the database won't warn us. We can have internally consistent but scientifically invalid data.\n",
        "\n",
        "5. **No Recomputation Code**: The logic for computing spike rates from recordings exists somewhere in Python/MATLAB scripts, but it's separate from the database. Recomputing requires finding and running the right scripts.\n"
      ]
    },
    {
      "cell_type": "markdown",
      "metadata": {},
      "source": [
        "### The Missing Link: Computational Dependencies\n",
        "\n",
        "Traditional databases understand:\n",
        "- \"This NeuralUnit **belongs to** this Recording\" (referential integrity)\n",
        "\n",
        "But not:\n",
        "- \"This NeuralUnit was **computed from** this Recording\" (computational dependency)\n",
        "- \"When Recording changes, NeuralUnit must be **recomputed**\" (workflow validity)\n",
        "- \"Use **this code** to compute NeuralUnit from Recording\" (executable specification)\n",
        "\n",
        "This gap between data relationships and computational relationships is what DataJoint addresses.\n"
      ]
    },
    {
      "cell_type": "markdown",
      "metadata": {},
      "source": [
        "## What's Missing for Scientific Workflows\n",
        "\n",
        "Let's enumerate what traditional relational databases lack for scientific computing:\n"
      ]
    },
    {
      "cell_type": "markdown",
      "metadata": {},
      "source": [
        "### 1. Temporal Semantics\n",
        "\n",
        "The database has no built-in notion of \"when\" or \"how\" data was created:\n",
        "- Was this NeuralUnit entered manually or computed?\n",
        "- When was it created relative to its source data?\n",
        "- What version of analysis code produced it?\n",
        "\n",
        "Traditional databases treat all data equally—a measurement entered by a researcher and a result computed by an algorithm have the same status.\n"
      ]
    },
    {
      "cell_type": "markdown",
      "metadata": {},
      "source": [
        "### 2. Computational Dependencies\n",
        "\n",
        "Foreign keys enforce **existence** but not **computational relationships**:\n",
        "- `FOREIGN KEY (recording_id)` ensures the recording exists\n",
        "- But it doesn't capture that spike rates are **derived from** that recording\n",
        "- Or that they must be **recomputed** if the recording changes\n",
        "\n",
        "This means the database can maintain referential integrity while containing scientifically invalid results.\n"
      ]
    },
    {
      "cell_type": "markdown",
      "metadata": {},
      "source": [
        "### 3. Automatic Execution\n",
        "\n",
        "There's no mechanism for \"compute this when inputs are ready\":\n",
        "- Adding a new Recording doesn't trigger NeuralUnit computation\n",
        "- The database just stores data; external scripts perform computations\n",
        "- Coordinating this requires manual workflow management\n"
      ]
    },
    {
      "cell_type": "markdown",
      "metadata": {},
      "source": [
        "### 4. Immutability and Provenance\n",
        "\n",
        "UPDATE is equally privileged as INSERT, enabling silent invalidation:\n",
        "- You can modify a derived result without recomputing it\n",
        "- No automatic tracking of computation history\n",
        "- Provenance must be implemented separately (if at all)\n"
      ]
    },
    {
      "cell_type": "markdown",
      "metadata": {},
      "source": [
        "### 5. Workflow Visibility\n",
        "\n",
        "The database schema shows **structure** but not **process**:\n",
        "- Looking at table definitions, you can't tell what's input vs. derived\n",
        "- Dependencies exist implicitly in application code, not in the schema\n",
        "- New team members must read external documentation to understand the pipeline\n"
      ]
    },
    {
      "cell_type": "markdown",
      "metadata": {},
      "source": [
        "## The Path Forward\n",
        "\n",
        "These limitations aren't failures of relational databases—they're working exactly as designed. Traditional RDBMS were built for transactional workloads (banking, inventory, reservations) where UPDATE is a primary operation and data provenance isn't critical.\n",
        "\n",
        "Scientific workflows have different requirements:\n",
        "- **Data flows through transformations**, from raw inputs to analyzed results\n",
        "- **Provenance is crucial**: \"how was this result computed?\"\n",
        "- **Reproducibility demands**: rerun the pipeline, get the same results\n",
        "- **Collaboration requires**: clear workflow specification that new team members can understand\n",
        "\n",
        "**DataJoint extends relational theory to meet these needs.** It preserves all the benefits of relational databases—mathematical rigor, declarative queries, data integrity—while adding workflow semantics that make the database **workflow-aware**.\n",
        "\n",
        "The next chapter introduces DataJoint's Relational Workflow Model, showing how your database schema becomes an executable specification of your scientific pipeline.\n"
      ]
    },
    {
      "cell_type": "markdown",
      "metadata": {},
      "source": [
        "## Exercises\n"
      ]
    },
    {
      "cell_type": "markdown",
      "metadata": {},
      "source": [
        "### 1. Design Practice\n",
        "\n",
        "Design an ER diagram for a different scientific domain (choose one):\n",
        "- **Genomics**: Samples → Sequencing runs → Variants → Annotations\n",
        "- **Climate science**: Weather stations → Measurements → Aggregated statistics → Climate indicators\n",
        "- **Particle physics**: Detectors → Events → Tracks → Particle identifications\n",
        "\n",
        "Identify: entities, relationships, primary keys, foreign keys.\n"
      ]
    },
    {
      "cell_type": "markdown",
      "metadata": {},
      "source": [
        "### 2. Query Practice\n",
        "\n",
        "Using our research lab database, write SQL queries to:\n",
        "1. Find all experiments conducted in August 2024\n",
        "2. Calculate the average spike rate per experiment (joining through Recording)\n",
        "3. List researchers who haven't conducted any experiments yet\n",
        "4. Find the subject that participated in the most experiments\n"
      ]
    },
    {
      "cell_type": "code",
      "execution_count": null,
      "metadata": {
        "vscode": {
          "languageId": "sql"
        }
      },
      "outputs": [],
      "source": [
        "-- Write your queries here\n",
        "\n",
        "-- 1. Find all experiments conducted in August 2024\n",
        "\n",
        "\n",
        "-- 2. Calculate the average spike rate per experiment\n",
        "\n",
        "\n",
        "-- 3. List researchers who haven't conducted any experiments yet\n",
        "\n",
        "\n",
        "-- 4. Find the subject that participated in the most experiments\n"
      ]
    },
    {
      "cell_type": "markdown",
      "metadata": {},
      "source": [
        "### 3. Workflow Analysis\n",
        "\n",
        "Consider adding a new table `SpikeAnalysis` that computes statistics from `NeuralUnit`:\n"
      ]
    },
    {
      "cell_type": "code",
      "execution_count": null,
      "metadata": {
        "vscode": {
          "languageId": "sql"
        }
      },
      "outputs": [],
      "source": [
        "CREATE TABLE SpikeAnalysis (\n",
        "    analysis_id INT PRIMARY KEY AUTO_INCREMENT,\n",
        "    recording_id INT NOT NULL,\n",
        "    mean_spike_rate FLOAT,\n",
        "    spike_rate_std FLOAT,\n",
        "    num_units INT,\n",
        "    FOREIGN KEY (recording_id) REFERENCES Recording(recording_id)\n",
        ");\n"
      ]
    },
    {
      "cell_type": "markdown",
      "metadata": {},
      "source": [
        "Questions:\n",
        "1. If you UPDATE a spike_rate in NeuralUnit, should SpikeAnalysis change? How would you ensure this?\n",
        "2. If you DELETE a Recording, what happens to SpikeAnalysis? Should CASCADE be used?\n",
        "3. How would you track *when* each analysis was computed and *which code version* produced it?\n"
      ]
    },
    {
      "cell_type": "markdown",
      "metadata": {},
      "source": [
        "### 4. Provenance Challenge\n",
        "\n",
        "Design a solution for tracking data provenance in traditional SQL:\n",
        "- Which analyses depend on which recordings?\n",
        "- When was each result computed?\n",
        "- What parameters were used?\n",
        "- How would you implement \"recompute all results from this recording\"?\n",
        "\n",
        "Compare your solution's complexity to what you know DataJoint provides.\n"
      ]
    },
    {
      "cell_type": "markdown",
      "metadata": {},
      "source": [
        "### 5. Reflection\n",
        "\n",
        "Think about your own research data:\n",
        "1. What entities and relationships exist?\n",
        "2. What data is manually entered vs. automatically computed?\n",
        "3. What happens when you discover an error in upstream data?\n",
        "4. How do you currently track \"what needs recomputing\"?\n",
        "\n",
        "These questions will help you appreciate what DataJoint provides when we introduce it in the next chapter.\n"
      ]
    }
  ],
  "metadata": {
    "kernelspec": {
      "display_name": "base",
      "language": "python",
      "name": "python3"
    },
    "language_info": {
      "codemirror_mode": {
        "name": "ipython",
        "version": 3
      },
      "file_extension": ".py",
      "mimetype": "text/x-python",
      "name": "python",
      "nbconvert_exporter": "python",
      "pygments_lexer": "ipython3",
      "version": "3.13.2"
    }
  },
  "nbformat": 4,
  "nbformat_minor": 2
}
