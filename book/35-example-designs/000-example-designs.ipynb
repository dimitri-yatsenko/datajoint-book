{
 "cells": [
  {
   "cell_type": "markdown",
   "metadata": {},
   "source": [
    "---\n",
    "title: Schema Examples\n",
    "date: 2025-01-11\n",
    "authors:\n",
    "  - name: Dimitri Yatsenko\n",
    "---\n",
    "\n",
    "In this section, we present several well-designed schemas, populated with data that are used in examples throughout the book."
   ]
  },
  {
   "cell_type": "markdown",
   "metadata": {},
   "source": []
  }
 ],
 "metadata": {
  "language_info": {
   "name": "python"
  }
 },
 "nbformat": 4,
 "nbformat_minor": 2
}
