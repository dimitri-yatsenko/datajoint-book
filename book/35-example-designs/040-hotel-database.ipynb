{
 "cells": [
  {
   "cell_type": "markdown",
   "id": "6e26075b",
   "metadata": {},
   "source": [
    "# 04 Hotel Database\n",
    "## Assignment\n",
    "\n",
    "Design, populate, and query a database for a hotel reservation system with the following business rules:\n",
    "\n",
    "1. The hotel has a number of rooms of two types: Deluxe and Suite\n",
    "2. For every night, some rooms are made available for reservation for a specific price.\n",
    "3. A guest can make a reservation for an avavilable room for one night. The reservation must include credit card payment info. At most one reservation can be made per night per room.\n",
    "4. A guest can check into a room that has been reserved. An attempt to check in without a reservation will generate an error.\n",
    "5. A guest can check out only after checking in. An attempt to check out multiple times or check out without checking in will generate an error.\n",
    "\n",
    "Your Python code should provide the following:\n",
    "\n",
    "1. A section to create the tables. The design must be in 3rd normal form following the conventions discussed in class and enforcing the business rules above.\n",
    "\n",
    "2. Provide code to populate rooms and room availability with prices.\n",
    "\n",
    "3. The function `reserve_room(room, date, guest_name, credit_card)` to make a reservation. A script that populates at least 300 reservations (e.g. use `faker`)\n",
    "\n",
    "4. The functions `checkin(room, date)` and `checkout(room, date)` to check guests in and out. Write a script that invokes `checkin` and `checkout` for a buncha guests.  Demonstrate that that the functions enforces the rules of the business.\n",
    "\n",
    "5. Write a query to list all guests who have stayed in a given room in 2021.\n",
    "\n",
    "6. Write a query to list all dates on which a specific guest stayed at the hotel.\n",
    "\n"
   ]
  },
  {
   "cell_type": "markdown",
   "id": "33e46762",
   "metadata": {},
   "source": [
    "# Define the database"
   ]
  },
  {
   "cell_type": "code",
   "execution_count": 1,
   "id": "fc703fb8",
   "metadata": {},
   "outputs": [
    {
     "name": "stderr",
     "output_type": "stream",
     "text": [
      "[2024-09-03 17:12:35,012][INFO]: Connecting root@localhost:3306\n",
      "[2024-09-03 17:12:35,032][INFO]: Connected root@localhost:3306\n"
     ]
    }
   ],
   "source": [
    "import datajoint as dj\n",
    "schema = dj.Schema('hotel')"
   ]
  },
  {
   "cell_type": "code",
   "execution_count": 2,
   "id": "62d97e04",
   "metadata": {},
   "outputs": [],
   "source": [
    "@schema\n",
    "class Room(dj.Manual):\n",
    "    definition = \"\"\"\n",
    "    room : int\n",
    "    --- \n",
    "    room_type : enum('Deluxe', 'Suite')\n",
    "    \"\"\""
   ]
  },
  {
   "cell_type": "code",
   "execution_count": 3,
   "id": "280e7440",
   "metadata": {},
   "outputs": [],
   "source": [
    "@schema\n",
    "class RoomAvailable(dj.Manual):\n",
    "    definition = \"\"\"\n",
    "    -> Room\n",
    "    date : date \n",
    "    ---\n",
    "    price : decimal(6, 2)\n",
    "    \"\"\""
   ]
  },
  {
   "cell_type": "code",
   "execution_count": 4,
   "id": "dc952e39",
   "metadata": {},
   "outputs": [],
   "source": [
    "@schema\n",
    "class Guest(dj.Manual):\n",
    "    definition = \"\"\"\n",
    "    guest_id : int unsigned\n",
    "    --- \n",
    "    guest_name : varchar(60)\n",
    "    index(guest_name)\n",
    "    \"\"\""
   ]
  },
  {
   "cell_type": "code",
   "execution_count": 5,
   "id": "14929f5b",
   "metadata": {},
   "outputs": [],
   "source": [
    "@schema\n",
    "class Reservation(dj.Manual):\n",
    "    definition = \"\"\"\n",
    "    -> RoomAvailable\n",
    "    ---\n",
    "    -> Guest\n",
    "    credit_card : varchar(80)\n",
    "    \"\"\""
   ]
  },
  {
   "cell_type": "code",
   "execution_count": 6,
   "id": "61f03f74",
   "metadata": {},
   "outputs": [],
   "source": [
    "@schema\n",
    "class CheckIn(dj.Manual):\n",
    "    definition = \"\"\"\n",
    "    -> Reservation\n",
    "    \"\"\""
   ]
  },
  {
   "cell_type": "code",
   "execution_count": 7,
   "id": "c163c97c",
   "metadata": {},
   "outputs": [],
   "source": [
    "@schema\n",
    "class CheckOut(dj.Manual):\n",
    "    definition = \"\"\"\n",
    "    -> CheckIn\n",
    "    \"\"\""
   ]
  },
  {
   "cell_type": "markdown",
   "id": "3bab6ec9",
   "metadata": {},
   "source": [
    "# Populate Room Availability"
   ]
  },
  {
   "cell_type": "code",
   "execution_count": 12,
   "id": "64060872",
   "metadata": {},
   "outputs": [],
   "source": [
    "import faker\n",
    "import random\n",
    "import datetime\n",
    "import tqdm\n",
    "fake = faker.Faker()"
   ]
  },
  {
   "cell_type": "code",
   "execution_count": 10,
   "id": "281c8ca7",
   "metadata": {},
   "outputs": [],
   "source": [
    "# populate rooms\n",
    "Room.insert((i, \"Deluxe\" if i%2 else \"Suite\") for i in range(80))"
   ]
  },
  {
   "cell_type": "code",
   "execution_count": 11,
   "id": "86bc4436",
   "metadata": {},
   "outputs": [
    {
     "name": "stderr",
     "output_type": "stream",
     "text": [
      "100%|██████████| 45/45 [00:00<00:00, 134.28it/s]\n"
     ]
    }
   ],
   "source": [
    "# Populate Room availability: 45 days starting on start_date\n",
    "start_date = datetime.date(2023, 11, 1)\n",
    "days = 45\n",
    "\n",
    "for day in tqdm.tqdm(range(days)):\n",
    "    price = random.randint(40, 350) \n",
    "    RoomAvailable.insert(\n",
    "        dict(key, \n",
    "             date=start_date + datetime.timedelta(days=day), \n",
    "             price=price) for key in Room.fetch('KEY'))\n",
    "    "
   ]
  },
  {
   "cell_type": "markdown",
   "id": "4deda107",
   "metadata": {},
   "source": [
    "# Functions "
   ]
  },
  {
   "cell_type": "code",
   "execution_count": 13,
   "id": "48470620",
   "metadata": {},
   "outputs": [],
   "source": [
    "class HotelException(Exception): pass\n",
    "class RoomUnavailable(HotelException): pass\n",
    "class RoomAlreadyReserved(HotelException): pass\n",
    "class AlreadyChecked(HotelException): pass\n",
    "class NoReservation(HotelException): pass\n",
    "class NotCheckedIn(HotelException): pass"
   ]
  },
  {
   "cell_type": "code",
   "execution_count": 14,
   "id": "5603309c",
   "metadata": {},
   "outputs": [],
   "source": [
    "def reserve_room(room, date, guest_name, credit_card):\n",
    "    # lookup guest by name\n",
    "    keys = (Guest & {'guest_name': guest_name}).fetch('KEY')\n",
    "    \n",
    "    if keys:\n",
    "        # if multiple found, use the first, for example\n",
    "        key = keys[0]  \n",
    "    else:\n",
    "        # if not registered before, create a new guest id\n",
    "        key = dict(guest_id=random.randint(0, 2**32-1))\n",
    "        Guest.insert1(dict(key, guest_name=guest_name))\n",
    "    \n",
    "    try:\n",
    "        Reservation.insert1(\n",
    "            dict(key, room=room, date=date, credit_card=credit_card))\n",
    "    except dj.errors.DuplicateError:\n",
    "        raise RoomAlreadyReserved(room, date.isoformat()) from None\n",
    "    except dj.errors.IntegrityError:\n",
    "        raise RoomUnavailable(room, date.isoformat()) from None"
   ]
  },
  {
   "cell_type": "code",
   "execution_count": 15,
   "id": "fd3b9e30",
   "metadata": {},
   "outputs": [],
   "source": [
    "def check_in(room, date):\n",
    "    try:\n",
    "        CheckIn.insert1(dict(room=room, date=date))\n",
    "    except dj.errors.DuplicateError:\n",
    "        raise AlreadyChecked(room, date.isoformat()) from None\n",
    "    except dj.errors.IntegrityError:\n",
    "        raise NoReservation(room, date.isoformat()) from None"
   ]
  },
  {
   "cell_type": "code",
   "execution_count": 16,
   "id": "09e340e2",
   "metadata": {},
   "outputs": [],
   "source": [
    "def check_out(room, date):\n",
    "    try:\n",
    "        CheckOut.insert1(dict(room=room, date=date))\n",
    "    except dj.errors.DuplicateError:\n",
    "        raise AlreadyChecked(room, date.isoformat()) from None\n",
    "    except dj.errors.IntegrityError:\n",
    "        raise NotCheckedIn(room, date.isoformat()) from None"
   ]
  },
  {
   "cell_type": "markdown",
   "id": "60740817",
   "metadata": {},
   "source": [
    "# Operations"
   ]
  },
  {
   "cell_type": "code",
   "execution_count": 17,
   "id": "8dbad565",
   "metadata": {
    "scrolled": false
   },
   "outputs": [
    {
     "name": "stderr",
     "output_type": "stream",
     "text": [
      "  2%|▏         | 2/100 [00:00<00:04, 19.65it/s]"
     ]
    },
    {
     "name": "stderr",
     "output_type": "stream",
     "text": [
      "  4%|▍         | 4/100 [00:00<00:06, 13.73it/s]"
     ]
    },
    {
     "name": "stdout",
     "output_type": "stream",
     "text": [
      "RoomUnavailable(80, '2023-11-13')\n",
      "RoomUnavailable(80, '2023-12-02')\n"
     ]
    },
    {
     "name": "stderr",
     "output_type": "stream",
     "text": [
      "  9%|▉         | 9/100 [00:00<00:05, 16.64it/s]"
     ]
    },
    {
     "name": "stdout",
     "output_type": "stream",
     "text": [
      "RoomAlreadyReserved(36, '2023-12-09')\n",
      "RoomUnavailable(80, '2023-11-14')\n",
      "RoomAlreadyReserved(65, '2023-11-08')\n",
      "RoomAlreadyReserved(4, '2023-11-17')\n",
      "RoomAlreadyReserved(72, '2023-11-09')\n"
     ]
    },
    {
     "name": "stderr",
     "output_type": "stream",
     "text": [
      " 15%|█▌        | 15/100 [00:00<00:04, 18.71it/s]"
     ]
    },
    {
     "name": "stdout",
     "output_type": "stream",
     "text": [
      "RoomAlreadyReserved(16, '2023-12-11')\n",
      "RoomAlreadyReserved(7, '2023-11-29')\n",
      "RoomAlreadyReserved(62, '2023-11-17')\n",
      "RoomAlreadyReserved(36, '2023-12-09')\n"
     ]
    },
    {
     "name": "stderr",
     "output_type": "stream",
     "text": [
      " 20%|██        | 20/100 [00:01<00:03, 21.37it/s]"
     ]
    },
    {
     "name": "stdout",
     "output_type": "stream",
     "text": [
      "RoomAlreadyReserved(27, '2023-11-19')\n"
     ]
    },
    {
     "name": "stderr",
     "output_type": "stream",
     "text": [
      " 23%|██▎       | 23/100 [00:01<00:05, 15.09it/s]"
     ]
    },
    {
     "name": "stdout",
     "output_type": "stream",
     "text": [
      "RoomAlreadyReserved(15, '2023-11-06')\n",
      "RoomAlreadyReserved(15, '2023-11-07')\n",
      "RoomAlreadyReserved(12, '2023-11-21')\n"
     ]
    },
    {
     "name": "stderr",
     "output_type": "stream",
     "text": [
      " 28%|██▊       | 28/100 [00:01<00:04, 17.59it/s]"
     ]
    },
    {
     "name": "stdout",
     "output_type": "stream",
     "text": [
      "RoomUnavailable(80, '2023-11-13')\n",
      "RoomAlreadyReserved(2, '2023-11-26')\n",
      "RoomAlreadyReserved(10, '2023-11-27')\n",
      "RoomAlreadyReserved(69, '2023-11-01')\n",
      "RoomAlreadyReserved(15, '2023-12-05')\n",
      "RoomAlreadyReserved(47, '2023-12-07')\n",
      "RoomAlreadyReserved(59, '2023-11-27')\n",
      "RoomAlreadyReserved(74, '2023-11-19')\n",
      "RoomAlreadyReserved(63, '2023-11-09')\n"
     ]
    },
    {
     "name": "stderr",
     "output_type": "stream",
     "text": [
      " 35%|███▌      | 35/100 [00:01<00:03, 20.83it/s]"
     ]
    },
    {
     "name": "stdout",
     "output_type": "stream",
     "text": [
      "RoomAlreadyReserved(79, '2023-11-19')\n",
      "RoomAlreadyReserved(64, '2023-11-14')\n",
      "RoomAlreadyReserved(14, '2023-11-19')\n",
      "RoomAlreadyReserved(61, '2023-11-24')\n",
      "RoomAlreadyReserved(15, '2023-11-07')\n",
      "RoomAlreadyReserved(46, '2023-12-04')\n",
      "RoomAlreadyReserved(66, '2023-11-21')\n",
      "RoomAlreadyReserved(70, '2023-11-03')\n"
     ]
    },
    {
     "name": "stderr",
     "output_type": "stream",
     "text": [
      " 38%|███▊      | 38/100 [00:02<00:02, 21.20it/s]"
     ]
    },
    {
     "name": "stdout",
     "output_type": "stream",
     "text": [
      "RoomAlreadyReserved(43, '2023-11-14')\n",
      "RoomAlreadyReserved(1, '2023-12-04')\n"
     ]
    },
    {
     "name": "stderr",
     "output_type": "stream",
     "text": [
      " 46%|████▌     | 46/100 [00:02<00:02, 25.79it/s]"
     ]
    },
    {
     "name": "stdout",
     "output_type": "stream",
     "text": [
      "RoomAlreadyReserved(66, '2023-11-21')\n",
      "RoomAlreadyReserved(76, '2023-11-06')\n",
      "RoomAlreadyReserved(31, '2023-11-28')\n",
      "RoomAlreadyReserved(79, '2023-11-09')\n",
      "RoomAlreadyReserved(40, '2023-11-01')\n",
      "RoomAlreadyReserved(3, '2023-12-15')\n",
      "RoomAlreadyReserved(30, '2023-12-07')\n",
      "RoomAlreadyReserved(71, '2023-11-05')\n",
      "RoomAlreadyReserved(75, '2023-11-17')\n",
      "RoomAlreadyReserved(58, '2023-12-03')\n",
      "RoomAlreadyReserved(54, '2023-11-21')\n",
      "RoomAlreadyReserved(0, '2023-12-06')\n"
     ]
    },
    {
     "name": "stderr",
     "output_type": "stream",
     "text": [
      " 49%|████▉     | 49/100 [00:02<00:02, 23.49it/s]"
     ]
    },
    {
     "name": "stdout",
     "output_type": "stream",
     "text": [
      "RoomAlreadyReserved(13, '2023-12-11')\n",
      "RoomAlreadyReserved(63, '2023-11-28')\n",
      "RoomAlreadyReserved(21, '2023-12-07')\n",
      "RoomAlreadyReserved(36, '2023-11-21')\n",
      "RoomUnavailable(80, '2023-11-09')\n",
      "RoomAlreadyReserved(70, '2023-11-02')\n",
      "RoomAlreadyReserved(73, '2023-11-30')\n",
      "RoomAlreadyReserved(69, '2023-11-01')\n"
     ]
    },
    {
     "name": "stderr",
     "output_type": "stream",
     "text": [
      " 55%|█████▌    | 55/100 [00:02<00:02, 22.23it/s]"
     ]
    },
    {
     "name": "stdout",
     "output_type": "stream",
     "text": [
      "RoomAlreadyReserved(79, '2023-12-15')\n",
      "RoomAlreadyReserved(36, '2023-11-08')\n",
      "RoomAlreadyReserved(24, '2023-11-27')\n",
      "RoomAlreadyReserved(9, '2023-12-15')\n",
      "RoomAlreadyReserved(62, '2023-11-13')\n",
      "RoomAlreadyReserved(7, '2023-11-25')\n",
      "RoomAlreadyReserved(73, '2023-11-07')\n",
      "RoomAlreadyReserved(27, '2023-12-07')\n"
     ]
    },
    {
     "name": "stderr",
     "output_type": "stream",
     "text": [
      " 62%|██████▏   | 62/100 [00:03<00:01, 25.77it/s]"
     ]
    },
    {
     "name": "stdout",
     "output_type": "stream",
     "text": [
      "RoomAlreadyReserved(34, '2023-11-08')\n",
      "RoomAlreadyReserved(19, '2023-12-09')\n",
      "RoomAlreadyReserved(48, '2023-11-14')\n",
      "RoomAlreadyReserved(10, '2023-11-05')\n",
      "RoomAlreadyReserved(16, '2023-12-10')\n",
      "RoomAlreadyReserved(37, '2023-12-14')\n",
      "RoomAlreadyReserved(79, '2023-11-19')\n",
      "RoomAlreadyReserved(21, '2023-11-11')\n",
      "RoomAlreadyReserved(61, '2023-12-12')\n",
      "RoomAlreadyReserved(13, '2023-12-02')\n",
      "RoomAlreadyReserved(21, '2023-12-15')\n",
      "RoomAlreadyReserved(51, '2023-12-07')\n"
     ]
    },
    {
     "name": "stderr",
     "output_type": "stream",
     "text": [
      " 65%|██████▌   | 65/100 [00:03<00:01, 21.68it/s]"
     ]
    },
    {
     "name": "stdout",
     "output_type": "stream",
     "text": [
      "RoomAlreadyReserved(17, '2023-11-30')\n",
      "RoomAlreadyReserved(30, '2023-11-08')\n",
      "RoomAlreadyReserved(10, '2023-11-17')\n",
      "RoomAlreadyReserved(38, '2023-11-12')\n",
      "RoomAlreadyReserved(48, '2023-12-05')\n",
      "RoomAlreadyReserved(37, '2023-11-26')\n",
      "RoomAlreadyReserved(63, '2023-11-09')\n",
      "RoomAlreadyReserved(68, '2023-11-15')\n"
     ]
    },
    {
     "name": "stderr",
     "output_type": "stream",
     "text": [
      " 72%|███████▏  | 72/100 [00:03<00:01, 27.12it/s]"
     ]
    },
    {
     "name": "stdout",
     "output_type": "stream",
     "text": [
      "RoomAlreadyReserved(58, '2023-11-28')\n",
      "RoomAlreadyReserved(55, '2023-11-06')\n",
      "RoomAlreadyReserved(36, '2023-12-14')\n",
      "RoomAlreadyReserved(9, '2023-11-18')\n",
      "RoomAlreadyReserved(21, '2023-11-07')\n",
      "RoomAlreadyReserved(9, '2023-12-13')\n",
      "RoomAlreadyReserved(63, '2023-12-14')\n",
      "RoomAlreadyReserved(68, '2023-12-07')\n",
      "RoomAlreadyReserved(72, '2023-11-07')\n",
      "RoomAlreadyReserved(55, '2023-12-05')\n",
      "RoomAlreadyReserved(11, '2023-12-08')\n",
      "RoomAlreadyReserved(21, '2023-11-09')\n",
      "RoomAlreadyReserved(55, '2023-11-20')\n",
      "RoomAlreadyReserved(44, '2023-11-26')\n",
      "RoomAlreadyReserved(26, '2023-11-18')\n",
      "RoomAlreadyReserved(2, '2023-11-12')\n",
      "RoomUnavailable(80, '2023-12-08')\n",
      "RoomAlreadyReserved(58, '2023-11-22')\n"
     ]
    },
    {
     "name": "stderr",
     "output_type": "stream",
     "text": [
      " 78%|███████▊  | 78/100 [00:03<00:00, 27.36it/s]"
     ]
    },
    {
     "name": "stdout",
     "output_type": "stream",
     "text": [
      "RoomAlreadyReserved(8, '2023-11-12')\n",
      "RoomAlreadyReserved(24, '2023-12-03')\n",
      "RoomAlreadyReserved(68, '2023-12-10')\n",
      "RoomAlreadyReserved(6, '2023-11-11')\n",
      "RoomAlreadyReserved(38, '2023-12-06')\n",
      "RoomAlreadyReserved(73, '2023-11-12')\n",
      "RoomAlreadyReserved(43, '2023-12-15')\n",
      "RoomUnavailable(80, '2023-12-12')\n",
      "RoomAlreadyReserved(64, '2023-11-21')\n",
      "RoomAlreadyReserved(51, '2023-11-16')\n",
      "RoomAlreadyReserved(56, '2023-12-07')\n",
      "RoomAlreadyReserved(33, '2023-11-07')\n",
      "RoomAlreadyReserved(45, '2023-12-15')\n"
     ]
    },
    {
     "name": "stderr",
     "output_type": "stream",
     "text": [
      " 85%|████████▌ | 85/100 [00:03<00:00, 27.34it/s]"
     ]
    },
    {
     "name": "stdout",
     "output_type": "stream",
     "text": [
      "RoomAlreadyReserved(20, '2023-11-29')\n",
      "RoomAlreadyReserved(44, '2023-11-26')\n",
      "RoomAlreadyReserved(39, '2023-11-07')\n",
      "RoomAlreadyReserved(43, '2023-12-15')\n",
      "RoomAlreadyReserved(56, '2023-11-21')\n",
      "RoomAlreadyReserved(20, '2023-12-05')\n",
      "RoomAlreadyReserved(52, '2023-11-10')\n",
      "RoomAlreadyReserved(11, '2023-12-08')\n",
      "RoomAlreadyReserved(35, '2023-11-14')\n",
      "RoomAlreadyReserved(10, '2023-11-03')\n",
      "RoomAlreadyReserved(7, '2023-11-23')\n",
      "RoomAlreadyReserved(31, '2023-12-01')\n",
      "RoomAlreadyReserved(79, '2023-12-12')\n",
      "RoomAlreadyReserved(12, '2023-11-26')\n",
      "RoomAlreadyReserved(36, '2023-11-28')\n",
      "RoomAlreadyReserved(79, '2023-11-03')\n"
     ]
    },
    {
     "name": "stderr",
     "output_type": "stream",
     "text": [
      " 93%|█████████▎| 93/100 [00:04<00:00, 27.38it/s]"
     ]
    },
    {
     "name": "stdout",
     "output_type": "stream",
     "text": [
      "RoomUnavailable(80, '2023-12-03')\n",
      "RoomAlreadyReserved(44, '2023-11-23')\n",
      "RoomAlreadyReserved(50, '2023-11-14')\n",
      "RoomAlreadyReserved(50, '2023-11-24')\n",
      "RoomAlreadyReserved(23, '2023-11-21')\n",
      "RoomAlreadyReserved(4, '2023-11-05')\n",
      "RoomAlreadyReserved(53, '2023-11-10')\n",
      "RoomAlreadyReserved(51, '2023-11-16')\n",
      "RoomAlreadyReserved(56, '2023-12-07')\n",
      "RoomAlreadyReserved(12, '2023-11-20')\n",
      "RoomAlreadyReserved(18, '2023-11-27')\n",
      "RoomAlreadyReserved(55, '2023-11-06')\n",
      "RoomAlreadyReserved(17, '2023-12-10')\n",
      "RoomUnavailable(80, '2023-12-04')\n",
      "RoomAlreadyReserved(50, '2023-11-24')\n",
      "RoomAlreadyReserved(19, '2023-11-19')\n"
     ]
    },
    {
     "name": "stderr",
     "output_type": "stream",
     "text": [
      " 96%|█████████▌| 96/100 [00:04<00:00, 27.31it/s]"
     ]
    },
    {
     "name": "stdout",
     "output_type": "stream",
     "text": [
      "RoomAlreadyReserved(42, '2023-12-14')\n",
      "RoomAlreadyReserved(19, '2023-11-22')\n",
      "RoomAlreadyReserved(7, '2023-11-02')\n",
      "RoomAlreadyReserved(70, '2023-11-20')\n",
      "RoomAlreadyReserved(76, '2023-12-03')\n",
      "RoomAlreadyReserved(77, '2023-12-09')\n",
      "RoomAlreadyReserved(58, '2023-11-08')\n",
      "RoomAlreadyReserved(51, '2023-11-16')\n",
      "RoomAlreadyReserved(47, '2023-11-19')\n",
      "RoomAlreadyReserved(5, '2023-12-14')\n",
      "RoomAlreadyReserved(10, '2023-11-05')\n",
      "RoomAlreadyReserved(78, '2023-12-04')\n",
      "RoomAlreadyReserved(63, '2023-11-02')\n",
      "RoomAlreadyReserved(79, '2023-11-29')\n",
      "RoomAlreadyReserved(28, '2023-12-15')\n",
      "RoomAlreadyReserved(26, '2023-11-08')\n",
      "RoomAlreadyReserved(69, '2023-11-05')\n",
      "RoomAlreadyReserved(59, '2023-12-09')\n",
      "RoomAlreadyReserved(71, '2023-12-02')\n"
     ]
    },
    {
     "name": "stderr",
     "output_type": "stream",
     "text": [
      "100%|██████████| 100/100 [00:04<00:00, 22.18it/s]"
     ]
    },
    {
     "name": "stdout",
     "output_type": "stream",
     "text": [
      "RoomAlreadyReserved(27, '2023-11-10')\n",
      "RoomAlreadyReserved(43, '2023-12-10')\n",
      "RoomAlreadyReserved(40, '2023-11-28')\n",
      "RoomAlreadyReserved(32, '2023-11-06')\n",
      "RoomAlreadyReserved(75, '2023-11-06')\n",
      "RoomAlreadyReserved(38, '2023-12-06')\n",
      "RoomAlreadyReserved(42, '2023-12-01')\n",
      "RoomAlreadyReserved(61, '2023-12-09')\n"
     ]
    },
    {
     "name": "stderr",
     "output_type": "stream",
     "text": [
      "\n"
     ]
    },
    {
     "data": {
      "text/html": [
       "\n",
       "    \n",
       "    <style type=\"text/css\">\n",
       "        .Table{\n",
       "            border-collapse:collapse;\n",
       "        }\n",
       "        .Table th{\n",
       "            background: #A0A0A0; color: #ffffff; padding:4px; border:#f0e0e0 1px solid;\n",
       "            font-weight: normal; font-family: monospace; font-size: 100%;\n",
       "        }\n",
       "        .Table td{\n",
       "            padding:4px; border:#f0e0e0 1px solid; font-size:100%;\n",
       "        }\n",
       "        .Table tr:nth-child(odd){\n",
       "            background: #ffffff;\n",
       "            color: #000000;\n",
       "        }\n",
       "        .Table tr:nth-child(even){\n",
       "            background: #f3f1ff;\n",
       "            color: #000000;\n",
       "        }\n",
       "        /* Tooltip container */\n",
       "        .djtooltip {\n",
       "        }\n",
       "        /* Tooltip text */\n",
       "        .djtooltip .djtooltiptext {\n",
       "            visibility: hidden;\n",
       "            width: 120px;\n",
       "            background-color: black;\n",
       "            color: #fff;\n",
       "            text-align: center;\n",
       "            padding: 5px 0;\n",
       "            border-radius: 6px;\n",
       "            /* Position the tooltip text - see examples below! */\n",
       "            position: absolute;\n",
       "            z-index: 1;\n",
       "        }\n",
       "        #primary {\n",
       "            font-weight: bold;\n",
       "            color: black;\n",
       "        }\n",
       "        #nonprimary {\n",
       "            font-weight: normal;\n",
       "            color: white;\n",
       "        }\n",
       "\n",
       "        /* Show the tooltip text when you mouse over the tooltip container */\n",
       "        .djtooltip:hover .djtooltiptext {\n",
       "            visibility: visible;\n",
       "        }\n",
       "    </style>\n",
       "    \n",
       "    <b></b>\n",
       "        <div style=\"max-height:1000px;max-width:1500px;overflow:auto;\">\n",
       "        <table border=\"1\" class=\"Table\">\n",
       "            <thead> <tr style=\"text-align: right;\"> <th> <div class=\"djtooltip\">\n",
       "                            <p id=\"primary\">room</p>\n",
       "                            <span class=\"djtooltiptext\"></span>\n",
       "                        </div></th><th><div class=\"djtooltip\">\n",
       "                            <p id=\"primary\">date</p>\n",
       "                            <span class=\"djtooltiptext\"></span>\n",
       "                        </div></th><th><div class=\"djtooltip\">\n",
       "                            <p id=\"nonprimary\">guest_id</p>\n",
       "                            <span class=\"djtooltiptext\"></span>\n",
       "                        </div></th><th><div class=\"djtooltip\">\n",
       "                            <p id=\"nonprimary\">credit_card</p>\n",
       "                            <span class=\"djtooltiptext\"></span>\n",
       "                        </div> </th> </tr> </thead>\n",
       "            <tbody> <tr> <td>0</td>\n",
       "<td>2023-11-01</td>\n",
       "<td>2181298725</td>\n",
       "<td>370847074797867 11/28 252</td></tr><tr><td>0</td>\n",
       "<td>2023-11-09</td>\n",
       "<td>2134517628</td>\n",
       "<td>4206960338250577690 10/31 4171</td></tr><tr><td>0</td>\n",
       "<td>2023-11-11</td>\n",
       "<td>1245454711</td>\n",
       "<td>377809788669900 02/33 8750</td></tr><tr><td>0</td>\n",
       "<td>2023-11-14</td>\n",
       "<td>2522954717</td>\n",
       "<td>4674030165763 03/34 534</td></tr><tr><td>0</td>\n",
       "<td>2023-11-18</td>\n",
       "<td>4200689128</td>\n",
       "<td>6011438170332221 06/33 0167</td></tr><tr><td>0</td>\n",
       "<td>2023-11-23</td>\n",
       "<td>3515172225</td>\n",
       "<td>6551377824190880 06/25 555</td></tr><tr><td>0</td>\n",
       "<td>2023-11-26</td>\n",
       "<td>456912289</td>\n",
       "<td>3535348020023777 12/33 326</td></tr><tr><td>0</td>\n",
       "<td>2023-12-01</td>\n",
       "<td>1998827306</td>\n",
       "<td>3547998829075687 05/34 551</td></tr><tr><td>0</td>\n",
       "<td>2023-12-03</td>\n",
       "<td>2153171054</td>\n",
       "<td>3571568485218472 09/31 445</td></tr><tr><td>0</td>\n",
       "<td>2023-12-04</td>\n",
       "<td>562506096</td>\n",
       "<td>4606721665831850290 07/28 671</td></tr><tr><td>0</td>\n",
       "<td>2023-12-05</td>\n",
       "<td>162506043</td>\n",
       "<td>3584407066074456 01/34 607</td></tr><tr><td>0</td>\n",
       "<td>2023-12-06</td>\n",
       "<td>3947313499</td>\n",
       "<td>6011617779844815 10/32 347</td> </tr> </tbody>\n",
       "        </table>\n",
       "        <p>...</p>\n",
       "        <p>Total: 921</p></div>\n",
       "        "
      ],
      "text/plain": [
       "*room    *date          guest_id       credit_card   \n",
       "+------+ +------------+ +------------+ +------------+\n",
       "0        2023-11-01     2181298725     37084707479786\n",
       "0        2023-11-09     2134517628     42069603382505\n",
       "0        2023-11-11     1245454711     37780978866990\n",
       "0        2023-11-14     2522954717     4674030165763 \n",
       "0        2023-11-18     4200689128     60114381703322\n",
       "0        2023-11-23     3515172225     65513778241908\n",
       "0        2023-11-26     456912289      35353480200237\n",
       "0        2023-12-01     1998827306     35479988290756\n",
       "0        2023-12-03     2153171054     35715684852184\n",
       "0        2023-12-04     562506096      46067216658318\n",
       "0        2023-12-05     162506043      35844070660744\n",
       "0        2023-12-06     3947313499     60116177798448\n",
       "   ...\n",
       " (Total: 921)"
      ]
     },
     "execution_count": 17,
     "metadata": {},
     "output_type": "execute_result"
    }
   ],
   "source": [
    "# make a bunch of random reservations\n",
    "\n",
    "number_of_guests = 100\n",
    "max_nights = 20\n",
    "\n",
    "for i in tqdm.tqdm(range(number_of_guests)):\n",
    "    guest = fake.name()\n",
    "    credit_card=' '.join((fake.credit_card_number(), \n",
    "                          fake.credit_card_expire(), \n",
    "                          fake.credit_card_security_code()))\n",
    "    \n",
    "    for j in range(random.randint(1, max_nights)):\n",
    "        date =  fake.date_between_dates(start_date, start_date+datetime.timedelta(days=45))\n",
    "        room = random.randint(0, 80)\n",
    "        try:\n",
    "            reserve_room(room, date, guest, credit_card)\n",
    "        except HotelException as e:\n",
    "            print(repr(e))\n",
    "            \n",
    "# show successful reservations\n",
    "Reservation()"
   ]
  },
  {
   "cell_type": "code",
   "execution_count": 18,
   "id": "dbc10353",
   "metadata": {},
   "outputs": [
    {
     "data": {
      "text/html": [
       "\n",
       "    \n",
       "    <style type=\"text/css\">\n",
       "        .Table{\n",
       "            border-collapse:collapse;\n",
       "        }\n",
       "        .Table th{\n",
       "            background: #A0A0A0; color: #ffffff; padding:4px; border:#f0e0e0 1px solid;\n",
       "            font-weight: normal; font-family: monospace; font-size: 100%;\n",
       "        }\n",
       "        .Table td{\n",
       "            padding:4px; border:#f0e0e0 1px solid; font-size:100%;\n",
       "        }\n",
       "        .Table tr:nth-child(odd){\n",
       "            background: #ffffff;\n",
       "            color: #000000;\n",
       "        }\n",
       "        .Table tr:nth-child(even){\n",
       "            background: #f3f1ff;\n",
       "            color: #000000;\n",
       "        }\n",
       "        /* Tooltip container */\n",
       "        .djtooltip {\n",
       "        }\n",
       "        /* Tooltip text */\n",
       "        .djtooltip .djtooltiptext {\n",
       "            visibility: hidden;\n",
       "            width: 120px;\n",
       "            background-color: black;\n",
       "            color: #fff;\n",
       "            text-align: center;\n",
       "            padding: 5px 0;\n",
       "            border-radius: 6px;\n",
       "            /* Position the tooltip text - see examples below! */\n",
       "            position: absolute;\n",
       "            z-index: 1;\n",
       "        }\n",
       "        #primary {\n",
       "            font-weight: bold;\n",
       "            color: black;\n",
       "        }\n",
       "        #nonprimary {\n",
       "            font-weight: normal;\n",
       "            color: white;\n",
       "        }\n",
       "\n",
       "        /* Show the tooltip text when you mouse over the tooltip container */\n",
       "        .djtooltip:hover .djtooltiptext {\n",
       "            visibility: visible;\n",
       "        }\n",
       "    </style>\n",
       "    \n",
       "    <b></b>\n",
       "        <div style=\"max-height:1000px;max-width:1500px;overflow:auto;\">\n",
       "        <table border=\"1\" class=\"Table\">\n",
       "            <thead> <tr style=\"text-align: right;\"> <th> <div class=\"djtooltip\">\n",
       "                            <p id=\"primary\">guest_id</p>\n",
       "                            <span class=\"djtooltiptext\"></span>\n",
       "                        </div></th><th><div class=\"djtooltip\">\n",
       "                            <p id=\"nonprimary\">guest_name</p>\n",
       "                            <span class=\"djtooltiptext\"></span>\n",
       "                        </div> </th> </tr> </thead>\n",
       "            <tbody> <tr> <td>3990092660</td>\n",
       "<td>Abigail Green</td></tr><tr><td>1901131669</td>\n",
       "<td>Adam Brown</td></tr><tr><td>1450344758</td>\n",
       "<td>Adam Miller</td></tr><tr><td>409512713</td>\n",
       "<td>Adam Norman</td></tr><tr><td>3577012781</td>\n",
       "<td>Amanda Monroe</td></tr><tr><td>3515172225</td>\n",
       "<td>Angela Adams</td></tr><tr><td>3154279274</td>\n",
       "<td>Angela Gonzales</td></tr><tr><td>1958355880</td>\n",
       "<td>Angela Valenzuela</td></tr><tr><td>2181298725</td>\n",
       "<td>Anna Gomez</td></tr><tr><td>321437229</td>\n",
       "<td>Brad Lowe</td></tr><tr><td>3395315333</td>\n",
       "<td>Brenda Moon</td></tr><tr><td>3877636958</td>\n",
       "<td>Brent Jackson</td> </tr> </tbody>\n",
       "        </table>\n",
       "        <p>...</p>\n",
       "        <p>Total: 100</p></div>\n",
       "        "
      ],
      "text/plain": [
       "*guest_id      guest_name    \n",
       "+------------+ +------------+\n",
       "3990092660     Abigail Green \n",
       "1901131669     Adam Brown    \n",
       "1450344758     Adam Miller   \n",
       "409512713      Adam Norman   \n",
       "3577012781     Amanda Monroe \n",
       "3515172225     Angela Adams  \n",
       "3154279274     Angela Gonzale\n",
       "1958355880     Angela Valenzu\n",
       "2181298725     Anna Gomez    \n",
       "321437229      Brad Lowe     \n",
       "3395315333     Brenda Moon   \n",
       "3877636958     Brent Jackson \n",
       "   ...\n",
       " (Total: 100)"
      ]
     },
     "execution_count": 18,
     "metadata": {},
     "output_type": "execute_result"
    }
   ],
   "source": [
    "Guest()"
   ]
  },
  {
   "cell_type": "code",
   "execution_count": 19,
   "id": "81a75c55",
   "metadata": {},
   "outputs": [
    {
     "ename": "NoReservation",
     "evalue": "(2, '2023-11-02')",
     "output_type": "error",
     "traceback": [
      "\u001b[0;31m---------------------------------------------------------------------------\u001b[0m",
      "\u001b[0;31mNoReservation\u001b[0m                             Traceback (most recent call last)",
      "Cell \u001b[0;32mIn[19], line 2\u001b[0m\n\u001b[1;32m      1\u001b[0m \u001b[38;5;66;03m# Try check in\u001b[39;00m\n\u001b[0;32m----> 2\u001b[0m \u001b[43mcheck_in\u001b[49m\u001b[43m(\u001b[49m\u001b[38;5;241;43m2\u001b[39;49m\u001b[43m,\u001b[49m\u001b[43m \u001b[49m\u001b[43mdatetime\u001b[49m\u001b[38;5;241;43m.\u001b[39;49m\u001b[43mdate\u001b[49m\u001b[43m(\u001b[49m\u001b[38;5;241;43m2023\u001b[39;49m\u001b[43m,\u001b[49m\u001b[43m \u001b[49m\u001b[38;5;241;43m11\u001b[39;49m\u001b[43m,\u001b[49m\u001b[43m \u001b[49m\u001b[38;5;241;43m2\u001b[39;49m\u001b[43m)\u001b[49m\u001b[43m)\u001b[49m\n",
      "Cell \u001b[0;32mIn[15], line 7\u001b[0m, in \u001b[0;36mcheck_in\u001b[0;34m(room, date)\u001b[0m\n\u001b[1;32m      5\u001b[0m     \u001b[38;5;28;01mraise\u001b[39;00m AlreadyChecked(room, date\u001b[38;5;241m.\u001b[39misoformat()) \u001b[38;5;28;01mfrom\u001b[39;00m \u001b[38;5;28;01mNone\u001b[39;00m\n\u001b[1;32m      6\u001b[0m \u001b[38;5;28;01mexcept\u001b[39;00m dj\u001b[38;5;241m.\u001b[39merrors\u001b[38;5;241m.\u001b[39mIntegrityError:\n\u001b[0;32m----> 7\u001b[0m     \u001b[38;5;28;01mraise\u001b[39;00m NoReservation(room, date\u001b[38;5;241m.\u001b[39misoformat()) \u001b[38;5;28;01mfrom\u001b[39;00m \u001b[38;5;28;01mNone\u001b[39;00m\n",
      "\u001b[0;31mNoReservation\u001b[0m: (2, '2023-11-02')"
     ]
    }
   ],
   "source": [
    "# Try check in\n",
    "check_in(2, datetime.date(2023, 11, 2))"
   ]
  },
  {
   "cell_type": "code",
   "execution_count": 20,
   "id": "8efc7fac",
   "metadata": {},
   "outputs": [
    {
     "name": "stderr",
     "output_type": "stream",
     "text": [
      "  0%|          | 0/828 [00:00<?, ?it/s]"
     ]
    },
    {
     "name": "stderr",
     "output_type": "stream",
     "text": [
      "100%|██████████| 828/828 [00:02<00:00, 330.90it/s]\n"
     ]
    }
   ],
   "source": [
    "# checkin a bunch of people\n",
    "checkins = random.sample(Reservation().fetch('KEY'), k=int(0.9*len(Reservation())))\n",
    "for r in tqdm.tqdm(checkins):\n",
    "    try: \n",
    "        check_in(**r)\n",
    "    except AlreadyChecked as e:\n",
    "        print(repr(e))\n"
   ]
  },
  {
   "cell_type": "code",
   "execution_count": 21,
   "id": "ec862447",
   "metadata": {},
   "outputs": [
    {
     "data": {
      "text/html": [
       "\n",
       "    \n",
       "    <style type=\"text/css\">\n",
       "        .Table{\n",
       "            border-collapse:collapse;\n",
       "        }\n",
       "        .Table th{\n",
       "            background: #A0A0A0; color: #ffffff; padding:4px; border:#f0e0e0 1px solid;\n",
       "            font-weight: normal; font-family: monospace; font-size: 100%;\n",
       "        }\n",
       "        .Table td{\n",
       "            padding:4px; border:#f0e0e0 1px solid; font-size:100%;\n",
       "        }\n",
       "        .Table tr:nth-child(odd){\n",
       "            background: #ffffff;\n",
       "            color: #000000;\n",
       "        }\n",
       "        .Table tr:nth-child(even){\n",
       "            background: #f3f1ff;\n",
       "            color: #000000;\n",
       "        }\n",
       "        /* Tooltip container */\n",
       "        .djtooltip {\n",
       "        }\n",
       "        /* Tooltip text */\n",
       "        .djtooltip .djtooltiptext {\n",
       "            visibility: hidden;\n",
       "            width: 120px;\n",
       "            background-color: black;\n",
       "            color: #fff;\n",
       "            text-align: center;\n",
       "            padding: 5px 0;\n",
       "            border-radius: 6px;\n",
       "            /* Position the tooltip text - see examples below! */\n",
       "            position: absolute;\n",
       "            z-index: 1;\n",
       "        }\n",
       "        #primary {\n",
       "            font-weight: bold;\n",
       "            color: black;\n",
       "        }\n",
       "        #nonprimary {\n",
       "            font-weight: normal;\n",
       "            color: white;\n",
       "        }\n",
       "\n",
       "        /* Show the tooltip text when you mouse over the tooltip container */\n",
       "        .djtooltip:hover .djtooltiptext {\n",
       "            visibility: visible;\n",
       "        }\n",
       "    </style>\n",
       "    \n",
       "    <b></b>\n",
       "        <div style=\"max-height:1000px;max-width:1500px;overflow:auto;\">\n",
       "        <table border=\"1\" class=\"Table\">\n",
       "            <thead> <tr style=\"text-align: right;\"> <th> <div class=\"djtooltip\">\n",
       "                            <p id=\"primary\">room</p>\n",
       "                            <span class=\"djtooltiptext\"></span>\n",
       "                        </div></th><th><div class=\"djtooltip\">\n",
       "                            <p id=\"primary\">date</p>\n",
       "                            <span class=\"djtooltiptext\"></span>\n",
       "                        </div> </th> </tr> </thead>\n",
       "            <tbody> <tr> <td>0</td>\n",
       "<td>2023-11-09</td></tr><tr><td>0</td>\n",
       "<td>2023-11-11</td></tr><tr><td>0</td>\n",
       "<td>2023-11-14</td></tr><tr><td>0</td>\n",
       "<td>2023-11-18</td></tr><tr><td>0</td>\n",
       "<td>2023-11-23</td></tr><tr><td>0</td>\n",
       "<td>2023-11-26</td></tr><tr><td>0</td>\n",
       "<td>2023-12-01</td></tr><tr><td>0</td>\n",
       "<td>2023-12-03</td></tr><tr><td>0</td>\n",
       "<td>2023-12-05</td></tr><tr><td>0</td>\n",
       "<td>2023-12-06</td></tr><tr><td>1</td>\n",
       "<td>2023-11-01</td></tr><tr><td>1</td>\n",
       "<td>2023-11-02</td> </tr> </tbody>\n",
       "        </table>\n",
       "        <p>...</p>\n",
       "        <p>Total: 828</p></div>\n",
       "        "
      ],
      "text/plain": [
       "*room    *date         \n",
       "+------+ +------------+\n",
       "0        2023-11-09    \n",
       "0        2023-11-11    \n",
       "0        2023-11-14    \n",
       "0        2023-11-18    \n",
       "0        2023-11-23    \n",
       "0        2023-11-26    \n",
       "0        2023-12-01    \n",
       "0        2023-12-03    \n",
       "0        2023-12-05    \n",
       "0        2023-12-06    \n",
       "1        2023-11-01    \n",
       "1        2023-11-02    \n",
       "   ...\n",
       " (Total: 828)"
      ]
     },
     "execution_count": 21,
     "metadata": {},
     "output_type": "execute_result"
    }
   ],
   "source": [
    "CheckIn()"
   ]
  },
  {
   "cell_type": "code",
   "execution_count": 22,
   "id": "2faabb54",
   "metadata": {},
   "outputs": [
    {
     "ename": "AlreadyChecked",
     "evalue": "(46, '2023-11-08')",
     "output_type": "error",
     "traceback": [
      "\u001b[0;31m---------------------------------------------------------------------------\u001b[0m",
      "\u001b[0;31mAlreadyChecked\u001b[0m                            Traceback (most recent call last)",
      "Cell \u001b[0;32mIn[22], line 2\u001b[0m\n\u001b[1;32m      1\u001b[0m \u001b[38;5;66;03m# Try duplicate checkin\u001b[39;00m\n\u001b[0;32m----> 2\u001b[0m \u001b[43mcheck_in\u001b[49m\u001b[43m(\u001b[49m\u001b[38;5;241;43m*\u001b[39;49m\u001b[38;5;241;43m*\u001b[39;49m\u001b[43mcheckins\u001b[49m\u001b[43m[\u001b[49m\u001b[38;5;241;43m0\u001b[39;49m\u001b[43m]\u001b[49m\u001b[43m)\u001b[49m\n",
      "Cell \u001b[0;32mIn[15], line 5\u001b[0m, in \u001b[0;36mcheck_in\u001b[0;34m(room, date)\u001b[0m\n\u001b[1;32m      3\u001b[0m     CheckIn\u001b[38;5;241m.\u001b[39minsert1(\u001b[38;5;28mdict\u001b[39m(room\u001b[38;5;241m=\u001b[39mroom, date\u001b[38;5;241m=\u001b[39mdate))\n\u001b[1;32m      4\u001b[0m \u001b[38;5;28;01mexcept\u001b[39;00m dj\u001b[38;5;241m.\u001b[39merrors\u001b[38;5;241m.\u001b[39mDuplicateError:\n\u001b[0;32m----> 5\u001b[0m     \u001b[38;5;28;01mraise\u001b[39;00m AlreadyChecked(room, date\u001b[38;5;241m.\u001b[39misoformat()) \u001b[38;5;28;01mfrom\u001b[39;00m \u001b[38;5;28;01mNone\u001b[39;00m\n\u001b[1;32m      6\u001b[0m \u001b[38;5;28;01mexcept\u001b[39;00m dj\u001b[38;5;241m.\u001b[39merrors\u001b[38;5;241m.\u001b[39mIntegrityError:\n\u001b[1;32m      7\u001b[0m     \u001b[38;5;28;01mraise\u001b[39;00m NoReservation(room, date\u001b[38;5;241m.\u001b[39misoformat()) \u001b[38;5;28;01mfrom\u001b[39;00m \u001b[38;5;28;01mNone\u001b[39;00m\n",
      "\u001b[0;31mAlreadyChecked\u001b[0m: (46, '2023-11-08')"
     ]
    }
   ],
   "source": [
    "# Try duplicate checkin\n",
    "check_in(**checkins[0])"
   ]
  },
  {
   "cell_type": "code",
   "execution_count": 23,
   "id": "5236b125",
   "metadata": {},
   "outputs": [
    {
     "ename": "NotCheckedIn",
     "evalue": "(2, '2023-10-02')",
     "output_type": "error",
     "traceback": [
      "\u001b[0;31m---------------------------------------------------------------------------\u001b[0m",
      "\u001b[0;31mNotCheckedIn\u001b[0m                              Traceback (most recent call last)",
      "Cell \u001b[0;32mIn[23], line 3\u001b[0m\n\u001b[1;32m      1\u001b[0m \u001b[38;5;66;03m# Try checkout\u001b[39;00m\n\u001b[0;32m----> 3\u001b[0m \u001b[43mcheck_out\u001b[49m\u001b[43m(\u001b[49m\u001b[38;5;241;43m2\u001b[39;49m\u001b[43m,\u001b[49m\u001b[43m \u001b[49m\u001b[43mdatetime\u001b[49m\u001b[38;5;241;43m.\u001b[39;49m\u001b[43mdate\u001b[49m\u001b[43m(\u001b[49m\u001b[38;5;241;43m2023\u001b[39;49m\u001b[43m,\u001b[49m\u001b[43m \u001b[49m\u001b[38;5;241;43m10\u001b[39;49m\u001b[43m,\u001b[49m\u001b[43m \u001b[49m\u001b[38;5;241;43m2\u001b[39;49m\u001b[43m)\u001b[49m\u001b[43m)\u001b[49m\n",
      "Cell \u001b[0;32mIn[16], line 7\u001b[0m, in \u001b[0;36mcheck_out\u001b[0;34m(room, date)\u001b[0m\n\u001b[1;32m      5\u001b[0m     \u001b[38;5;28;01mraise\u001b[39;00m AlreadyChecked(room, date\u001b[38;5;241m.\u001b[39misoformat()) \u001b[38;5;28;01mfrom\u001b[39;00m \u001b[38;5;28;01mNone\u001b[39;00m\n\u001b[1;32m      6\u001b[0m \u001b[38;5;28;01mexcept\u001b[39;00m dj\u001b[38;5;241m.\u001b[39merrors\u001b[38;5;241m.\u001b[39mIntegrityError:\n\u001b[0;32m----> 7\u001b[0m     \u001b[38;5;28;01mraise\u001b[39;00m NotCheckedIn(room, date\u001b[38;5;241m.\u001b[39misoformat()) \u001b[38;5;28;01mfrom\u001b[39;00m \u001b[38;5;28;01mNone\u001b[39;00m\n",
      "\u001b[0;31mNotCheckedIn\u001b[0m: (2, '2023-10-02')"
     ]
    }
   ],
   "source": [
    "# Try checkout\n",
    "\n",
    "check_out(2, datetime.date(2023, 10, 2))"
   ]
  },
  {
   "cell_type": "code",
   "execution_count": 24,
   "id": "85a3a740",
   "metadata": {},
   "outputs": [
    {
     "name": "stderr",
     "output_type": "stream",
     "text": [
      "  4%|▍         | 32/745 [00:00<00:02, 317.79it/s]"
     ]
    },
    {
     "name": "stderr",
     "output_type": "stream",
     "text": [
      "100%|██████████| 745/745 [00:02<00:00, 356.68it/s]\n"
     ]
    }
   ],
   "source": [
    "# checkout a bunch of people\n",
    "checkouts = random.sample(CheckIn().fetch('KEY'), k=int(0.9*len(CheckIn())))\n",
    "for r in tqdm.tqdm(checkouts):\n",
    "    try:\n",
    "        check_out(**r)\n",
    "    except AlreadyChecked as e:\n",
    "        print(repr(e))"
   ]
  },
  {
   "cell_type": "code",
   "execution_count": 25,
   "id": "5151ae4b",
   "metadata": {},
   "outputs": [
    {
     "ename": "AlreadyChecked",
     "evalue": "(19, '2023-11-03')",
     "output_type": "error",
     "traceback": [
      "\u001b[0;31m---------------------------------------------------------------------------\u001b[0m",
      "\u001b[0;31mAlreadyChecked\u001b[0m                            Traceback (most recent call last)",
      "Cell \u001b[0;32mIn[25], line 3\u001b[0m\n\u001b[1;32m      1\u001b[0m \u001b[38;5;66;03m# try duplicate checkout\u001b[39;00m\n\u001b[0;32m----> 3\u001b[0m \u001b[43mcheck_out\u001b[49m\u001b[43m(\u001b[49m\u001b[38;5;241;43m*\u001b[39;49m\u001b[38;5;241;43m*\u001b[39;49m\u001b[43mcheckouts\u001b[49m\u001b[43m[\u001b[49m\u001b[38;5;241;43m0\u001b[39;49m\u001b[43m]\u001b[49m\u001b[43m)\u001b[49m\n",
      "Cell \u001b[0;32mIn[16], line 5\u001b[0m, in \u001b[0;36mcheck_out\u001b[0;34m(room, date)\u001b[0m\n\u001b[1;32m      3\u001b[0m     CheckOut\u001b[38;5;241m.\u001b[39minsert1(\u001b[38;5;28mdict\u001b[39m(room\u001b[38;5;241m=\u001b[39mroom, date\u001b[38;5;241m=\u001b[39mdate))\n\u001b[1;32m      4\u001b[0m \u001b[38;5;28;01mexcept\u001b[39;00m dj\u001b[38;5;241m.\u001b[39merrors\u001b[38;5;241m.\u001b[39mDuplicateError:\n\u001b[0;32m----> 5\u001b[0m     \u001b[38;5;28;01mraise\u001b[39;00m AlreadyChecked(room, date\u001b[38;5;241m.\u001b[39misoformat()) \u001b[38;5;28;01mfrom\u001b[39;00m \u001b[38;5;28;01mNone\u001b[39;00m\n\u001b[1;32m      6\u001b[0m \u001b[38;5;28;01mexcept\u001b[39;00m dj\u001b[38;5;241m.\u001b[39merrors\u001b[38;5;241m.\u001b[39mIntegrityError:\n\u001b[1;32m      7\u001b[0m     \u001b[38;5;28;01mraise\u001b[39;00m NotCheckedIn(room, date\u001b[38;5;241m.\u001b[39misoformat()) \u001b[38;5;28;01mfrom\u001b[39;00m \u001b[38;5;28;01mNone\u001b[39;00m\n",
      "\u001b[0;31mAlreadyChecked\u001b[0m: (19, '2023-11-03')"
     ]
    }
   ],
   "source": [
    "# try duplicate checkout\n",
    "\n",
    "check_out(**checkouts[0])"
   ]
  }
 ],
 "metadata": {
  "kernelspec": {
   "display_name": "Python 3",
   "language": "python",
   "name": "python3"
  },
  "language_info": {
   "codemirror_mode": {
    "name": "ipython",
    "version": 3
   },
   "file_extension": ".py",
   "mimetype": "text/x-python",
   "name": "python",
   "nbconvert_exporter": "python",
   "pygments_lexer": "ipython3",
   "version": "3.10.14"
  }
 },
 "nbformat": 4,
 "nbformat_minor": 5
}
