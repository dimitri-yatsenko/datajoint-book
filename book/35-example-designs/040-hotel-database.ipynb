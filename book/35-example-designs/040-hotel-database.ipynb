{
 "cells": [
  {
   "cell_type": "markdown",
   "id": "6e26075b",
   "metadata": {},
   "source": [
    "# 04 Hotel Database\n",
    "## Assignment\n",
    "\n",
    "Design, populate, and query a database for a hotel reservation system with the following business rules:\n",
    "\n",
    "1. The hotel has a number of rooms of two types: Deluxe and Suite\n",
    "2. For every night, some rooms are made available for reservation for a specific price.\n",
    "3. A guest can make a reservation for an avavilable room for one night. The reservation must include credit card payment info. At most one reservation can be made per night per room.\n",
    "4. A guest can check into a room that has been reserved. An attempt to check in without a reservation will generate an error.\n",
    "5. A guest can check out only after checking in. An attempt to check out multiple times or check out without checking in will generate an error.\n",
    "\n",
    "Your Python code should provide the following:\n",
    "\n",
    "1. A section to create the tables. The design must be in 3rd normal form following the conventions discussed in class and enforcing the business rules above.\n",
    "\n",
    "2. Provide code to populate rooms and room availability with prices.\n",
    "\n",
    "3. The function `reserve_room(room, date, guest_name, credit_card)` to make a reservation. A script that populates at least 300 reservations (e.g. use `faker`)\n",
    "\n",
    "4. The functions `checkin(room, date)` and `checkout(room, date)` to check guests in and out. Write a script that invokes `checkin` and `checkout` for a buncha guests.  Demonstrate that that the functions enforces the rules of the business.\n",
    "\n",
    "5. Write a query to list all guests who have stayed in a given room in 2021.\n",
    "\n",
    "6. Write a query to list all dates on which a specific guest stayed at the hotel.\n",
    "\n"
   ]
  },
  {
   "cell_type": "markdown",
   "id": "33e46762",
   "metadata": {},
   "source": [
    "# Define the database"
   ]
  },
  {
   "cell_type": "code",
   "execution_count": 1,
   "id": "fc703fb8",
   "metadata": {},
   "outputs": [
    {
     "name": "stderr",
     "output_type": "stream",
     "text": [
      "[2024-09-09 19:34:13,205][INFO]: Connecting root@localhost:3306\n",
      "[2024-09-09 19:34:13,223][INFO]: Connected root@localhost:3306\n"
     ]
    }
   ],
   "source": [
    "import datajoint as dj\n",
    "schema = dj.Schema('hotel')"
   ]
  },
  {
   "cell_type": "code",
   "execution_count": 2,
   "id": "62d97e04",
   "metadata": {},
   "outputs": [],
   "source": [
    "@schema\n",
    "class Room(dj.Manual):\n",
    "    definition = \"\"\"\n",
    "    room : int\n",
    "    --- \n",
    "    room_type : enum('Deluxe', 'Suite')\n",
    "    \"\"\""
   ]
  },
  {
   "cell_type": "code",
   "execution_count": 3,
   "id": "280e7440",
   "metadata": {},
   "outputs": [],
   "source": [
    "@schema\n",
    "class RoomAvailable(dj.Manual):\n",
    "    definition = \"\"\"\n",
    "    -> Room\n",
    "    date : date \n",
    "    ---\n",
    "    price : decimal(6, 2)\n",
    "    \"\"\""
   ]
  },
  {
   "cell_type": "code",
   "execution_count": 4,
   "id": "dc952e39",
   "metadata": {},
   "outputs": [],
   "source": [
    "@schema\n",
    "class Guest(dj.Manual):\n",
    "    definition = \"\"\"\n",
    "    guest_id : int unsigned\n",
    "    --- \n",
    "    guest_name : varchar(60)\n",
    "    index(guest_name)\n",
    "    \"\"\""
   ]
  },
  {
   "cell_type": "code",
   "execution_count": 5,
   "id": "14929f5b",
   "metadata": {},
   "outputs": [],
   "source": [
    "@schema\n",
    "class Reservation(dj.Manual):\n",
    "    definition = \"\"\"\n",
    "    -> RoomAvailable\n",
    "    ---\n",
    "    -> Guest\n",
    "    credit_card : varchar(80)\n",
    "    \"\"\""
   ]
  },
  {
   "cell_type": "code",
   "execution_count": 6,
   "id": "61f03f74",
   "metadata": {},
   "outputs": [],
   "source": [
    "@schema\n",
    "class CheckIn(dj.Manual):\n",
    "    definition = \"\"\"\n",
    "    -> Reservation\n",
    "    \"\"\""
   ]
  },
  {
   "cell_type": "code",
   "execution_count": 7,
   "id": "c163c97c",
   "metadata": {},
   "outputs": [],
   "source": [
    "@schema\n",
    "class CheckOut(dj.Manual):\n",
    "    definition = \"\"\"\n",
    "    -> CheckIn\n",
    "    \"\"\""
   ]
  },
  {
   "cell_type": "code",
   "execution_count": 8,
   "id": "0584b014",
   "metadata": {},
   "outputs": [
    {
     "data": {
      "image/svg+xml": [
       "<svg xmlns=\"http://www.w3.org/2000/svg\" xmlns:xlink=\"http://www.w3.org/1999/xlink\" width=\"180pt\" height=\"325pt\" viewBox=\"0.00 0.00 180.12 324.80\">\n",
       "<g id=\"graph0\" class=\"graph\" transform=\"scale(1 1) rotate(0) translate(4 320.8)\">\n",
       "<polygon fill=\"white\" stroke=\"none\" points=\"-4,4 -4,-320.8 176.12,-320.8 176.12,4 -4,4\"/>\n",
       "<!-- CheckIn -->\n",
       "<g id=\"node1\" class=\"node\">\n",
       "<title>CheckIn</title>\n",
       "<g id=\"a_node1\"><a xlink:title=\"→ Reservation\r\">\n",
       "<polygon fill=\"#00ff00\" fill-opacity=\"0.188235\" stroke=\"#00ff00\" stroke-opacity=\"0.188235\" points=\"104.25,-105.12 40.25,-105.12 40.25,-70.56 104.25,-70.56 104.25,-105.12\"/>\n",
       "<text text-anchor=\"middle\" x=\"72.25\" y=\"-83.56\" font-family=\"arial\" font-size=\"12.00\" fill=\"darkgreen\">CheckIn</text>\n",
       "</a>\n",
       "</g>\n",
       "</g>\n",
       "<!-- CheckOut -->\n",
       "<g id=\"node2\" class=\"node\">\n",
       "<title>CheckOut</title>\n",
       "<g id=\"a_node2\"><a xlink:title=\"→ CheckIn\r\">\n",
       "<polygon fill=\"#00ff00\" fill-opacity=\"0.188235\" stroke=\"#00ff00\" stroke-opacity=\"0.188235\" points=\"109.5,-34.56 35,-34.56 35,0 109.5,0 109.5,-34.56\"/>\n",
       "<text text-anchor=\"middle\" x=\"72.25\" y=\"-13.01\" font-family=\"arial\" font-size=\"12.00\" fill=\"darkgreen\">CheckOut</text>\n",
       "</a>\n",
       "</g>\n",
       "</g>\n",
       "<!-- CheckIn&#45;&gt;CheckOut -->\n",
       "<g id=\"edge1\" class=\"edge\">\n",
       "<title>CheckIn-&gt;CheckOut</title>\n",
       "<path fill=\"none\" stroke=\"#000000\" stroke-width=\"2\" stroke-opacity=\"0.250980\" d=\"M72.25,-70.24C72.25,-59.46 72.25,-45.47 72.25,-34.72\"/>\n",
       "</g>\n",
       "<!-- Guest -->\n",
       "<g id=\"node3\" class=\"node\">\n",
       "<title>Guest</title>\n",
       "<g id=\"a_node3\"><a xlink:title=\"guest_id             \r------------------------------\rguest_name           \rINDEX (guest_name)\r\">\n",
       "<polygon fill=\"#00ff00\" fill-opacity=\"0.188235\" stroke=\"#00ff00\" stroke-opacity=\"0.188235\" points=\"50.5,-246.24 0,-246.24 0,-211.68 50.5,-211.68 50.5,-246.24\"/>\n",
       "<text text-anchor=\"start\" x=\"8\" y=\"-225.69\" font-family=\"arial\" text-decoration=\"underline\" font-size=\"12.00\" fill=\"darkgreen\">Guest</text>\n",
       "</a>\n",
       "</g>\n",
       "</g>\n",
       "<!-- Reservation -->\n",
       "<g id=\"node4\" class=\"node\">\n",
       "<title>Reservation</title>\n",
       "<g id=\"a_node4\"><a xlink:title=\"→ RoomAvailable\r------------------------------\r→ Guest\rcredit_card          \r\">\n",
       "<polygon fill=\"#00ff00\" fill-opacity=\"0.188235\" stroke=\"#00ff00\" stroke-opacity=\"0.188235\" points=\"115.5,-175.68 29,-175.68 29,-141.12 115.5,-141.12 115.5,-175.68\"/>\n",
       "<text text-anchor=\"middle\" x=\"72.25\" y=\"-154.12\" font-family=\"arial\" font-size=\"12.00\" fill=\"darkgreen\">Reservation</text>\n",
       "</a>\n",
       "</g>\n",
       "</g>\n",
       "<!-- Guest&#45;&gt;Reservation -->\n",
       "<g id=\"edge2\" class=\"edge\">\n",
       "<title>Guest-&gt;Reservation</title>\n",
       "<path fill=\"none\" stroke=\"#000000\" stroke-width=\"0.75\" stroke-dasharray=\"5,2\" stroke-opacity=\"0.250980\" d=\"M36.63,-211.36C44.02,-200.58 53.61,-186.59 60.98,-175.84\"/>\n",
       "</g>\n",
       "<!-- Reservation&#45;&gt;CheckIn -->\n",
       "<g id=\"edge3\" class=\"edge\">\n",
       "<title>Reservation-&gt;CheckIn</title>\n",
       "<path fill=\"none\" stroke=\"#000000\" stroke-width=\"2\" stroke-opacity=\"0.250980\" d=\"M72.25,-140.8C72.25,-130.02 72.25,-116.03 72.25,-105.28\"/>\n",
       "</g>\n",
       "<!-- Room -->\n",
       "<g id=\"node5\" class=\"node\">\n",
       "<title>Room</title>\n",
       "<g id=\"a_node5\"><a xlink:title=\"room                 \r------------------------------\rroom_type            \r\">\n",
       "<polygon fill=\"#00ff00\" fill-opacity=\"0.188235\" stroke=\"#00ff00\" stroke-opacity=\"0.188235\" points=\"145.5,-316.8 95,-316.8 95,-282.24 145.5,-282.24 145.5,-316.8\"/>\n",
       "<text text-anchor=\"start\" x=\"103\" y=\"-296.25\" font-family=\"arial\" text-decoration=\"underline\" font-size=\"12.00\" fill=\"darkgreen\">Room</text>\n",
       "</a>\n",
       "</g>\n",
       "</g>\n",
       "<!-- RoomAvailable -->\n",
       "<g id=\"node6\" class=\"node\">\n",
       "<title>RoomAvailable</title>\n",
       "<g id=\"a_node6\"><a xlink:title=\"→ Room\rdate                 \r------------------------------\rprice                \r\">\n",
       "<polygon fill=\"#00ff00\" fill-opacity=\"0.188235\" stroke=\"#00ff00\" stroke-opacity=\"0.188235\" points=\"172.12,-246.24 68.38,-246.24 68.38,-211.68 172.12,-211.68 172.12,-246.24\"/>\n",
       "<text text-anchor=\"start\" x=\"76.38\" y=\"-225.69\" font-family=\"arial\" text-decoration=\"underline\" font-size=\"12.00\" fill=\"darkgreen\">RoomAvailable</text>\n",
       "</a>\n",
       "</g>\n",
       "</g>\n",
       "<!-- Room&#45;&gt;RoomAvailable -->\n",
       "<g id=\"edge4\" class=\"edge\">\n",
       "<title>Room-&gt;RoomAvailable</title>\n",
       "<path fill=\"none\" stroke=\"#000000\" stroke-width=\"0.75\" stroke-opacity=\"0.250980\" d=\"M120.25,-281.92C120.25,-271.14 120.25,-257.15 120.25,-246.4\"/>\n",
       "</g>\n",
       "<!-- RoomAvailable&#45;&gt;Reservation -->\n",
       "<g id=\"edge5\" class=\"edge\">\n",
       "<title>RoomAvailable-&gt;Reservation</title>\n",
       "<path fill=\"none\" stroke=\"#000000\" stroke-width=\"2\" stroke-opacity=\"0.250980\" d=\"M108.63,-211.36C101.08,-200.58 91.29,-186.59 83.76,-175.84\"/>\n",
       "</g>\n",
       "</g>\n",
       "</svg>"
      ],
      "text/plain": [
       "<datajoint.diagram.Diagram at 0x7f1886d862d0>"
      ]
     },
     "execution_count": 8,
     "metadata": {},
     "output_type": "execute_result"
    }
   ],
   "source": [
    "dj.Diagram(schema)"
   ]
  },
  {
   "cell_type": "markdown",
   "id": "3bab6ec9",
   "metadata": {},
   "source": [
    "# Populate Room Availability"
   ]
  },
  {
   "cell_type": "code",
   "execution_count": 9,
   "id": "64060872",
   "metadata": {},
   "outputs": [],
   "source": [
    "import faker\n",
    "import random\n",
    "import datetime\n",
    "import tqdm\n",
    "fake = faker.Faker()"
   ]
  },
  {
   "cell_type": "code",
   "execution_count": 10,
   "id": "281c8ca7",
   "metadata": {},
   "outputs": [],
   "source": [
    "# populate rooms\n",
    "Room.insert((i, \"Deluxe\" if i%2 else \"Suite\") for i in range(80))"
   ]
  },
  {
   "cell_type": "code",
   "execution_count": 11,
   "id": "86bc4436",
   "metadata": {},
   "outputs": [
    {
     "name": "stderr",
     "output_type": "stream",
     "text": [
      "100%|██████████| 45/45 [00:00<00:00, 136.84it/s]\n"
     ]
    }
   ],
   "source": [
    "# Populate Room availability: 45 days starting on start_date\n",
    "start_date = datetime.date(2023, 11, 1)\n",
    "days = 45\n",
    "\n",
    "for day in tqdm.tqdm(range(days)):\n",
    "    price = random.randint(40, 350) \n",
    "    RoomAvailable.insert(\n",
    "        dict(key, \n",
    "             date=start_date + datetime.timedelta(days=day), \n",
    "             price=price) for key in Room.fetch('KEY'))\n",
    "    "
   ]
  },
  {
   "cell_type": "markdown",
   "id": "4deda107",
   "metadata": {},
   "source": [
    "# Functions "
   ]
  },
  {
   "cell_type": "code",
   "execution_count": 12,
   "id": "48470620",
   "metadata": {},
   "outputs": [],
   "source": [
    "class HotelException(Exception): pass\n",
    "class RoomUnavailable(HotelException): pass\n",
    "class RoomAlreadyReserved(HotelException): pass\n",
    "class AlreadyChecked(HotelException): pass\n",
    "class NoReservation(HotelException): pass\n",
    "class NotCheckedIn(HotelException): pass"
   ]
  },
  {
   "cell_type": "code",
   "execution_count": 13,
   "id": "5603309c",
   "metadata": {},
   "outputs": [],
   "source": [
    "def reserve_room(room, date, guest_name, credit_card):\n",
    "    # lookup guest by name\n",
    "    keys = (Guest & {'guest_name': guest_name}).fetch('KEY')\n",
    "    \n",
    "    if keys:\n",
    "        # if multiple found, use the first, for example\n",
    "        key = keys[0]  \n",
    "    else:\n",
    "        # if not registered before, create a new guest id\n",
    "        key = dict(guest_id=random.randint(0, 2**32-1))\n",
    "        Guest.insert1(dict(key, guest_name=guest_name))\n",
    "    \n",
    "    try:\n",
    "        Reservation.insert1(\n",
    "            dict(key, room=room, date=date, credit_card=credit_card))\n",
    "    except dj.errors.DuplicateError:\n",
    "        raise RoomAlreadyReserved(room, date.isoformat()) from None\n",
    "    except dj.errors.IntegrityError:\n",
    "        raise RoomUnavailable(room, date.isoformat()) from None"
   ]
  },
  {
   "cell_type": "code",
   "execution_count": 14,
   "id": "fd3b9e30",
   "metadata": {},
   "outputs": [],
   "source": [
    "def check_in(room, date):\n",
    "    try:\n",
    "        CheckIn.insert1(dict(room=room, date=date))\n",
    "    except dj.errors.DuplicateError:\n",
    "        raise AlreadyChecked(room, date.isoformat()) from None\n",
    "    except dj.errors.IntegrityError:\n",
    "        raise NoReservation(room, date.isoformat()) from None"
   ]
  },
  {
   "cell_type": "code",
   "execution_count": 15,
   "id": "09e340e2",
   "metadata": {},
   "outputs": [],
   "source": [
    "def check_out(room, date):\n",
    "    try:\n",
    "        CheckOut.insert1(dict(room=room, date=date))\n",
    "    except dj.errors.DuplicateError:\n",
    "        raise AlreadyChecked(room, date.isoformat()) from None\n",
    "    except dj.errors.IntegrityError:\n",
    "        raise NotCheckedIn(room, date.isoformat()) from None"
   ]
  },
  {
   "cell_type": "markdown",
   "id": "60740817",
   "metadata": {},
   "source": [
    "# Operations"
   ]
  },
  {
   "cell_type": "code",
   "execution_count": 16,
   "id": "8dbad565",
   "metadata": {
    "scrolled": false
   },
   "outputs": [
    {
     "name": "stderr",
     "output_type": "stream",
     "text": [
      "  2%|▏         | 2/100 [00:00<00:07, 12.98it/s]"
     ]
    },
    {
     "name": "stdout",
     "output_type": "stream",
     "text": [
      "RoomUnavailable(80, '2023-11-16')\n",
      "RoomAlreadyReserved(33, '2023-11-09')\n"
     ]
    },
    {
     "name": "stderr",
     "output_type": "stream",
     "text": [
      " 10%|█         | 10/100 [00:00<00:03, 26.86it/s]"
     ]
    },
    {
     "name": "stdout",
     "output_type": "stream",
     "text": [
      "RoomAlreadyReserved(66, '2023-11-30')\n"
     ]
    },
    {
     "name": "stderr",
     "output_type": "stream",
     "text": [
      " 17%|█▋        | 17/100 [00:00<00:03, 25.50it/s]"
     ]
    },
    {
     "name": "stdout",
     "output_type": "stream",
     "text": [
      "RoomAlreadyReserved(73, '2023-12-01')\n",
      "RoomUnavailable(80, '2023-11-14')\n",
      "RoomAlreadyReserved(32, '2023-12-09')\n",
      "RoomUnavailable(80, '2023-11-15')\n"
     ]
    },
    {
     "name": "stderr",
     "output_type": "stream",
     "text": [
      " 22%|██▏       | 22/100 [00:00<00:02, 28.09it/s]"
     ]
    },
    {
     "name": "stdout",
     "output_type": "stream",
     "text": [
      "RoomAlreadyReserved(60, '2023-12-07')\n",
      "RoomUnavailable(80, '2023-11-29')\n",
      "RoomAlreadyReserved(39, '2023-11-02')\n",
      "RoomAlreadyReserved(16, '2023-11-15')\n",
      "RoomAlreadyReserved(45, '2023-11-30')\n",
      "RoomAlreadyReserved(17, '2023-11-25')\n",
      "RoomAlreadyReserved(17, '2023-11-25')\n"
     ]
    },
    {
     "name": "stderr",
     "output_type": "stream",
     "text": [
      " 28%|██▊       | 28/100 [00:01<00:02, 25.85it/s]"
     ]
    },
    {
     "name": "stdout",
     "output_type": "stream",
     "text": [
      "RoomAlreadyReserved(78, '2023-12-08')\n",
      "RoomAlreadyReserved(64, '2023-11-26')\n",
      "RoomAlreadyReserved(43, '2023-12-05')\n",
      "RoomAlreadyReserved(9, '2023-11-15')\n",
      "RoomAlreadyReserved(65, '2023-11-04')\n",
      "RoomAlreadyReserved(41, '2023-11-13')\n",
      "RoomUnavailable(80, '2023-11-14')\n"
     ]
    },
    {
     "name": "stderr",
     "output_type": "stream",
     "text": [
      " 34%|███▍      | 34/100 [00:01<00:02, 27.07it/s]"
     ]
    },
    {
     "name": "stdout",
     "output_type": "stream",
     "text": [
      "RoomAlreadyReserved(27, '2023-12-10')\n",
      "RoomUnavailable(80, '2023-11-24')\n",
      "RoomAlreadyReserved(72, '2023-11-22')\n",
      "RoomAlreadyReserved(40, '2023-11-30')\n",
      "RoomAlreadyReserved(29, '2023-11-02')\n",
      "RoomUnavailable(80, '2023-11-26')\n",
      "RoomAlreadyReserved(28, '2023-11-08')\n",
      "RoomAlreadyReserved(18, '2023-11-17')\n"
     ]
    },
    {
     "name": "stderr",
     "output_type": "stream",
     "text": [
      " 41%|████      | 41/100 [00:01<00:02, 26.66it/s]"
     ]
    },
    {
     "name": "stdout",
     "output_type": "stream",
     "text": [
      "RoomAlreadyReserved(18, '2023-12-01')\n",
      "RoomAlreadyReserved(15, '2023-11-22')\n",
      "RoomAlreadyReserved(11, '2023-11-04')\n",
      "RoomAlreadyReserved(38, '2023-12-03')\n",
      "RoomAlreadyReserved(42, '2023-11-07')\n"
     ]
    },
    {
     "name": "stderr",
     "output_type": "stream",
     "text": [
      " 49%|████▉     | 49/100 [00:01<00:01, 31.25it/s]"
     ]
    },
    {
     "name": "stdout",
     "output_type": "stream",
     "text": [
      "RoomUnavailable(80, '2023-11-06')\n",
      "RoomAlreadyReserved(73, '2023-11-18')\n",
      "RoomAlreadyReserved(17, '2023-12-09')\n",
      "RoomUnavailable(80, '2023-11-11')\n",
      "RoomAlreadyReserved(74, '2023-11-13')\n",
      "RoomAlreadyReserved(26, '2023-11-13')\n",
      "RoomAlreadyReserved(24, '2023-12-02')\n",
      "RoomAlreadyReserved(1, '2023-12-12')\n",
      "RoomAlreadyReserved(16, '2023-11-15')\n"
     ]
    },
    {
     "name": "stderr",
     "output_type": "stream",
     "text": [
      " 57%|█████▋    | 57/100 [00:02<00:01, 30.16it/s]"
     ]
    },
    {
     "name": "stdout",
     "output_type": "stream",
     "text": [
      "RoomUnavailable(80, '2023-11-20')\n",
      "RoomAlreadyReserved(74, '2023-11-13')\n",
      "RoomAlreadyReserved(40, '2023-11-30')\n",
      "RoomAlreadyReserved(7, '2023-12-14')\n",
      "RoomAlreadyReserved(53, '2023-11-21')\n",
      "RoomAlreadyReserved(50, '2023-11-22')\n",
      "RoomAlreadyReserved(12, '2023-11-09')\n",
      "RoomAlreadyReserved(60, '2023-11-18')\n",
      "RoomAlreadyReserved(14, '2023-11-05')\n"
     ]
    },
    {
     "name": "stderr",
     "output_type": "stream",
     "text": [
      " 61%|██████    | 61/100 [00:02<00:01, 27.72it/s]"
     ]
    },
    {
     "name": "stdout",
     "output_type": "stream",
     "text": [
      "RoomAlreadyReserved(37, '2023-11-20')\n",
      "RoomAlreadyReserved(19, '2023-11-19')\n",
      "RoomAlreadyReserved(52, '2023-11-02')\n",
      "RoomUnavailable(80, '2023-11-24')\n",
      "RoomAlreadyReserved(37, '2023-12-07')\n",
      "RoomAlreadyReserved(6, '2023-11-30')\n",
      "RoomAlreadyReserved(41, '2023-11-29')\n",
      "RoomAlreadyReserved(39, '2023-11-02')\n",
      "RoomAlreadyReserved(9, '2023-11-25')\n",
      "RoomAlreadyReserved(47, '2023-12-09')\n",
      "RoomUnavailable(80, '2023-11-11')\n"
     ]
    },
    {
     "name": "stderr",
     "output_type": "stream",
     "text": [
      " 68%|██████▊   | 68/100 [00:02<00:01, 30.23it/s]"
     ]
    },
    {
     "name": "stdout",
     "output_type": "stream",
     "text": [
      "RoomAlreadyReserved(73, '2023-12-08')\n",
      "RoomAlreadyReserved(39, '2023-11-14')\n",
      "RoomAlreadyReserved(0, '2023-11-28')\n",
      "RoomAlreadyReserved(54, '2023-11-27')\n",
      "RoomAlreadyReserved(40, '2023-11-29')\n",
      "RoomAlreadyReserved(66, '2023-12-05')\n"
     ]
    },
    {
     "name": "stderr",
     "output_type": "stream",
     "text": [
      " 72%|███████▏  | 72/100 [00:02<00:00, 29.96it/s]"
     ]
    },
    {
     "name": "stdout",
     "output_type": "stream",
     "text": [
      "RoomAlreadyReserved(59, '2023-11-14')\n",
      "RoomAlreadyReserved(0, '2023-11-13')\n",
      "RoomAlreadyReserved(55, '2023-12-01')\n",
      "RoomAlreadyReserved(44, '2023-11-14')\n",
      "RoomAlreadyReserved(3, '2023-11-17')\n",
      "RoomAlreadyReserved(11, '2023-11-22')\n",
      "RoomAlreadyReserved(9, '2023-11-27')\n",
      "RoomAlreadyReserved(29, '2023-11-26')\n",
      "RoomAlreadyReserved(77, '2023-11-21')\n",
      "RoomAlreadyReserved(21, '2023-11-01')\n",
      "RoomAlreadyReserved(7, '2023-12-08')\n",
      "RoomAlreadyReserved(68, '2023-12-10')\n",
      "RoomAlreadyReserved(54, '2023-11-09')\n",
      "RoomAlreadyReserved(29, '2023-11-02')\n",
      "RoomAlreadyReserved(22, '2023-11-09')\n",
      "RoomAlreadyReserved(26, '2023-11-10')\n",
      "RoomAlreadyReserved(50, '2023-11-15')\n",
      "RoomAlreadyReserved(3, '2023-11-17')\n",
      "RoomAlreadyReserved(7, '2023-11-12')\n",
      "RoomAlreadyReserved(47, '2023-12-07')\n",
      "RoomAlreadyReserved(29, '2023-11-07')\n"
     ]
    },
    {
     "name": "stderr",
     "output_type": "stream",
     "text": [
      " 81%|████████  | 81/100 [00:02<00:00, 32.00it/s]"
     ]
    },
    {
     "name": "stdout",
     "output_type": "stream",
     "text": [
      "RoomAlreadyReserved(29, '2023-11-02')\n",
      "RoomAlreadyReserved(6, '2023-12-12')\n",
      "RoomAlreadyReserved(74, '2023-11-13')\n",
      "RoomAlreadyReserved(44, '2023-11-21')\n",
      "RoomAlreadyReserved(71, '2023-12-03')\n",
      "RoomAlreadyReserved(34, '2023-11-29')\n",
      "RoomUnavailable(80, '2023-12-07')\n",
      "RoomAlreadyReserved(40, '2023-11-03')\n",
      "RoomAlreadyReserved(21, '2023-11-01')\n",
      "RoomAlreadyReserved(63, '2023-11-28')\n",
      "RoomAlreadyReserved(2, '2023-11-09')\n",
      "RoomAlreadyReserved(63, '2023-12-08')\n",
      "RoomAlreadyReserved(21, '2023-11-01')\n",
      "RoomAlreadyReserved(63, '2023-11-28')\n",
      "RoomAlreadyReserved(77, '2023-12-11')\n",
      "RoomAlreadyReserved(37, '2023-12-08')\n"
     ]
    },
    {
     "name": "stderr",
     "output_type": "stream",
     "text": [
      " 85%|████████▌ | 85/100 [00:03<00:00, 27.97it/s]"
     ]
    },
    {
     "name": "stdout",
     "output_type": "stream",
     "text": [
      "RoomAlreadyReserved(21, '2023-11-25')\n",
      "RoomAlreadyReserved(1, '2023-11-11')\n",
      "RoomAlreadyReserved(26, '2023-11-22')\n",
      "RoomAlreadyReserved(73, '2023-12-08')\n",
      "RoomAlreadyReserved(22, '2023-11-22')\n",
      "RoomAlreadyReserved(59, '2023-12-13')\n",
      "RoomAlreadyReserved(45, '2023-12-07')\n",
      "RoomAlreadyReserved(75, '2023-11-13')\n",
      "RoomAlreadyReserved(24, '2023-11-21')\n",
      "RoomAlreadyReserved(76, '2023-11-21')\n",
      "RoomAlreadyReserved(78, '2023-12-05')\n",
      "RoomAlreadyReserved(70, '2023-11-16')\n",
      "RoomAlreadyReserved(9, '2023-11-16')\n",
      "RoomAlreadyReserved(42, '2023-11-11')\n",
      "RoomAlreadyReserved(52, '2023-12-06')\n",
      "RoomAlreadyReserved(38, '2023-12-11')\n"
     ]
    },
    {
     "name": "stderr",
     "output_type": "stream",
     "text": [
      " 95%|█████████▌| 95/100 [00:03<00:00, 30.57it/s]"
     ]
    },
    {
     "name": "stdout",
     "output_type": "stream",
     "text": [
      "RoomAlreadyReserved(75, '2023-11-04')\n",
      "RoomAlreadyReserved(73, '2023-11-06')\n",
      "RoomAlreadyReserved(27, '2023-11-05')\n",
      "RoomAlreadyReserved(9, '2023-11-25')\n",
      "RoomAlreadyReserved(54, '2023-11-22')\n",
      "RoomAlreadyReserved(6, '2023-11-26')\n",
      "RoomAlreadyReserved(44, '2023-11-03')\n",
      "RoomAlreadyReserved(24, '2023-11-17')\n",
      "RoomAlreadyReserved(57, '2023-12-13')\n",
      "RoomAlreadyReserved(10, '2023-11-25')\n",
      "RoomAlreadyReserved(19, '2023-11-19')\n",
      "RoomAlreadyReserved(22, '2023-11-09')\n",
      "RoomAlreadyReserved(55, '2023-11-23')\n"
     ]
    },
    {
     "name": "stderr",
     "output_type": "stream",
     "text": [
      "100%|██████████| 100/100 [00:03<00:00, 28.34it/s]"
     ]
    },
    {
     "name": "stdout",
     "output_type": "stream",
     "text": [
      "RoomAlreadyReserved(40, '2023-11-03')\n",
      "RoomAlreadyReserved(64, '2023-11-22')\n",
      "RoomAlreadyReserved(0, '2023-12-01')\n",
      "RoomAlreadyReserved(61, '2023-11-30')\n",
      "RoomAlreadyReserved(16, '2023-11-26')\n",
      "RoomAlreadyReserved(57, '2023-12-13')\n",
      "RoomAlreadyReserved(45, '2023-12-11')\n"
     ]
    },
    {
     "name": "stderr",
     "output_type": "stream",
     "text": [
      "\n"
     ]
    },
    {
     "data": {
      "text/html": [
       "\n",
       "    \n",
       "    <style type=\"text/css\">\n",
       "        .Table{\n",
       "            border-collapse:collapse;\n",
       "        }\n",
       "        .Table th{\n",
       "            background: #A0A0A0; color: #ffffff; padding:4px; border:#f0e0e0 1px solid;\n",
       "            font-weight: normal; font-family: monospace; font-size: 100%;\n",
       "        }\n",
       "        .Table td{\n",
       "            padding:4px; border:#f0e0e0 1px solid; font-size:100%;\n",
       "        }\n",
       "        .Table tr:nth-child(odd){\n",
       "            background: #ffffff;\n",
       "            color: #000000;\n",
       "        }\n",
       "        .Table tr:nth-child(even){\n",
       "            background: #f3f1ff;\n",
       "            color: #000000;\n",
       "        }\n",
       "        /* Tooltip container */\n",
       "        .djtooltip {\n",
       "        }\n",
       "        /* Tooltip text */\n",
       "        .djtooltip .djtooltiptext {\n",
       "            visibility: hidden;\n",
       "            width: 120px;\n",
       "            background-color: black;\n",
       "            color: #fff;\n",
       "            text-align: center;\n",
       "            padding: 5px 0;\n",
       "            border-radius: 6px;\n",
       "            /* Position the tooltip text - see examples below! */\n",
       "            position: absolute;\n",
       "            z-index: 1;\n",
       "        }\n",
       "        #primary {\n",
       "            font-weight: bold;\n",
       "            color: black;\n",
       "        }\n",
       "        #nonprimary {\n",
       "            font-weight: normal;\n",
       "            color: white;\n",
       "        }\n",
       "\n",
       "        /* Show the tooltip text when you mouse over the tooltip container */\n",
       "        .djtooltip:hover .djtooltiptext {\n",
       "            visibility: visible;\n",
       "        }\n",
       "    </style>\n",
       "    \n",
       "    <b></b>\n",
       "        <div style=\"max-height:1000px;max-width:1500px;overflow:auto;\">\n",
       "        <table border=\"1\" class=\"Table\">\n",
       "            <thead> <tr style=\"text-align: right;\"> <th> <div class=\"djtooltip\">\n",
       "                            <p id=\"primary\">room</p>\n",
       "                            <span class=\"djtooltiptext\"></span>\n",
       "                        </div></th><th><div class=\"djtooltip\">\n",
       "                            <p id=\"primary\">date</p>\n",
       "                            <span class=\"djtooltiptext\"></span>\n",
       "                        </div></th><th><div class=\"djtooltip\">\n",
       "                            <p id=\"nonprimary\">guest_id</p>\n",
       "                            <span class=\"djtooltiptext\"></span>\n",
       "                        </div></th><th><div class=\"djtooltip\">\n",
       "                            <p id=\"nonprimary\">credit_card</p>\n",
       "                            <span class=\"djtooltiptext\"></span>\n",
       "                        </div> </th> </tr> </thead>\n",
       "            <tbody> <tr> <td>0</td>\n",
       "<td>2023-11-01</td>\n",
       "<td>3099856893</td>\n",
       "<td>4507331132753 10/28 837</td></tr><tr><td>0</td>\n",
       "<td>2023-11-07</td>\n",
       "<td>1622341408</td>\n",
       "<td>3546676342666627 09/29 439</td></tr><tr><td>0</td>\n",
       "<td>2023-11-11</td>\n",
       "<td>567871944</td>\n",
       "<td>378397073548178 07/28 911</td></tr><tr><td>0</td>\n",
       "<td>2023-11-13</td>\n",
       "<td>2063013418</td>\n",
       "<td>4822648938879 06/34 795</td></tr><tr><td>0</td>\n",
       "<td>2023-11-14</td>\n",
       "<td>2784595880</td>\n",
       "<td>3567864912758065 08/28 465</td></tr><tr><td>0</td>\n",
       "<td>2023-11-15</td>\n",
       "<td>2279957190</td>\n",
       "<td>2234004627591809 10/29 4392</td></tr><tr><td>0</td>\n",
       "<td>2023-11-16</td>\n",
       "<td>931543264</td>\n",
       "<td>6588615931690152 08/25 369</td></tr><tr><td>0</td>\n",
       "<td>2023-11-26</td>\n",
       "<td>248810082</td>\n",
       "<td>3515280157943507 03/34 692</td></tr><tr><td>0</td>\n",
       "<td>2023-11-27</td>\n",
       "<td>2199078534</td>\n",
       "<td>30302873990315 04/30 608</td></tr><tr><td>0</td>\n",
       "<td>2023-11-28</td>\n",
       "<td>754370609</td>\n",
       "<td>5461237325560497 04/26 0428</td></tr><tr><td>0</td>\n",
       "<td>2023-11-30</td>\n",
       "<td>3447176249</td>\n",
       "<td>3574224406237145 12/24 201</td></tr><tr><td>0</td>\n",
       "<td>2023-12-01</td>\n",
       "<td>2742129731</td>\n",
       "<td>4928070761549203495 02/33 520</td> </tr> </tbody>\n",
       "        </table>\n",
       "        <p>...</p>\n",
       "        <p>Total: 931</p></div>\n",
       "        "
      ],
      "text/plain": [
       "*room    *date          guest_id       credit_card   \n",
       "+------+ +------------+ +------------+ +------------+\n",
       "0        2023-11-01     3099856893     4507331132753 \n",
       "0        2023-11-07     1622341408     35466763426666\n",
       "0        2023-11-11     567871944      37839707354817\n",
       "0        2023-11-13     2063013418     4822648938879 \n",
       "0        2023-11-14     2784595880     35678649127580\n",
       "0        2023-11-15     2279957190     22340046275918\n",
       "0        2023-11-16     931543264      65886159316901\n",
       "0        2023-11-26     248810082      35152801579435\n",
       "0        2023-11-27     2199078534     30302873990315\n",
       "0        2023-11-28     754370609      54612373255604\n",
       "0        2023-11-30     3447176249     35742244062371\n",
       "0        2023-12-01     2742129731     49280707615492\n",
       "   ...\n",
       " (Total: 931)"
      ]
     },
     "execution_count": 16,
     "metadata": {},
     "output_type": "execute_result"
    }
   ],
   "source": [
    "# make a bunch of random reservations\n",
    "\n",
    "number_of_guests = 100\n",
    "max_nights = 20\n",
    "\n",
    "for i in tqdm.tqdm(range(number_of_guests)):\n",
    "    guest = fake.name()\n",
    "    credit_card=' '.join((fake.credit_card_number(), \n",
    "                          fake.credit_card_expire(), \n",
    "                          fake.credit_card_security_code()))\n",
    "    \n",
    "    for j in range(random.randint(1, max_nights)):\n",
    "        date =  fake.date_between_dates(start_date, start_date+datetime.timedelta(days=45))\n",
    "        room = random.randint(0, 80)\n",
    "        try:\n",
    "            reserve_room(room, date, guest, credit_card)\n",
    "        except HotelException as e:\n",
    "            print(repr(e))\n",
    "            \n",
    "# show successful reservations\n",
    "Reservation()"
   ]
  },
  {
   "cell_type": "code",
   "execution_count": 17,
   "id": "dbc10353",
   "metadata": {},
   "outputs": [
    {
     "data": {
      "text/html": [
       "\n",
       "    \n",
       "    <style type=\"text/css\">\n",
       "        .Table{\n",
       "            border-collapse:collapse;\n",
       "        }\n",
       "        .Table th{\n",
       "            background: #A0A0A0; color: #ffffff; padding:4px; border:#f0e0e0 1px solid;\n",
       "            font-weight: normal; font-family: monospace; font-size: 100%;\n",
       "        }\n",
       "        .Table td{\n",
       "            padding:4px; border:#f0e0e0 1px solid; font-size:100%;\n",
       "        }\n",
       "        .Table tr:nth-child(odd){\n",
       "            background: #ffffff;\n",
       "            color: #000000;\n",
       "        }\n",
       "        .Table tr:nth-child(even){\n",
       "            background: #f3f1ff;\n",
       "            color: #000000;\n",
       "        }\n",
       "        /* Tooltip container */\n",
       "        .djtooltip {\n",
       "        }\n",
       "        /* Tooltip text */\n",
       "        .djtooltip .djtooltiptext {\n",
       "            visibility: hidden;\n",
       "            width: 120px;\n",
       "            background-color: black;\n",
       "            color: #fff;\n",
       "            text-align: center;\n",
       "            padding: 5px 0;\n",
       "            border-radius: 6px;\n",
       "            /* Position the tooltip text - see examples below! */\n",
       "            position: absolute;\n",
       "            z-index: 1;\n",
       "        }\n",
       "        #primary {\n",
       "            font-weight: bold;\n",
       "            color: black;\n",
       "        }\n",
       "        #nonprimary {\n",
       "            font-weight: normal;\n",
       "            color: white;\n",
       "        }\n",
       "\n",
       "        /* Show the tooltip text when you mouse over the tooltip container */\n",
       "        .djtooltip:hover .djtooltiptext {\n",
       "            visibility: visible;\n",
       "        }\n",
       "    </style>\n",
       "    \n",
       "    <b></b>\n",
       "        <div style=\"max-height:1000px;max-width:1500px;overflow:auto;\">\n",
       "        <table border=\"1\" class=\"Table\">\n",
       "            <thead> <tr style=\"text-align: right;\"> <th> <div class=\"djtooltip\">\n",
       "                            <p id=\"primary\">guest_id</p>\n",
       "                            <span class=\"djtooltiptext\"></span>\n",
       "                        </div></th><th><div class=\"djtooltip\">\n",
       "                            <p id=\"nonprimary\">guest_name</p>\n",
       "                            <span class=\"djtooltiptext\"></span>\n",
       "                        </div> </th> </tr> </thead>\n",
       "            <tbody> <tr> <td>4277584367</td>\n",
       "<td>Aaron Farrell</td></tr><tr><td>3494034078</td>\n",
       "<td>Alan Perry</td></tr><tr><td>2631768732</td>\n",
       "<td>Alexander Maldonado</td></tr><tr><td>2205351155</td>\n",
       "<td>Alexis Thomas</td></tr><tr><td>1729093019</td>\n",
       "<td>Amber Taylor</td></tr><tr><td>1233339772</td>\n",
       "<td>Angela Lamb</td></tr><tr><td>754370609</td>\n",
       "<td>Angela Williams</td></tr><tr><td>865017483</td>\n",
       "<td>Anthony Arellano</td></tr><tr><td>2742129731</td>\n",
       "<td>Ashley Gomez</td></tr><tr><td>3250600473</td>\n",
       "<td>Bianca Wagner</td></tr><tr><td>3518492019</td>\n",
       "<td>Brandon Hunt</td></tr><tr><td>1561934131</td>\n",
       "<td>Brandon Miller</td> </tr> </tbody>\n",
       "        </table>\n",
       "        <p>...</p>\n",
       "        <p>Total: 100</p></div>\n",
       "        "
      ],
      "text/plain": [
       "*guest_id      guest_name    \n",
       "+------------+ +------------+\n",
       "4277584367     Aaron Farrell \n",
       "3494034078     Alan Perry    \n",
       "2631768732     Alexander Mald\n",
       "2205351155     Alexis Thomas \n",
       "1729093019     Amber Taylor  \n",
       "1233339772     Angela Lamb   \n",
       "754370609      Angela William\n",
       "865017483      Anthony Arella\n",
       "2742129731     Ashley Gomez  \n",
       "3250600473     Bianca Wagner \n",
       "3518492019     Brandon Hunt  \n",
       "1561934131     Brandon Miller\n",
       "   ...\n",
       " (Total: 100)"
      ]
     },
     "execution_count": 17,
     "metadata": {},
     "output_type": "execute_result"
    }
   ],
   "source": [
    "Guest()"
   ]
  },
  {
   "cell_type": "code",
   "execution_count": 18,
   "id": "81a75c55",
   "metadata": {},
   "outputs": [
    {
     "ename": "NoReservation",
     "evalue": "(2, '2023-11-02')",
     "output_type": "error",
     "traceback": [
      "\u001b[0;31m---------------------------------------------------------------------------\u001b[0m",
      "\u001b[0;31mNoReservation\u001b[0m                             Traceback (most recent call last)",
      "Cell \u001b[0;32mIn[18], line 2\u001b[0m\n\u001b[1;32m      1\u001b[0m \u001b[38;5;66;03m# Try check in\u001b[39;00m\n\u001b[0;32m----> 2\u001b[0m \u001b[43mcheck_in\u001b[49m\u001b[43m(\u001b[49m\u001b[38;5;241;43m2\u001b[39;49m\u001b[43m,\u001b[49m\u001b[43m \u001b[49m\u001b[43mdatetime\u001b[49m\u001b[38;5;241;43m.\u001b[39;49m\u001b[43mdate\u001b[49m\u001b[43m(\u001b[49m\u001b[38;5;241;43m2023\u001b[39;49m\u001b[43m,\u001b[49m\u001b[43m \u001b[49m\u001b[38;5;241;43m11\u001b[39;49m\u001b[43m,\u001b[49m\u001b[43m \u001b[49m\u001b[38;5;241;43m2\u001b[39;49m\u001b[43m)\u001b[49m\u001b[43m)\u001b[49m\n",
      "Cell \u001b[0;32mIn[14], line 7\u001b[0m, in \u001b[0;36mcheck_in\u001b[0;34m(room, date)\u001b[0m\n\u001b[1;32m      5\u001b[0m     \u001b[38;5;28;01mraise\u001b[39;00m AlreadyChecked(room, date\u001b[38;5;241m.\u001b[39misoformat()) \u001b[38;5;28;01mfrom\u001b[39;00m \u001b[38;5;28;01mNone\u001b[39;00m\n\u001b[1;32m      6\u001b[0m \u001b[38;5;28;01mexcept\u001b[39;00m dj\u001b[38;5;241m.\u001b[39merrors\u001b[38;5;241m.\u001b[39mIntegrityError:\n\u001b[0;32m----> 7\u001b[0m     \u001b[38;5;28;01mraise\u001b[39;00m NoReservation(room, date\u001b[38;5;241m.\u001b[39misoformat()) \u001b[38;5;28;01mfrom\u001b[39;00m \u001b[38;5;28;01mNone\u001b[39;00m\n",
      "\u001b[0;31mNoReservation\u001b[0m: (2, '2023-11-02')"
     ]
    }
   ],
   "source": [
    "# Try check in\n",
    "check_in(2, datetime.date(2023, 11, 2))"
   ]
  },
  {
   "cell_type": "code",
   "execution_count": 20,
   "id": "8efc7fac",
   "metadata": {},
   "outputs": [
    {
     "name": "stderr",
     "output_type": "stream",
     "text": [
      "  0%|          | 0/828 [00:00<?, ?it/s]"
     ]
    },
    {
     "name": "stderr",
     "output_type": "stream",
     "text": [
      "100%|██████████| 828/828 [00:02<00:00, 330.90it/s]\n"
     ]
    }
   ],
   "source": [
    "# checkin a bunch of people\n",
    "checkins = random.sample(Reservation().fetch('KEY'), k=int(0.9*len(Reservation())))\n",
    "for r in tqdm.tqdm(checkins):\n",
    "    try: \n",
    "        check_in(**r)\n",
    "    except AlreadyChecked as e:\n",
    "        print(repr(e))\n"
   ]
  },
  {
   "cell_type": "code",
   "execution_count": 21,
   "id": "ec862447",
   "metadata": {},
   "outputs": [
    {
     "data": {
      "text/html": [
       "\n",
       "    \n",
       "    <style type=\"text/css\">\n",
       "        .Table{\n",
       "            border-collapse:collapse;\n",
       "        }\n",
       "        .Table th{\n",
       "            background: #A0A0A0; color: #ffffff; padding:4px; border:#f0e0e0 1px solid;\n",
       "            font-weight: normal; font-family: monospace; font-size: 100%;\n",
       "        }\n",
       "        .Table td{\n",
       "            padding:4px; border:#f0e0e0 1px solid; font-size:100%;\n",
       "        }\n",
       "        .Table tr:nth-child(odd){\n",
       "            background: #ffffff;\n",
       "            color: #000000;\n",
       "        }\n",
       "        .Table tr:nth-child(even){\n",
       "            background: #f3f1ff;\n",
       "            color: #000000;\n",
       "        }\n",
       "        /* Tooltip container */\n",
       "        .djtooltip {\n",
       "        }\n",
       "        /* Tooltip text */\n",
       "        .djtooltip .djtooltiptext {\n",
       "            visibility: hidden;\n",
       "            width: 120px;\n",
       "            background-color: black;\n",
       "            color: #fff;\n",
       "            text-align: center;\n",
       "            padding: 5px 0;\n",
       "            border-radius: 6px;\n",
       "            /* Position the tooltip text - see examples below! */\n",
       "            position: absolute;\n",
       "            z-index: 1;\n",
       "        }\n",
       "        #primary {\n",
       "            font-weight: bold;\n",
       "            color: black;\n",
       "        }\n",
       "        #nonprimary {\n",
       "            font-weight: normal;\n",
       "            color: white;\n",
       "        }\n",
       "\n",
       "        /* Show the tooltip text when you mouse over the tooltip container */\n",
       "        .djtooltip:hover .djtooltiptext {\n",
       "            visibility: visible;\n",
       "        }\n",
       "    </style>\n",
       "    \n",
       "    <b></b>\n",
       "        <div style=\"max-height:1000px;max-width:1500px;overflow:auto;\">\n",
       "        <table border=\"1\" class=\"Table\">\n",
       "            <thead> <tr style=\"text-align: right;\"> <th> <div class=\"djtooltip\">\n",
       "                            <p id=\"primary\">room</p>\n",
       "                            <span class=\"djtooltiptext\"></span>\n",
       "                        </div></th><th><div class=\"djtooltip\">\n",
       "                            <p id=\"primary\">date</p>\n",
       "                            <span class=\"djtooltiptext\"></span>\n",
       "                        </div> </th> </tr> </thead>\n",
       "            <tbody> <tr> <td>0</td>\n",
       "<td>2023-11-09</td></tr><tr><td>0</td>\n",
       "<td>2023-11-11</td></tr><tr><td>0</td>\n",
       "<td>2023-11-14</td></tr><tr><td>0</td>\n",
       "<td>2023-11-18</td></tr><tr><td>0</td>\n",
       "<td>2023-11-23</td></tr><tr><td>0</td>\n",
       "<td>2023-11-26</td></tr><tr><td>0</td>\n",
       "<td>2023-12-01</td></tr><tr><td>0</td>\n",
       "<td>2023-12-03</td></tr><tr><td>0</td>\n",
       "<td>2023-12-05</td></tr><tr><td>0</td>\n",
       "<td>2023-12-06</td></tr><tr><td>1</td>\n",
       "<td>2023-11-01</td></tr><tr><td>1</td>\n",
       "<td>2023-11-02</td> </tr> </tbody>\n",
       "        </table>\n",
       "        <p>...</p>\n",
       "        <p>Total: 828</p></div>\n",
       "        "
      ],
      "text/plain": [
       "*room    *date         \n",
       "+------+ +------------+\n",
       "0        2023-11-09    \n",
       "0        2023-11-11    \n",
       "0        2023-11-14    \n",
       "0        2023-11-18    \n",
       "0        2023-11-23    \n",
       "0        2023-11-26    \n",
       "0        2023-12-01    \n",
       "0        2023-12-03    \n",
       "0        2023-12-05    \n",
       "0        2023-12-06    \n",
       "1        2023-11-01    \n",
       "1        2023-11-02    \n",
       "   ...\n",
       " (Total: 828)"
      ]
     },
     "execution_count": 21,
     "metadata": {},
     "output_type": "execute_result"
    }
   ],
   "source": [
    "CheckIn()"
   ]
  },
  {
   "cell_type": "code",
   "execution_count": 22,
   "id": "2faabb54",
   "metadata": {},
   "outputs": [
    {
     "ename": "AlreadyChecked",
     "evalue": "(46, '2023-11-08')",
     "output_type": "error",
     "traceback": [
      "\u001b[0;31m---------------------------------------------------------------------------\u001b[0m",
      "\u001b[0;31mAlreadyChecked\u001b[0m                            Traceback (most recent call last)",
      "Cell \u001b[0;32mIn[22], line 2\u001b[0m\n\u001b[1;32m      1\u001b[0m \u001b[38;5;66;03m# Try duplicate checkin\u001b[39;00m\n\u001b[0;32m----> 2\u001b[0m \u001b[43mcheck_in\u001b[49m\u001b[43m(\u001b[49m\u001b[38;5;241;43m*\u001b[39;49m\u001b[38;5;241;43m*\u001b[39;49m\u001b[43mcheckins\u001b[49m\u001b[43m[\u001b[49m\u001b[38;5;241;43m0\u001b[39;49m\u001b[43m]\u001b[49m\u001b[43m)\u001b[49m\n",
      "Cell \u001b[0;32mIn[15], line 5\u001b[0m, in \u001b[0;36mcheck_in\u001b[0;34m(room, date)\u001b[0m\n\u001b[1;32m      3\u001b[0m     CheckIn\u001b[38;5;241m.\u001b[39minsert1(\u001b[38;5;28mdict\u001b[39m(room\u001b[38;5;241m=\u001b[39mroom, date\u001b[38;5;241m=\u001b[39mdate))\n\u001b[1;32m      4\u001b[0m \u001b[38;5;28;01mexcept\u001b[39;00m dj\u001b[38;5;241m.\u001b[39merrors\u001b[38;5;241m.\u001b[39mDuplicateError:\n\u001b[0;32m----> 5\u001b[0m     \u001b[38;5;28;01mraise\u001b[39;00m AlreadyChecked(room, date\u001b[38;5;241m.\u001b[39misoformat()) \u001b[38;5;28;01mfrom\u001b[39;00m \u001b[38;5;28;01mNone\u001b[39;00m\n\u001b[1;32m      6\u001b[0m \u001b[38;5;28;01mexcept\u001b[39;00m dj\u001b[38;5;241m.\u001b[39merrors\u001b[38;5;241m.\u001b[39mIntegrityError:\n\u001b[1;32m      7\u001b[0m     \u001b[38;5;28;01mraise\u001b[39;00m NoReservation(room, date\u001b[38;5;241m.\u001b[39misoformat()) \u001b[38;5;28;01mfrom\u001b[39;00m \u001b[38;5;28;01mNone\u001b[39;00m\n",
      "\u001b[0;31mAlreadyChecked\u001b[0m: (46, '2023-11-08')"
     ]
    }
   ],
   "source": [
    "# Try duplicate checkin -- should fail \n",
    "check_in(**checkins[0])"
   ]
  },
  {
   "cell_type": "code",
   "execution_count": 23,
   "id": "5236b125",
   "metadata": {},
   "outputs": [
    {
     "ename": "NotCheckedIn",
     "evalue": "(2, '2023-10-02')",
     "output_type": "error",
     "traceback": [
      "\u001b[0;31m---------------------------------------------------------------------------\u001b[0m",
      "\u001b[0;31mNotCheckedIn\u001b[0m                              Traceback (most recent call last)",
      "Cell \u001b[0;32mIn[23], line 3\u001b[0m\n\u001b[1;32m      1\u001b[0m \u001b[38;5;66;03m# Try checkout\u001b[39;00m\n\u001b[0;32m----> 3\u001b[0m \u001b[43mcheck_out\u001b[49m\u001b[43m(\u001b[49m\u001b[38;5;241;43m2\u001b[39;49m\u001b[43m,\u001b[49m\u001b[43m \u001b[49m\u001b[43mdatetime\u001b[49m\u001b[38;5;241;43m.\u001b[39;49m\u001b[43mdate\u001b[49m\u001b[43m(\u001b[49m\u001b[38;5;241;43m2023\u001b[39;49m\u001b[43m,\u001b[49m\u001b[43m \u001b[49m\u001b[38;5;241;43m10\u001b[39;49m\u001b[43m,\u001b[49m\u001b[43m \u001b[49m\u001b[38;5;241;43m2\u001b[39;49m\u001b[43m)\u001b[49m\u001b[43m)\u001b[49m\n",
      "Cell \u001b[0;32mIn[16], line 7\u001b[0m, in \u001b[0;36mcheck_out\u001b[0;34m(room, date)\u001b[0m\n\u001b[1;32m      5\u001b[0m     \u001b[38;5;28;01mraise\u001b[39;00m AlreadyChecked(room, date\u001b[38;5;241m.\u001b[39misoformat()) \u001b[38;5;28;01mfrom\u001b[39;00m \u001b[38;5;28;01mNone\u001b[39;00m\n\u001b[1;32m      6\u001b[0m \u001b[38;5;28;01mexcept\u001b[39;00m dj\u001b[38;5;241m.\u001b[39merrors\u001b[38;5;241m.\u001b[39mIntegrityError:\n\u001b[0;32m----> 7\u001b[0m     \u001b[38;5;28;01mraise\u001b[39;00m NotCheckedIn(room, date\u001b[38;5;241m.\u001b[39misoformat()) \u001b[38;5;28;01mfrom\u001b[39;00m \u001b[38;5;28;01mNone\u001b[39;00m\n",
      "\u001b[0;31mNotCheckedIn\u001b[0m: (2, '2023-10-02')"
     ]
    }
   ],
   "source": [
    "# Try checkout\n",
    "\n",
    "check_out(2, datetime.date(2023, 10, 2))"
   ]
  },
  {
   "cell_type": "code",
   "execution_count": 24,
   "id": "85a3a740",
   "metadata": {},
   "outputs": [
    {
     "name": "stderr",
     "output_type": "stream",
     "text": [
      "  4%|▍         | 32/745 [00:00<00:02, 317.79it/s]"
     ]
    },
    {
     "name": "stderr",
     "output_type": "stream",
     "text": [
      "100%|██████████| 745/745 [00:02<00:00, 356.68it/s]\n"
     ]
    }
   ],
   "source": [
    "# checkout a bunch of people\n",
    "checkouts = random.sample(CheckIn().fetch('KEY'), k=int(0.9*len(CheckIn())))\n",
    "for r in tqdm.tqdm(checkouts):\n",
    "    try:\n",
    "        check_out(**r)\n",
    "    except AlreadyChecked as e:\n",
    "        print(repr(e))"
   ]
  },
  {
   "cell_type": "code",
   "execution_count": 25,
   "id": "5151ae4b",
   "metadata": {},
   "outputs": [
    {
     "ename": "AlreadyChecked",
     "evalue": "(19, '2023-11-03')",
     "output_type": "error",
     "traceback": [
      "\u001b[0;31m---------------------------------------------------------------------------\u001b[0m",
      "\u001b[0;31mAlreadyChecked\u001b[0m                            Traceback (most recent call last)",
      "Cell \u001b[0;32mIn[25], line 3\u001b[0m\n\u001b[1;32m      1\u001b[0m \u001b[38;5;66;03m# try duplicate checkout\u001b[39;00m\n\u001b[0;32m----> 3\u001b[0m \u001b[43mcheck_out\u001b[49m\u001b[43m(\u001b[49m\u001b[38;5;241;43m*\u001b[39;49m\u001b[38;5;241;43m*\u001b[39;49m\u001b[43mcheckouts\u001b[49m\u001b[43m[\u001b[49m\u001b[38;5;241;43m0\u001b[39;49m\u001b[43m]\u001b[49m\u001b[43m)\u001b[49m\n",
      "Cell \u001b[0;32mIn[16], line 5\u001b[0m, in \u001b[0;36mcheck_out\u001b[0;34m(room, date)\u001b[0m\n\u001b[1;32m      3\u001b[0m     CheckOut\u001b[38;5;241m.\u001b[39minsert1(\u001b[38;5;28mdict\u001b[39m(room\u001b[38;5;241m=\u001b[39mroom, date\u001b[38;5;241m=\u001b[39mdate))\n\u001b[1;32m      4\u001b[0m \u001b[38;5;28;01mexcept\u001b[39;00m dj\u001b[38;5;241m.\u001b[39merrors\u001b[38;5;241m.\u001b[39mDuplicateError:\n\u001b[0;32m----> 5\u001b[0m     \u001b[38;5;28;01mraise\u001b[39;00m AlreadyChecked(room, date\u001b[38;5;241m.\u001b[39misoformat()) \u001b[38;5;28;01mfrom\u001b[39;00m \u001b[38;5;28;01mNone\u001b[39;00m\n\u001b[1;32m      6\u001b[0m \u001b[38;5;28;01mexcept\u001b[39;00m dj\u001b[38;5;241m.\u001b[39merrors\u001b[38;5;241m.\u001b[39mIntegrityError:\n\u001b[1;32m      7\u001b[0m     \u001b[38;5;28;01mraise\u001b[39;00m NotCheckedIn(room, date\u001b[38;5;241m.\u001b[39misoformat()) \u001b[38;5;28;01mfrom\u001b[39;00m \u001b[38;5;28;01mNone\u001b[39;00m\n",
      "\u001b[0;31mAlreadyChecked\u001b[0m: (19, '2023-11-03')"
     ]
    }
   ],
   "source": [
    "# try duplicate checkout -- should fail\n",
    "\n",
    "check_out(**checkouts[0])"
   ]
  }
 ],
 "metadata": {
  "kernelspec": {
   "display_name": "Python 3",
   "language": "python",
   "name": "python3"
  },
  "language_info": {
   "codemirror_mode": {
    "name": "ipython",
    "version": 3
   },
   "file_extension": ".py",
   "mimetype": "text/x-python",
   "name": "python",
   "nbconvert_exporter": "python",
   "pygments_lexer": "ipython3",
   "version": "3.11.9"
  }
 },
 "nbformat": 4,
 "nbformat_minor": 5
}
