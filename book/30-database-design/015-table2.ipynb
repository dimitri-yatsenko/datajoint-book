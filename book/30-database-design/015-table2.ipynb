{
 "cells": [
  {
   "cell_type": "markdown",
   "metadata": {},
   "source": [
    "---\n",
    "title: Create Tables\n",
    "authors:\n",
    "  - name: Dimitri Yatsenko\n",
    "date: 2025-10-31\n",
    "---\n",
    "\n",
    "# Tables: The Foundation of Data Integrity\n",
    "\n",
    "In the [previous chapter](012-integrity.md), we learned that relational databases excel at enforcing **data integrity constraints**. Tables are where these constraints come to life through:\n",
    "\n",
    "1. **Domain Integrity** — Data types restrict values to valid ranges\n",
    "2. **Completeness** — Required vs. optional attributes ensure necessary data is present\n",
    "3. **Entity Integrity** — Primary keys uniquely identify each record (covered in [Primary Keys](025-primary-key.md))\n",
    "\n",
    "This chapter shows how to declare tables in DataJoint with proper data types and attribute specifications that enforce these constraints automatically.\n",
    "\n",
    "```{admonition} Learning Objectives\n",
    ":class: note\n",
    "\n",
    "By the end of this chapter, you will:\n",
    "- Declare tables with the `@schema` decorator\n",
    "- Specify attributes with appropriate data types\n",
    "- Distinguish between primary key and dependent attributes\n",
    "- Insert, view, and delete data\n",
    "- Understand how table structure enforces integrity\n",
    "```"
   ]
  },
  {
   "cell_type": "markdown",
   "metadata": {},
   "source": [
    "# Prerequisites: Schema Declaration\n",
    "\n",
    "Before creating tables, we must declare a schema object that provides a namespace for our tables (see [Create Schemas](010-schema.ipynb)):"
   ]
  },
  {
   "cell_type": "code",
   "execution_count": null,
   "metadata": {},
   "outputs": [],
   "source": [
    "import datajoint as dj\n",
    "\n",
    "# Define the schema namespace\n",
    "schema = dj.Schema('tutorial')"
   ]
  },
  {
   "cell_type": "markdown",
   "metadata": {},
   "source": [
    "# Table Declaration Syntax\n",
    "\n",
    "To declare a table in DataJoint, define a Python class with:\n",
    "1. **Schema decorator** — `@schema` associates the table with the schema\n",
    "2. **Base class** — Inherit from `dj.Manual`, `dj.Lookup`, `dj.Imported`, or `dj.Computed`\n",
    "3. **Definition string** — Multi-line string specifying attributes and types\n",
    "\n",
    "Here's a basic example:"
   ]
  },
  {
   "cell_type": "code",
   "execution_count": null,
   "metadata": {},
   "outputs": [],
   "source": [
    "@schema\n",
    "class Experiment(dj.Manual):\n",
    "    definition = \"\"\"\n",
    "    experiment_id: int      # Unique identifier for each experiment\n",
    "    ---\n",
    "    experiment_name: varchar(64)   # Name of the experiment\n",
    "    experiment_date: date          # Date when the experiment was conducted\n",
    "    \"\"\""
   ]
  },
  {
   "cell_type": "markdown",
   "metadata": {},
   "source": [
    "## Anatomy of a Table Definition\n",
    "\n",
    "**Table Name:** The Python class name (`Experiment`) becomes the table name in the database.\n",
    "- Convention: Singular, CamelCase (e.g., `RecordingSession`, not `recording_sessions`)\n",
    "- No underscores in multi-word names\n",
    "\n",
    "**Attribute Specification:** Each line defines one attribute (column):\n",
    "```\n",
    "attribute_name : datatype  # optional comment\n",
    "```\n",
    "\n",
    "**Primary Key Separator:** The line `---` divides:\n",
    "- **Above** `---`: Primary key attributes (jointly uniquely identify each entity)\n",
    "- **Below** `---`: Dependent attributes (describe the entity)\n",
    "\n",
    "**Comments:** Text after `#` documents the attribute's meaning\n",
    "\n",
    "```{admonition} Why This Structure?\n",
    ":class: tip\n",
    "\n",
    "This declarative syntax makes integrity constraints explicit:\n",
    "- **Data types** enforce domain integrity\n",
    "- **Primary key position** enforces entity integrity\n",
    "- **Required attributes** enforce completeness (see [Default Values](020-default-values.ipynb) for optional attributes)\n",
    "```"
   ]
  },
  {
   "cell_type": "markdown",
   "metadata": {},
   "source": [
    "# Data Types: Enforcing Domain Integrity\n",
    "\n",
    "DataJoint uses MySQL data types to enforce **domain integrity** — ensuring values are within valid ranges. Here are the most commonly used types:\n",
    "\n",
    "## Numeric Types\n",
    "\n",
    "**Integer Types** (for whole numbers):\n",
    "- `tinyint` — Range: -128 to 127 (or 0 to 255 if `unsigned`)\n",
    "- `smallint` — Range: -32,768 to 32,767 (or 0 to 65,535 if `unsigned`)\n",
    "- `int` — Range: -2.1B to 2.1B (or 0 to 4.3B if `unsigned`)\n",
    "- `bigint` — Range: -9.2E18 to 9.2E18 (or 0 to 1.8E19 if `unsigned`)\n",
    "\n",
    "**Floating-Point Types** (for approximate decimal numbers):\n",
    "- `float` — 32-bit floating point (~7 decimal digits precision)\n",
    "- `double` — 64-bit floating point (~15 decimal digits precision)\n",
    "\n",
    "**Fixed-Point Type** (for exact decimal numbers):\n",
    "- `decimal(M, D)` — M total digits, D after decimal point\n",
    "  - Example: `decimal(10, 2)` for monetary values like 12345678.90\n",
    "  - Can be `unsigned` for non-negative values only\n",
    "\n",
    "```{admonition} Choosing Numeric Types\n",
    ":class: tip\n",
    "\n",
    "- **Storage efficiency**: Use `tinyint` for small counts (0-255), not `int`\n",
    "- **Precision**: Use `decimal` for financial data, `float/double` for measurements\n",
    "- **Unsigned**: Add `unsigned` when values are never negative (e.g., counts, IDs)\n",
    "```\n",
    "\n",
    "## Temporal Types\n",
    "\n",
    "- `date` — Date only: `YYYY-MM-DD` (e.g., `2024-10-31`)\n",
    "- `time` — Time only: `HH:MM:SS` (e.g., `14:30:00`)\n",
    "- `datetime` — Date and time: `YYYY-MM-DD HH:MM:SS`\n",
    "- `timestamp` — Unix timestamp (seconds since 1970-01-01, auto-updates)\n",
    "\n",
    "## String Types\n",
    "\n",
    "- `char(M)` — Fixed-length string, padded to M characters (max 255)\n",
    "  - Use for: Fixed-length codes (e.g., `char(2)` for US state codes)\n",
    "- `varchar(M)` — Variable-length string, up to M characters (max 65,535)\n",
    "  - Use for: Names, descriptions, free text\n",
    "- `enum('val1', 'val2', ...)` — Restricts values to specified options\n",
    "  - Use for: Categorical data with known set (e.g., experimental conditions)\n",
    "\n",
    "```{admonition} String Type Selection\n",
    ":class: tip\n",
    "\n",
    "- `enum` provides strongest domain integrity for categorical data\n",
    "- `varchar(50)` is more flexible than `char(50)` and saves space\n",
    "- Choose `varchar` length based on expected maximum, not arbitrary large values\n",
    "```\n",
    "\n",
    "## Example with Multiple Data Types"
   ]
  },
  {
   "cell_type": "code",
   "execution_count": null,
   "metadata": {},
   "outputs": [],
   "source": [
    "@schema\n",
    "class Mouse(dj.Manual):\n",
    "    definition = \"\"\"\n",
    "    mouse_id: int unsigned          # Unique mouse identifier (1-4B range)\n",
    "    ---\n",
    "    mouse_name: varchar(50)         # Mouse name or nickname\n",
    "    date_of_birth: date             # Birth date\n",
    "    sex: enum('M', 'F', 'U')        # Sex: Male, Female, or Unknown\n",
    "    weight: decimal(5,2) unsigned   # Weight in grams (0.00-999.99)\n",
    "    \"\"\""
   ]
  },
  {
   "cell_type": "markdown",
   "metadata": {},
   "source": [
    "This definition enforces:\n",
    "- `mouse_id` must be a non-negative integer\n",
    "- `mouse_name` cannot exceed 50 characters\n",
    "- `date_of_birth` must be a valid date\n",
    "- `sex` can only be 'M', 'F', or 'U'\n",
    "- `weight` must be a non-negative decimal with 2 decimal places\n",
    "\n",
    "The database automatically rejects any insert that violates these constraints.\n",
    "\n",
    "```{seealso}\n",
    "For complete MySQL data type documentation, see [MySQL Data Types](https://dev.mysql.com/doc/refman/8.4/en/data-types.html).\n",
    "```"
   ]
  },
  {
   "cell_type": "markdown",
   "metadata": {},
   "source": [
    "# Inserting Data\n",
    "\n",
    "Once a table is declared, insert data using:\n",
    "\n",
    "**`insert1(record)`** — Insert a single record (dictionary)"
   ]
  },
  {
   "cell_type": "code",
   "execution_count": null,
   "metadata": {},
   "outputs": [],
   "source": [
    "Experiment.insert1({\n",
    "    'experiment_id': 1,\n",
    "    'experiment_name': 'Spatial Navigation Task',\n",
    "    'experiment_date': '2024-10-31'\n",
    "})"
   ]
  },
  {
   "cell_type": "markdown",
   "metadata": {},
   "source": [
    "**`insert(records)`** — Insert multiple records (list of dictionaries)"
   ]
  },
  {
   "cell_type": "code",
   "execution_count": null,
   "metadata": {},
   "outputs": [],
   "source": [
    "Experiment.insert([\n",
    "    {'experiment_id': 2, 'experiment_name': 'Fear Conditioning', 'experiment_date': '2024-11-01'},\n",
    "    {'experiment_id': 3, 'experiment_name': 'Object Recognition', 'experiment_date': '2024-11-02'}\n",
    "])"
   ]
  },
  {
   "cell_type": "markdown",
   "metadata": {},
   "source": [
    "```{admonition} Integrity Enforcement at Insert\n",
    ":class: important\n",
    "\n",
    "The database validates each insert:\n",
    "- **Domain integrity**: Rejects invalid data types (e.g., string in `int` field)\n",
    "- **Completeness**: Rejects missing required attributes\n",
    "- **Entity integrity**: Rejects duplicate primary keys (see [Primary Keys](025-primary-key.md))\n",
    "\n",
    "Violations raise immediate errors — no invalid data ever enters the database.\n",
    "```"
   ]
  },
  {
   "cell_type": "markdown",
   "metadata": {},
   "source": [
    "# Viewing Table Contents\n",
    "\n",
    "## View Table Structure\n",
    "\n",
    "Reference the table class to see its definition:"
   ]
  },
  {
   "cell_type": "code",
   "execution_count": null,
   "metadata": {},
   "outputs": [],
   "source": [
    "Experiment"
   ]
  },
  {
   "cell_type": "markdown",
   "metadata": {},
   "source": [
    "## View Table Data\n",
    "\n",
    "Call the table class (with parentheses) to see its contents:"
   ]
  },
  {
   "cell_type": "code",
   "execution_count": null,
   "metadata": {},
   "outputs": [],
   "source": [
    "Experiment()  # Shows all records in table"
   ]
  },
  {
   "cell_type": "markdown",
   "metadata": {},
   "source": [
    "Output displays:\n",
    "- **Asterisk (*)** marks primary key attributes\n",
    "- All attribute values for each record\n",
    "- Total record count\n",
    "\n",
    "```{note}\n",
    "The `()` syntax creates a **query object** representing all table records. You'll learn to create more complex queries in the [Queries](../queries/) section.\n",
    "```"
   ]
  },
  {
   "cell_type": "markdown",
   "metadata": {},
   "source": [
    "# Deleting Records\n",
    "\n",
    "## Delete Specific Records\n",
    "\n",
    "Use the **restriction operator** `&` with primary key values:"
   ]
  },
  {
   "cell_type": "code",
   "execution_count": null,
   "metadata": {},
   "outputs": [],
   "source": [
    "# Delete experiment with ID 1\n",
    "(Experiment & {'experiment_id': 1}).delete()"
   ]
  },
  {
   "cell_type": "markdown",
   "metadata": {},
   "source": [
    "You'll be prompted to confirm before deletion is committed.\n",
    "\n",
    "## Delete All Records\n",
    "\n",
    "Call `.delete()` on the table class:"
   ]
  },
  {
   "cell_type": "code",
   "execution_count": null,
   "metadata": {},
   "outputs": [],
   "source": [
    "Experiment.delete()  # Prompts for confirmation"
   ]
  },
  {
   "cell_type": "markdown",
   "metadata": {},
   "source": [
    "```{warning}\n",
    "Deletion is **permanent** and will cascade to dependent tables (see [Foreign Keys](035-foreign-keys.ipynb)). Always verify what will be deleted before confirming.\n",
    "```"
   ]
  },
  {
   "cell_type": "markdown",
   "metadata": {},
   "source": [
    "# Dropping Tables\n",
    "\n",
    "**Dropping a table** permanently removes it and all its data from the database:"
   ]
  },
  {
   "cell_type": "code",
   "execution_count": null,
   "metadata": {},
   "outputs": [],
   "source": [
    "Experiment.drop()  # Prompts for confirmation"
   ]
  },
  {
   "cell_type": "markdown",
   "metadata": {},
   "source": [
    "```{warning}\n",
    "**This action is irreversible!**\n",
    "\n",
    "- Removes table structure and all data\n",
    "- Cascades to dependent tables if they exist\n",
    "- Requires kernel restart after dropping\n",
    "\n",
    "Always back up critical data before dropping tables.\n",
    "```\n",
    "\n",
    "For information on dropping entire schemas, see [Create Schemas](010-schema.ipynb)."
   ]
  },
  {
   "cell_type": "markdown",
   "metadata": {},
   "source": [
    "# Table Base Classes\n",
    "\n",
    "DataJoint provides four base classes for different data management patterns:\n",
    "\n",
    "| Base Class | Purpose | When to Use |\n",
    "|------------|---------|-------------|\n",
    "| `dj.Manual` | Manually entered data | Subject info, experimental protocols |\n",
    "| `dj.Lookup` | Reference data, rarely changes | Equipment lists, parameter sets |\n",
    "| `dj.Imported` | Data imported from external files | Raw recordings, behavioral videos |\n",
    "| `dj.Computed` | Derived from other tables | Spike sorting results, analyses |\n",
    "\n",
    "We'll explore `Imported` and `Computed` tables in the [Computation](../computation/) section.\n",
    "\n",
    "```{seealso}\n",
    "- [Lookup Tables](052-lookup-tables.ipynb) — Managing reference data\n",
    "- [Computation](../computation/010-make.ipynb) — Automated data processing\n",
    "```"
   ]
  },
  {
   "cell_type": "markdown",
   "metadata": {},
   "source": [
    "# Summary\n",
    "\n",
    "Tables are the fundamental building blocks where data integrity is enforced:\n",
    "\n",
    "1. **Table declarations** specify structure using the `@schema` decorator and `definition` string\n",
    "2. **Data types** enforce domain integrity by restricting values to valid ranges\n",
    "3. **Primary keys** (above `---`) enforce entity integrity through unique identification\n",
    "4. **Required attributes** enforce completeness by ensuring necessary data is present\n",
    "5. **DataJoint operations** (`insert`, `delete`, `drop`) respect these integrity constraints\n",
    "\n",
    "```{admonition} Next Steps\n",
    ":class: tip\n",
    "\n",
    "Now that you understand table structure and data types, the next chapters explore:\n",
    "- **[Default Values](020-default-values.ipynb)** — Making attributes optional\n",
    "- **[Primary Keys](025-primary-key.md)** — Strategies for unique entity identification\n",
    "- **[Foreign Keys](035-foreign-keys.ipynb)** — Linking tables through relationships\n",
    "```"
   ]
  }
 ],
 "metadata": {
  "kernelspec": {
   "display_name": "Python 3",
   "language": "python",
   "name": "python3"
  },
  "language_info": {
   "codemirror_mode": {
    "name": "ipython",
    "version": 3
   },
   "file_extension": ".py",
   "mimetype": "text/x-python",
   "name": "python",
   "nbconvert_exporter": "python",
   "pygments_lexer": "ipython3",
   "version": "3.10.14"
  }
 },
 "nbformat": 4,
 "nbformat_minor": 2
}
